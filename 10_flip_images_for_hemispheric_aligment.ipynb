{
 "cells": [
  {
   "cell_type": "code",
   "execution_count": null,
   "metadata": {},
   "outputs": [],
   "source": [
    "import nibabel as nib\n",
    "import numpy as np\n",
    "import os.path as op"
   ]
  },
  {
   "cell_type": "code",
   "execution_count": null,
   "metadata": {},
   "outputs": [],
   "source": [
    "def flip_nifti_left_right(input_path, output_path):\n",
    "    img = nib.load(input_path)\n",
    "    data = img.get_fdata()\n",
    "    \n",
    "    # Flip along the x-axis (left-right)\n",
    "    flipped_data = data[::-1, :, :]  # assumes x-axis is left-right\n",
    "    \n",
    "    flipped_img = nib.Nifti1Image(flipped_data, img.affine)\n",
    "    flipped_img.header.set_qform(img.affine, code=1)\n",
    "    flipped_img.header.set_sform(img.affine, code=1)\n",
    "    \n",
    "    nib.save(flipped_img, output_path)"
   ]
  },
  {
   "cell_type": "code",
   "execution_count": null,
   "metadata": {},
   "outputs": [],
   "source": [
    "#list of subjects with left hippocampal contacts that need to be flipped for hemispheric consistency\n",
    "subjects_left = [\"patient_X\",\n",
    "                 \"patient_Y\" ]\n"
   ]
  },
  {
   "cell_type": "code",
   "execution_count": null,
   "metadata": {},
   "outputs": [],
   "source": [
    "data_path = \"path\" #where all the resampled/morphed images are kept\n",
    "for subject in subjects_left:\n",
    "    input_path = op.join(data_path, f\"{subject}_to_mni152.nii.gz\")\n",
    "    output_path = op.join(data_path, \"flipped_img\", f\"{subject}_flipped.nii.gz\")\n",
    "    flip_nifti_left_right(input_path, output_path)"
   ]
  }
 ],
 "metadata": {
  "language_info": {
   "name": "python"
  }
 },
 "nbformat": 4,
 "nbformat_minor": 2
}
