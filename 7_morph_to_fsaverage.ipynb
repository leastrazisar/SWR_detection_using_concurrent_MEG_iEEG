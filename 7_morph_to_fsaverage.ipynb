{
 "cells": [
  {
   "cell_type": "code",
   "execution_count": null,
   "metadata": {},
   "outputs": [],
   "source": [
    "import os.path as op\n",
    "import mne\n",
    "import nibabel as nib\n"
   ]
  },
  {
   "cell_type": "code",
   "execution_count": null,
   "metadata": {},
   "outputs": [],
   "source": [
    "#list of subjects\n",
    "subjects = []\n"
   ]
  },
  {
   "cell_type": "code",
   "execution_count": null,
   "metadata": {},
   "outputs": [],
   "source": [
    "target_subject = \"fsaverage\"\n",
    "data_path = \"path\"\n",
    "subjects_dir = op.join(data_path, \"freesurfer\", \"recons\")"
   ]
  },
  {
   "cell_type": "code",
   "execution_count": null,
   "metadata": {},
   "outputs": [],
   "source": [
    "for subject in subjects:\n",
    "    base_subject = subject.split(\"_part\")[0] \n",
    "\n",
    "    #load the stc -> the neural actvity\n",
    "    stc_fname = op.join(data_path, f'path_{subject}-vl.stc')\n",
    "    stc = mne.read_source_estimate(stc_fname, subject=base_subject)\n",
    "\n",
    "    #recreate the src -> the brain grid\n",
    "    surface = op.join(subjects_dir, base_subject , \"bem\" , \"inner_skull.surf\")\n",
    "    src = mne.setup_volume_source_space(\n",
    "        base_subject, subjects_dir=subjects_dir, pos=10.0, surface=surface, add_interpolator=True\n",
    "    )\n",
    "\n",
    "\n",
    "    #morph it\n",
    "    morph = mne.compute_source_morph(\n",
    "        src = src,\n",
    "        subject_from=base_subject, \n",
    "        subject_to=target_subject,\n",
    "        subjects_dir=subjects_dir, verbose=True\n",
    "    )\n",
    "\n",
    "    stc_fsaverage = morph.apply(stc)\n",
    "\n",
    "    #save it\n",
    "    stc_fsaverage.save(f\"path_{subject}_to_fsaverage\", overwrite=True)\n",
    "\n",
    "    #save as a nifti file\n",
    "    img_fsaverage = morph.apply(stc, mri_resolution=2, output=\"nifti1\")\n",
    "    output_path = f\"path_{subject}_to_fsaverage.nii.gz\"\n",
    "    nib.save(img_fsaverage, output_path)"
   ]
  }
 ],
 "metadata": {
  "language_info": {
   "name": "python"
  }
 },
 "nbformat": 4,
 "nbformat_minor": 2
}
