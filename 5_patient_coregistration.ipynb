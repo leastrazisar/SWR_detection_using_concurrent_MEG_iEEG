{
 "cells": [
  {
   "cell_type": "code",
   "execution_count": null,
   "metadata": {},
   "outputs": [],
   "source": [
    "import numpy as np\n",
    "import os.path as op\n",
    "import pandas as pd\n",
    "import mne\n",
    "import ast\n",
    "\n",
    "\n"
   ]
  },
  {
   "cell_type": "code",
   "execution_count": null,
   "metadata": {},
   "outputs": [],
   "source": [
    "#dictionary of raw recordigns per patient\n",
    "subjects = {\"patient_X\" : \"file path\"}"
   ]
  },
  {
   "cell_type": "code",
   "execution_count": null,
   "metadata": {},
   "outputs": [],
   "source": [
    "#dictionary of fiducials text files \n",
    "fiudicals_files = {\"patient_X\" : \"file path\"}"
   ]
  },
  {
   "cell_type": "code",
   "execution_count": null,
   "metadata": {},
   "outputs": [],
   "source": [
    "#funciton to read dictionary from a file\n",
    "\n",
    "def read_dictionary_from_file(filepath,sf):\n",
    "    data_dict = {}\n",
    "    try:\n",
    "        with open(filepath, 'r') as f:\n",
    "            for line in f:\n",
    "                parts = line.strip().split()\n",
    "                if len(parts) >= 4:\n",
    "                    key = parts[0]\n",
    "                    array_values = parts[1:4]\n",
    "                    try:\n",
    "                        array = np.array([float(val) for val in array_values])\n",
    "                        data_dict[key] = array * sf\n",
    "                    except ValueError:\n",
    "                        print(f\"Warning: Could not convert array values to floats for key '{key}'. Skipping line.\")\n",
    "                else:\n",
    "                    print(f\"Warning: Insufficient columns in line: '{line.strip()}'. Skipping line.\")\n",
    "\n",
    "    except FileNotFoundError:\n",
    "        print(f\"Error: File not found at '{filepath}'.\")\n",
    "    except Exception as e:\n",
    "        print(f\"An unexpected error occured: {e}\")\n",
    "\n",
    "    return data_dict"
   ]
  },
  {
   "cell_type": "code",
   "execution_count": null,
   "metadata": {},
   "outputs": [],
   "source": [
    "for subject, path in subjects.items():\n",
    "    raw_fname = op.abspath( subjects[subject])\n",
    "    raw = mne.io.read_raw_fif(raw_fname)\n",
    "    info = raw.info\n",
    "\n",
    "\n",
    "    fiducials = read_dictionary_from_file(fiudicals_files[subject], 0.001)\n",
    "    print(fiducials)\n",
    "    fid_viz = \"estimated\"\n",
    "   \n",
    "\n",
    "    data_path = op.abspath(\"path\")\n",
    "    subjects_dir = op.join(data_path, \"new_patient_coregs\")\n",
    "    coreg = Coregistration(info, subject, subjects_dir, fiducials=fiducials)\n",
    "    coreg.fit_fiducials(nasion_weight=1,verbose=True)\n",
    "   \n",
    "    #save files\n",
    "    coreg_dir = op.join(data_path, \"coregs\")\n",
    "    trans_fname = op.join(coreg_dir, f\"{subject}-trans.fif\")\n",
    "    mne.write_trans(trans_fname, coreg.trans, overwrite = True)\n",
    "    print(f\"Saved transformation to: {trans_fname}\")\n",
    "\n",
    "    ## visualisation options to check if the alignment looks okay\n",
    "    plot_kwargs = dict(\n",
    "        subject=subject,\n",
    "        subjects_dir=subjects_dir,\n",
    "        surfaces=\"head\",\n",
    "        dig=True,\n",
    "        eeg=[],\n",
    "        meg=\"sensors\",\n",
    "        show_axes=True,\n",
    "        coord_frame=\"meg\",\n",
    "    )\n",
    "\n",
    "    fig = mne.viz.plot_alignment(info, trans=coreg.trans, **plot_kwargs)\n"
   ]
  }
 ],
 "metadata": {
  "language_info": {
   "name": "python"
  }
 },
 "nbformat": 4,
 "nbformat_minor": 2
}
