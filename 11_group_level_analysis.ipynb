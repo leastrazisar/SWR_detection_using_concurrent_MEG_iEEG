{
 "cells": [
  {
   "cell_type": "code",
   "execution_count": null,
   "metadata": {},
   "outputs": [],
   "source": [
    "import os.path as op\n",
    "import glob   \n",
    "import pandas as pd \n",
    "import numpy as np \n",
    "import matplotlib.pyplot as plt \n",
    "import nibabel as nib \n",
    "\n",
    "\n",
    "from nilearn.image import load_img, math_img\n",
    "from nilearn.plotting import plot_glass_brain, plot_design_matrix, plot_contrast_matrix, plot_stat_map, view_img, view_img_on_surf\n",
    "from nilearn.glm.second_level import SecondLevelModel\n",
    "from nilearn.glm.thresholding import threshold_stats_img\n",
    "from nilearn.datasets import load_mni152_template, load_mni152_brain_mask\n",
    "from nilearn.glm.second_level import non_parametric_inference\n",
    "from nilearn.plotting import find_cut_slices"
   ]
  },
  {
   "cell_type": "code",
   "execution_count": null,
   "metadata": {},
   "outputs": [],
   "source": [
    "#load the template that will be used\n",
    "mni152_template = load_mni152_template()"
   ]
  },
  {
   "cell_type": "code",
   "execution_count": null,
   "metadata": {},
   "outputs": [],
   "source": [
    "#list of of fileapths for files that will be used\n",
    "effect_files = [\"patient_X_path\",\n",
    "                \"patient_Y_path\"]"
   ]
  },
  {
   "cell_type": "code",
   "execution_count": null,
   "metadata": {},
   "outputs": [],
   "source": [
    "#design matrix for one-sample t test\n",
    "subjects = [f\"sub{i+1:02}\" for i in range(len(effect_files))]\n",
    "design_matrix = pd.DataFrame([1]*len(subjects), index=subjects, columns=[\"swr_contrast\"])\n",
    "\n",
    "#fit second level model\n",
    "swr_contrast_maps = [load_img(f) for f in effect_files]\n",
    "second_level_model = SecondLevelModel()\n",
    "second_level_model = second_level_model.fit(swr_contrast_maps, design_matrix=design_matrix)\n",
    "\n",
    "#defining and computoing contrast\n",
    "contrasts = {'High_vs_Low_SWR': [1]}\n",
    "t_map = second_level_model.compute_contrast(\"swr_contrast\", output_type=\"stat\")\n",
    "z_map = second_level_model.compute_contrast(contrasts['High_vs_Low_SWR'], output_type=\"z_score\")\n",
    "#multiple comparisson correction using FDR\n",
    "thresholded_map, threshold = threshold_stats_img(\n",
    "    z_map, \n",
    "    alpha=0.05, \n",
    "    height_control= \"fdr\", \n",
    ")"
   ]
  },
  {
   "cell_type": "code",
   "execution_count": null,
   "metadata": {},
   "outputs": [],
   "source": [
    "#plot the maps\n",
    "cut_coords = (X, Y, Z)\n",
    "\n",
    "background_img = mni152_template\n",
    "brain_mask = load_mni152_brain_mask()\n",
    "\n",
    "#apply brain mask\n",
    "t_map_masked = math_img(\"img1 * img2\", img1=t_map, img2=brain_mask)\n",
    "z_map_masked = math_img(\"img1 * img2\", img1=z_map, img2=brain_mask)\n",
    "thresholded_map_masked = math_img(\"img1 * img2\", img1=thresholded_map, img2=brain_mask)\n",
    "\n",
    "\n",
    "fig, axes = plt.subplots(2, 1, figsize=(12, 8), facecolor='white')\n",
    "\n",
    "# Function to plot and label\n",
    "def plot_panel(stat_img, threshold, ax, panel_label, title_text):\n",
    "    display = plot_stat_map(\n",
    "        stat_img,\n",
    "        bg_img=background_img,\n",
    "        threshold=threshold,\n",
    "        display_mode='ortho',\n",
    "        cut_coords=cut_coords,\n",
    "        black_bg=False,\n",
    "        axes=ax,\n",
    "        colorbar=True\n",
    "    )\n",
    "    # Add panel label (top-left)\n",
    "    ax.text(-0.05, 1.09, panel_label,  \n",
    "            transform=ax.transAxes,\n",
    "            fontdict=panel_font,\n",
    "            va='top', ha='left')\n",
    "    ax.set_title(title_text, fontdict=title_font, loc='center')\n",
    "\n",
    "# A: T-map\n",
    "plot_panel(t_map_masked, threshold=2.179, ax=axes[0], panel_label=\"A\", title_text=\"T-map\")\n",
    "\n",
    "# B: Z-map\n",
    "plot_panel(z_map_masked, threshold=1.96, ax=axes[1], panel_label=\"B\", title_text=\"Z-map\")\n",
    "\n",
    "# C: FDR-corrected T-map\n",
    "plot_panel(thresholded_map_masked, threshold=threshold, ax=axes[2],\n",
    "           panel_label=\"B\", title_text=\"FDR-corrected Z-map\")\n",
    "\n"
   ]
  },
  {
   "cell_type": "code",
   "execution_count": null,
   "metadata": {},
   "outputs": [],
   "source": [
    "#apply non-paramteric permutation based FWE correction for multiple comparisons\n",
    "\n",
    "out_dict = non_parametric_inference(\n",
    "    effect_files,  \n",
    "    design_matrix=design_matrix,  \n",
    "    second_level_contrast='swr_contrast',\n",
    "    n_perm=10, \n",
    "    two_sided_test=True,\n",
    "    threshold=0.1,\n",
    "    n_jobs=-1\n",
    ")\n",
    "\n",
    "print(out_dict.keys())"
   ]
  },
  {
   "cell_type": "code",
   "execution_count": null,
   "metadata": {},
   "outputs": [],
   "source": [
    "alpha = 0.05\n",
    "masked = out_dict['logp_max_t'].get_fdata() > -np.log10(alpha)\n",
    "masked_t_map = out_dict['t'].get_fdata() * masked\n",
    "\n",
    "#masked t-map as a nifti\n",
    "masked_t_map_img = nib.Nifti1Image(masked_t_map, out_dict['t'].affine)"
   ]
  },
  {
   "cell_type": "code",
   "execution_count": null,
   "metadata": {},
   "outputs": [],
   "source": [
    "#get the smallest t-value for colorbar, the maps are alsready tresholded - to know id we can plot it\n",
    "surviving_vals = masked_t_map[masked_t_map != 0]\n",
    "\n",
    "if surviving_vals.size > 0:\n",
    "    threshold_fwe = surviving_vals.min()\n",
    "    print(f'FWE (perm.) p < 0.05 threshold: {threshold_fwe:.3f}')\n",
    "else:\n",
    "    threshold_fwe = None\n",
    "    print('⚠️ No voxels survived FWE (perm.) correction at p < 0.05.')"
   ]
  }
 ],
 "metadata": {
  "language_info": {
   "name": "python"
  }
 },
 "nbformat": 4,
 "nbformat_minor": 2
}
