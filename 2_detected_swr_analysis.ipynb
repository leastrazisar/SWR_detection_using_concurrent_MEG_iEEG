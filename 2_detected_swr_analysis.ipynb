{
 "cells": [
  {
   "cell_type": "code",
   "execution_count": null,
   "metadata": {},
   "outputs": [],
   "source": [
    "#SWR analysis\n",
    "\n",
    "import pandas as pd\n",
    "import matplotlib.pyplot as plt\n",
    "import glob\n",
    "import re\n",
    "import ast\n",
    "import numpy as np\n",
    "from itertools import combinations\n",
    "import scipy.stats as stats"
   ]
  },
  {
   "cell_type": "code",
   "execution_count": null,
   "metadata": {},
   "outputs": [],
   "source": [
    "#import the reuslts of SWR detection algorithm\n",
    "file_paths = []"
   ]
  },
  {
   "cell_type": "code",
   "execution_count": null,
   "metadata": {},
   "outputs": [],
   "source": [
    "#dictionary of recording durations in seconds\n",
    "recording_durations = {\"PatientX\" : 110}\n",
    "\n",
    "#eeg sampling fequency\n",
    "eeg_fs = 1000"
   ]
  },
  {
   "cell_type": "code",
   "execution_count": null,
   "metadata": {},
   "outputs": [],
   "source": [
    "#dictionary of hippocampus contacts of each patient\n",
    "hippocampus_electrodes = {\"PatientX\" : ['EEG001']}"
   ]
  },
  {
   "cell_type": "code",
   "execution_count": null,
   "metadata": {},
   "outputs": [],
   "source": [
    "data = {}\n",
    "for file_path in file_paths:\n",
    "    patient_id = file_path.split('/')[-1].replace('_SWRs.csv', '')\n",
    "    data[patient_id] = pd.read_csv(file_path)"
   ]
  },
  {
   "cell_type": "code",
   "execution_count": null,
   "metadata": {},
   "outputs": [],
   "source": [
    "#function to comput jaccard index\n",
    "def get_jaccard_index(SWR_array):\n",
    "    num_channels = SWR_array.shape[0]\n",
    "    jaccard_results = []\n",
    "\n",
    "    for channel1, channel2 in combinations(range(num_channels), 2):\n",
    "        SWR1 = SWR_array[channel1, :]\n",
    "        SWR2 = SWR_array[channel2, :]\n",
    "\n",
    "        intersection = np.sum(SWR1 & SWR2)\n",
    "        union = np.sum(SWR1 | SWR2)\n",
    "\n",
    "        jaccard_index = intersection / union if union > 0 else 0\n",
    "        jaccard_results.append(jaccard_index)\n",
    "    \n",
    "    average_jaccard_index = np.mean(jaccard_results)\n",
    "    return average_jaccard_index"
   ]
  },
  {
   "cell_type": "code",
   "execution_count": null,
   "metadata": {},
   "outputs": [],
   "source": [
    "#calcualte average rate per contact, average duration/peak amplitude across all detected ripples and jaccard index per patient\n",
    "hippocampus_all_incidence_rates = []\n",
    "hippocampus_all_durations = []\n",
    "hippocampus_all_peak_amplitudes = []\n",
    "hippocampus_all_jaccard_indices = []\n",
    "\n",
    "\n",
    "for patient_id, electrodes in hippocampus_electrodes.items():\n",
    "    df = data[patient_id]\n",
    "    df = df[df['Channel'].isin(electrodes)]\n",
    "    if df.empty:\n",
    "        print(f\"No hippocampal channels found for {patient_id}\")\n",
    "        continue\n",
    "\n",
    "    SWR_times = (df['rippleTime'].apply(lambda x: eval(x, {'array': np.array}))).tolist()\n",
    "    duration = recording_durations[patient_id]\n",
    "    eeg_no_samples = int(duration * eeg_fs)\n",
    "    no_channels = len(df)\n",
    "\n",
    "    SWR_array = np.zeros((no_channels, eeg_no_samples), dtype=int)\n",
    "    for channel, times in enumerate(SWR_times):\n",
    "        if not times or all(len(t) == 0 for t in times):\n",
    "            ripple_time_value = df.iloc[channel]['rippleTime']\n",
    "            print(f\"Skipping empty SWR_times for channel index {channel} in patient {patient_id}\")\n",
    "            continue\n",
    "\n",
    "        channel_SWR_times = np.hstack(times)\n",
    "        channel_SWR_idx = np.round((channel_SWR_times * eeg_fs), 0).astype(int)\n",
    "        SWR_array[channel, channel_SWR_idx] = 1\n",
    "\n",
    "    jaccard_index = get_jaccard_index(SWR_array)\n",
    "    hippocampus_all_jaccard_indices.append(jaccard_index)\n",
    "\n",
    "    for index, row in df.iterrows():\n",
    "        if row['nEvents'] > 0:\n",
    "            duration_list = [float(x) for x in row['durations'].strip('[]').split()]\n",
    "            ripple_amp_raw = row['rippleAmp']\n",
    "            array_strings = ripple_amp_raw.split('array')\n",
    "            peak_amplitudes = []\n",
    "            for array_str in array_strings:\n",
    "                array_values = [float(val) for val in re.findall(r'[-+]?[0-9]*\\.?[0-9]+', array_str)]\n",
    "                if array_values:\n",
    "                    peak_amplitudes.append(max(array_values))\n",
    "\n",
    "            hippocampus_all_durations.extend(duration_list)\n",
    "            hippocampus_all_peak_amplitudes.extend(peak_amplitudes)\n",
    "            hippocampus_all_incidence_rates.append(row['nEvents'] / duration)\n",
    "\n"
   ]
  },
  {
   "cell_type": "code",
   "execution_count": null,
   "metadata": {},
   "outputs": [],
   "source": [
    "#compute median values and standard deviation\n",
    "median_rate = np.median(hippocampus_all_incidence_rates)\n",
    "median_duration = np.median(hippocampus_all_durations)\n",
    "median_amp = np.median(hippocampus_all_peak_amplitudes)\n",
    "\n",
    "jaccard = [j for j in hippocampus_all_jaccard_indices if not np.isnan(j)]\n",
    "median_jaccard = np.median(jaccard)\n",
    "\n",
    "std_rate = np.std(hippocampus_all_incidence_rates)\n",
    "std_duration = np.std(hippocampus_all_durations)\n",
    "std_amplitude = np.std(hippocampus_all_peak_amplitudes)\n",
    "std_jaccard = np.std(jaccard)\n"
   ]
  },
  {
   "cell_type": "code",
   "execution_count": null,
   "metadata": {},
   "outputs": [],
   "source": [
    "#plot histograms\n",
    "fig, axes = plt.subplots(2, 2, figsize=(12, 8))\n",
    "\n",
    "\n",
    "# Histogram A: Ripple Rate per Channel\n",
    "axes[0, 0].hist(hippocampus_all_incidence_rates, bins=20, color='steelblue', edgecolor='black', weights=np.ones_like(hippocampus_all_incidence_rates) * 100. / len(hippocampus_all_incidence_rates))\n",
    "axes[0, 0].text(-0.2, 1.05, 'A', transform=axes[0, 0].transAxes, fontsize=22, fontweight='bold')\n",
    "axes[0, 0].set_xlabel(\"SWR rate (Hz)\")\n",
    "axes[0, 0].set_ylabel(\"Frequency (%)\")\n",
    "axes[0, 0].axvline(median_rate, color='red', linestyle='--')\n",
    "\n",
    "# Histogram B: Duration of Ripples\n",
    "# convert durations from seconds to milliseconds\n",
    "durations = [d * 1000 for d in hippocampus_all_durations]\n",
    "axes[0, 1].hist(durations, bins=20, color='steelblue', edgecolor='black', weights=np.ones_like(durations) * 100. / len(durations))\n",
    "#axes[0, 1].set_title(f\"Duration of ripples\\n(n={len(durations)} ripples)\", fontsize=12, fontweight='bold')\n",
    "axes[0, 1].text(-0.2, 1.05, 'B', transform=axes[0, 1].transAxes, fontsize=22, fontweight='bold')\n",
    "axes[0, 1].set_xlabel(\"Duration (ms)\")\n",
    "axes[0, 1].set_ylabel(\"Frequency (%)\")\n",
    "median_duration = np.median(durations)\n",
    "axes[0, 1].axvline(median_duration, color='red', linestyle='--', label=f'Mean = {median_duration:.1f} ms')\n",
    "\n",
    "\n",
    "# Histogram C: Peak Amplitude\n",
    "axes[1, 0].hist(hippocampus_all_peak_amplitudes, bins=20, color='steelblue', edgecolor='black', weights=np.ones_like(hippocampus_all_peak_amplitudes) * 100. / len(hippocampus_all_peak_amplitudes))\n",
    "axes[1, 0].text(-0.2, 1.05, 'C', transform=axes[1, 0].transAxes, fontsize=22, fontweight='bold')\n",
    "axes[1, 0].set_xlabel(\"Peak Amplitude (Z-score)\")\n",
    "axes[1, 0].set_ylabel(\"Frequency (%)\")\n",
    "axes[1, 0].axvline(median_amp, color='red', linestyle='--')\n",
    "\n",
    "# Histogram D: Jaccard Index per Patient\n",
    "# Jaccard Index plot (D)\n",
    "jaccard = [j for j in hippocampus_all_jaccard_indices if not np.isnan(j)] #inlcude only the patients with more than 1 hippocampal contact\n",
    "axes[1, 1].hist(jaccard, bins=8, color='steelblue', edgecolor='black')\n",
    "axes[1, 1].text(-0.2, 1.05, 'D', transform=axes[1, 1].transAxes, fontsize=22, fontweight='bold')\n",
    "axes[1, 1].set_xlabel(\"Jaccard index\")\n",
    "axes[1, 1].set_ylabel(\"Number of patients\")\n",
    "axes[1, 1].axvline(x=median_jaccard, ymin=0, ymax=1, color='red', linestyle='--', label=f'Mean = {mean_jaccard:.2f}')"
   ]
  }
 ],
 "metadata": {
  "language_info": {
   "name": "python"
  }
 },
 "nbformat": 4,
 "nbformat_minor": 2
}
