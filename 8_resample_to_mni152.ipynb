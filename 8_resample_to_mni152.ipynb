{
 "cells": [
  {
   "cell_type": "code",
   "execution_count": null,
   "metadata": {},
   "outputs": [],
   "source": [
    "from nilearn.image import resample_to_img, load_img\n",
    "from nilearn.datasets import load_mni152_template\n",
    "import nibabel as nib"
   ]
  },
  {
   "cell_type": "code",
   "execution_count": null,
   "metadata": {},
   "outputs": [],
   "source": [
    "#list of subjects\n",
    "subjects = [\"patient_X\"]\n",
    "\n",
    "\n",
    "#dictionary of the nifti files needed to resample\n",
    "meg_niftis = {\"patient_X\" : \"file path to the fsaverage morphed nifti file\"}\n",
    "    "
   ]
  },
  {
   "cell_type": "code",
   "execution_count": null,
   "metadata": {},
   "outputs": [],
   "source": [
    "#load MNI152 template\n",
    "mni152_template = load_mni152_template()"
   ]
  },
  {
   "cell_type": "code",
   "execution_count": null,
   "metadata": {},
   "outputs": [],
   "source": [
    "for subject, file_path in meg_niftis.items():\n",
    "    img = load_img(file_path)\n",
    "\n",
    "    img_mni152 = resample_to_img(img, mni152_template, interpolation='linear')\n",
    "\n",
    "    #save it\n",
    "    output_path = f\"path_{subject}_to_mni152.nii.gz\"\n",
    "    nib.save(img_mni152, output_path)"
   ]
  }
 ],
 "metadata": {
  "language_info": {
   "name": "python"
  }
 },
 "nbformat": 4,
 "nbformat_minor": 2
}
