{
 "cells": [
  {
   "cell_type": "code",
   "execution_count": null,
   "metadata": {},
   "outputs": [],
   "source": [
    "import os\n",
    "import nibabel as nib\n",
    "import numpy as np\n",
    "from collections import defaultdict"
   ]
  },
  {
   "cell_type": "code",
   "execution_count": null,
   "metadata": {},
   "outputs": [],
   "source": [
    "#dictionaries of each subject that have more sessions\n",
    "subject_X = {\"Patient_X_part1\": \"file path\",\n",
    "             \"Patient_X_part2\": \"file path\"}\n",
    "\n",
    "subject_Y = {\"Patient_Y_part1\": \"file path\",\n",
    "             \"Patient_Y_part2\": \"file path\"}\n",
    "\n",
    "\n",
    "#dictionary of all subjects \n",
    "all_subjects = {\n",
    "    \"patient_X\" : subject_X,\n",
    "    \"patient_Y\": subject_Y,\n",
    "}      \n",
    "\n",
    "#output directory\n",
    "output_dir = \"path\""
   ]
  },
  {
   "cell_type": "code",
   "execution_count": null,
   "metadata": {},
   "outputs": [],
   "source": [
    "def average_subject_nifites(subject_dict, patient):\n",
    "    data_arrays = []\n",
    "    first_img = None \n",
    "\n",
    "    for label, filepath in subject_dict.items():\n",
    "        img = nib.load(filepath)\n",
    "        if first_img is None:\n",
    "            first_img = img\n",
    "        data_arrays.append(img.get_fdata())\n",
    "    \n",
    "    avg_data = np.mean(data_arrays, axis=0)\n",
    "    \n",
    "    avg_img = nib.Nifti1Image(avg_data, affine=first_img.affine, header=first_img.header)\n",
    "    out_path = os.path.join(output_dir, f\"{patient}_average.nii.gz\")\n",
    "    nib.save(avg_img, out_path)\n",
    "    "
   ]
  },
  {
   "cell_type": "code",
   "execution_count": null,
   "metadata": {},
   "outputs": [],
   "source": [
    "for patient, dictionaries in all_subjects.items():\n",
    "    average_subject_nifites(dictionaries, patient)"
   ]
  }
 ],
 "metadata": {
  "language_info": {
   "name": "python"
  }
 },
 "nbformat": 4,
 "nbformat_minor": 2
}
