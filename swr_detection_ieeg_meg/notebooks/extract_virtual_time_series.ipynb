{
 "cells": [
  {
   "cell_type": "code",
   "execution_count": 1,
   "metadata": {},
   "outputs": [],
   "source": [
    "#actual reconstruction of virtual time seires\n",
    "import numpy as np\n",
    "\n",
    "import os.path as op\n",
    "\n",
    "import pandas as pd\n",
    "\n",
    "import mne\n",
    "from mne import setup_volume_source_space\n",
    "from mne.beamformer import apply_lcmv_cov, make_lcmv\n",
    "from mne.coreg import Coregistration\n",
    "from mne.cov import compute_covariance\n",
    "from mne.datasets import somato\n",
    "\n",
    "from pathlib import Path\n",
    "\n",
    "import ipywidgets"
   ]
  },
  {
   "cell_type": "code",
   "execution_count": null,
   "metadata": {},
   "outputs": [],
   "source": [
    "#probs will define SWR detection algorith,\n",
    "\n"
   ]
  },
  {
   "cell_type": "code",
   "execution_count": 2,
   "metadata": {},
   "outputs": [],
   "source": [
    "raw_paths = {#\"Patient03\" : \"/Users/Lea/Desktop/PROJECT_DATA_ANALYSIS/meg/FM_patient3/FM_9to16_part1_raw_tsss.fif\",\n",
    "            'patient_05_part1L' : \"/Users/Lea/Desktop/PROJECT_DATA_ANALYSIS/meg/WZ_patient5/WZ_LHippo_001_tsss.fif\" ,\n",
    "            'patient_05_part1R' : \"/Users/Lea/Desktop/PROJECT_DATA_ANALYSIS/meg/WZ_patient5/WZ_Rhippo_raw_001_tsss.fif\",\n",
    "            'patient_05_part2L' : \"/Users/Lea/Desktop/PROJECT_DATA_ANALYSIS/meg/WZ_patient5/WZ_Lhippo_raw_002_tsss.fif\",\n",
    "            'patient_05_part2R' : \"/Users/Lea/Desktop/PROJECT_DATA_ANALYSIS/meg/WZ_patient5/WZ_RHippo_raw_002_tsss.fif\",\n",
    "            \"patient_06\" : \"/Users/Lea/Desktop/PROJECT_DATA_ANALYSIS/meg/ZM_patient6/ZM_raw_001_tsss.fif\",\n",
    "            \"patient_08\" : \"/Users/Lea/Desktop/PROJECT_DATA_ANALYSIS/meg/XX_patient8/XX_raw_001_tsss.fif\",\n",
    "           # \"patient_09\" : \"/Users/Lea/Desktop/PROJECT_DATA_ANALYSIS/meg/TY_patient9/TY_raw_001_tsss.fif\",\n",
    "            \"patient_10\" : \"/Users/Lea/Desktop/PROJECT_DATA_ANALYSIS/meg/NY_patient10/NY_raw_001_tsss.fif\",\n",
    "            \"patient_11_part1\" : \"/Users/Lea/Desktop/PROJECT_DATA_ANALYSIS/meg/ZJ_patient11/ZJ_raw_001_tsss.fif\",\n",
    "            \"patient_11_part2\" : \"/Users/Lea/Desktop/PROJECT_DATA_ANALYSIS/meg/ZJ_patient11/ZJ_raw_002_tsss.fif\",\n",
    "            #\"patient_12\" : \"/Users/Lea/Desktop/PROJECT_DATA_ANALYSIS/meg/JC_patient12/JC_raw_001_tsss.fif\",\n",
    "            \"patient_13\" : \"/Users/Lea/Desktop/PROJECT_DATA_ANALYSIS/meg/ZB_patient13/ZB_raw_004_tsss.fif\",\n",
    "            \"patient_14_part1_left\" : \"/Users/Lea/Desktop/PROJECT_DATA_ANALYSIS/meg/CL_patient14/CL_raw_001_tsss.fif\",\n",
    "            \"patient_14_part2_left\" : \"/Users/Lea/Desktop/PROJECT_DATA_ANALYSIS/meg/CL_patient14/CL_raw_003_tsss.fif\",\n",
    "            \"patient_14_part1_right\" : \"/Users/Lea/Desktop/PROJECT_DATA_ANALYSIS/meg/CL_patient14/CL_raw_001_tsss.fif\",\n",
    "            \"patient_14_part2_right\" : \"/Users/Lea/Desktop/PROJECT_DATA_ANALYSIS/meg/CL_patient14/CL_raw_003_tsss.fif\",\n",
    "            #\"patient_15\" : \"/Users/Lea/Desktop/PROJECT_DATA_ANALYSIS/meg/ZX_patient15/ZX_EP_rest_001_tsss.fif\",\n",
    "            \"patient_16\" : \"/Users/Lea/Desktop/PROJECT_DATA_ANALYSIS/meg/RB_patient16/RB_EP_SEEG_rest_001_tsss.fif\",\n",
    "            \"patient_17\" : \"/Users/Lea/Desktop/PROJECT_DATA_ANALYSIS/meg/LJM_patient17/LJM_EP_SEEG_rest_001_tsss.fif\",\n",
    "            \"patient_21\" : \"/Users/Lea/Desktop/PROJECT_DATA_ANALYSIS/meg/HH_patient21/HH_SEEG_001_tsss.fif\",\n",
    "            \"patient_22\" : \"/Users/Lea/Desktop/PROJECT_DATA_ANALYSIS/meg/YY_patient22/YY_SEEG_raw_001_tsss.fif\",\n",
    "            \"patient_23\" : \"/Users/Lea/Desktop/PROJECT_DATA_ANALYSIS/meg/ZQ_patient23/ZQ_EP_SEEG_001_tsss.fif\",\n",
    "            \"patient_25\":  \"/Users/Lea/Desktop/PROJECT_DATA_ANALYSIS/meg/WL_patient25/WL_raw_rest_001_tsss.fif\"\n",
    "            }"
   ]
  },
  {
   "cell_type": "code",
   "execution_count": 3,
   "metadata": {},
   "outputs": [],
   "source": [
    "coregs_files = {\"patient_03\" : \"/Users/Lea/Desktop/PROJECT_DATA_ANALYSIS/coregs/patient_03-trans.fif\",\n",
    "            \"patient_05_part1L\" : \"/Users/Lea/Desktop/PROJECT_DATA_ANALYSIS/coregs/patient_05-trans.fif\" ,\n",
    "            \"patient_05_part1R\" : \"/Users/Lea/Desktop/PROJECT_DATA_ANALYSIS/coregs/patient_05-trans.fif\" ,\n",
    "            \"patient_05_part2L\" : \"/Users/Lea/Desktop/PROJECT_DATA_ANALYSIS/coregs/patient_05-trans.fif\" ,\n",
    "            \"patient_05_part2R\" : \"/Users/Lea/Desktop/PROJECT_DATA_ANALYSIS/coregs/patient_05-trans.fif\" ,\n",
    "            \"patient_06\" : \"/Users/Lea/Desktop/PROJECT_DATA_ANALYSIS/coregs/patient_06-trans.fif\",\n",
    "            \"patient_08\" : \"/Users/Lea/Desktop/PROJECT_DATA_ANALYSIS/coregs/patient_08-trans.fif\",\n",
    "            \"patient_09\" : \"/Users/Lea/Desktop/PROJECT_DATA_ANALYSIS/coregs/patient_09-trans.fif\",\n",
    "            \"patient_10\" : \"/Users/Lea/Desktop/PROJECT_DATA_ANALYSIS/coregs/patient_10-trans.fif\",\n",
    "            \"patient_11_part1\" : \"/Users/Lea/Desktop/PROJECT_DATA_ANALYSIS/coregs/patient_11-trans.fif\",\n",
    "            \"patient_11_part2\" : \"/Users/Lea/Desktop/PROJECT_DATA_ANALYSIS/coregs/patient_11-trans.fif\",\n",
    "            \"patient_13\" : \"/Users/Lea/Desktop/PROJECT_DATA_ANALYSIS/coregs/patient_13-trans.fif\",\n",
    "            \"patient_14_part1_left\" : \"/Users/Lea/Desktop/PROJECT_DATA_ANALYSIS/coregs/patient_14-trans.fif\",\n",
    "            \"patient_14_part2_left\" : \"/Users/Lea/Desktop/PROJECT_DATA_ANALYSIS/coregs/patient_14-trans.fif\",\n",
    "            \"patient_14_part1_right\" : \"/Users/Lea/Desktop/PROJECT_DATA_ANALYSIS/coregs/patient_14-trans.fif\",\n",
    "            \"patient_14_part2_right\" : \"/Users/Lea/Desktop/PROJECT_DATA_ANALYSIS/coregs/patient_14-trans.fif\",\n",
    "            \"patient_16\" : \"/Users/Lea/Desktop/PROJECT_DATA_ANALYSIS/coregs/patient_16-trans.fif\",\n",
    "            \"patient_17\" : \"/Users/Lea/Desktop/PROJECT_DATA_ANALYSIS/coregs/patient_17-trans.fif\",\n",
    "            \"patient_21\" : \"/Users/Lea/Desktop/PROJECT_DATA_ANALYSIS/coregs/patient_21-trans.fif\",\n",
    "            \"patient_22\" : \"/Users/Lea/Desktop/PROJECT_DATA_ANALYSIS/coregs/patient_22-trans.fif\",\n",
    "            \"patient_23\" : \"/Users/Lea/Desktop/PROJECT_DATA_ANALYSIS/coregs/patient_23-trans.fif\",\n",
    "            \"patient_25\":  \"/Users/Lea/Desktop/PROJECT_DATA_ANALYSIS/coregs/patient_25-trans.fif\"\n",
    "            }"
   ]
  },
  {
   "cell_type": "code",
   "execution_count": 4,
   "metadata": {},
   "outputs": [],
   "source": [
    "#dictionary for epochsa\n",
    "all_epochs_files = {#\"patient_03\" : \"/Users/Lea/Desktop/PROJECT_DATA_ANALYSIS/MEG_Epochs/Patient3_part1_all_SWR_epochs.fi\",\n",
    "            \"patient_05_part1L\" : \"/Users/Lea/Desktop/PROJECT_DATA_ANALYSIS/MEG_Epochs/theta/Patient5_part1L_all_theta_epochs.fif\" ,\n",
    "            \"patient_05_part1R\" : \"/Users/Lea/Desktop/PROJECT_DATA_ANALYSIS/MEG_Epochs/theta/Patient5_part1R_all_theta_epochs.fif\" ,\n",
    "            \"patient_05_part2L\" : \"/Users/Lea/Desktop/PROJECT_DATA_ANALYSIS/MEG_Epochs/theta/Patient5_part2L_all_theta_epochs.fif\" ,\n",
    "            \"patient_05_part2R\" : \"/Users/Lea/Desktop/PROJECT_DATA_ANALYSIS/MEG_Epochs/theta/Patient5_part2R_all_theta_epochs.fif\" ,\n",
    "            \"patient_06\" : \"/Users/Lea/Desktop/PROJECT_DATA_ANALYSIS/MEG_Epochs/theta/Patient6_all_theta_epochs.fif\",\n",
    "            \"patient_08\" : \"/Users/Lea/Desktop/PROJECT_DATA_ANALYSIS/MEG_Epochs/theta/Patient8_all_theta_epochs.fif\",\n",
    "            #\"patient_09\" : \"/Users/Lea/Desktop/PROJECT_DATA_ANALYSIS/MEG_Epochs/Patient9_all_SWR_epochs.fif\",\n",
    "            \"patient_10\" : \"/Users/Lea/Desktop/PROJECT_DATA_ANALYSIS/MEG_Epochs/theta/Patient10_all_theta_epochs.fif\",\n",
    "            \"patient_11_part1\" : \"/Users/Lea/Desktop/PROJECT_DATA_ANALYSIS/MEG_Epochs/theta/Patient11_part1_all_theta_epochs.fif\",\n",
    "            \"patient_11_part2\" : \"/Users/Lea/Desktop/PROJECT_DATA_ANALYSIS/MEG_Epochs/theta/Patient11_part2_all_theta_epochs.fif\",\n",
    "            \"patient_13\" : \"/Users/Lea/Desktop/PROJECT_DATA_ANALYSIS/MEG_Epochs/theta/Patient13_all_theta_epochs.fif\",\n",
    "            \"patient_14_part1_left\" : \"/Users/Lea/Desktop/PROJECT_DATA_ANALYSIS/MEG_Epochs/theta/Patient14_part1_left_all_theta_epochs.fif\",\n",
    "            \"patient_14_part2_left\" : \"/Users/Lea/Desktop/PROJECT_DATA_ANALYSIS/MEG_Epochs/theta/Patient14_part2_left_all_theta_epochs.fif\",\n",
    "            \"patient_14_part1_right\" : \"/Users/Lea/Desktop/PROJECT_DATA_ANALYSIS/MEG_Epochs/theta/Patient14_part1_right_all_theta_epochs.fif\",\n",
    "            \"patient_14_part2_right\" : \"/Users/Lea/Desktop/PROJECT_DATA_ANALYSIS/MEG_Epochs/theta/Patient14_part2_right_all_theta_epochs.fif\",\n",
    "            \"patient_16\" : '/Users/Lea/Desktop/PROJECT_DATA_ANALYSIS/MEG_Epochs/theta/Patient16_all_theta_epochs.fif',\n",
    "            \"patient_17\" : \"/Users/Lea/Desktop/PROJECT_DATA_ANALYSIS/MEG_Epochs/theta/Patient17_all_theta_epochs.fif\",\n",
    "            \"patient_21\" : \"/Users/Lea/Desktop/PROJECT_DATA_ANALYSIS/MEG_Epochs/theta/Patient21_all_theta_epochs.fif\",\n",
    "            \"patient_22\" : \"/Users/Lea/Desktop/PROJECT_DATA_ANALYSIS/MEG_Epochs/theta/Patient22_all_theta_epochs.fif\",\n",
    "            \"patient_23\" : \"/Users/Lea/Desktop/PROJECT_DATA_ANALYSIS/MEG_Epochs/theta/Patient23_all_theta_epochs.fif\",\n",
    "            \"patient_25\":  \"/Users/Lea/Desktop/PROJECT_DATA_ANALYSIS/MEG_Epochs/theta/Patient25_all_theta_epochs.fif\"\n",
    "            }\n",
    "\n",
    "\n",
    "high_epochs_files = {#\"patient_03\" : \"/Users/Lea/Desktop/PROJECT_DATA_ANALYSIS/MEG_Epochs/Patient3_part1_high_SWR_epochs.fi\",\n",
    "            \"patient_05_part1L\" : \"/Users/Lea/Desktop/PROJECT_DATA_ANALYSIS/MEG_Epochs/theta/Patient5_part1L_high_theta_epochs.fif\" ,\n",
    "            \"patient_05_part1R\" : \"/Users/Lea/Desktop/PROJECT_DATA_ANALYSIS/MEG_Epochs/theta/Patient5_part1R_high_theta_epochs.fif\" ,\n",
    "            \"patient_05_part2L\" : \"/Users/Lea/Desktop/PROJECT_DATA_ANALYSIS/MEG_Epochs/theta/Patient5_part2L_high_theta_epochs.fif\" ,\n",
    "            \"patient_05_part2R\" : \"/Users/Lea/Desktop/PROJECT_DATA_ANALYSIS/MEG_Epochs/theta/Patient5_part2R_high_theta_epochs.fif\" ,\n",
    "            \"patient_06\" : \"/Users/Lea/Desktop/PROJECT_DATA_ANALYSIS/MEG_Epochs/theta/Patient6_high_theta_epochs.fif\",\n",
    "            \"patient_08\" : \"/Users/Lea/Desktop/PROJECT_DATA_ANALYSIS/MEG_Epochs/theta/Patient8_high_theta_epochs.fif\",\n",
    "            #\"patient_09\" : \"/Users/Lea/Desktop/PROJECT_DATA_ANALYSIS/MEG_Epochs/Patient9_high_SWR_epochs.fif\",\n",
    "            \"patient_10\" : \"/Users/Lea/Desktop/PROJECT_DATA_ANALYSIS/MEG_Epochs/theta/Patient10_high_theta_epochs.fif\",\n",
    "            \"patient_11_part1\" : \"/Users/Lea/Desktop/PROJECT_DATA_ANALYSIS/MEG_Epochs/theta/Patient11_part1_high_theta_epochs.fif\",\n",
    "            \"patient_11_part2\" : \"/Users/Lea/Desktop/PROJECT_DATA_ANALYSIS/MEG_Epochs/theta/Patient11_part2_high_theta_epochs.fif\",\n",
    "            \"patient_13\" : \"/Users/Lea/Desktop/PROJECT_DATA_ANALYSIS/MEG_Epochs/theta/Patient13_high_theta_epochs.fif\",\n",
    "            \"patient_14_part1_left\" : \"/Users/Lea/Desktop/PROJECT_DATA_ANALYSIS/MEG_Epochs/theta/Patient14_part1_left_high_theta_epochs.fif\",\n",
    "            \"patient_14_part2_left\" : \"/Users/Lea/Desktop/PROJECT_DATA_ANALYSIS/MEG_Epochs/theta/Patient14_part2_left_high_theta_epochs.fif\",\n",
    "            \"patient_14_part1_right\" : \"/Users/Lea/Desktop/PROJECT_DATA_ANALYSIS/MEG_Epochs/theta/Patient14_part1_right_high_theta_epochs.fif\",\n",
    "            \"patient_14_part2_right\" : \"/Users/Lea/Desktop/PROJECT_DATA_ANALYSIS/MEG_Epochs/theta/Patient14_part2_right_high_theta_epochs.fif\",\n",
    "            \"patient_16\" : '/Users/Lea/Desktop/PROJECT_DATA_ANALYSIS/MEG_Epochs/theta/Patient16_high_theta_epochs.fif',\n",
    "            \"patient_17\" : \"/Users/Lea/Desktop/PROJECT_DATA_ANALYSIS/MEG_Epochs/theta/Patient17_high_theta_epochs.fif\",\n",
    "            \"patient_21\" : \"/Users/Lea/Desktop/PROJECT_DATA_ANALYSIS/MEG_Epochs/theta/Patient21_high_theta_epochs.fif\",\n",
    "            \"patient_22\" : \"/Users/Lea/Desktop/PROJECT_DATA_ANALYSIS/MEG_Epochs/theta/Patient22_high_theta_epochs.fif\",\n",
    "            \"patient_23\" : \"/Users/Lea/Desktop/PROJECT_DATA_ANALYSIS/MEG_Epochs/theta/Patient23_high_theta_epochs.fif\",\n",
    "            \"patient_25\":  \"/Users/Lea/Desktop/PROJECT_DATA_ANALYSIS/MEG_Epochs/theta/Patient25_high_theta_epochs.fif\"\n",
    "            }\n",
    "\n",
    "low_epochs_files = {#\"patient_03\" : \"/Users/Lea/Desktop/PROJECT_DATA_ANALYSIS/MEG_Epochs/Patient3_part1_low_SWR_epochs.fi\",\n",
    "            \"patient_05_part1L\" : \"/Users/Lea/Desktop/PROJECT_DATA_ANALYSIS/MEG_Epochs/theta/Patient5_part1L_low_theta_epochs.fif\" ,\n",
    "            \"patient_05_part1R\" : \"/Users/Lea/Desktop/PROJECT_DATA_ANALYSIS/MEG_Epochs/theta/Patient5_part1R_low_theta_epochs.fif\" ,\n",
    "            \"patient_05_part2L\" : \"/Users/Lea/Desktop/PROJECT_DATA_ANALYSIS/MEG_Epochs/theta/Patient5_part2L_low_theta_epochs.fif\" ,\n",
    "            \"patient_05_part2R\" : \"/Users/Lea/Desktop/PROJECT_DATA_ANALYSIS/MEG_Epochs/theta/Patient5_part2R_low_theta_epochs.fif\" ,\n",
    "            \"patient_06\" : \"/Users/Lea/Desktop/PROJECT_DATA_ANALYSIS/MEG_Epochs/theta/Patient6_low_theta_epochs.fif\",\n",
    "            \"patient_08\" : \"/Users/Lea/Desktop/PROJECT_DATA_ANALYSIS/MEG_Epochs/theta/Patient8_low_theta_epochs.fif\",\n",
    "            \"patient_09\" : \"/Users/Lea/Desktop/PROJECT_DATA_ANALYSIS/MEG_Epochs/theta/Patient9_low_theta_epochs.fif\",\n",
    "            \"patient_10\" : \"/Users/Lea/Desktop/PROJECT_DATA_ANALYSIS/MEG_Epochs/theta/Patient10_low_theta_epochs.fif\",\n",
    "            \"patient_11_part1\" : \"/Users/Lea/Desktop/PROJECT_DATA_ANALYSIS/MEG_Epochs/theta/Patient11_part1_low_theta_epochs.fif\",\n",
    "            \"patient_11_part2\" : \"/Users/Lea/Desktop/PROJECT_DATA_ANALYSIS/MEG_Epochs/theta/Patient11_part2_low_theta_epochs.fif\",\n",
    "            \"patient_13\" : \"/Users/Lea/Desktop/PROJECT_DATA_ANALYSIS/MEG_Epochs/theta/Patient13_low_theta_epochs.fif\",\n",
    "            \"patient_14_part1_left\" : \"/Users/Lea/Desktop/PROJECT_DATA_ANALYSIS/MEG_Epochs/theta/Patient14_part1_left_low_theta_epochs.fif\",\n",
    "            \"patient_14_part2_left\" : \"/Users/Lea/Desktop/PROJECT_DATA_ANALYSIS/MEG_Epochs/theta/Patient14_part2_left_low_theta_epochs.fif\",\n",
    "            \"patient_14_part1_right\" : \"/Users/Lea/Desktop/PROJECT_DATA_ANALYSIS/MEG_Epochs/theta/Patient14_part1_right_low_theta_epochs.fif\",\n",
    "            \"patient_14_part2_right\" : \"/Users/Lea/Desktop/PROJECT_DATA_ANALYSIS/MEG_Epochs/theta/Patient14_part2_right_low_theta_epochs.fif\",\n",
    "            \"patient_16\" : '/Users/Lea/Desktop/PROJECT_DATA_ANALYSIS/MEG_Epochs/theta/Patient16_low_theta_epochs.fif',\n",
    "            \"patient_17\" : \"/Users/Lea/Desktop/PROJECT_DATA_ANALYSIS/MEG_Epochs/theta/Patient17_low_theta_epochs.fif\",\n",
    "            \"patient_21\" : \"/Users/Lea/Desktop/PROJECT_DATA_ANALYSIS/MEG_Epochs/theta/Patient21_low_theta_epochs.fif\",\n",
    "            \"patient_22\" : \"/Users/Lea/Desktop/PROJECT_DATA_ANALYSIS/MEG_Epochs/theta/Patient22_low_theta_epochs.fif\",\n",
    "            \"patient_23\" : \"/Users/Lea/Desktop/PROJECT_DATA_ANALYSIS/MEG_Epochs/theta/Patient23_low_theta_epochs.fif\",\n",
    "            \"patient_25\":  \"/Users/Lea/Desktop/PROJECT_DATA_ANALYSIS/MEG_Epochs/theta/Patient25_low_theta_epochs.fif\"\n",
    "            }"
   ]
  },
  {
   "cell_type": "code",
   "execution_count": 5,
   "metadata": {},
   "outputs": [],
   "source": [
    "#desired vertices dictionary:\n",
    "selected_vertices = {\n",
    "            \"patient_05_part1L\" : [3405, 3405, 3728, 3728, 3711, 3711],\n",
    "            \"patient_05_part1R\" : [3428, 3428, 3428, 3411, 3734, 3734] ,\n",
    "            \"patient_05_part2L\" : [3405, 3405, 3728, 3728, 3711, 3711] ,\n",
    "            \"patient_05_part2R\" : [3428, 3428, 3428, 3411, 3734, 3734],\n",
    "            \"patient_06\" : [2646, 2646, 2629, 2629, 2935, 2935, 2918, 2918 ],\n",
    "            \"patient_08\" : [2946, 2946, 2946],\n",
    "            \"patient_10\" : [3581],\n",
    "            \"patient_11_part1\" : [4097, 4097, 4097, 4098],\n",
    "            \"patient_11_part2\" : [4097, 4097, 4097, 4098],\n",
    "            \"patient_13\" : [3035],\n",
    "            \"patient_14_part1_left\" : [2486] ,\n",
    "            \"patient_14_part2_left\" :[2486] ,\n",
    "            \"patient_14_part1_right\" : [3070, 3070, 3070] ,\n",
    "            \"patient_14_part2_right\" : [3070, 3070, 3070] ,\n",
    "            \"patient_16\" : [4732],\n",
    "            \"patient_17\" : [4040, 4040, 4040, 4041],\n",
    "            \"patient_21\" : [3898, 3897, 3897, 3897],\n",
    "            \"patient_22\" :[2869, 2869, 2868, 3125, 3124, 3124, 3124, 3124, 3108],\n",
    "            \"patient_23\" : [3674, 3690, 3690],\n",
    "            \"patient_25\": [5669, 5650]\n",
    "            }\n"
   ]
  },
  {
   "cell_type": "code",
   "execution_count": 6,
   "metadata": {},
   "outputs": [
    {
     "name": "stderr",
     "output_type": "stream",
     "text": [
      "/var/folders/hp/k3clndsn2sj608qsb4fl5zvr0000gn/T/ipykernel_65989/59187294.py:4: RuntimeWarning: This filename (/Users/Lea/Desktop/PROJECT_DATA_ANALYSIS/meg/WZ_patient5/WZ_LHippo_001_tsss.fif) does not conform to MNE naming conventions. All raw files should end with raw.fif, raw_sss.fif, raw_tsss.fif, _meg.fif, _eeg.fif, _ieeg.fif, raw.fif.gz, raw_sss.fif.gz, raw_tsss.fif.gz, _meg.fif.gz, _eeg.fif.gz or _ieeg.fif.gz\n",
      "  raw = mne.io.read_raw_fif(raw_fname, verbose = False)\n",
      "/var/folders/hp/k3clndsn2sj608qsb4fl5zvr0000gn/T/ipykernel_65989/59187294.py:18: RuntimeWarning: This filename (/Users/Lea/Desktop/PROJECT_DATA_ANALYSIS/MEG_Epochs/theta/Patient5_part1L_all_theta_epochs.fif) does not conform to MNE naming conventions. All epochs files should end with -epo.fif, -epo.fif.gz, _epo.fif or _epo.fif.gz\n",
      "  all_epochs = mne.read_epochs(all_epochs_fname, verbose = False)\n"
     ]
    },
    {
     "name": "stdout",
     "output_type": "stream",
     "text": [
      "patient_05\n"
     ]
    },
    {
     "name": "stderr",
     "output_type": "stream",
     "text": [
      "/var/folders/hp/k3clndsn2sj608qsb4fl5zvr0000gn/T/ipykernel_65989/59187294.py:18: RuntimeWarning: The events passed to the Epochs constructor are not chronologically ordered.\n",
      "  all_epochs = mne.read_epochs(all_epochs_fname, verbose = False)\n",
      "/var/folders/hp/k3clndsn2sj608qsb4fl5zvr0000gn/T/ipykernel_65989/59187294.py:18: RuntimeWarning: The events passed to the Epochs constructor are not chronologically ordered.\n",
      "  all_epochs = mne.read_epochs(all_epochs_fname, verbose = False)\n",
      "/var/folders/hp/k3clndsn2sj608qsb4fl5zvr0000gn/T/ipykernel_65989/59187294.py:21: RuntimeWarning: This filename (/Users/Lea/Desktop/PROJECT_DATA_ANALYSIS/MEG_Epochs/theta/Patient5_part1L_high_theta_epochs.fif) does not conform to MNE naming conventions. All epochs files should end with -epo.fif, -epo.fif.gz, _epo.fif or _epo.fif.gz\n",
      "  high_epochs = mne.read_epochs(high_epochs_fname, verbose = False)\n",
      "/var/folders/hp/k3clndsn2sj608qsb4fl5zvr0000gn/T/ipykernel_65989/59187294.py:24: RuntimeWarning: This filename (/Users/Lea/Desktop/PROJECT_DATA_ANALYSIS/MEG_Epochs/theta/Patient5_part1L_low_theta_epochs.fif) does not conform to MNE naming conventions. All epochs files should end with -epo.fif, -epo.fif.gz, _epo.fif or _epo.fif.gz\n",
      "  low_epochs = mne.read_epochs(low_epochs_fname, verbose = False)\n"
     ]
    },
    {
     "name": "stdout",
     "output_type": "stream",
     "text": [
      "Saved: /Users/Lea/Desktop/PROJECT_DATA_ANALYSIS/virtual_time_series/theta/patient_05_part1L_vertex3405_virtual_ts.fif\n",
      "Saved: /Users/Lea/Desktop/PROJECT_DATA_ANALYSIS/virtual_time_series/theta/patient_05_part1L_vertex3405_virtual_ts.fif\n",
      "Saved: /Users/Lea/Desktop/PROJECT_DATA_ANALYSIS/virtual_time_series/theta/patient_05_part1L_vertex3728_virtual_ts.fif\n",
      "Saved: /Users/Lea/Desktop/PROJECT_DATA_ANALYSIS/virtual_time_series/theta/patient_05_part1L_vertex3728_virtual_ts.fif\n",
      "Saved: /Users/Lea/Desktop/PROJECT_DATA_ANALYSIS/virtual_time_series/theta/patient_05_part1L_vertex3711_virtual_ts.fif\n",
      "Saved: /Users/Lea/Desktop/PROJECT_DATA_ANALYSIS/virtual_time_series/theta/patient_05_part1L_vertex3711_virtual_ts.fif\n",
      "patient_05\n"
     ]
    },
    {
     "name": "stderr",
     "output_type": "stream",
     "text": [
      "/var/folders/hp/k3clndsn2sj608qsb4fl5zvr0000gn/T/ipykernel_65989/59187294.py:4: RuntimeWarning: This filename (/Users/Lea/Desktop/PROJECT_DATA_ANALYSIS/meg/WZ_patient5/WZ_Rhippo_raw_001_tsss.fif) does not conform to MNE naming conventions. All raw files should end with raw.fif, raw_sss.fif, raw_tsss.fif, _meg.fif, _eeg.fif, _ieeg.fif, raw.fif.gz, raw_sss.fif.gz, raw_tsss.fif.gz, _meg.fif.gz, _eeg.fif.gz or _ieeg.fif.gz\n",
      "  raw = mne.io.read_raw_fif(raw_fname, verbose = False)\n",
      "/var/folders/hp/k3clndsn2sj608qsb4fl5zvr0000gn/T/ipykernel_65989/59187294.py:18: RuntimeWarning: This filename (/Users/Lea/Desktop/PROJECT_DATA_ANALYSIS/MEG_Epochs/theta/Patient5_part1R_all_theta_epochs.fif) does not conform to MNE naming conventions. All epochs files should end with -epo.fif, -epo.fif.gz, _epo.fif or _epo.fif.gz\n",
      "  all_epochs = mne.read_epochs(all_epochs_fname, verbose = False)\n",
      "/var/folders/hp/k3clndsn2sj608qsb4fl5zvr0000gn/T/ipykernel_65989/59187294.py:18: RuntimeWarning: The events passed to the Epochs constructor are not chronologically ordered.\n",
      "  all_epochs = mne.read_epochs(all_epochs_fname, verbose = False)\n",
      "/var/folders/hp/k3clndsn2sj608qsb4fl5zvr0000gn/T/ipykernel_65989/59187294.py:18: RuntimeWarning: The events passed to the Epochs constructor are not chronologically ordered.\n",
      "  all_epochs = mne.read_epochs(all_epochs_fname, verbose = False)\n",
      "/var/folders/hp/k3clndsn2sj608qsb4fl5zvr0000gn/T/ipykernel_65989/59187294.py:21: RuntimeWarning: This filename (/Users/Lea/Desktop/PROJECT_DATA_ANALYSIS/MEG_Epochs/theta/Patient5_part1R_high_theta_epochs.fif) does not conform to MNE naming conventions. All epochs files should end with -epo.fif, -epo.fif.gz, _epo.fif or _epo.fif.gz\n",
      "  high_epochs = mne.read_epochs(high_epochs_fname, verbose = False)\n",
      "/var/folders/hp/k3clndsn2sj608qsb4fl5zvr0000gn/T/ipykernel_65989/59187294.py:24: RuntimeWarning: This filename (/Users/Lea/Desktop/PROJECT_DATA_ANALYSIS/MEG_Epochs/theta/Patient5_part1R_low_theta_epochs.fif) does not conform to MNE naming conventions. All epochs files should end with -epo.fif, -epo.fif.gz, _epo.fif or _epo.fif.gz\n",
      "  low_epochs = mne.read_epochs(low_epochs_fname, verbose = False)\n"
     ]
    },
    {
     "name": "stdout",
     "output_type": "stream",
     "text": [
      "Saved: /Users/Lea/Desktop/PROJECT_DATA_ANALYSIS/virtual_time_series/theta/patient_05_part1R_vertex3428_virtual_ts.fif\n",
      "Saved: /Users/Lea/Desktop/PROJECT_DATA_ANALYSIS/virtual_time_series/theta/patient_05_part1R_vertex3428_virtual_ts.fif\n",
      "Saved: /Users/Lea/Desktop/PROJECT_DATA_ANALYSIS/virtual_time_series/theta/patient_05_part1R_vertex3428_virtual_ts.fif\n",
      "Saved: /Users/Lea/Desktop/PROJECT_DATA_ANALYSIS/virtual_time_series/theta/patient_05_part1R_vertex3411_virtual_ts.fif\n",
      "Saved: /Users/Lea/Desktop/PROJECT_DATA_ANALYSIS/virtual_time_series/theta/patient_05_part1R_vertex3734_virtual_ts.fif\n",
      "Saved: /Users/Lea/Desktop/PROJECT_DATA_ANALYSIS/virtual_time_series/theta/patient_05_part1R_vertex3734_virtual_ts.fif\n",
      "patient_05\n"
     ]
    },
    {
     "name": "stderr",
     "output_type": "stream",
     "text": [
      "/var/folders/hp/k3clndsn2sj608qsb4fl5zvr0000gn/T/ipykernel_65989/59187294.py:4: RuntimeWarning: This filename (/Users/Lea/Desktop/PROJECT_DATA_ANALYSIS/meg/WZ_patient5/WZ_Lhippo_raw_002_tsss.fif) does not conform to MNE naming conventions. All raw files should end with raw.fif, raw_sss.fif, raw_tsss.fif, _meg.fif, _eeg.fif, _ieeg.fif, raw.fif.gz, raw_sss.fif.gz, raw_tsss.fif.gz, _meg.fif.gz, _eeg.fif.gz or _ieeg.fif.gz\n",
      "  raw = mne.io.read_raw_fif(raw_fname, verbose = False)\n",
      "/var/folders/hp/k3clndsn2sj608qsb4fl5zvr0000gn/T/ipykernel_65989/59187294.py:18: RuntimeWarning: This filename (/Users/Lea/Desktop/PROJECT_DATA_ANALYSIS/MEG_Epochs/theta/Patient5_part2L_all_theta_epochs.fif) does not conform to MNE naming conventions. All epochs files should end with -epo.fif, -epo.fif.gz, _epo.fif or _epo.fif.gz\n",
      "  all_epochs = mne.read_epochs(all_epochs_fname, verbose = False)\n",
      "/var/folders/hp/k3clndsn2sj608qsb4fl5zvr0000gn/T/ipykernel_65989/59187294.py:18: RuntimeWarning: The events passed to the Epochs constructor are not chronologically ordered.\n",
      "  all_epochs = mne.read_epochs(all_epochs_fname, verbose = False)\n",
      "/var/folders/hp/k3clndsn2sj608qsb4fl5zvr0000gn/T/ipykernel_65989/59187294.py:18: RuntimeWarning: The events passed to the Epochs constructor are not chronologically ordered.\n",
      "  all_epochs = mne.read_epochs(all_epochs_fname, verbose = False)\n",
      "/var/folders/hp/k3clndsn2sj608qsb4fl5zvr0000gn/T/ipykernel_65989/59187294.py:21: RuntimeWarning: This filename (/Users/Lea/Desktop/PROJECT_DATA_ANALYSIS/MEG_Epochs/theta/Patient5_part2L_high_theta_epochs.fif) does not conform to MNE naming conventions. All epochs files should end with -epo.fif, -epo.fif.gz, _epo.fif or _epo.fif.gz\n",
      "  high_epochs = mne.read_epochs(high_epochs_fname, verbose = False)\n",
      "/var/folders/hp/k3clndsn2sj608qsb4fl5zvr0000gn/T/ipykernel_65989/59187294.py:24: RuntimeWarning: This filename (/Users/Lea/Desktop/PROJECT_DATA_ANALYSIS/MEG_Epochs/theta/Patient5_part2L_low_theta_epochs.fif) does not conform to MNE naming conventions. All epochs files should end with -epo.fif, -epo.fif.gz, _epo.fif or _epo.fif.gz\n",
      "  low_epochs = mne.read_epochs(low_epochs_fname, verbose = False)\n"
     ]
    },
    {
     "name": "stdout",
     "output_type": "stream",
     "text": [
      "Saved: /Users/Lea/Desktop/PROJECT_DATA_ANALYSIS/virtual_time_series/theta/patient_05_part2L_vertex3405_virtual_ts.fif\n",
      "Saved: /Users/Lea/Desktop/PROJECT_DATA_ANALYSIS/virtual_time_series/theta/patient_05_part2L_vertex3405_virtual_ts.fif\n",
      "Saved: /Users/Lea/Desktop/PROJECT_DATA_ANALYSIS/virtual_time_series/theta/patient_05_part2L_vertex3728_virtual_ts.fif\n",
      "Saved: /Users/Lea/Desktop/PROJECT_DATA_ANALYSIS/virtual_time_series/theta/patient_05_part2L_vertex3728_virtual_ts.fif\n",
      "Saved: /Users/Lea/Desktop/PROJECT_DATA_ANALYSIS/virtual_time_series/theta/patient_05_part2L_vertex3711_virtual_ts.fif\n",
      "Saved: /Users/Lea/Desktop/PROJECT_DATA_ANALYSIS/virtual_time_series/theta/patient_05_part2L_vertex3711_virtual_ts.fif\n",
      "patient_05\n"
     ]
    },
    {
     "name": "stderr",
     "output_type": "stream",
     "text": [
      "/var/folders/hp/k3clndsn2sj608qsb4fl5zvr0000gn/T/ipykernel_65989/59187294.py:4: RuntimeWarning: This filename (/Users/Lea/Desktop/PROJECT_DATA_ANALYSIS/meg/WZ_patient5/WZ_RHippo_raw_002_tsss.fif) does not conform to MNE naming conventions. All raw files should end with raw.fif, raw_sss.fif, raw_tsss.fif, _meg.fif, _eeg.fif, _ieeg.fif, raw.fif.gz, raw_sss.fif.gz, raw_tsss.fif.gz, _meg.fif.gz, _eeg.fif.gz or _ieeg.fif.gz\n",
      "  raw = mne.io.read_raw_fif(raw_fname, verbose = False)\n",
      "/var/folders/hp/k3clndsn2sj608qsb4fl5zvr0000gn/T/ipykernel_65989/59187294.py:18: RuntimeWarning: This filename (/Users/Lea/Desktop/PROJECT_DATA_ANALYSIS/MEG_Epochs/theta/Patient5_part2R_all_theta_epochs.fif) does not conform to MNE naming conventions. All epochs files should end with -epo.fif, -epo.fif.gz, _epo.fif or _epo.fif.gz\n",
      "  all_epochs = mne.read_epochs(all_epochs_fname, verbose = False)\n",
      "/var/folders/hp/k3clndsn2sj608qsb4fl5zvr0000gn/T/ipykernel_65989/59187294.py:18: RuntimeWarning: The events passed to the Epochs constructor are not chronologically ordered.\n",
      "  all_epochs = mne.read_epochs(all_epochs_fname, verbose = False)\n",
      "/var/folders/hp/k3clndsn2sj608qsb4fl5zvr0000gn/T/ipykernel_65989/59187294.py:18: RuntimeWarning: The events passed to the Epochs constructor are not chronologically ordered.\n",
      "  all_epochs = mne.read_epochs(all_epochs_fname, verbose = False)\n",
      "/var/folders/hp/k3clndsn2sj608qsb4fl5zvr0000gn/T/ipykernel_65989/59187294.py:21: RuntimeWarning: This filename (/Users/Lea/Desktop/PROJECT_DATA_ANALYSIS/MEG_Epochs/theta/Patient5_part2R_high_theta_epochs.fif) does not conform to MNE naming conventions. All epochs files should end with -epo.fif, -epo.fif.gz, _epo.fif or _epo.fif.gz\n",
      "  high_epochs = mne.read_epochs(high_epochs_fname, verbose = False)\n",
      "/var/folders/hp/k3clndsn2sj608qsb4fl5zvr0000gn/T/ipykernel_65989/59187294.py:24: RuntimeWarning: This filename (/Users/Lea/Desktop/PROJECT_DATA_ANALYSIS/MEG_Epochs/theta/Patient5_part2R_low_theta_epochs.fif) does not conform to MNE naming conventions. All epochs files should end with -epo.fif, -epo.fif.gz, _epo.fif or _epo.fif.gz\n",
      "  low_epochs = mne.read_epochs(low_epochs_fname, verbose = False)\n"
     ]
    },
    {
     "name": "stdout",
     "output_type": "stream",
     "text": [
      "Saved: /Users/Lea/Desktop/PROJECT_DATA_ANALYSIS/virtual_time_series/theta/patient_05_part2R_vertex3428_virtual_ts.fif\n",
      "Saved: /Users/Lea/Desktop/PROJECT_DATA_ANALYSIS/virtual_time_series/theta/patient_05_part2R_vertex3428_virtual_ts.fif\n",
      "Saved: /Users/Lea/Desktop/PROJECT_DATA_ANALYSIS/virtual_time_series/theta/patient_05_part2R_vertex3428_virtual_ts.fif\n",
      "Saved: /Users/Lea/Desktop/PROJECT_DATA_ANALYSIS/virtual_time_series/theta/patient_05_part2R_vertex3411_virtual_ts.fif\n",
      "Saved: /Users/Lea/Desktop/PROJECT_DATA_ANALYSIS/virtual_time_series/theta/patient_05_part2R_vertex3734_virtual_ts.fif\n",
      "Saved: /Users/Lea/Desktop/PROJECT_DATA_ANALYSIS/virtual_time_series/theta/patient_05_part2R_vertex3734_virtual_ts.fif\n",
      "patient_06\n"
     ]
    },
    {
     "name": "stderr",
     "output_type": "stream",
     "text": [
      "/var/folders/hp/k3clndsn2sj608qsb4fl5zvr0000gn/T/ipykernel_65989/59187294.py:4: RuntimeWarning: This filename (/Users/Lea/Desktop/PROJECT_DATA_ANALYSIS/meg/ZM_patient6/ZM_raw_001_tsss.fif) does not conform to MNE naming conventions. All raw files should end with raw.fif, raw_sss.fif, raw_tsss.fif, _meg.fif, _eeg.fif, _ieeg.fif, raw.fif.gz, raw_sss.fif.gz, raw_tsss.fif.gz, _meg.fif.gz, _eeg.fif.gz or _ieeg.fif.gz\n",
      "  raw = mne.io.read_raw_fif(raw_fname, verbose = False)\n",
      "/var/folders/hp/k3clndsn2sj608qsb4fl5zvr0000gn/T/ipykernel_65989/59187294.py:18: RuntimeWarning: This filename (/Users/Lea/Desktop/PROJECT_DATA_ANALYSIS/MEG_Epochs/theta/Patient6_all_theta_epochs.fif) does not conform to MNE naming conventions. All epochs files should end with -epo.fif, -epo.fif.gz, _epo.fif or _epo.fif.gz\n",
      "  all_epochs = mne.read_epochs(all_epochs_fname, verbose = False)\n",
      "/var/folders/hp/k3clndsn2sj608qsb4fl5zvr0000gn/T/ipykernel_65989/59187294.py:18: RuntimeWarning: The events passed to the Epochs constructor are not chronologically ordered.\n",
      "  all_epochs = mne.read_epochs(all_epochs_fname, verbose = False)\n",
      "/var/folders/hp/k3clndsn2sj608qsb4fl5zvr0000gn/T/ipykernel_65989/59187294.py:18: RuntimeWarning: The events passed to the Epochs constructor are not chronologically ordered.\n",
      "  all_epochs = mne.read_epochs(all_epochs_fname, verbose = False)\n",
      "/var/folders/hp/k3clndsn2sj608qsb4fl5zvr0000gn/T/ipykernel_65989/59187294.py:21: RuntimeWarning: This filename (/Users/Lea/Desktop/PROJECT_DATA_ANALYSIS/MEG_Epochs/theta/Patient6_high_theta_epochs.fif) does not conform to MNE naming conventions. All epochs files should end with -epo.fif, -epo.fif.gz, _epo.fif or _epo.fif.gz\n",
      "  high_epochs = mne.read_epochs(high_epochs_fname, verbose = False)\n",
      "/var/folders/hp/k3clndsn2sj608qsb4fl5zvr0000gn/T/ipykernel_65989/59187294.py:24: RuntimeWarning: This filename (/Users/Lea/Desktop/PROJECT_DATA_ANALYSIS/MEG_Epochs/theta/Patient6_low_theta_epochs.fif) does not conform to MNE naming conventions. All epochs files should end with -epo.fif, -epo.fif.gz, _epo.fif or _epo.fif.gz\n",
      "  low_epochs = mne.read_epochs(low_epochs_fname, verbose = False)\n"
     ]
    },
    {
     "name": "stdout",
     "output_type": "stream",
     "text": [
      "Saved: /Users/Lea/Desktop/PROJECT_DATA_ANALYSIS/virtual_time_series/theta/patient_06_vertex2646_virtual_ts.fif\n",
      "Saved: /Users/Lea/Desktop/PROJECT_DATA_ANALYSIS/virtual_time_series/theta/patient_06_vertex2646_virtual_ts.fif\n",
      "Saved: /Users/Lea/Desktop/PROJECT_DATA_ANALYSIS/virtual_time_series/theta/patient_06_vertex2629_virtual_ts.fif\n",
      "Saved: /Users/Lea/Desktop/PROJECT_DATA_ANALYSIS/virtual_time_series/theta/patient_06_vertex2629_virtual_ts.fif\n",
      "Saved: /Users/Lea/Desktop/PROJECT_DATA_ANALYSIS/virtual_time_series/theta/patient_06_vertex2935_virtual_ts.fif\n",
      "Saved: /Users/Lea/Desktop/PROJECT_DATA_ANALYSIS/virtual_time_series/theta/patient_06_vertex2935_virtual_ts.fif\n",
      "Saved: /Users/Lea/Desktop/PROJECT_DATA_ANALYSIS/virtual_time_series/theta/patient_06_vertex2918_virtual_ts.fif\n",
      "Saved: /Users/Lea/Desktop/PROJECT_DATA_ANALYSIS/virtual_time_series/theta/patient_06_vertex2918_virtual_ts.fif\n",
      "patient_08\n"
     ]
    },
    {
     "name": "stderr",
     "output_type": "stream",
     "text": [
      "/var/folders/hp/k3clndsn2sj608qsb4fl5zvr0000gn/T/ipykernel_65989/59187294.py:4: RuntimeWarning: This filename (/Users/Lea/Desktop/PROJECT_DATA_ANALYSIS/meg/XX_patient8/XX_raw_001_tsss.fif) does not conform to MNE naming conventions. All raw files should end with raw.fif, raw_sss.fif, raw_tsss.fif, _meg.fif, _eeg.fif, _ieeg.fif, raw.fif.gz, raw_sss.fif.gz, raw_tsss.fif.gz, _meg.fif.gz, _eeg.fif.gz or _ieeg.fif.gz\n",
      "  raw = mne.io.read_raw_fif(raw_fname, verbose = False)\n",
      "/var/folders/hp/k3clndsn2sj608qsb4fl5zvr0000gn/T/ipykernel_65989/59187294.py:18: RuntimeWarning: This filename (/Users/Lea/Desktop/PROJECT_DATA_ANALYSIS/MEG_Epochs/theta/Patient8_all_theta_epochs.fif) does not conform to MNE naming conventions. All epochs files should end with -epo.fif, -epo.fif.gz, _epo.fif or _epo.fif.gz\n",
      "  all_epochs = mne.read_epochs(all_epochs_fname, verbose = False)\n",
      "/var/folders/hp/k3clndsn2sj608qsb4fl5zvr0000gn/T/ipykernel_65989/59187294.py:18: RuntimeWarning: The events passed to the Epochs constructor are not chronologically ordered.\n",
      "  all_epochs = mne.read_epochs(all_epochs_fname, verbose = False)\n",
      "/var/folders/hp/k3clndsn2sj608qsb4fl5zvr0000gn/T/ipykernel_65989/59187294.py:18: RuntimeWarning: The events passed to the Epochs constructor are not chronologically ordered.\n",
      "  all_epochs = mne.read_epochs(all_epochs_fname, verbose = False)\n",
      "/var/folders/hp/k3clndsn2sj608qsb4fl5zvr0000gn/T/ipykernel_65989/59187294.py:21: RuntimeWarning: This filename (/Users/Lea/Desktop/PROJECT_DATA_ANALYSIS/MEG_Epochs/theta/Patient8_high_theta_epochs.fif) does not conform to MNE naming conventions. All epochs files should end with -epo.fif, -epo.fif.gz, _epo.fif or _epo.fif.gz\n",
      "  high_epochs = mne.read_epochs(high_epochs_fname, verbose = False)\n",
      "/var/folders/hp/k3clndsn2sj608qsb4fl5zvr0000gn/T/ipykernel_65989/59187294.py:24: RuntimeWarning: This filename (/Users/Lea/Desktop/PROJECT_DATA_ANALYSIS/MEG_Epochs/theta/Patient8_low_theta_epochs.fif) does not conform to MNE naming conventions. All epochs files should end with -epo.fif, -epo.fif.gz, _epo.fif or _epo.fif.gz\n",
      "  low_epochs = mne.read_epochs(low_epochs_fname, verbose = False)\n"
     ]
    },
    {
     "name": "stdout",
     "output_type": "stream",
     "text": [
      "Saved: /Users/Lea/Desktop/PROJECT_DATA_ANALYSIS/virtual_time_series/theta/patient_08_vertex2946_virtual_ts.fif\n",
      "Saved: /Users/Lea/Desktop/PROJECT_DATA_ANALYSIS/virtual_time_series/theta/patient_08_vertex2946_virtual_ts.fif\n",
      "Saved: /Users/Lea/Desktop/PROJECT_DATA_ANALYSIS/virtual_time_series/theta/patient_08_vertex2946_virtual_ts.fif\n",
      "patient_10\n"
     ]
    },
    {
     "name": "stderr",
     "output_type": "stream",
     "text": [
      "/var/folders/hp/k3clndsn2sj608qsb4fl5zvr0000gn/T/ipykernel_65989/59187294.py:4: RuntimeWarning: This filename (/Users/Lea/Desktop/PROJECT_DATA_ANALYSIS/meg/NY_patient10/NY_raw_001_tsss.fif) does not conform to MNE naming conventions. All raw files should end with raw.fif, raw_sss.fif, raw_tsss.fif, _meg.fif, _eeg.fif, _ieeg.fif, raw.fif.gz, raw_sss.fif.gz, raw_tsss.fif.gz, _meg.fif.gz, _eeg.fif.gz or _ieeg.fif.gz\n",
      "  raw = mne.io.read_raw_fif(raw_fname, verbose = False)\n",
      "/var/folders/hp/k3clndsn2sj608qsb4fl5zvr0000gn/T/ipykernel_65989/59187294.py:18: RuntimeWarning: This filename (/Users/Lea/Desktop/PROJECT_DATA_ANALYSIS/MEG_Epochs/theta/Patient10_all_theta_epochs.fif) does not conform to MNE naming conventions. All epochs files should end with -epo.fif, -epo.fif.gz, _epo.fif or _epo.fif.gz\n",
      "  all_epochs = mne.read_epochs(all_epochs_fname, verbose = False)\n",
      "/var/folders/hp/k3clndsn2sj608qsb4fl5zvr0000gn/T/ipykernel_65989/59187294.py:18: RuntimeWarning: The events passed to the Epochs constructor are not chronologically ordered.\n",
      "  all_epochs = mne.read_epochs(all_epochs_fname, verbose = False)\n",
      "/var/folders/hp/k3clndsn2sj608qsb4fl5zvr0000gn/T/ipykernel_65989/59187294.py:18: RuntimeWarning: The events passed to the Epochs constructor are not chronologically ordered.\n",
      "  all_epochs = mne.read_epochs(all_epochs_fname, verbose = False)\n",
      "/var/folders/hp/k3clndsn2sj608qsb4fl5zvr0000gn/T/ipykernel_65989/59187294.py:21: RuntimeWarning: This filename (/Users/Lea/Desktop/PROJECT_DATA_ANALYSIS/MEG_Epochs/theta/Patient10_high_theta_epochs.fif) does not conform to MNE naming conventions. All epochs files should end with -epo.fif, -epo.fif.gz, _epo.fif or _epo.fif.gz\n",
      "  high_epochs = mne.read_epochs(high_epochs_fname, verbose = False)\n",
      "/var/folders/hp/k3clndsn2sj608qsb4fl5zvr0000gn/T/ipykernel_65989/59187294.py:24: RuntimeWarning: This filename (/Users/Lea/Desktop/PROJECT_DATA_ANALYSIS/MEG_Epochs/theta/Patient10_low_theta_epochs.fif) does not conform to MNE naming conventions. All epochs files should end with -epo.fif, -epo.fif.gz, _epo.fif or _epo.fif.gz\n",
      "  low_epochs = mne.read_epochs(low_epochs_fname, verbose = False)\n"
     ]
    },
    {
     "name": "stdout",
     "output_type": "stream",
     "text": [
      "Saved: /Users/Lea/Desktop/PROJECT_DATA_ANALYSIS/virtual_time_series/theta/patient_10_vertex3581_virtual_ts.fif\n",
      "patient_11\n"
     ]
    },
    {
     "name": "stderr",
     "output_type": "stream",
     "text": [
      "/var/folders/hp/k3clndsn2sj608qsb4fl5zvr0000gn/T/ipykernel_65989/59187294.py:4: RuntimeWarning: This filename (/Users/Lea/Desktop/PROJECT_DATA_ANALYSIS/meg/ZJ_patient11/ZJ_raw_001_tsss.fif) does not conform to MNE naming conventions. All raw files should end with raw.fif, raw_sss.fif, raw_tsss.fif, _meg.fif, _eeg.fif, _ieeg.fif, raw.fif.gz, raw_sss.fif.gz, raw_tsss.fif.gz, _meg.fif.gz, _eeg.fif.gz or _ieeg.fif.gz\n",
      "  raw = mne.io.read_raw_fif(raw_fname, verbose = False)\n",
      "/var/folders/hp/k3clndsn2sj608qsb4fl5zvr0000gn/T/ipykernel_65989/59187294.py:18: RuntimeWarning: This filename (/Users/Lea/Desktop/PROJECT_DATA_ANALYSIS/MEG_Epochs/theta/Patient11_part1_all_theta_epochs.fif) does not conform to MNE naming conventions. All epochs files should end with -epo.fif, -epo.fif.gz, _epo.fif or _epo.fif.gz\n",
      "  all_epochs = mne.read_epochs(all_epochs_fname, verbose = False)\n",
      "/var/folders/hp/k3clndsn2sj608qsb4fl5zvr0000gn/T/ipykernel_65989/59187294.py:18: RuntimeWarning: The events passed to the Epochs constructor are not chronologically ordered.\n",
      "  all_epochs = mne.read_epochs(all_epochs_fname, verbose = False)\n",
      "/var/folders/hp/k3clndsn2sj608qsb4fl5zvr0000gn/T/ipykernel_65989/59187294.py:18: RuntimeWarning: The events passed to the Epochs constructor are not chronologically ordered.\n",
      "  all_epochs = mne.read_epochs(all_epochs_fname, verbose = False)\n",
      "/var/folders/hp/k3clndsn2sj608qsb4fl5zvr0000gn/T/ipykernel_65989/59187294.py:21: RuntimeWarning: This filename (/Users/Lea/Desktop/PROJECT_DATA_ANALYSIS/MEG_Epochs/theta/Patient11_part1_high_theta_epochs.fif) does not conform to MNE naming conventions. All epochs files should end with -epo.fif, -epo.fif.gz, _epo.fif or _epo.fif.gz\n",
      "  high_epochs = mne.read_epochs(high_epochs_fname, verbose = False)\n",
      "/var/folders/hp/k3clndsn2sj608qsb4fl5zvr0000gn/T/ipykernel_65989/59187294.py:24: RuntimeWarning: This filename (/Users/Lea/Desktop/PROJECT_DATA_ANALYSIS/MEG_Epochs/theta/Patient11_part1_low_theta_epochs.fif) does not conform to MNE naming conventions. All epochs files should end with -epo.fif, -epo.fif.gz, _epo.fif or _epo.fif.gz\n",
      "  low_epochs = mne.read_epochs(low_epochs_fname, verbose = False)\n"
     ]
    },
    {
     "name": "stdout",
     "output_type": "stream",
     "text": [
      "Saved: /Users/Lea/Desktop/PROJECT_DATA_ANALYSIS/virtual_time_series/theta/patient_11_part1_vertex4097_virtual_ts.fif\n",
      "Saved: /Users/Lea/Desktop/PROJECT_DATA_ANALYSIS/virtual_time_series/theta/patient_11_part1_vertex4097_virtual_ts.fif\n",
      "Saved: /Users/Lea/Desktop/PROJECT_DATA_ANALYSIS/virtual_time_series/theta/patient_11_part1_vertex4097_virtual_ts.fif\n",
      "Saved: /Users/Lea/Desktop/PROJECT_DATA_ANALYSIS/virtual_time_series/theta/patient_11_part1_vertex4098_virtual_ts.fif\n",
      "patient_11\n"
     ]
    },
    {
     "name": "stderr",
     "output_type": "stream",
     "text": [
      "/var/folders/hp/k3clndsn2sj608qsb4fl5zvr0000gn/T/ipykernel_65989/59187294.py:4: RuntimeWarning: This filename (/Users/Lea/Desktop/PROJECT_DATA_ANALYSIS/meg/ZJ_patient11/ZJ_raw_002_tsss.fif) does not conform to MNE naming conventions. All raw files should end with raw.fif, raw_sss.fif, raw_tsss.fif, _meg.fif, _eeg.fif, _ieeg.fif, raw.fif.gz, raw_sss.fif.gz, raw_tsss.fif.gz, _meg.fif.gz, _eeg.fif.gz or _ieeg.fif.gz\n",
      "  raw = mne.io.read_raw_fif(raw_fname, verbose = False)\n",
      "/var/folders/hp/k3clndsn2sj608qsb4fl5zvr0000gn/T/ipykernel_65989/59187294.py:18: RuntimeWarning: This filename (/Users/Lea/Desktop/PROJECT_DATA_ANALYSIS/MEG_Epochs/theta/Patient11_part2_all_theta_epochs.fif) does not conform to MNE naming conventions. All epochs files should end with -epo.fif, -epo.fif.gz, _epo.fif or _epo.fif.gz\n",
      "  all_epochs = mne.read_epochs(all_epochs_fname, verbose = False)\n",
      "/var/folders/hp/k3clndsn2sj608qsb4fl5zvr0000gn/T/ipykernel_65989/59187294.py:18: RuntimeWarning: The events passed to the Epochs constructor are not chronologically ordered.\n",
      "  all_epochs = mne.read_epochs(all_epochs_fname, verbose = False)\n",
      "/var/folders/hp/k3clndsn2sj608qsb4fl5zvr0000gn/T/ipykernel_65989/59187294.py:18: RuntimeWarning: The events passed to the Epochs constructor are not chronologically ordered.\n",
      "  all_epochs = mne.read_epochs(all_epochs_fname, verbose = False)\n",
      "/var/folders/hp/k3clndsn2sj608qsb4fl5zvr0000gn/T/ipykernel_65989/59187294.py:21: RuntimeWarning: This filename (/Users/Lea/Desktop/PROJECT_DATA_ANALYSIS/MEG_Epochs/theta/Patient11_part2_high_theta_epochs.fif) does not conform to MNE naming conventions. All epochs files should end with -epo.fif, -epo.fif.gz, _epo.fif or _epo.fif.gz\n",
      "  high_epochs = mne.read_epochs(high_epochs_fname, verbose = False)\n",
      "/var/folders/hp/k3clndsn2sj608qsb4fl5zvr0000gn/T/ipykernel_65989/59187294.py:24: RuntimeWarning: This filename (/Users/Lea/Desktop/PROJECT_DATA_ANALYSIS/MEG_Epochs/theta/Patient11_part2_low_theta_epochs.fif) does not conform to MNE naming conventions. All epochs files should end with -epo.fif, -epo.fif.gz, _epo.fif or _epo.fif.gz\n",
      "  low_epochs = mne.read_epochs(low_epochs_fname, verbose = False)\n"
     ]
    },
    {
     "name": "stdout",
     "output_type": "stream",
     "text": [
      "Saved: /Users/Lea/Desktop/PROJECT_DATA_ANALYSIS/virtual_time_series/theta/patient_11_part2_vertex4097_virtual_ts.fif\n",
      "Saved: /Users/Lea/Desktop/PROJECT_DATA_ANALYSIS/virtual_time_series/theta/patient_11_part2_vertex4097_virtual_ts.fif\n",
      "Saved: /Users/Lea/Desktop/PROJECT_DATA_ANALYSIS/virtual_time_series/theta/patient_11_part2_vertex4097_virtual_ts.fif\n",
      "Saved: /Users/Lea/Desktop/PROJECT_DATA_ANALYSIS/virtual_time_series/theta/patient_11_part2_vertex4098_virtual_ts.fif\n",
      "patient_13\n"
     ]
    },
    {
     "name": "stderr",
     "output_type": "stream",
     "text": [
      "/var/folders/hp/k3clndsn2sj608qsb4fl5zvr0000gn/T/ipykernel_65989/59187294.py:4: RuntimeWarning: This filename (/Users/Lea/Desktop/PROJECT_DATA_ANALYSIS/meg/ZB_patient13/ZB_raw_004_tsss.fif) does not conform to MNE naming conventions. All raw files should end with raw.fif, raw_sss.fif, raw_tsss.fif, _meg.fif, _eeg.fif, _ieeg.fif, raw.fif.gz, raw_sss.fif.gz, raw_tsss.fif.gz, _meg.fif.gz, _eeg.fif.gz or _ieeg.fif.gz\n",
      "  raw = mne.io.read_raw_fif(raw_fname, verbose = False)\n",
      "/var/folders/hp/k3clndsn2sj608qsb4fl5zvr0000gn/T/ipykernel_65989/59187294.py:18: RuntimeWarning: This filename (/Users/Lea/Desktop/PROJECT_DATA_ANALYSIS/MEG_Epochs/theta/Patient13_all_theta_epochs.fif) does not conform to MNE naming conventions. All epochs files should end with -epo.fif, -epo.fif.gz, _epo.fif or _epo.fif.gz\n",
      "  all_epochs = mne.read_epochs(all_epochs_fname, verbose = False)\n",
      "/var/folders/hp/k3clndsn2sj608qsb4fl5zvr0000gn/T/ipykernel_65989/59187294.py:18: RuntimeWarning: The events passed to the Epochs constructor are not chronologically ordered.\n",
      "  all_epochs = mne.read_epochs(all_epochs_fname, verbose = False)\n",
      "/var/folders/hp/k3clndsn2sj608qsb4fl5zvr0000gn/T/ipykernel_65989/59187294.py:18: RuntimeWarning: The events passed to the Epochs constructor are not chronologically ordered.\n",
      "  all_epochs = mne.read_epochs(all_epochs_fname, verbose = False)\n",
      "/var/folders/hp/k3clndsn2sj608qsb4fl5zvr0000gn/T/ipykernel_65989/59187294.py:21: RuntimeWarning: This filename (/Users/Lea/Desktop/PROJECT_DATA_ANALYSIS/MEG_Epochs/theta/Patient13_high_theta_epochs.fif) does not conform to MNE naming conventions. All epochs files should end with -epo.fif, -epo.fif.gz, _epo.fif or _epo.fif.gz\n",
      "  high_epochs = mne.read_epochs(high_epochs_fname, verbose = False)\n",
      "/var/folders/hp/k3clndsn2sj608qsb4fl5zvr0000gn/T/ipykernel_65989/59187294.py:24: RuntimeWarning: This filename (/Users/Lea/Desktop/PROJECT_DATA_ANALYSIS/MEG_Epochs/theta/Patient13_low_theta_epochs.fif) does not conform to MNE naming conventions. All epochs files should end with -epo.fif, -epo.fif.gz, _epo.fif or _epo.fif.gz\n",
      "  low_epochs = mne.read_epochs(low_epochs_fname, verbose = False)\n"
     ]
    },
    {
     "name": "stdout",
     "output_type": "stream",
     "text": [
      "Saved: /Users/Lea/Desktop/PROJECT_DATA_ANALYSIS/virtual_time_series/theta/patient_13_vertex3035_virtual_ts.fif\n",
      "patient_14\n"
     ]
    },
    {
     "name": "stderr",
     "output_type": "stream",
     "text": [
      "/var/folders/hp/k3clndsn2sj608qsb4fl5zvr0000gn/T/ipykernel_65989/59187294.py:4: RuntimeWarning: This filename (/Users/Lea/Desktop/PROJECT_DATA_ANALYSIS/meg/CL_patient14/CL_raw_001_tsss.fif) does not conform to MNE naming conventions. All raw files should end with raw.fif, raw_sss.fif, raw_tsss.fif, _meg.fif, _eeg.fif, _ieeg.fif, raw.fif.gz, raw_sss.fif.gz, raw_tsss.fif.gz, _meg.fif.gz, _eeg.fif.gz or _ieeg.fif.gz\n",
      "  raw = mne.io.read_raw_fif(raw_fname, verbose = False)\n",
      "/var/folders/hp/k3clndsn2sj608qsb4fl5zvr0000gn/T/ipykernel_65989/59187294.py:18: RuntimeWarning: This filename (/Users/Lea/Desktop/PROJECT_DATA_ANALYSIS/MEG_Epochs/theta/Patient14_part1_left_all_theta_epochs.fif) does not conform to MNE naming conventions. All epochs files should end with -epo.fif, -epo.fif.gz, _epo.fif or _epo.fif.gz\n",
      "  all_epochs = mne.read_epochs(all_epochs_fname, verbose = False)\n",
      "/var/folders/hp/k3clndsn2sj608qsb4fl5zvr0000gn/T/ipykernel_65989/59187294.py:18: RuntimeWarning: The events passed to the Epochs constructor are not chronologically ordered.\n",
      "  all_epochs = mne.read_epochs(all_epochs_fname, verbose = False)\n",
      "/var/folders/hp/k3clndsn2sj608qsb4fl5zvr0000gn/T/ipykernel_65989/59187294.py:18: RuntimeWarning: The events passed to the Epochs constructor are not chronologically ordered.\n",
      "  all_epochs = mne.read_epochs(all_epochs_fname, verbose = False)\n",
      "/var/folders/hp/k3clndsn2sj608qsb4fl5zvr0000gn/T/ipykernel_65989/59187294.py:21: RuntimeWarning: This filename (/Users/Lea/Desktop/PROJECT_DATA_ANALYSIS/MEG_Epochs/theta/Patient14_part1_left_high_theta_epochs.fif) does not conform to MNE naming conventions. All epochs files should end with -epo.fif, -epo.fif.gz, _epo.fif or _epo.fif.gz\n",
      "  high_epochs = mne.read_epochs(high_epochs_fname, verbose = False)\n",
      "/var/folders/hp/k3clndsn2sj608qsb4fl5zvr0000gn/T/ipykernel_65989/59187294.py:24: RuntimeWarning: This filename (/Users/Lea/Desktop/PROJECT_DATA_ANALYSIS/MEG_Epochs/theta/Patient14_part1_left_low_theta_epochs.fif) does not conform to MNE naming conventions. All epochs files should end with -epo.fif, -epo.fif.gz, _epo.fif or _epo.fif.gz\n",
      "  low_epochs = mne.read_epochs(low_epochs_fname, verbose = False)\n"
     ]
    },
    {
     "name": "stdout",
     "output_type": "stream",
     "text": [
      "Saved: /Users/Lea/Desktop/PROJECT_DATA_ANALYSIS/virtual_time_series/theta/patient_14_part1_left_vertex2486_virtual_ts.fif\n",
      "patient_14\n"
     ]
    },
    {
     "name": "stderr",
     "output_type": "stream",
     "text": [
      "/var/folders/hp/k3clndsn2sj608qsb4fl5zvr0000gn/T/ipykernel_65989/59187294.py:4: RuntimeWarning: This filename (/Users/Lea/Desktop/PROJECT_DATA_ANALYSIS/meg/CL_patient14/CL_raw_003_tsss.fif) does not conform to MNE naming conventions. All raw files should end with raw.fif, raw_sss.fif, raw_tsss.fif, _meg.fif, _eeg.fif, _ieeg.fif, raw.fif.gz, raw_sss.fif.gz, raw_tsss.fif.gz, _meg.fif.gz, _eeg.fif.gz or _ieeg.fif.gz\n",
      "  raw = mne.io.read_raw_fif(raw_fname, verbose = False)\n",
      "/var/folders/hp/k3clndsn2sj608qsb4fl5zvr0000gn/T/ipykernel_65989/59187294.py:18: RuntimeWarning: This filename (/Users/Lea/Desktop/PROJECT_DATA_ANALYSIS/MEG_Epochs/theta/Patient14_part2_left_all_theta_epochs.fif) does not conform to MNE naming conventions. All epochs files should end with -epo.fif, -epo.fif.gz, _epo.fif or _epo.fif.gz\n",
      "  all_epochs = mne.read_epochs(all_epochs_fname, verbose = False)\n",
      "/var/folders/hp/k3clndsn2sj608qsb4fl5zvr0000gn/T/ipykernel_65989/59187294.py:18: RuntimeWarning: The events passed to the Epochs constructor are not chronologically ordered.\n",
      "  all_epochs = mne.read_epochs(all_epochs_fname, verbose = False)\n",
      "/var/folders/hp/k3clndsn2sj608qsb4fl5zvr0000gn/T/ipykernel_65989/59187294.py:18: RuntimeWarning: The events passed to the Epochs constructor are not chronologically ordered.\n",
      "  all_epochs = mne.read_epochs(all_epochs_fname, verbose = False)\n",
      "/var/folders/hp/k3clndsn2sj608qsb4fl5zvr0000gn/T/ipykernel_65989/59187294.py:21: RuntimeWarning: This filename (/Users/Lea/Desktop/PROJECT_DATA_ANALYSIS/MEG_Epochs/theta/Patient14_part2_left_high_theta_epochs.fif) does not conform to MNE naming conventions. All epochs files should end with -epo.fif, -epo.fif.gz, _epo.fif or _epo.fif.gz\n",
      "  high_epochs = mne.read_epochs(high_epochs_fname, verbose = False)\n",
      "/var/folders/hp/k3clndsn2sj608qsb4fl5zvr0000gn/T/ipykernel_65989/59187294.py:24: RuntimeWarning: This filename (/Users/Lea/Desktop/PROJECT_DATA_ANALYSIS/MEG_Epochs/theta/Patient14_part2_left_low_theta_epochs.fif) does not conform to MNE naming conventions. All epochs files should end with -epo.fif, -epo.fif.gz, _epo.fif or _epo.fif.gz\n",
      "  low_epochs = mne.read_epochs(low_epochs_fname, verbose = False)\n"
     ]
    },
    {
     "name": "stdout",
     "output_type": "stream",
     "text": [
      "Saved: /Users/Lea/Desktop/PROJECT_DATA_ANALYSIS/virtual_time_series/theta/patient_14_part2_left_vertex2486_virtual_ts.fif\n",
      "patient_14\n"
     ]
    },
    {
     "name": "stderr",
     "output_type": "stream",
     "text": [
      "/var/folders/hp/k3clndsn2sj608qsb4fl5zvr0000gn/T/ipykernel_65989/59187294.py:4: RuntimeWarning: This filename (/Users/Lea/Desktop/PROJECT_DATA_ANALYSIS/meg/CL_patient14/CL_raw_001_tsss.fif) does not conform to MNE naming conventions. All raw files should end with raw.fif, raw_sss.fif, raw_tsss.fif, _meg.fif, _eeg.fif, _ieeg.fif, raw.fif.gz, raw_sss.fif.gz, raw_tsss.fif.gz, _meg.fif.gz, _eeg.fif.gz or _ieeg.fif.gz\n",
      "  raw = mne.io.read_raw_fif(raw_fname, verbose = False)\n",
      "/var/folders/hp/k3clndsn2sj608qsb4fl5zvr0000gn/T/ipykernel_65989/59187294.py:18: RuntimeWarning: This filename (/Users/Lea/Desktop/PROJECT_DATA_ANALYSIS/MEG_Epochs/theta/Patient14_part1_right_all_theta_epochs.fif) does not conform to MNE naming conventions. All epochs files should end with -epo.fif, -epo.fif.gz, _epo.fif or _epo.fif.gz\n",
      "  all_epochs = mne.read_epochs(all_epochs_fname, verbose = False)\n",
      "/var/folders/hp/k3clndsn2sj608qsb4fl5zvr0000gn/T/ipykernel_65989/59187294.py:18: RuntimeWarning: The events passed to the Epochs constructor are not chronologically ordered.\n",
      "  all_epochs = mne.read_epochs(all_epochs_fname, verbose = False)\n",
      "/var/folders/hp/k3clndsn2sj608qsb4fl5zvr0000gn/T/ipykernel_65989/59187294.py:18: RuntimeWarning: The events passed to the Epochs constructor are not chronologically ordered.\n",
      "  all_epochs = mne.read_epochs(all_epochs_fname, verbose = False)\n",
      "/var/folders/hp/k3clndsn2sj608qsb4fl5zvr0000gn/T/ipykernel_65989/59187294.py:21: RuntimeWarning: This filename (/Users/Lea/Desktop/PROJECT_DATA_ANALYSIS/MEG_Epochs/theta/Patient14_part1_right_high_theta_epochs.fif) does not conform to MNE naming conventions. All epochs files should end with -epo.fif, -epo.fif.gz, _epo.fif or _epo.fif.gz\n",
      "  high_epochs = mne.read_epochs(high_epochs_fname, verbose = False)\n",
      "/var/folders/hp/k3clndsn2sj608qsb4fl5zvr0000gn/T/ipykernel_65989/59187294.py:24: RuntimeWarning: This filename (/Users/Lea/Desktop/PROJECT_DATA_ANALYSIS/MEG_Epochs/theta/Patient14_part1_right_low_theta_epochs.fif) does not conform to MNE naming conventions. All epochs files should end with -epo.fif, -epo.fif.gz, _epo.fif or _epo.fif.gz\n",
      "  low_epochs = mne.read_epochs(low_epochs_fname, verbose = False)\n"
     ]
    },
    {
     "name": "stdout",
     "output_type": "stream",
     "text": [
      "Saved: /Users/Lea/Desktop/PROJECT_DATA_ANALYSIS/virtual_time_series/theta/patient_14_part1_right_vertex3070_virtual_ts.fif\n",
      "Saved: /Users/Lea/Desktop/PROJECT_DATA_ANALYSIS/virtual_time_series/theta/patient_14_part1_right_vertex3070_virtual_ts.fif\n",
      "Saved: /Users/Lea/Desktop/PROJECT_DATA_ANALYSIS/virtual_time_series/theta/patient_14_part1_right_vertex3070_virtual_ts.fif\n",
      "patient_14\n"
     ]
    },
    {
     "name": "stderr",
     "output_type": "stream",
     "text": [
      "/var/folders/hp/k3clndsn2sj608qsb4fl5zvr0000gn/T/ipykernel_65989/59187294.py:4: RuntimeWarning: This filename (/Users/Lea/Desktop/PROJECT_DATA_ANALYSIS/meg/CL_patient14/CL_raw_003_tsss.fif) does not conform to MNE naming conventions. All raw files should end with raw.fif, raw_sss.fif, raw_tsss.fif, _meg.fif, _eeg.fif, _ieeg.fif, raw.fif.gz, raw_sss.fif.gz, raw_tsss.fif.gz, _meg.fif.gz, _eeg.fif.gz or _ieeg.fif.gz\n",
      "  raw = mne.io.read_raw_fif(raw_fname, verbose = False)\n",
      "/var/folders/hp/k3clndsn2sj608qsb4fl5zvr0000gn/T/ipykernel_65989/59187294.py:18: RuntimeWarning: This filename (/Users/Lea/Desktop/PROJECT_DATA_ANALYSIS/MEG_Epochs/theta/Patient14_part2_right_all_theta_epochs.fif) does not conform to MNE naming conventions. All epochs files should end with -epo.fif, -epo.fif.gz, _epo.fif or _epo.fif.gz\n",
      "  all_epochs = mne.read_epochs(all_epochs_fname, verbose = False)\n",
      "/var/folders/hp/k3clndsn2sj608qsb4fl5zvr0000gn/T/ipykernel_65989/59187294.py:18: RuntimeWarning: The events passed to the Epochs constructor are not chronologically ordered.\n",
      "  all_epochs = mne.read_epochs(all_epochs_fname, verbose = False)\n",
      "/var/folders/hp/k3clndsn2sj608qsb4fl5zvr0000gn/T/ipykernel_65989/59187294.py:18: RuntimeWarning: The events passed to the Epochs constructor are not chronologically ordered.\n",
      "  all_epochs = mne.read_epochs(all_epochs_fname, verbose = False)\n",
      "/var/folders/hp/k3clndsn2sj608qsb4fl5zvr0000gn/T/ipykernel_65989/59187294.py:21: RuntimeWarning: This filename (/Users/Lea/Desktop/PROJECT_DATA_ANALYSIS/MEG_Epochs/theta/Patient14_part2_right_high_theta_epochs.fif) does not conform to MNE naming conventions. All epochs files should end with -epo.fif, -epo.fif.gz, _epo.fif or _epo.fif.gz\n",
      "  high_epochs = mne.read_epochs(high_epochs_fname, verbose = False)\n",
      "/var/folders/hp/k3clndsn2sj608qsb4fl5zvr0000gn/T/ipykernel_65989/59187294.py:24: RuntimeWarning: This filename (/Users/Lea/Desktop/PROJECT_DATA_ANALYSIS/MEG_Epochs/theta/Patient14_part2_right_low_theta_epochs.fif) does not conform to MNE naming conventions. All epochs files should end with -epo.fif, -epo.fif.gz, _epo.fif or _epo.fif.gz\n",
      "  low_epochs = mne.read_epochs(low_epochs_fname, verbose = False)\n"
     ]
    },
    {
     "name": "stdout",
     "output_type": "stream",
     "text": [
      "Saved: /Users/Lea/Desktop/PROJECT_DATA_ANALYSIS/virtual_time_series/theta/patient_14_part2_right_vertex3070_virtual_ts.fif\n",
      "Saved: /Users/Lea/Desktop/PROJECT_DATA_ANALYSIS/virtual_time_series/theta/patient_14_part2_right_vertex3070_virtual_ts.fif\n",
      "Saved: /Users/Lea/Desktop/PROJECT_DATA_ANALYSIS/virtual_time_series/theta/patient_14_part2_right_vertex3070_virtual_ts.fif\n",
      "patient_16\n"
     ]
    },
    {
     "name": "stderr",
     "output_type": "stream",
     "text": [
      "/var/folders/hp/k3clndsn2sj608qsb4fl5zvr0000gn/T/ipykernel_65989/59187294.py:4: RuntimeWarning: This filename (/Users/Lea/Desktop/PROJECT_DATA_ANALYSIS/meg/RB_patient16/RB_EP_SEEG_rest_001_tsss.fif) does not conform to MNE naming conventions. All raw files should end with raw.fif, raw_sss.fif, raw_tsss.fif, _meg.fif, _eeg.fif, _ieeg.fif, raw.fif.gz, raw_sss.fif.gz, raw_tsss.fif.gz, _meg.fif.gz, _eeg.fif.gz or _ieeg.fif.gz\n",
      "  raw = mne.io.read_raw_fif(raw_fname, verbose = False)\n",
      "/var/folders/hp/k3clndsn2sj608qsb4fl5zvr0000gn/T/ipykernel_65989/59187294.py:18: RuntimeWarning: This filename (/Users/Lea/Desktop/PROJECT_DATA_ANALYSIS/MEG_Epochs/theta/Patient16_all_theta_epochs.fif) does not conform to MNE naming conventions. All epochs files should end with -epo.fif, -epo.fif.gz, _epo.fif or _epo.fif.gz\n",
      "  all_epochs = mne.read_epochs(all_epochs_fname, verbose = False)\n",
      "/var/folders/hp/k3clndsn2sj608qsb4fl5zvr0000gn/T/ipykernel_65989/59187294.py:18: RuntimeWarning: The events passed to the Epochs constructor are not chronologically ordered.\n",
      "  all_epochs = mne.read_epochs(all_epochs_fname, verbose = False)\n",
      "/var/folders/hp/k3clndsn2sj608qsb4fl5zvr0000gn/T/ipykernel_65989/59187294.py:18: RuntimeWarning: The events passed to the Epochs constructor are not chronologically ordered.\n",
      "  all_epochs = mne.read_epochs(all_epochs_fname, verbose = False)\n",
      "/var/folders/hp/k3clndsn2sj608qsb4fl5zvr0000gn/T/ipykernel_65989/59187294.py:21: RuntimeWarning: This filename (/Users/Lea/Desktop/PROJECT_DATA_ANALYSIS/MEG_Epochs/theta/Patient16_high_theta_epochs.fif) does not conform to MNE naming conventions. All epochs files should end with -epo.fif, -epo.fif.gz, _epo.fif or _epo.fif.gz\n",
      "  high_epochs = mne.read_epochs(high_epochs_fname, verbose = False)\n",
      "/var/folders/hp/k3clndsn2sj608qsb4fl5zvr0000gn/T/ipykernel_65989/59187294.py:24: RuntimeWarning: This filename (/Users/Lea/Desktop/PROJECT_DATA_ANALYSIS/MEG_Epochs/theta/Patient16_low_theta_epochs.fif) does not conform to MNE naming conventions. All epochs files should end with -epo.fif, -epo.fif.gz, _epo.fif or _epo.fif.gz\n",
      "  low_epochs = mne.read_epochs(low_epochs_fname, verbose = False)\n"
     ]
    },
    {
     "name": "stdout",
     "output_type": "stream",
     "text": [
      "Saved: /Users/Lea/Desktop/PROJECT_DATA_ANALYSIS/virtual_time_series/theta/patient_16_vertex4732_virtual_ts.fif\n",
      "patient_17\n"
     ]
    },
    {
     "name": "stderr",
     "output_type": "stream",
     "text": [
      "/var/folders/hp/k3clndsn2sj608qsb4fl5zvr0000gn/T/ipykernel_65989/59187294.py:4: RuntimeWarning: This filename (/Users/Lea/Desktop/PROJECT_DATA_ANALYSIS/meg/LJM_patient17/LJM_EP_SEEG_rest_001_tsss.fif) does not conform to MNE naming conventions. All raw files should end with raw.fif, raw_sss.fif, raw_tsss.fif, _meg.fif, _eeg.fif, _ieeg.fif, raw.fif.gz, raw_sss.fif.gz, raw_tsss.fif.gz, _meg.fif.gz, _eeg.fif.gz or _ieeg.fif.gz\n",
      "  raw = mne.io.read_raw_fif(raw_fname, verbose = False)\n",
      "/var/folders/hp/k3clndsn2sj608qsb4fl5zvr0000gn/T/ipykernel_65989/59187294.py:18: RuntimeWarning: This filename (/Users/Lea/Desktop/PROJECT_DATA_ANALYSIS/MEG_Epochs/theta/Patient17_all_theta_epochs.fif) does not conform to MNE naming conventions. All epochs files should end with -epo.fif, -epo.fif.gz, _epo.fif or _epo.fif.gz\n",
      "  all_epochs = mne.read_epochs(all_epochs_fname, verbose = False)\n",
      "/var/folders/hp/k3clndsn2sj608qsb4fl5zvr0000gn/T/ipykernel_65989/59187294.py:18: RuntimeWarning: The events passed to the Epochs constructor are not chronologically ordered.\n",
      "  all_epochs = mne.read_epochs(all_epochs_fname, verbose = False)\n",
      "/var/folders/hp/k3clndsn2sj608qsb4fl5zvr0000gn/T/ipykernel_65989/59187294.py:18: RuntimeWarning: The events passed to the Epochs constructor are not chronologically ordered.\n",
      "  all_epochs = mne.read_epochs(all_epochs_fname, verbose = False)\n",
      "/var/folders/hp/k3clndsn2sj608qsb4fl5zvr0000gn/T/ipykernel_65989/59187294.py:21: RuntimeWarning: This filename (/Users/Lea/Desktop/PROJECT_DATA_ANALYSIS/MEG_Epochs/theta/Patient17_high_theta_epochs.fif) does not conform to MNE naming conventions. All epochs files should end with -epo.fif, -epo.fif.gz, _epo.fif or _epo.fif.gz\n",
      "  high_epochs = mne.read_epochs(high_epochs_fname, verbose = False)\n",
      "/var/folders/hp/k3clndsn2sj608qsb4fl5zvr0000gn/T/ipykernel_65989/59187294.py:24: RuntimeWarning: This filename (/Users/Lea/Desktop/PROJECT_DATA_ANALYSIS/MEG_Epochs/theta/Patient17_low_theta_epochs.fif) does not conform to MNE naming conventions. All epochs files should end with -epo.fif, -epo.fif.gz, _epo.fif or _epo.fif.gz\n",
      "  low_epochs = mne.read_epochs(low_epochs_fname, verbose = False)\n"
     ]
    },
    {
     "name": "stdout",
     "output_type": "stream",
     "text": [
      "Saved: /Users/Lea/Desktop/PROJECT_DATA_ANALYSIS/virtual_time_series/theta/patient_17_vertex4040_virtual_ts.fif\n",
      "Saved: /Users/Lea/Desktop/PROJECT_DATA_ANALYSIS/virtual_time_series/theta/patient_17_vertex4040_virtual_ts.fif\n",
      "Saved: /Users/Lea/Desktop/PROJECT_DATA_ANALYSIS/virtual_time_series/theta/patient_17_vertex4040_virtual_ts.fif\n",
      "Saved: /Users/Lea/Desktop/PROJECT_DATA_ANALYSIS/virtual_time_series/theta/patient_17_vertex4041_virtual_ts.fif\n",
      "patient_21\n"
     ]
    },
    {
     "name": "stderr",
     "output_type": "stream",
     "text": [
      "/var/folders/hp/k3clndsn2sj608qsb4fl5zvr0000gn/T/ipykernel_65989/59187294.py:4: RuntimeWarning: This filename (/Users/Lea/Desktop/PROJECT_DATA_ANALYSIS/meg/HH_patient21/HH_SEEG_001_tsss.fif) does not conform to MNE naming conventions. All raw files should end with raw.fif, raw_sss.fif, raw_tsss.fif, _meg.fif, _eeg.fif, _ieeg.fif, raw.fif.gz, raw_sss.fif.gz, raw_tsss.fif.gz, _meg.fif.gz, _eeg.fif.gz or _ieeg.fif.gz\n",
      "  raw = mne.io.read_raw_fif(raw_fname, verbose = False)\n",
      "/var/folders/hp/k3clndsn2sj608qsb4fl5zvr0000gn/T/ipykernel_65989/59187294.py:18: RuntimeWarning: This filename (/Users/Lea/Desktop/PROJECT_DATA_ANALYSIS/MEG_Epochs/theta/Patient21_all_theta_epochs.fif) does not conform to MNE naming conventions. All epochs files should end with -epo.fif, -epo.fif.gz, _epo.fif or _epo.fif.gz\n",
      "  all_epochs = mne.read_epochs(all_epochs_fname, verbose = False)\n",
      "/var/folders/hp/k3clndsn2sj608qsb4fl5zvr0000gn/T/ipykernel_65989/59187294.py:18: RuntimeWarning: The events passed to the Epochs constructor are not chronologically ordered.\n",
      "  all_epochs = mne.read_epochs(all_epochs_fname, verbose = False)\n",
      "/var/folders/hp/k3clndsn2sj608qsb4fl5zvr0000gn/T/ipykernel_65989/59187294.py:18: RuntimeWarning: The events passed to the Epochs constructor are not chronologically ordered.\n",
      "  all_epochs = mne.read_epochs(all_epochs_fname, verbose = False)\n",
      "/var/folders/hp/k3clndsn2sj608qsb4fl5zvr0000gn/T/ipykernel_65989/59187294.py:21: RuntimeWarning: This filename (/Users/Lea/Desktop/PROJECT_DATA_ANALYSIS/MEG_Epochs/theta/Patient21_high_theta_epochs.fif) does not conform to MNE naming conventions. All epochs files should end with -epo.fif, -epo.fif.gz, _epo.fif or _epo.fif.gz\n",
      "  high_epochs = mne.read_epochs(high_epochs_fname, verbose = False)\n",
      "/var/folders/hp/k3clndsn2sj608qsb4fl5zvr0000gn/T/ipykernel_65989/59187294.py:24: RuntimeWarning: This filename (/Users/Lea/Desktop/PROJECT_DATA_ANALYSIS/MEG_Epochs/theta/Patient21_low_theta_epochs.fif) does not conform to MNE naming conventions. All epochs files should end with -epo.fif, -epo.fif.gz, _epo.fif or _epo.fif.gz\n",
      "  low_epochs = mne.read_epochs(low_epochs_fname, verbose = False)\n"
     ]
    },
    {
     "name": "stdout",
     "output_type": "stream",
     "text": [
      "Saved: /Users/Lea/Desktop/PROJECT_DATA_ANALYSIS/virtual_time_series/theta/patient_21_vertex3898_virtual_ts.fif\n",
      "Saved: /Users/Lea/Desktop/PROJECT_DATA_ANALYSIS/virtual_time_series/theta/patient_21_vertex3897_virtual_ts.fif\n",
      "Saved: /Users/Lea/Desktop/PROJECT_DATA_ANALYSIS/virtual_time_series/theta/patient_21_vertex3897_virtual_ts.fif\n",
      "Saved: /Users/Lea/Desktop/PROJECT_DATA_ANALYSIS/virtual_time_series/theta/patient_21_vertex3897_virtual_ts.fif\n",
      "patient_22\n"
     ]
    },
    {
     "name": "stderr",
     "output_type": "stream",
     "text": [
      "/var/folders/hp/k3clndsn2sj608qsb4fl5zvr0000gn/T/ipykernel_65989/59187294.py:4: RuntimeWarning: This filename (/Users/Lea/Desktop/PROJECT_DATA_ANALYSIS/meg/YY_patient22/YY_SEEG_raw_001_tsss.fif) does not conform to MNE naming conventions. All raw files should end with raw.fif, raw_sss.fif, raw_tsss.fif, _meg.fif, _eeg.fif, _ieeg.fif, raw.fif.gz, raw_sss.fif.gz, raw_tsss.fif.gz, _meg.fif.gz, _eeg.fif.gz or _ieeg.fif.gz\n",
      "  raw = mne.io.read_raw_fif(raw_fname, verbose = False)\n",
      "/var/folders/hp/k3clndsn2sj608qsb4fl5zvr0000gn/T/ipykernel_65989/59187294.py:18: RuntimeWarning: This filename (/Users/Lea/Desktop/PROJECT_DATA_ANALYSIS/MEG_Epochs/theta/Patient22_all_theta_epochs.fif) does not conform to MNE naming conventions. All epochs files should end with -epo.fif, -epo.fif.gz, _epo.fif or _epo.fif.gz\n",
      "  all_epochs = mne.read_epochs(all_epochs_fname, verbose = False)\n",
      "/var/folders/hp/k3clndsn2sj608qsb4fl5zvr0000gn/T/ipykernel_65989/59187294.py:18: RuntimeWarning: The events passed to the Epochs constructor are not chronologically ordered.\n",
      "  all_epochs = mne.read_epochs(all_epochs_fname, verbose = False)\n",
      "/var/folders/hp/k3clndsn2sj608qsb4fl5zvr0000gn/T/ipykernel_65989/59187294.py:18: RuntimeWarning: The events passed to the Epochs constructor are not chronologically ordered.\n",
      "  all_epochs = mne.read_epochs(all_epochs_fname, verbose = False)\n",
      "/var/folders/hp/k3clndsn2sj608qsb4fl5zvr0000gn/T/ipykernel_65989/59187294.py:21: RuntimeWarning: This filename (/Users/Lea/Desktop/PROJECT_DATA_ANALYSIS/MEG_Epochs/theta/Patient22_high_theta_epochs.fif) does not conform to MNE naming conventions. All epochs files should end with -epo.fif, -epo.fif.gz, _epo.fif or _epo.fif.gz\n",
      "  high_epochs = mne.read_epochs(high_epochs_fname, verbose = False)\n",
      "/var/folders/hp/k3clndsn2sj608qsb4fl5zvr0000gn/T/ipykernel_65989/59187294.py:24: RuntimeWarning: This filename (/Users/Lea/Desktop/PROJECT_DATA_ANALYSIS/MEG_Epochs/theta/Patient22_low_theta_epochs.fif) does not conform to MNE naming conventions. All epochs files should end with -epo.fif, -epo.fif.gz, _epo.fif or _epo.fif.gz\n",
      "  low_epochs = mne.read_epochs(low_epochs_fname, verbose = False)\n"
     ]
    },
    {
     "name": "stdout",
     "output_type": "stream",
     "text": [
      "Saved: /Users/Lea/Desktop/PROJECT_DATA_ANALYSIS/virtual_time_series/theta/patient_22_vertex2869_virtual_ts.fif\n",
      "Saved: /Users/Lea/Desktop/PROJECT_DATA_ANALYSIS/virtual_time_series/theta/patient_22_vertex2869_virtual_ts.fif\n",
      "Saved: /Users/Lea/Desktop/PROJECT_DATA_ANALYSIS/virtual_time_series/theta/patient_22_vertex2868_virtual_ts.fif\n",
      "Saved: /Users/Lea/Desktop/PROJECT_DATA_ANALYSIS/virtual_time_series/theta/patient_22_vertex3125_virtual_ts.fif\n",
      "Saved: /Users/Lea/Desktop/PROJECT_DATA_ANALYSIS/virtual_time_series/theta/patient_22_vertex3124_virtual_ts.fif\n",
      "Saved: /Users/Lea/Desktop/PROJECT_DATA_ANALYSIS/virtual_time_series/theta/patient_22_vertex3124_virtual_ts.fif\n",
      "Saved: /Users/Lea/Desktop/PROJECT_DATA_ANALYSIS/virtual_time_series/theta/patient_22_vertex3124_virtual_ts.fif\n",
      "Saved: /Users/Lea/Desktop/PROJECT_DATA_ANALYSIS/virtual_time_series/theta/patient_22_vertex3124_virtual_ts.fif\n",
      "Saved: /Users/Lea/Desktop/PROJECT_DATA_ANALYSIS/virtual_time_series/theta/patient_22_vertex3108_virtual_ts.fif\n",
      "patient_23\n"
     ]
    },
    {
     "name": "stderr",
     "output_type": "stream",
     "text": [
      "/var/folders/hp/k3clndsn2sj608qsb4fl5zvr0000gn/T/ipykernel_65989/59187294.py:4: RuntimeWarning: This filename (/Users/Lea/Desktop/PROJECT_DATA_ANALYSIS/meg/ZQ_patient23/ZQ_EP_SEEG_001_tsss.fif) does not conform to MNE naming conventions. All raw files should end with raw.fif, raw_sss.fif, raw_tsss.fif, _meg.fif, _eeg.fif, _ieeg.fif, raw.fif.gz, raw_sss.fif.gz, raw_tsss.fif.gz, _meg.fif.gz, _eeg.fif.gz or _ieeg.fif.gz\n",
      "  raw = mne.io.read_raw_fif(raw_fname, verbose = False)\n",
      "/var/folders/hp/k3clndsn2sj608qsb4fl5zvr0000gn/T/ipykernel_65989/59187294.py:18: RuntimeWarning: This filename (/Users/Lea/Desktop/PROJECT_DATA_ANALYSIS/MEG_Epochs/theta/Patient23_all_theta_epochs.fif) does not conform to MNE naming conventions. All epochs files should end with -epo.fif, -epo.fif.gz, _epo.fif or _epo.fif.gz\n",
      "  all_epochs = mne.read_epochs(all_epochs_fname, verbose = False)\n",
      "/var/folders/hp/k3clndsn2sj608qsb4fl5zvr0000gn/T/ipykernel_65989/59187294.py:18: RuntimeWarning: The events passed to the Epochs constructor are not chronologically ordered.\n",
      "  all_epochs = mne.read_epochs(all_epochs_fname, verbose = False)\n",
      "/var/folders/hp/k3clndsn2sj608qsb4fl5zvr0000gn/T/ipykernel_65989/59187294.py:18: RuntimeWarning: The events passed to the Epochs constructor are not chronologically ordered.\n",
      "  all_epochs = mne.read_epochs(all_epochs_fname, verbose = False)\n",
      "/var/folders/hp/k3clndsn2sj608qsb4fl5zvr0000gn/T/ipykernel_65989/59187294.py:21: RuntimeWarning: This filename (/Users/Lea/Desktop/PROJECT_DATA_ANALYSIS/MEG_Epochs/theta/Patient23_high_theta_epochs.fif) does not conform to MNE naming conventions. All epochs files should end with -epo.fif, -epo.fif.gz, _epo.fif or _epo.fif.gz\n",
      "  high_epochs = mne.read_epochs(high_epochs_fname, verbose = False)\n",
      "/var/folders/hp/k3clndsn2sj608qsb4fl5zvr0000gn/T/ipykernel_65989/59187294.py:24: RuntimeWarning: This filename (/Users/Lea/Desktop/PROJECT_DATA_ANALYSIS/MEG_Epochs/theta/Patient23_low_theta_epochs.fif) does not conform to MNE naming conventions. All epochs files should end with -epo.fif, -epo.fif.gz, _epo.fif or _epo.fif.gz\n",
      "  low_epochs = mne.read_epochs(low_epochs_fname, verbose = False)\n"
     ]
    },
    {
     "name": "stdout",
     "output_type": "stream",
     "text": [
      "Saved: /Users/Lea/Desktop/PROJECT_DATA_ANALYSIS/virtual_time_series/theta/patient_23_vertex3674_virtual_ts.fif\n",
      "Saved: /Users/Lea/Desktop/PROJECT_DATA_ANALYSIS/virtual_time_series/theta/patient_23_vertex3690_virtual_ts.fif\n",
      "Saved: /Users/Lea/Desktop/PROJECT_DATA_ANALYSIS/virtual_time_series/theta/patient_23_vertex3690_virtual_ts.fif\n",
      "patient_25\n"
     ]
    },
    {
     "name": "stderr",
     "output_type": "stream",
     "text": [
      "/var/folders/hp/k3clndsn2sj608qsb4fl5zvr0000gn/T/ipykernel_65989/59187294.py:4: RuntimeWarning: This filename (/Users/Lea/Desktop/PROJECT_DATA_ANALYSIS/meg/WL_patient25/WL_raw_rest_001_tsss.fif) does not conform to MNE naming conventions. All raw files should end with raw.fif, raw_sss.fif, raw_tsss.fif, _meg.fif, _eeg.fif, _ieeg.fif, raw.fif.gz, raw_sss.fif.gz, raw_tsss.fif.gz, _meg.fif.gz, _eeg.fif.gz or _ieeg.fif.gz\n",
      "  raw = mne.io.read_raw_fif(raw_fname, verbose = False)\n",
      "/var/folders/hp/k3clndsn2sj608qsb4fl5zvr0000gn/T/ipykernel_65989/59187294.py:18: RuntimeWarning: This filename (/Users/Lea/Desktop/PROJECT_DATA_ANALYSIS/MEG_Epochs/theta/Patient25_all_theta_epochs.fif) does not conform to MNE naming conventions. All epochs files should end with -epo.fif, -epo.fif.gz, _epo.fif or _epo.fif.gz\n",
      "  all_epochs = mne.read_epochs(all_epochs_fname, verbose = False)\n",
      "/var/folders/hp/k3clndsn2sj608qsb4fl5zvr0000gn/T/ipykernel_65989/59187294.py:18: RuntimeWarning: The events passed to the Epochs constructor are not chronologically ordered.\n",
      "  all_epochs = mne.read_epochs(all_epochs_fname, verbose = False)\n",
      "/var/folders/hp/k3clndsn2sj608qsb4fl5zvr0000gn/T/ipykernel_65989/59187294.py:18: RuntimeWarning: The events passed to the Epochs constructor are not chronologically ordered.\n",
      "  all_epochs = mne.read_epochs(all_epochs_fname, verbose = False)\n",
      "/var/folders/hp/k3clndsn2sj608qsb4fl5zvr0000gn/T/ipykernel_65989/59187294.py:21: RuntimeWarning: This filename (/Users/Lea/Desktop/PROJECT_DATA_ANALYSIS/MEG_Epochs/theta/Patient25_high_theta_epochs.fif) does not conform to MNE naming conventions. All epochs files should end with -epo.fif, -epo.fif.gz, _epo.fif or _epo.fif.gz\n",
      "  high_epochs = mne.read_epochs(high_epochs_fname, verbose = False)\n",
      "/var/folders/hp/k3clndsn2sj608qsb4fl5zvr0000gn/T/ipykernel_65989/59187294.py:24: RuntimeWarning: This filename (/Users/Lea/Desktop/PROJECT_DATA_ANALYSIS/MEG_Epochs/theta/Patient25_low_theta_epochs.fif) does not conform to MNE naming conventions. All epochs files should end with -epo.fif, -epo.fif.gz, _epo.fif or _epo.fif.gz\n",
      "  low_epochs = mne.read_epochs(low_epochs_fname, verbose = False)\n"
     ]
    },
    {
     "name": "stdout",
     "output_type": "stream",
     "text": [
      "Saved: /Users/Lea/Desktop/PROJECT_DATA_ANALYSIS/virtual_time_series/theta/patient_25_vertex5669_virtual_ts.fif\n",
      "Saved: /Users/Lea/Desktop/PROJECT_DATA_ANALYSIS/virtual_time_series/theta/patient_25_vertex5650_virtual_ts.fif\n"
     ]
    }
   ],
   "source": [
    "for subject, path in raw_paths.items():\n",
    "    mne.set_log_level('ERROR')\n",
    "    raw_fname = op.abspath( raw_paths[subject])\n",
    "    raw = mne.io.read_raw_fif(raw_fname, verbose = False)\n",
    "    info = raw.info\n",
    "\n",
    "    base_subject = subject.split(\"_part\")[0] \n",
    "    print(base_subject)\n",
    "  \n",
    "    \n",
    "    data_path = op.abspath(\"/Users/Lea/Desktop/PROJECT_DATA_ANALYSIS\")\n",
    "    subjects_dir = op.join(data_path, \"freesurfer\", \"recons\")\n",
    "    coreg_fname = op.abspath(coregs_files[subject])\n",
    "    coreg = mne.read_trans(coreg_fname, verbose = False)\n",
    "\n",
    "    #improt 3 sets of epochs\n",
    "    all_epochs_fname = op.abspath(all_epochs_files[subject])\n",
    "    all_epochs = mne.read_epochs(all_epochs_fname, verbose = False)\n",
    "\n",
    "    high_epochs_fname = op.abspath(high_epochs_files[subject])\n",
    "    high_epochs = mne.read_epochs(high_epochs_fname, verbose = False)\n",
    "\n",
    "    low_epochs_fname = op.abspath(low_epochs_files[subject])\n",
    "    low_epochs = mne.read_epochs(low_epochs_fname, verbose = False)\n",
    "\n",
    "    #filter in the ripple band\n",
    "    all_epochs = all_epochs.filter(80, 150, verbose = False )\n",
    "    high_epochs = high_epochs.filter(80, 150, verbose = False)\n",
    "    low_epochs = low_epochs.filter(80, 150, verbose = False)\n",
    "\n",
    "    #prepare source space\n",
    "    surface = op.join(subjects_dir, base_subject , \"bem\" , \"inner_skull.surf\")\n",
    "    src = mne.setup_volume_source_space(\n",
    "    base_subject, subjects_dir=subjects_dir, pos=10.0, surface=surface, add_interpolator=False, verbose = False\n",
    "    )  \n",
    "\n",
    "    conductivity = (0.3,)\n",
    "    model = mne.make_bem_model(\n",
    "    subject=base_subject, ico=4, conductivity=conductivity, subjects_dir=subjects_dir, verbose = False\n",
    "    )\n",
    "    bem = mne.make_bem_solution(model, verbose = False)\n",
    "\n",
    "    #compute forward solution \n",
    "    fwd = mne.make_forward_solution(\n",
    "        raw_fname,\n",
    "        trans=coreg,\n",
    "        src=src,\n",
    "        bem= bem,\n",
    "        meg=True,\n",
    "        eeg=False,\n",
    "        mindist=5.0,\n",
    "        n_jobs=None,\n",
    "        verbose=False,\n",
    "        )\n",
    "    #prepare covariance matrix\n",
    "    rank = mne.compute_rank(all_epochs, tol=1e-6, tol_kind=\"relative\", verbose = False)\n",
    "    active_win = (0, 0.3)\n",
    "    baseline_win = (0, 0.3)\n",
    "    common_win = (0, 0.3)\n",
    "\n",
    "    #epochs of no SWRs\n",
    "    baseline_cov = compute_covariance(\n",
    "        low_epochs,\n",
    "        tmin=baseline_win[0],\n",
    "        tmax=baseline_win[1],\n",
    "        method=\"shrunk\",\n",
    "        rank=rank,\n",
    "        verbose=False,\n",
    "    )\n",
    "    #epochs of SWRs\n",
    "    active_cov = compute_covariance(\n",
    "        high_epochs,\n",
    "        tmin=active_win[0],\n",
    "        tmax=active_win[1],\n",
    "        method=\"shrunk\",\n",
    "        rank=rank,\n",
    "        verbose=False,\n",
    "    )\n",
    "\n",
    "    #epochs of both\n",
    "    cov = compute_covariance(\n",
    "        all_epochs,\n",
    "        tmin=common_win[0],\n",
    "        tmax=common_win[1],\n",
    "        method=\"shrunk\",\n",
    "        rank=rank,\n",
    "        verbose=False,\n",
    "    )\n",
    "\n",
    "    noise_cov = mne.make_ad_hoc_cov(all_epochs.info, verbose = False) \n",
    "\n",
    "    \n",
    "    \n",
    "\n",
    "    filters = make_lcmv(\n",
    "        all_epochs.info, fwd, cov,\n",
    "        reg=0.05, noise_cov = noise_cov,\n",
    "        pick_ori=\"max-power\", \n",
    "        weight_norm= None, \n",
    "        verbose = False\n",
    "    )\n",
    "\n",
    "    #get raw data\n",
    "    raw.pick_types(meg= True)\n",
    "    raw_data = raw.get_data()\n",
    "    sfreq = raw.info['sfreq']\n",
    "\n",
    "    #get vertices from beamformer\n",
    "    filter_vertices = filters['vertices'][0]\n",
    "    filter_weights = filters['weights']\n",
    "\n",
    "    #mind the target vertices\n",
    "    if subject in selected_vertices:\n",
    "        target_vertices = selected_vertices[subject]\n",
    "        for vertex in target_vertices:\n",
    "            try:\n",
    "                # Find position of this vertex in filter_vertices\n",
    "                idx = np.where(filter_vertices == vertex)[0][0]\n",
    "                filt = filter_weights[idx]  # spatial filter for this vertex\n",
    "\n",
    "                # Compute virtual channel time series\n",
    "                virtual_ts = np.dot(filt, raw_data)  # shape: (n_times,)\n",
    "\n",
    "                # Optionally save or process virtual_ts\n",
    "                output_dir = \"/Users/Lea/Desktop/PROJECT_DATA_ANALYSIS/virtual_time_series/theta\"\n",
    "                # Create MNE RawArray object\n",
    "                ch_name = f\"VE_{vertex}\"\n",
    "                info = mne.create_info([ch_name], sfreq=sfreq, ch_types=['misc'])\n",
    "                raw_virtual = mne.io.RawArray(virtual_ts[np.newaxis, :], info)\n",
    "\n",
    "                # Save to .fif\n",
    "                fif_path = op.join(output_dir, f\"{subject}_vertex{vertex}_virtual_ts.fif\")\n",
    "                raw_virtual.save(fif_path, overwrite=True)\n",
    "                print(f\"Saved: {fif_path}\")\n",
    "\n",
    "            except IndexError:\n",
    "                print(f\"{subject} | Vertex {vertex} not found in filters — skipping.\")\n",
    "    else:\n",
    "        print(f\"{subject} not in vertex_dict — skipping.\")\n",
    "    \n",
    "\n",
    "    \n",
    "\n",
    "\n",
    "\n"
   ]
  }
 ],
 "metadata": {
  "kernelspec": {
   "display_name": "venv",
   "language": "python",
   "name": "python3"
  },
  "language_info": {
   "codemirror_mode": {
    "name": "ipython",
    "version": 3
   },
   "file_extension": ".py",
   "mimetype": "text/x-python",
   "name": "python",
   "nbconvert_exporter": "python",
   "pygments_lexer": "ipython3",
   "version": "3.13.0"
  }
 },
 "nbformat": 4,
 "nbformat_minor": 2
}
