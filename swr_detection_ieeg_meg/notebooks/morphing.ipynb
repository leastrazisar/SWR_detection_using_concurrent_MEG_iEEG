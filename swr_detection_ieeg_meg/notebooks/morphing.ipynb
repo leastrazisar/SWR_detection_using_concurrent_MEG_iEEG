{
 "cells": [
  {
   "cell_type": "code",
   "execution_count": 5,
   "metadata": {},
   "outputs": [],
   "source": [
    "#morph volumetric estimates\n",
    "import os.path as op\n",
    "import mne\n",
    "\n",
    "\n",
    "\n",
    "import nibabel as nib\n",
    "from nilearn.plotting import plot_glass_brain\n",
    "\n",
    "\n",
    "\n",
    "\n",
    "\n"
   ]
  },
  {
   "cell_type": "code",
   "execution_count": 6,
   "metadata": {},
   "outputs": [],
   "source": [
    "subjects = ['patient_05_part1L',\n",
    "            'patient_05_part1R',\n",
    "            'patient_05_part2L',\n",
    "            'patient_05_part2R',\n",
    "            'patient_06',\n",
    "            'patient_08',\n",
    "            'patient_10',\n",
    "            'patient_11_part1',\n",
    "            'patient_11_part2',\n",
    "            'patient_13',\n",
    "            'patient_14_part1_left',\n",
    "            'patient_14_part2_left',\n",
    "            'patient_14_part1_right',\n",
    "            'patient_14_part2_right',\n",
    "            'patient_16',\n",
    "            'patient_17',\n",
    "            'patient_21',\n",
    "            'patient_22',\n",
    "            'patient_23',\n",
    "            'patient_25',\n",
    "            ]"
   ]
  },
  {
   "cell_type": "code",
   "execution_count": 7,
   "metadata": {},
   "outputs": [],
   "source": [
    "target_subject = \"fsaverage\"\n",
    "data_path = \"/Users/Lea/Desktop/PROJECT_DATA_ANALYSIS\"\n",
    "subjects_dir = op.join(data_path, \"freesurfer\", \"recons\")"
   ]
  },
  {
   "cell_type": "code",
   "execution_count": 8,
   "metadata": {},
   "outputs": [
    {
     "name": "stdout",
     "output_type": "stream",
     "text": [
      "Boundary surface file : /Users/Lea/Desktop/PROJECT_DATA_ANALYSIS/freesurfer/recons/patient_05/bem/inner_skull.surf\n",
      "grid                  : 10.0 mm\n",
      "mindist               : 5.0 mm\n",
      "MRI volume            : /Users/Lea/Desktop/PROJECT_DATA_ANALYSIS/freesurfer/recons/patient_05/mri/T1.mgz\n",
      "\n",
      "Reading /Users/Lea/Desktop/PROJECT_DATA_ANALYSIS/freesurfer/recons/patient_05/mri/T1.mgz...\n",
      "\n",
      "Loaded bounding surface from /Users/Lea/Desktop/PROJECT_DATA_ANALYSIS/freesurfer/recons/patient_05/bem/inner_skull.surf (10242 nodes)\n",
      "Surface CM = (   0.6  -16.9   16.6) mm\n",
      "Surface fits inside a sphere with radius   96.0 mm\n",
      "Surface extent:\n",
      "    x =  -76.5 ...   76.1 mm\n",
      "    y =  -98.7 ...   78.7 mm\n",
      "    z =  -56.6 ...   85.9 mm\n",
      "Grid extent:\n",
      "    x =  -80.0 ...   80.0 mm\n",
      "    y = -100.0 ...   80.0 mm\n",
      "    z =  -60.0 ...   90.0 mm\n",
      "5168 sources before omitting any.\n",
      "3485 sources after omitting infeasible sources not within 0.0 - 96.0 mm.\n",
      "Source spaces are in MRI coordinates.\n",
      "Checking that the sources are inside the surface and at least    5.0 mm away (will take a few...)\n",
      "Checking surface interior status for 3485 points...\n",
      "    Found  450/3485 points inside  an interior sphere of radius   47.6 mm\n",
      "    Found    0/3485 points outside an exterior sphere of radius   96.0 mm\n",
      "    Found 1603/3035 points outside using surface Qhull\n",
      "    Found   79/1432 points outside using solid angles\n",
      "    Total 1803/3485 points inside the surface\n",
      "Interior check completed in 4121.3 ms\n",
      "    1682 source space points omitted because they are outside the inner skull surface.\n",
      "    350 source space points omitted because of the    5.0-mm distance limit.\n",
      "1453 sources remaining after excluding the sources outside the surface and less than    5.0 mm inside.\n",
      "Adjusting the neighborhood info.\n",
      "Source space : MRI voxel -> MRI (surface RAS)\n",
      "    0.010000 0.000000 0.000000     -80.00 mm\n",
      "    0.000000 0.010000 0.000000    -100.00 mm\n",
      "    0.000000 0.000000 0.010000     -60.00 mm\n",
      "    0.000000 0.000000 0.000000       1.00\n",
      "MRI volume : MRI voxel -> MRI (surface RAS)\n",
      "    -0.001000 0.000000 0.000000     128.00 mm\n",
      "    0.000000 0.000000 0.001000    -128.00 mm\n",
      "    0.000000 -0.001000 0.000000     128.00 mm\n",
      "    0.000000 0.000000 0.000000       1.00\n",
      "MRI volume : MRI (surface RAS) -> RAS (non-zero origin)\n",
      "    1.000000 0.000000 0.000000       1.30 mm\n",
      "    0.000000 1.000000 0.000000      -7.19 mm\n",
      "    0.000000 0.000000 1.000000       0.77 mm\n",
      "    0.000000 0.000000 0.000000       1.00\n",
      "Setting up volume interpolation ...\n",
      "    13498189/16777216 nonzero values for the whole brain\n",
      "[done]\n",
      "Volume source space(s) present...\n",
      "    Loading /Users/Lea/Desktop/PROJECT_DATA_ANALYSIS/freesurfer/recons/patient_05/mri/brain.mgz as \"from\" volume\n",
      "    Loading /Users/Lea/Desktop/PROJECT_DATA_ANALYSIS/freesurfer/recons/fsaverage/mri/brain.mgz as \"to\" volume\n",
      "Computing registration...\n",
      "Reslicing to zooms=(5.0, 5.0, 5.0) for translation ...\n",
      "Optimizing translation:\n",
      "    Optimizing level 2 [max iter: 100]\n",
      "    Optimizing level 1 [max iter: 100]\n",
      "    Optimizing level 0 [max iter: 10]\n",
      "    Translation:    8.7 mm\n",
      "    R²:            93.4%\n",
      "Optimizing rigid:\n",
      "    Optimizing level 2 [max iter: 100]\n",
      "    Optimizing level 1 [max iter: 100]\n",
      "    Optimizing level 0 [max iter: 10]\n",
      "    Translation:    8.7 mm\n",
      "    Rotation:       0.9°\n",
      "    R²:            93.5%\n",
      "Optimizing affine:\n",
      "    Optimizing level 2 [max iter: 100]\n",
      "    Optimizing level 1 [max iter: 100]\n",
      "    Optimizing level 0 [max iter: 10]\n",
      "    R²:            94.7%\n",
      "Optimizing sdr:\n",
      "    R²:            97.8%\n",
      "Computing nonzero vertices after morph ...\n",
      "[done]\n"
     ]
    },
    {
     "data": {
      "application/vnd.jupyter.widget-view+json": {
       "model_id": "c15520fe720141579b79e7037e12d33f",
       "version_major": 2,
       "version_minor": 0
      },
      "text/plain": [
       "  0%|          | Time : 0/1 [00:00<?,       ?it/s]"
      ]
     },
     "metadata": {},
     "output_type": "display_data"
    },
    {
     "name": "stdout",
     "output_type": "stream",
     "text": [
      "Writing STC to disk...\n",
      "Overwriting existing file.\n",
      "[done]\n"
     ]
    },
    {
     "data": {
      "application/vnd.jupyter.widget-view+json": {
       "model_id": "a44260be2ca34a158916039896aed64d",
       "version_major": 2,
       "version_minor": 0
      },
      "text/plain": [
       "  0%|          | Time : 0/1 [00:00<?,       ?it/s]"
      ]
     },
     "metadata": {},
     "output_type": "display_data"
    },
    {
     "name": "stdout",
     "output_type": "stream",
     "text": [
      "Boundary surface file : /Users/Lea/Desktop/PROJECT_DATA_ANALYSIS/freesurfer/recons/patient_05/bem/inner_skull.surf\n",
      "grid                  : 10.0 mm\n",
      "mindist               : 5.0 mm\n",
      "MRI volume            : /Users/Lea/Desktop/PROJECT_DATA_ANALYSIS/freesurfer/recons/patient_05/mri/T1.mgz\n",
      "\n",
      "Reading /Users/Lea/Desktop/PROJECT_DATA_ANALYSIS/freesurfer/recons/patient_05/mri/T1.mgz...\n",
      "\n",
      "Loaded bounding surface from /Users/Lea/Desktop/PROJECT_DATA_ANALYSIS/freesurfer/recons/patient_05/bem/inner_skull.surf (10242 nodes)\n",
      "Surface CM = (   0.6  -16.9   16.6) mm\n",
      "Surface fits inside a sphere with radius   96.0 mm\n",
      "Surface extent:\n",
      "    x =  -76.5 ...   76.1 mm\n",
      "    y =  -98.7 ...   78.7 mm\n",
      "    z =  -56.6 ...   85.9 mm\n",
      "Grid extent:\n",
      "    x =  -80.0 ...   80.0 mm\n",
      "    y = -100.0 ...   80.0 mm\n",
      "    z =  -60.0 ...   90.0 mm\n",
      "5168 sources before omitting any.\n",
      "3485 sources after omitting infeasible sources not within 0.0 - 96.0 mm.\n",
      "Source spaces are in MRI coordinates.\n",
      "Checking that the sources are inside the surface and at least    5.0 mm away (will take a few...)\n",
      "Checking surface interior status for 3485 points...\n",
      "    Found  450/3485 points inside  an interior sphere of radius   47.6 mm\n",
      "    Found    0/3485 points outside an exterior sphere of radius   96.0 mm\n",
      "    Found 1603/3035 points outside using surface Qhull\n",
      "    Found   79/1432 points outside using solid angles\n",
      "    Total 1803/3485 points inside the surface\n",
      "Interior check completed in 3863.6 ms\n",
      "    1682 source space points omitted because they are outside the inner skull surface.\n",
      "    350 source space points omitted because of the    5.0-mm distance limit.\n",
      "1453 sources remaining after excluding the sources outside the surface and less than    5.0 mm inside.\n",
      "Adjusting the neighborhood info.\n",
      "Source space : MRI voxel -> MRI (surface RAS)\n",
      "    0.010000 0.000000 0.000000     -80.00 mm\n",
      "    0.000000 0.010000 0.000000    -100.00 mm\n",
      "    0.000000 0.000000 0.010000     -60.00 mm\n",
      "    0.000000 0.000000 0.000000       1.00\n",
      "MRI volume : MRI voxel -> MRI (surface RAS)\n",
      "    -0.001000 0.000000 0.000000     128.00 mm\n",
      "    0.000000 0.000000 0.001000    -128.00 mm\n",
      "    0.000000 -0.001000 0.000000     128.00 mm\n",
      "    0.000000 0.000000 0.000000       1.00\n",
      "MRI volume : MRI (surface RAS) -> RAS (non-zero origin)\n",
      "    1.000000 0.000000 0.000000       1.30 mm\n",
      "    0.000000 1.000000 0.000000      -7.19 mm\n",
      "    0.000000 0.000000 1.000000       0.77 mm\n",
      "    0.000000 0.000000 0.000000       1.00\n",
      "Setting up volume interpolation ...\n",
      "    13498189/16777216 nonzero values for the whole brain\n",
      "[done]\n",
      "Volume source space(s) present...\n",
      "    Loading /Users/Lea/Desktop/PROJECT_DATA_ANALYSIS/freesurfer/recons/patient_05/mri/brain.mgz as \"from\" volume\n",
      "    Loading /Users/Lea/Desktop/PROJECT_DATA_ANALYSIS/freesurfer/recons/fsaverage/mri/brain.mgz as \"to\" volume\n",
      "Computing registration...\n",
      "Reslicing to zooms=(5.0, 5.0, 5.0) for translation ...\n",
      "Optimizing translation:\n",
      "    Optimizing level 2 [max iter: 100]\n",
      "    Optimizing level 1 [max iter: 100]\n",
      "    Optimizing level 0 [max iter: 10]\n",
      "    Translation:    8.7 mm\n",
      "    R²:            93.4%\n",
      "Optimizing rigid:\n",
      "    Optimizing level 2 [max iter: 100]\n",
      "    Optimizing level 1 [max iter: 100]\n",
      "    Optimizing level 0 [max iter: 10]\n",
      "    Translation:    8.7 mm\n",
      "    Rotation:       0.9°\n",
      "    R²:            93.5%\n",
      "Optimizing affine:\n",
      "    Optimizing level 2 [max iter: 100]\n",
      "    Optimizing level 1 [max iter: 100]\n",
      "    Optimizing level 0 [max iter: 10]\n",
      "    R²:            94.7%\n",
      "Optimizing sdr:\n",
      "    R²:            97.8%\n",
      "Computing nonzero vertices after morph ...\n",
      "[done]\n"
     ]
    },
    {
     "data": {
      "application/vnd.jupyter.widget-view+json": {
       "model_id": "9f8bdcc0598f48fcb09a14bf355b2597",
       "version_major": 2,
       "version_minor": 0
      },
      "text/plain": [
       "  0%|          | Time : 0/1 [00:00<?,       ?it/s]"
      ]
     },
     "metadata": {},
     "output_type": "display_data"
    },
    {
     "name": "stdout",
     "output_type": "stream",
     "text": [
      "Writing STC to disk...\n",
      "Overwriting existing file.\n",
      "[done]\n"
     ]
    },
    {
     "data": {
      "application/vnd.jupyter.widget-view+json": {
       "model_id": "251b13c8eb68481c8ba351d3d7388f87",
       "version_major": 2,
       "version_minor": 0
      },
      "text/plain": [
       "  0%|          | Time : 0/1 [00:00<?,       ?it/s]"
      ]
     },
     "metadata": {},
     "output_type": "display_data"
    },
    {
     "name": "stdout",
     "output_type": "stream",
     "text": [
      "Boundary surface file : /Users/Lea/Desktop/PROJECT_DATA_ANALYSIS/freesurfer/recons/patient_05/bem/inner_skull.surf\n",
      "grid                  : 10.0 mm\n",
      "mindist               : 5.0 mm\n",
      "MRI volume            : /Users/Lea/Desktop/PROJECT_DATA_ANALYSIS/freesurfer/recons/patient_05/mri/T1.mgz\n",
      "\n",
      "Reading /Users/Lea/Desktop/PROJECT_DATA_ANALYSIS/freesurfer/recons/patient_05/mri/T1.mgz...\n",
      "\n",
      "Loaded bounding surface from /Users/Lea/Desktop/PROJECT_DATA_ANALYSIS/freesurfer/recons/patient_05/bem/inner_skull.surf (10242 nodes)\n",
      "Surface CM = (   0.6  -16.9   16.6) mm\n",
      "Surface fits inside a sphere with radius   96.0 mm\n",
      "Surface extent:\n",
      "    x =  -76.5 ...   76.1 mm\n",
      "    y =  -98.7 ...   78.7 mm\n",
      "    z =  -56.6 ...   85.9 mm\n",
      "Grid extent:\n",
      "    x =  -80.0 ...   80.0 mm\n",
      "    y = -100.0 ...   80.0 mm\n",
      "    z =  -60.0 ...   90.0 mm\n",
      "5168 sources before omitting any.\n",
      "3485 sources after omitting infeasible sources not within 0.0 - 96.0 mm.\n",
      "Source spaces are in MRI coordinates.\n",
      "Checking that the sources are inside the surface and at least    5.0 mm away (will take a few...)\n",
      "Checking surface interior status for 3485 points...\n",
      "    Found  450/3485 points inside  an interior sphere of radius   47.6 mm\n",
      "    Found    0/3485 points outside an exterior sphere of radius   96.0 mm\n",
      "    Found 1603/3035 points outside using surface Qhull\n",
      "    Found   79/1432 points outside using solid angles\n",
      "    Total 1803/3485 points inside the surface\n",
      "Interior check completed in 7205.6 ms\n",
      "    1682 source space points omitted because they are outside the inner skull surface.\n",
      "    350 source space points omitted because of the    5.0-mm distance limit.\n",
      "1453 sources remaining after excluding the sources outside the surface and less than    5.0 mm inside.\n",
      "Adjusting the neighborhood info.\n",
      "Source space : MRI voxel -> MRI (surface RAS)\n",
      "    0.010000 0.000000 0.000000     -80.00 mm\n",
      "    0.000000 0.010000 0.000000    -100.00 mm\n",
      "    0.000000 0.000000 0.010000     -60.00 mm\n",
      "    0.000000 0.000000 0.000000       1.00\n",
      "MRI volume : MRI voxel -> MRI (surface RAS)\n",
      "    -0.001000 0.000000 0.000000     128.00 mm\n",
      "    0.000000 0.000000 0.001000    -128.00 mm\n",
      "    0.000000 -0.001000 0.000000     128.00 mm\n",
      "    0.000000 0.000000 0.000000       1.00\n",
      "MRI volume : MRI (surface RAS) -> RAS (non-zero origin)\n",
      "    1.000000 0.000000 0.000000       1.30 mm\n",
      "    0.000000 1.000000 0.000000      -7.19 mm\n",
      "    0.000000 0.000000 1.000000       0.77 mm\n",
      "    0.000000 0.000000 0.000000       1.00\n",
      "Setting up volume interpolation ...\n",
      "    13498189/16777216 nonzero values for the whole brain\n",
      "[done]\n",
      "Volume source space(s) present...\n",
      "    Loading /Users/Lea/Desktop/PROJECT_DATA_ANALYSIS/freesurfer/recons/patient_05/mri/brain.mgz as \"from\" volume\n",
      "    Loading /Users/Lea/Desktop/PROJECT_DATA_ANALYSIS/freesurfer/recons/fsaverage/mri/brain.mgz as \"to\" volume\n",
      "Computing registration...\n",
      "Reslicing to zooms=(5.0, 5.0, 5.0) for translation ...\n",
      "Optimizing translation:\n",
      "    Optimizing level 2 [max iter: 100]\n",
      "    Optimizing level 1 [max iter: 100]\n",
      "    Optimizing level 0 [max iter: 10]\n",
      "    Translation:    8.7 mm\n",
      "    R²:            93.4%\n",
      "Optimizing rigid:\n",
      "    Optimizing level 2 [max iter: 100]\n",
      "    Optimizing level 1 [max iter: 100]\n",
      "    Optimizing level 0 [max iter: 10]\n",
      "    Translation:    8.7 mm\n",
      "    Rotation:       0.9°\n",
      "    R²:            93.5%\n",
      "Optimizing affine:\n",
      "    Optimizing level 2 [max iter: 100]\n",
      "    Optimizing level 1 [max iter: 100]\n",
      "    Optimizing level 0 [max iter: 10]\n",
      "    R²:            94.7%\n",
      "Optimizing sdr:\n",
      "    R²:            97.8%\n",
      "Computing nonzero vertices after morph ...\n",
      "[done]\n"
     ]
    },
    {
     "data": {
      "application/vnd.jupyter.widget-view+json": {
       "model_id": "80d7cf66752f4e8e9479a397e0bbf372",
       "version_major": 2,
       "version_minor": 0
      },
      "text/plain": [
       "  0%|          | Time : 0/1 [00:00<?,       ?it/s]"
      ]
     },
     "metadata": {},
     "output_type": "display_data"
    },
    {
     "name": "stdout",
     "output_type": "stream",
     "text": [
      "Writing STC to disk...\n",
      "Overwriting existing file.\n",
      "[done]\n"
     ]
    },
    {
     "data": {
      "application/vnd.jupyter.widget-view+json": {
       "model_id": "7002f350126544309917c0869591aff5",
       "version_major": 2,
       "version_minor": 0
      },
      "text/plain": [
       "  0%|          | Time : 0/1 [00:00<?,       ?it/s]"
      ]
     },
     "metadata": {},
     "output_type": "display_data"
    },
    {
     "name": "stdout",
     "output_type": "stream",
     "text": [
      "Boundary surface file : /Users/Lea/Desktop/PROJECT_DATA_ANALYSIS/freesurfer/recons/patient_05/bem/inner_skull.surf\n",
      "grid                  : 10.0 mm\n",
      "mindist               : 5.0 mm\n",
      "MRI volume            : /Users/Lea/Desktop/PROJECT_DATA_ANALYSIS/freesurfer/recons/patient_05/mri/T1.mgz\n",
      "\n",
      "Reading /Users/Lea/Desktop/PROJECT_DATA_ANALYSIS/freesurfer/recons/patient_05/mri/T1.mgz...\n",
      "\n",
      "Loaded bounding surface from /Users/Lea/Desktop/PROJECT_DATA_ANALYSIS/freesurfer/recons/patient_05/bem/inner_skull.surf (10242 nodes)\n",
      "Surface CM = (   0.6  -16.9   16.6) mm\n",
      "Surface fits inside a sphere with radius   96.0 mm\n",
      "Surface extent:\n",
      "    x =  -76.5 ...   76.1 mm\n",
      "    y =  -98.7 ...   78.7 mm\n",
      "    z =  -56.6 ...   85.9 mm\n",
      "Grid extent:\n",
      "    x =  -80.0 ...   80.0 mm\n",
      "    y = -100.0 ...   80.0 mm\n",
      "    z =  -60.0 ...   90.0 mm\n",
      "5168 sources before omitting any.\n",
      "3485 sources after omitting infeasible sources not within 0.0 - 96.0 mm.\n",
      "Source spaces are in MRI coordinates.\n",
      "Checking that the sources are inside the surface and at least    5.0 mm away (will take a few...)\n",
      "Checking surface interior status for 3485 points...\n",
      "    Found  450/3485 points inside  an interior sphere of radius   47.6 mm\n",
      "    Found    0/3485 points outside an exterior sphere of radius   96.0 mm\n",
      "    Found 1603/3035 points outside using surface Qhull\n",
      "    Found   79/1432 points outside using solid angles\n",
      "    Total 1803/3485 points inside the surface\n",
      "Interior check completed in 2678.3 ms\n",
      "    1682 source space points omitted because they are outside the inner skull surface.\n",
      "    350 source space points omitted because of the    5.0-mm distance limit.\n",
      "1453 sources remaining after excluding the sources outside the surface and less than    5.0 mm inside.\n",
      "Adjusting the neighborhood info.\n",
      "Source space : MRI voxel -> MRI (surface RAS)\n",
      "    0.010000 0.000000 0.000000     -80.00 mm\n",
      "    0.000000 0.010000 0.000000    -100.00 mm\n",
      "    0.000000 0.000000 0.010000     -60.00 mm\n",
      "    0.000000 0.000000 0.000000       1.00\n",
      "MRI volume : MRI voxel -> MRI (surface RAS)\n",
      "    -0.001000 0.000000 0.000000     128.00 mm\n",
      "    0.000000 0.000000 0.001000    -128.00 mm\n",
      "    0.000000 -0.001000 0.000000     128.00 mm\n",
      "    0.000000 0.000000 0.000000       1.00\n",
      "MRI volume : MRI (surface RAS) -> RAS (non-zero origin)\n",
      "    1.000000 0.000000 0.000000       1.30 mm\n",
      "    0.000000 1.000000 0.000000      -7.19 mm\n",
      "    0.000000 0.000000 1.000000       0.77 mm\n",
      "    0.000000 0.000000 0.000000       1.00\n",
      "Setting up volume interpolation ...\n",
      "    13498189/16777216 nonzero values for the whole brain\n",
      "[done]\n",
      "Volume source space(s) present...\n",
      "    Loading /Users/Lea/Desktop/PROJECT_DATA_ANALYSIS/freesurfer/recons/patient_05/mri/brain.mgz as \"from\" volume\n",
      "    Loading /Users/Lea/Desktop/PROJECT_DATA_ANALYSIS/freesurfer/recons/fsaverage/mri/brain.mgz as \"to\" volume\n",
      "Computing registration...\n",
      "Reslicing to zooms=(5.0, 5.0, 5.0) for translation ...\n",
      "Optimizing translation:\n",
      "    Optimizing level 2 [max iter: 100]\n",
      "    Optimizing level 1 [max iter: 100]\n",
      "    Optimizing level 0 [max iter: 10]\n",
      "    Translation:    8.7 mm\n",
      "    R²:            93.4%\n",
      "Optimizing rigid:\n",
      "    Optimizing level 2 [max iter: 100]\n",
      "    Optimizing level 1 [max iter: 100]\n",
      "    Optimizing level 0 [max iter: 10]\n",
      "    Translation:    8.7 mm\n",
      "    Rotation:       0.9°\n",
      "    R²:            93.5%\n",
      "Optimizing affine:\n",
      "    Optimizing level 2 [max iter: 100]\n",
      "    Optimizing level 1 [max iter: 100]\n",
      "    Optimizing level 0 [max iter: 10]\n",
      "    R²:            94.7%\n",
      "Optimizing sdr:\n",
      "    R²:            97.8%\n",
      "Computing nonzero vertices after morph ...\n",
      "[done]\n"
     ]
    },
    {
     "data": {
      "application/vnd.jupyter.widget-view+json": {
       "model_id": "498ed7448c0249c59924f7a8e0f81ecd",
       "version_major": 2,
       "version_minor": 0
      },
      "text/plain": [
       "  0%|          | Time : 0/1 [00:00<?,       ?it/s]"
      ]
     },
     "metadata": {},
     "output_type": "display_data"
    },
    {
     "name": "stdout",
     "output_type": "stream",
     "text": [
      "Writing STC to disk...\n",
      "Overwriting existing file.\n",
      "[done]\n"
     ]
    },
    {
     "data": {
      "application/vnd.jupyter.widget-view+json": {
       "model_id": "97f0904dbbf847d79411eaa0b0109516",
       "version_major": 2,
       "version_minor": 0
      },
      "text/plain": [
       "  0%|          | Time : 0/1 [00:00<?,       ?it/s]"
      ]
     },
     "metadata": {},
     "output_type": "display_data"
    },
    {
     "name": "stdout",
     "output_type": "stream",
     "text": [
      "Boundary surface file : /Users/Lea/Desktop/PROJECT_DATA_ANALYSIS/freesurfer/recons/patient_06/bem/inner_skull.surf\n",
      "grid                  : 10.0 mm\n",
      "mindist               : 5.0 mm\n",
      "MRI volume            : /Users/Lea/Desktop/PROJECT_DATA_ANALYSIS/freesurfer/recons/patient_06/mri/T1.mgz\n",
      "\n",
      "Reading /Users/Lea/Desktop/PROJECT_DATA_ANALYSIS/freesurfer/recons/patient_06/mri/T1.mgz...\n",
      "\n",
      "Loaded bounding surface from /Users/Lea/Desktop/PROJECT_DATA_ANALYSIS/freesurfer/recons/patient_06/bem/inner_skull.surf (10242 nodes)\n",
      "Surface CM = (   1.4  -12.3   27.7) mm\n",
      "Surface fits inside a sphere with radius   93.4 mm\n",
      "Surface extent:\n",
      "    x =  -72.6 ...   72.8 mm\n",
      "    y =  -89.8 ...   78.7 mm\n",
      "    z =  -43.2 ...   93.1 mm\n",
      "Grid extent:\n",
      "    x =  -80.0 ...   80.0 mm\n",
      "    y =  -90.0 ...   80.0 mm\n",
      "    z =  -50.0 ...  100.0 mm\n",
      "4896 sources before omitting any.\n",
      "3242 sources after omitting infeasible sources not within 0.0 - 93.4 mm.\n",
      "Source spaces are in MRI coordinates.\n",
      "Checking that the sources are inside the surface and at least    5.0 mm away (will take a few...)\n",
      "Checking surface interior status for 3242 points...\n",
      "    Found  282/3242 points inside  an interior sphere of radius   40.5 mm\n",
      "    Found    0/3242 points outside an exterior sphere of radius   93.4 mm\n",
      "    Found 1594/2960 points outside using surface Qhull\n",
      "    Found  115/1366 points outside using solid angles\n",
      "    Total 1533/3242 points inside the surface\n",
      "Interior check completed in 4838.7 ms\n",
      "    1709 source space points omitted because they are outside the inner skull surface.\n",
      "    305 source space points omitted because of the    5.0-mm distance limit.\n",
      "1228 sources remaining after excluding the sources outside the surface and less than    5.0 mm inside.\n",
      "Adjusting the neighborhood info.\n",
      "Source space : MRI voxel -> MRI (surface RAS)\n",
      "    0.010000 0.000000 0.000000     -80.00 mm\n",
      "    0.000000 0.010000 0.000000     -90.00 mm\n",
      "    0.000000 0.000000 0.010000     -50.00 mm\n",
      "    0.000000 0.000000 0.000000       1.00\n",
      "MRI volume : MRI voxel -> MRI (surface RAS)\n",
      "    -0.001000 0.000000 0.000000     128.00 mm\n",
      "    0.000000 0.000000 0.001000    -128.00 mm\n",
      "    0.000000 -0.001000 0.000000     128.00 mm\n",
      "    0.000000 0.000000 0.000000       1.00\n",
      "MRI volume : MRI (surface RAS) -> RAS (non-zero origin)\n",
      "    1.000000 0.000000 0.000000       1.71 mm\n",
      "    0.000000 1.000000 0.000000     -10.59 mm\n",
      "    0.000000 0.000000 1.000000      -7.48 mm\n",
      "    0.000000 0.000000 0.000000       1.00\n",
      "Setting up volume interpolation ...\n",
      "    11650666/16777216 nonzero values for the whole brain\n",
      "[done]\n",
      "Volume source space(s) present...\n",
      "    Loading /Users/Lea/Desktop/PROJECT_DATA_ANALYSIS/freesurfer/recons/patient_06/mri/brain.mgz as \"from\" volume\n",
      "    Loading /Users/Lea/Desktop/PROJECT_DATA_ANALYSIS/freesurfer/recons/fsaverage/mri/brain.mgz as \"to\" volume\n",
      "Computing registration...\n",
      "Reslicing to zooms=(5.0, 5.0, 5.0) for translation ...\n",
      "Optimizing translation:\n",
      "    Optimizing level 2 [max iter: 100]\n",
      "    Optimizing level 1 [max iter: 100]\n",
      "    Optimizing level 0 [max iter: 10]\n",
      "    Translation:   14.8 mm\n",
      "    R²:            85.9%\n",
      "Optimizing rigid:\n",
      "    Optimizing level 2 [max iter: 100]\n",
      "    Optimizing level 1 [max iter: 100]\n",
      "    Optimizing level 0 [max iter: 10]\n",
      "    Translation:   14.8 mm\n",
      "    Rotation:       0.1°\n",
      "    R²:            85.9%\n",
      "Optimizing affine:\n",
      "    Optimizing level 2 [max iter: 100]\n",
      "    Optimizing level 1 [max iter: 100]\n",
      "    Optimizing level 0 [max iter: 10]\n",
      "    R²:            95.4%\n",
      "Optimizing sdr:\n",
      "    R²:            98.2%\n",
      "Computing nonzero vertices after morph ...\n",
      "[done]\n"
     ]
    },
    {
     "data": {
      "application/vnd.jupyter.widget-view+json": {
       "model_id": "9a9068838ef2409eb69d0177942510e9",
       "version_major": 2,
       "version_minor": 0
      },
      "text/plain": [
       "  0%|          | Time : 0/1 [00:00<?,       ?it/s]"
      ]
     },
     "metadata": {},
     "output_type": "display_data"
    },
    {
     "name": "stdout",
     "output_type": "stream",
     "text": [
      "Writing STC to disk...\n",
      "Overwriting existing file.\n",
      "[done]\n"
     ]
    },
    {
     "data": {
      "application/vnd.jupyter.widget-view+json": {
       "model_id": "0d4307f5e07b446f8d12a35624ec398c",
       "version_major": 2,
       "version_minor": 0
      },
      "text/plain": [
       "  0%|          | Time : 0/1 [00:00<?,       ?it/s]"
      ]
     },
     "metadata": {},
     "output_type": "display_data"
    },
    {
     "name": "stdout",
     "output_type": "stream",
     "text": [
      "Boundary surface file : /Users/Lea/Desktop/PROJECT_DATA_ANALYSIS/freesurfer/recons/patient_08/bem/inner_skull.surf\n",
      "grid                  : 10.0 mm\n",
      "mindist               : 5.0 mm\n",
      "MRI volume            : /Users/Lea/Desktop/PROJECT_DATA_ANALYSIS/freesurfer/recons/patient_08/mri/T1.mgz\n",
      "\n",
      "Reading /Users/Lea/Desktop/PROJECT_DATA_ANALYSIS/freesurfer/recons/patient_08/mri/T1.mgz...\n",
      "\n",
      "Loaded bounding surface from /Users/Lea/Desktop/PROJECT_DATA_ANALYSIS/freesurfer/recons/patient_08/bem/inner_skull.surf (10242 nodes)\n",
      "Surface CM = (  -2.9  -12.1   25.8) mm\n",
      "Surface fits inside a sphere with radius   84.9 mm\n",
      "Surface extent:\n",
      "    x =  -74.0 ...   71.8 mm\n",
      "    y =  -86.2 ...   70.3 mm\n",
      "    z =  -41.5 ...   97.4 mm\n",
      "Grid extent:\n",
      "    x =  -80.0 ...   80.0 mm\n",
      "    y =  -90.0 ...   80.0 mm\n",
      "    z =  -50.0 ...  100.0 mm\n",
      "4896 sources before omitting any.\n",
      "2551 sources after omitting infeasible sources not within 0.0 - 84.9 mm.\n",
      "Source spaces are in MRI coordinates.\n",
      "Checking that the sources are inside the surface and at least    5.0 mm away (will take a few...)\n",
      "Checking surface interior status for 2551 points...\n",
      "    Found  235/2551 points inside  an interior sphere of radius   38.3 mm\n",
      "    Found    0/2551 points outside an exterior sphere of radius   84.9 mm\n",
      "    Found  980/2316 points outside using surface Qhull\n",
      "    Found   78/1336 points outside using solid angles\n",
      "    Total 1493/2551 points inside the surface\n",
      "Interior check completed in 2129.2 ms\n",
      "    1058 source space points omitted because they are outside the inner skull surface.\n",
      "    298 source space points omitted because of the    5.0-mm distance limit.\n",
      "1195 sources remaining after excluding the sources outside the surface and less than    5.0 mm inside.\n",
      "Adjusting the neighborhood info.\n",
      "Source space : MRI voxel -> MRI (surface RAS)\n",
      "    0.010000 0.000000 0.000000     -80.00 mm\n",
      "    0.000000 0.010000 0.000000     -90.00 mm\n",
      "    0.000000 0.000000 0.010000     -50.00 mm\n",
      "    0.000000 0.000000 0.000000       1.00\n",
      "MRI volume : MRI voxel -> MRI (surface RAS)\n",
      "    -0.001000 0.000000 0.000000     128.00 mm\n",
      "    0.000000 0.000000 0.001000    -128.00 mm\n",
      "    0.000000 -0.001000 0.000000     128.00 mm\n",
      "    0.000000 0.000000 0.000000       1.00\n",
      "MRI volume : MRI (surface RAS) -> RAS (non-zero origin)\n",
      "    1.000000 0.000000 0.000000       1.16 mm\n",
      "    0.000000 1.000000 0.000000     -13.44 mm\n",
      "    0.000000 0.000000 1.000000      -5.52 mm\n",
      "    0.000000 0.000000 0.000000       1.00\n",
      "Setting up volume interpolation ...\n",
      "    11300857/16777216 nonzero values for the whole brain\n",
      "[done]\n",
      "Volume source space(s) present...\n",
      "    Loading /Users/Lea/Desktop/PROJECT_DATA_ANALYSIS/freesurfer/recons/patient_08/mri/brain.mgz as \"from\" volume\n",
      "    Loading /Users/Lea/Desktop/PROJECT_DATA_ANALYSIS/freesurfer/recons/fsaverage/mri/brain.mgz as \"to\" volume\n",
      "Computing registration...\n",
      "Reslicing to zooms=(5.0, 5.0, 5.0) for translation ...\n",
      "Optimizing translation:\n",
      "    Optimizing level 2 [max iter: 100]\n",
      "    Optimizing level 1 [max iter: 100]\n",
      "    Optimizing level 0 [max iter: 10]\n",
      "    Translation:   17.3 mm\n",
      "    R²:            85.6%\n",
      "Optimizing rigid:\n",
      "    Optimizing level 2 [max iter: 100]\n",
      "    Optimizing level 1 [max iter: 100]\n",
      "    Optimizing level 0 [max iter: 10]\n",
      "    Translation:   17.3 mm\n",
      "    Rotation:       0.4°\n",
      "    R²:            85.6%\n",
      "Optimizing affine:\n",
      "    Optimizing level 2 [max iter: 100]\n",
      "    Optimizing level 1 [max iter: 100]\n",
      "    Optimizing level 0 [max iter: 10]\n",
      "    R²:            94.3%\n",
      "Optimizing sdr:\n",
      "    R²:            97.2%\n",
      "Computing nonzero vertices after morph ...\n",
      "[done]\n"
     ]
    },
    {
     "data": {
      "application/vnd.jupyter.widget-view+json": {
       "model_id": "481665b87ad34638bccca3b23e74cf6c",
       "version_major": 2,
       "version_minor": 0
      },
      "text/plain": [
       "  0%|          | Time : 0/1 [00:00<?,       ?it/s]"
      ]
     },
     "metadata": {},
     "output_type": "display_data"
    },
    {
     "name": "stdout",
     "output_type": "stream",
     "text": [
      "Writing STC to disk...\n",
      "Overwriting existing file.\n",
      "[done]\n"
     ]
    },
    {
     "data": {
      "application/vnd.jupyter.widget-view+json": {
       "model_id": "103124b876854afa974d1f7ad42506a2",
       "version_major": 2,
       "version_minor": 0
      },
      "text/plain": [
       "  0%|          | Time : 0/1 [00:00<?,       ?it/s]"
      ]
     },
     "metadata": {},
     "output_type": "display_data"
    },
    {
     "name": "stdout",
     "output_type": "stream",
     "text": [
      "Boundary surface file : /Users/Lea/Desktop/PROJECT_DATA_ANALYSIS/freesurfer/recons/patient_10/bem/inner_skull.surf\n",
      "grid                  : 10.0 mm\n",
      "mindist               : 5.0 mm\n",
      "MRI volume            : /Users/Lea/Desktop/PROJECT_DATA_ANALYSIS/freesurfer/recons/patient_10/mri/T1.mgz\n",
      "\n",
      "Reading /Users/Lea/Desktop/PROJECT_DATA_ANALYSIS/freesurfer/recons/patient_10/mri/T1.mgz...\n",
      "\n",
      "Loaded bounding surface from /Users/Lea/Desktop/PROJECT_DATA_ANALYSIS/freesurfer/recons/patient_10/bem/inner_skull.surf (10242 nodes)\n",
      "Surface CM = (   0.2  -15.8   31.6) mm\n",
      "Surface fits inside a sphere with radius   86.1 mm\n",
      "Surface extent:\n",
      "    x =  -79.2 ...   79.2 mm\n",
      "    y =  -90.5 ...   68.5 mm\n",
      "    z =  -41.3 ...   96.8 mm\n",
      "Grid extent:\n",
      "    x =  -80.0 ...   80.0 mm\n",
      "    y = -100.0 ...   70.0 mm\n",
      "    z =  -50.0 ...  100.0 mm\n",
      "4896 sources before omitting any.\n",
      "2630 sources after omitting infeasible sources not within 0.0 - 86.1 mm.\n",
      "Source spaces are in MRI coordinates.\n",
      "Checking that the sources are inside the surface and at least    5.0 mm away (will take a few...)\n",
      "Checking surface interior status for 2630 points...\n",
      "    Found  137/2630 points inside  an interior sphere of radius   32.2 mm\n",
      "    Found    0/2630 points outside an exterior sphere of radius   86.1 mm\n",
      "    Found 1060/2493 points outside using surface Qhull\n",
      "    Found  145/1433 points outside using solid angles\n",
      "    Total 1425/2630 points inside the surface\n",
      "Interior check completed in 6229.0 ms\n",
      "    1205 source space points omitted because they are outside the inner skull surface.\n",
      "    301 source space points omitted because of the    5.0-mm distance limit.\n",
      "1124 sources remaining after excluding the sources outside the surface and less than    5.0 mm inside.\n",
      "Adjusting the neighborhood info.\n",
      "Source space : MRI voxel -> MRI (surface RAS)\n",
      "    0.010000 0.000000 0.000000     -80.00 mm\n",
      "    0.000000 0.010000 0.000000    -100.00 mm\n",
      "    0.000000 0.000000 0.010000     -50.00 mm\n",
      "    0.000000 0.000000 0.000000       1.00\n",
      "MRI volume : MRI voxel -> MRI (surface RAS)\n",
      "    -0.001000 0.000000 0.000000     128.00 mm\n",
      "    0.000000 0.000000 0.001000    -128.00 mm\n",
      "    0.000000 -0.001000 0.000000     128.00 mm\n",
      "    0.000000 0.000000 0.000000       1.00\n",
      "MRI volume : MRI (surface RAS) -> RAS (non-zero origin)\n",
      "    1.000000 0.000000 0.000000       2.50 mm\n",
      "    0.000000 1.000000 0.000000     -12.55 mm\n",
      "    0.000000 0.000000 1.000000      -7.70 mm\n",
      "    0.000000 0.000000 0.000000       1.00\n",
      "Setting up volume interpolation ...\n",
      "    10981790/16777216 nonzero values for the whole brain\n",
      "[done]\n",
      "Volume source space(s) present...\n",
      "    Loading /Users/Lea/Desktop/PROJECT_DATA_ANALYSIS/freesurfer/recons/patient_10/mri/brain.mgz as \"from\" volume\n",
      "    Loading /Users/Lea/Desktop/PROJECT_DATA_ANALYSIS/freesurfer/recons/fsaverage/mri/brain.mgz as \"to\" volume\n",
      "Computing registration...\n",
      "Reslicing to zooms=(5.0, 5.0, 5.0) for translation ...\n",
      "Optimizing translation:\n",
      "    Optimizing level 2 [max iter: 100]\n",
      "    Optimizing level 1 [max iter: 100]\n",
      "    Optimizing level 0 [max iter: 10]\n",
      "    Translation:   15.2 mm\n",
      "    R²:            76.1%\n",
      "Optimizing rigid:\n",
      "    Optimizing level 2 [max iter: 100]\n",
      "    Optimizing level 1 [max iter: 100]\n",
      "    Optimizing level 0 [max iter: 10]\n",
      "    Translation:   15.2 mm\n",
      "    Rotation:       6.3°\n",
      "    R²:            75.4%\n",
      "Optimizing affine:\n",
      "    Optimizing level 2 [max iter: 100]\n",
      "    Optimizing level 1 [max iter: 100]\n",
      "    Optimizing level 0 [max iter: 10]\n",
      "    R²:            86.1%\n",
      "Optimizing sdr:\n",
      "    R²:            92.1%\n",
      "Computing nonzero vertices after morph ...\n",
      "[done]\n"
     ]
    },
    {
     "data": {
      "application/vnd.jupyter.widget-view+json": {
       "model_id": "4e0eb07615024875a21cf24b0e21f4f1",
       "version_major": 2,
       "version_minor": 0
      },
      "text/plain": [
       "  0%|          | Time : 0/1 [00:00<?,       ?it/s]"
      ]
     },
     "metadata": {},
     "output_type": "display_data"
    },
    {
     "name": "stdout",
     "output_type": "stream",
     "text": [
      "Writing STC to disk...\n",
      "Overwriting existing file.\n",
      "[done]\n"
     ]
    },
    {
     "data": {
      "application/vnd.jupyter.widget-view+json": {
       "model_id": "9d59ac62e881484dac0e68163850ec47",
       "version_major": 2,
       "version_minor": 0
      },
      "text/plain": [
       "  0%|          | Time : 0/1 [00:00<?,       ?it/s]"
      ]
     },
     "metadata": {},
     "output_type": "display_data"
    },
    {
     "name": "stdout",
     "output_type": "stream",
     "text": [
      "Boundary surface file : /Users/Lea/Desktop/PROJECT_DATA_ANALYSIS/freesurfer/recons/patient_11/bem/inner_skull.surf\n",
      "grid                  : 10.0 mm\n",
      "mindist               : 5.0 mm\n",
      "MRI volume            : /Users/Lea/Desktop/PROJECT_DATA_ANALYSIS/freesurfer/recons/patient_11/mri/T1.mgz\n",
      "\n",
      "Reading /Users/Lea/Desktop/PROJECT_DATA_ANALYSIS/freesurfer/recons/patient_11/mri/T1.mgz...\n",
      "\n",
      "Loaded bounding surface from /Users/Lea/Desktop/PROJECT_DATA_ANALYSIS/freesurfer/recons/patient_11/bem/inner_skull.surf (10242 nodes)\n",
      "Surface CM = ( -13.6   -7.1    7.7) mm\n",
      "Surface fits inside a sphere with radius  100.7 mm\n",
      "Surface extent:\n",
      "    x =  -85.9 ...   76.9 mm\n",
      "    y =  -85.1 ...   75.9 mm\n",
      "    z =  -87.4 ...   98.2 mm\n",
      "Grid extent:\n",
      "    x =  -90.0 ...   80.0 mm\n",
      "    y =  -90.0 ...   80.0 mm\n",
      "    z =  -90.0 ...  100.0 mm\n",
      "6480 sources before omitting any.\n",
      "4105 sources after omitting infeasible sources not within 0.0 - 100.7 mm.\n",
      "Source spaces are in MRI coordinates.\n",
      "Checking that the sources are inside the surface and at least    5.0 mm away (will take a few...)\n",
      "Checking surface interior status for 4105 points...\n",
      "    Found  115/4105 points inside  an interior sphere of radius   29.8 mm\n",
      "    Found    0/4105 points outside an exterior sphere of radius  100.7 mm\n",
      "    Found 1891/3990 points outside using surface Qhull\n",
      "    Found  249/2099 points outside using solid angles\n",
      "    Total 1965/4105 points inside the surface\n",
      "Interior check completed in 5358.5 ms\n",
      "    2140 source space points omitted because they are outside the inner skull surface.\n",
      "    401 source space points omitted because of the    5.0-mm distance limit.\n",
      "1564 sources remaining after excluding the sources outside the surface and less than    5.0 mm inside.\n",
      "Adjusting the neighborhood info.\n",
      "Source space : MRI voxel -> MRI (surface RAS)\n",
      "    0.010000 0.000000 0.000000     -90.00 mm\n",
      "    0.000000 0.010000 0.000000     -90.00 mm\n",
      "    0.000000 0.000000 0.010000     -90.00 mm\n",
      "    0.000000 0.000000 0.000000       1.00\n",
      "MRI volume : MRI voxel -> MRI (surface RAS)\n",
      "    -0.001000 0.000000 0.000000     128.00 mm\n",
      "    0.000000 0.000000 0.001000    -128.00 mm\n",
      "    0.000000 -0.001000 0.000000     128.00 mm\n",
      "    0.000000 0.000000 0.000000       1.00\n",
      "MRI volume : MRI (surface RAS) -> RAS (non-zero origin)\n",
      "    1.000000 0.000000 0.000000       3.70 mm\n",
      "    0.000000 1.000000 0.000000     -11.47 mm\n",
      "    0.000000 0.000000 1.000000     -15.50 mm\n",
      "    0.000000 0.000000 0.000000       1.00\n",
      "Setting up volume interpolation ...\n",
      "    14731972/16777216 nonzero values for the whole brain\n",
      "[done]\n",
      "Volume source space(s) present...\n",
      "    Loading /Users/Lea/Desktop/PROJECT_DATA_ANALYSIS/freesurfer/recons/patient_11/mri/brain.mgz as \"from\" volume\n",
      "    Loading /Users/Lea/Desktop/PROJECT_DATA_ANALYSIS/freesurfer/recons/fsaverage/mri/brain.mgz as \"to\" volume\n",
      "Computing registration...\n",
      "Reslicing to zooms=(5.0, 5.0, 5.0) for translation ...\n",
      "Optimizing translation:\n",
      "    Optimizing level 2 [max iter: 100]\n",
      "    Optimizing level 1 [max iter: 100]\n",
      "    Optimizing level 0 [max iter: 10]\n",
      "    Translation:    7.0 mm\n",
      "    R²:            87.8%\n",
      "Optimizing rigid:\n",
      "    Optimizing level 2 [max iter: 100]\n",
      "    Optimizing level 1 [max iter: 100]\n",
      "    Optimizing level 0 [max iter: 10]\n",
      "    Translation:    6.7 mm\n",
      "    Rotation:       4.1°\n",
      "    R²:            87.7%\n",
      "Optimizing affine:\n",
      "    Optimizing level 2 [max iter: 100]\n",
      "    Optimizing level 1 [max iter: 100]\n",
      "    Optimizing level 0 [max iter: 10]\n",
      "    R²:            93.0%\n",
      "Optimizing sdr:\n",
      "    R²:            96.3%\n",
      "Computing nonzero vertices after morph ...\n",
      "[done]\n"
     ]
    },
    {
     "data": {
      "application/vnd.jupyter.widget-view+json": {
       "model_id": "965f6f310ddd4cc395fb522b6b713aab",
       "version_major": 2,
       "version_minor": 0
      },
      "text/plain": [
       "  0%|          | Time : 0/1 [00:00<?,       ?it/s]"
      ]
     },
     "metadata": {},
     "output_type": "display_data"
    },
    {
     "name": "stdout",
     "output_type": "stream",
     "text": [
      "Writing STC to disk...\n",
      "Overwriting existing file.\n",
      "[done]\n"
     ]
    },
    {
     "data": {
      "application/vnd.jupyter.widget-view+json": {
       "model_id": "0431584b40f4469ebe55ff5bec116085",
       "version_major": 2,
       "version_minor": 0
      },
      "text/plain": [
       "  0%|          | Time : 0/1 [00:00<?,       ?it/s]"
      ]
     },
     "metadata": {},
     "output_type": "display_data"
    },
    {
     "name": "stdout",
     "output_type": "stream",
     "text": [
      "Boundary surface file : /Users/Lea/Desktop/PROJECT_DATA_ANALYSIS/freesurfer/recons/patient_11/bem/inner_skull.surf\n",
      "grid                  : 10.0 mm\n",
      "mindist               : 5.0 mm\n",
      "MRI volume            : /Users/Lea/Desktop/PROJECT_DATA_ANALYSIS/freesurfer/recons/patient_11/mri/T1.mgz\n",
      "\n",
      "Reading /Users/Lea/Desktop/PROJECT_DATA_ANALYSIS/freesurfer/recons/patient_11/mri/T1.mgz...\n",
      "\n",
      "Loaded bounding surface from /Users/Lea/Desktop/PROJECT_DATA_ANALYSIS/freesurfer/recons/patient_11/bem/inner_skull.surf (10242 nodes)\n",
      "Surface CM = ( -13.6   -7.1    7.7) mm\n",
      "Surface fits inside a sphere with radius  100.7 mm\n",
      "Surface extent:\n",
      "    x =  -85.9 ...   76.9 mm\n",
      "    y =  -85.1 ...   75.9 mm\n",
      "    z =  -87.4 ...   98.2 mm\n",
      "Grid extent:\n",
      "    x =  -90.0 ...   80.0 mm\n",
      "    y =  -90.0 ...   80.0 mm\n",
      "    z =  -90.0 ...  100.0 mm\n",
      "6480 sources before omitting any.\n",
      "4105 sources after omitting infeasible sources not within 0.0 - 100.7 mm.\n",
      "Source spaces are in MRI coordinates.\n",
      "Checking that the sources are inside the surface and at least    5.0 mm away (will take a few...)\n",
      "Checking surface interior status for 4105 points...\n",
      "    Found  115/4105 points inside  an interior sphere of radius   29.8 mm\n",
      "    Found    0/4105 points outside an exterior sphere of radius  100.7 mm\n",
      "    Found 1891/3990 points outside using surface Qhull\n",
      "    Found  249/2099 points outside using solid angles\n",
      "    Total 1965/4105 points inside the surface\n",
      "Interior check completed in 5644.5 ms\n",
      "    2140 source space points omitted because they are outside the inner skull surface.\n",
      "    401 source space points omitted because of the    5.0-mm distance limit.\n",
      "1564 sources remaining after excluding the sources outside the surface and less than    5.0 mm inside.\n",
      "Adjusting the neighborhood info.\n",
      "Source space : MRI voxel -> MRI (surface RAS)\n",
      "    0.010000 0.000000 0.000000     -90.00 mm\n",
      "    0.000000 0.010000 0.000000     -90.00 mm\n",
      "    0.000000 0.000000 0.010000     -90.00 mm\n",
      "    0.000000 0.000000 0.000000       1.00\n",
      "MRI volume : MRI voxel -> MRI (surface RAS)\n",
      "    -0.001000 0.000000 0.000000     128.00 mm\n",
      "    0.000000 0.000000 0.001000    -128.00 mm\n",
      "    0.000000 -0.001000 0.000000     128.00 mm\n",
      "    0.000000 0.000000 0.000000       1.00\n",
      "MRI volume : MRI (surface RAS) -> RAS (non-zero origin)\n",
      "    1.000000 0.000000 0.000000       3.70 mm\n",
      "    0.000000 1.000000 0.000000     -11.47 mm\n",
      "    0.000000 0.000000 1.000000     -15.50 mm\n",
      "    0.000000 0.000000 0.000000       1.00\n",
      "Setting up volume interpolation ...\n",
      "    14731972/16777216 nonzero values for the whole brain\n",
      "[done]\n",
      "Volume source space(s) present...\n",
      "    Loading /Users/Lea/Desktop/PROJECT_DATA_ANALYSIS/freesurfer/recons/patient_11/mri/brain.mgz as \"from\" volume\n",
      "    Loading /Users/Lea/Desktop/PROJECT_DATA_ANALYSIS/freesurfer/recons/fsaverage/mri/brain.mgz as \"to\" volume\n",
      "Computing registration...\n",
      "Reslicing to zooms=(5.0, 5.0, 5.0) for translation ...\n",
      "Optimizing translation:\n",
      "    Optimizing level 2 [max iter: 100]\n",
      "    Optimizing level 1 [max iter: 100]\n",
      "    Optimizing level 0 [max iter: 10]\n",
      "    Translation:    7.0 mm\n",
      "    R²:            87.8%\n",
      "Optimizing rigid:\n",
      "    Optimizing level 2 [max iter: 100]\n",
      "    Optimizing level 1 [max iter: 100]\n",
      "    Optimizing level 0 [max iter: 10]\n",
      "    Translation:    6.7 mm\n",
      "    Rotation:       4.1°\n",
      "    R²:            87.7%\n",
      "Optimizing affine:\n",
      "    Optimizing level 2 [max iter: 100]\n",
      "    Optimizing level 1 [max iter: 100]\n",
      "    Optimizing level 0 [max iter: 10]\n",
      "    R²:            93.0%\n",
      "Optimizing sdr:\n",
      "    R²:            96.3%\n",
      "Computing nonzero vertices after morph ...\n",
      "[done]\n"
     ]
    },
    {
     "data": {
      "application/vnd.jupyter.widget-view+json": {
       "model_id": "70f49d32c4724a4cb24673c0efb84608",
       "version_major": 2,
       "version_minor": 0
      },
      "text/plain": [
       "  0%|          | Time : 0/1 [00:00<?,       ?it/s]"
      ]
     },
     "metadata": {},
     "output_type": "display_data"
    },
    {
     "name": "stdout",
     "output_type": "stream",
     "text": [
      "Writing STC to disk...\n",
      "Overwriting existing file.\n",
      "[done]\n"
     ]
    },
    {
     "data": {
      "application/vnd.jupyter.widget-view+json": {
       "model_id": "f9a1b4df65804b5b8555220e96eeb2b3",
       "version_major": 2,
       "version_minor": 0
      },
      "text/plain": [
       "  0%|          | Time : 0/1 [00:00<?,       ?it/s]"
      ]
     },
     "metadata": {},
     "output_type": "display_data"
    },
    {
     "name": "stdout",
     "output_type": "stream",
     "text": [
      "Boundary surface file : /Users/Lea/Desktop/PROJECT_DATA_ANALYSIS/freesurfer/recons/patient_13/bem/inner_skull.surf\n",
      "grid                  : 10.0 mm\n",
      "mindist               : 5.0 mm\n",
      "MRI volume            : /Users/Lea/Desktop/PROJECT_DATA_ANALYSIS/freesurfer/recons/patient_13/mri/T1.mgz\n",
      "\n",
      "Reading /Users/Lea/Desktop/PROJECT_DATA_ANALYSIS/freesurfer/recons/patient_13/mri/T1.mgz...\n",
      "\n",
      "Loaded bounding surface from /Users/Lea/Desktop/PROJECT_DATA_ANALYSIS/freesurfer/recons/patient_13/bem/inner_skull.surf (10242 nodes)\n",
      "Surface CM = (  -7.4  -10.9   16.5) mm\n",
      "Surface fits inside a sphere with radius   89.1 mm\n",
      "Surface extent:\n",
      "    x =  -78.6 ...   64.4 mm\n",
      "    y =  -87.6 ...   77.8 mm\n",
      "    z =  -56.4 ...  101.6 mm\n",
      "Grid extent:\n",
      "    x =  -80.0 ...   70.0 mm\n",
      "    y =  -90.0 ...   80.0 mm\n",
      "    z =  -60.0 ...  110.0 mm\n",
      "5184 sources before omitting any.\n",
      "2902 sources after omitting infeasible sources not within 0.0 - 89.1 mm.\n",
      "Source spaces are in MRI coordinates.\n",
      "Checking that the sources are inside the surface and at least    5.0 mm away (will take a few...)\n",
      "Checking surface interior status for 2902 points...\n",
      "    Found   58/2902 points inside  an interior sphere of radius   23.9 mm\n",
      "    Found    0/2902 points outside an exterior sphere of radius   89.1 mm\n",
      "    Found 1176/2844 points outside using surface Qhull\n",
      "    Found  169/1668 points outside using solid angles\n",
      "    Total 1557/2902 points inside the surface\n",
      "Interior check completed in 2833.6 ms\n",
      "    1345 source space points omitted because they are outside the inner skull surface.\n",
      "    327 source space points omitted because of the    5.0-mm distance limit.\n",
      "1230 sources remaining after excluding the sources outside the surface and less than    5.0 mm inside.\n",
      "Adjusting the neighborhood info.\n",
      "Source space : MRI voxel -> MRI (surface RAS)\n",
      "    0.010000 0.000000 0.000000     -80.00 mm\n",
      "    0.000000 0.010000 0.000000     -90.00 mm\n",
      "    0.000000 0.000000 0.010000     -60.00 mm\n",
      "    0.000000 0.000000 0.000000       1.00\n",
      "MRI volume : MRI voxel -> MRI (surface RAS)\n",
      "    -0.001000 0.000000 0.000000     128.00 mm\n",
      "    0.000000 0.000000 0.001000    -128.00 mm\n",
      "    0.000000 -0.001000 0.000000     128.00 mm\n",
      "    0.000000 0.000000 0.000000       1.00\n",
      "MRI volume : MRI (surface RAS) -> RAS (non-zero origin)\n",
      "    1.000000 0.000000 0.000000      11.84 mm\n",
      "    0.000000 1.000000 0.000000      -9.47 mm\n",
      "    0.000000 0.000000 1.000000     -10.70 mm\n",
      "    0.000000 0.000000 0.000000       1.00\n",
      "Setting up volume interpolation ...\n",
      "    11766642/16777216 nonzero values for the whole brain\n",
      "[done]\n",
      "Volume source space(s) present...\n",
      "    Loading /Users/Lea/Desktop/PROJECT_DATA_ANALYSIS/freesurfer/recons/patient_13/mri/brain.mgz as \"from\" volume\n",
      "    Loading /Users/Lea/Desktop/PROJECT_DATA_ANALYSIS/freesurfer/recons/fsaverage/mri/brain.mgz as \"to\" volume\n",
      "Computing registration...\n",
      "Reslicing to zooms=(5.0, 5.0, 5.0) for translation ...\n",
      "Optimizing translation:\n",
      "    Optimizing level 2 [max iter: 100]\n",
      "    Optimizing level 1 [max iter: 100]\n",
      "    Optimizing level 0 [max iter: 10]\n",
      "    Translation:   12.6 mm\n",
      "    R²:            86.3%\n",
      "Optimizing rigid:\n",
      "    Optimizing level 2 [max iter: 100]\n",
      "    Optimizing level 1 [max iter: 100]\n",
      "    Optimizing level 0 [max iter: 10]\n",
      "    Translation:   11.3 mm\n",
      "    Rotation:      13.9°\n",
      "    R²:            86.7%\n",
      "Optimizing affine:\n",
      "    Optimizing level 2 [max iter: 100]\n",
      "    Optimizing level 1 [max iter: 100]\n",
      "    Optimizing level 0 [max iter: 10]\n",
      "    R²:            95.7%\n",
      "Optimizing sdr:\n",
      "    R²:            98.1%\n",
      "Computing nonzero vertices after morph ...\n",
      "[done]\n"
     ]
    },
    {
     "data": {
      "application/vnd.jupyter.widget-view+json": {
       "model_id": "05eccdf71b194553849a0d18d5f00921",
       "version_major": 2,
       "version_minor": 0
      },
      "text/plain": [
       "  0%|          | Time : 0/1 [00:00<?,       ?it/s]"
      ]
     },
     "metadata": {},
     "output_type": "display_data"
    },
    {
     "name": "stdout",
     "output_type": "stream",
     "text": [
      "Writing STC to disk...\n",
      "Overwriting existing file.\n",
      "[done]\n"
     ]
    },
    {
     "data": {
      "application/vnd.jupyter.widget-view+json": {
       "model_id": "aab6795d5b1946b09a343109d283ee26",
       "version_major": 2,
       "version_minor": 0
      },
      "text/plain": [
       "  0%|          | Time : 0/1 [00:00<?,       ?it/s]"
      ]
     },
     "metadata": {},
     "output_type": "display_data"
    },
    {
     "name": "stdout",
     "output_type": "stream",
     "text": [
      "Boundary surface file : /Users/Lea/Desktop/PROJECT_DATA_ANALYSIS/freesurfer/recons/patient_14/bem/inner_skull.surf\n",
      "grid                  : 10.0 mm\n",
      "mindist               : 5.0 mm\n",
      "MRI volume            : /Users/Lea/Desktop/PROJECT_DATA_ANALYSIS/freesurfer/recons/patient_14/mri/T1.mgz\n",
      "\n",
      "Reading /Users/Lea/Desktop/PROJECT_DATA_ANALYSIS/freesurfer/recons/patient_14/mri/T1.mgz...\n",
      "\n",
      "Loaded bounding surface from /Users/Lea/Desktop/PROJECT_DATA_ANALYSIS/freesurfer/recons/patient_14/bem/inner_skull.surf (10242 nodes)\n",
      "Surface CM = (   0.8  -16.7   18.2) mm\n",
      "Surface fits inside a sphere with radius   79.4 mm\n",
      "Surface extent:\n",
      "    x =  -71.5 ...   75.8 mm\n",
      "    y =  -81.8 ...   61.6 mm\n",
      "    z =  -48.8 ...   90.2 mm\n",
      "Grid extent:\n",
      "    x =  -80.0 ...   80.0 mm\n",
      "    y =  -90.0 ...   70.0 mm\n",
      "    z =  -50.0 ...  100.0 mm\n",
      "4624 sources before omitting any.\n",
      "2088 sources after omitting infeasible sources not within 0.0 - 79.4 mm.\n",
      "Source spaces are in MRI coordinates.\n",
      "Checking that the sources are inside the surface and at least    5.0 mm away (will take a few...)\n",
      "Checking surface interior status for 2088 points...\n",
      "    Found   55/2088 points inside  an interior sphere of radius   23.4 mm\n",
      "    Found    0/2088 points outside an exterior sphere of radius   79.4 mm\n",
      "    Found  737/2033 points outside using surface Qhull\n",
      "    Found  102/1296 points outside using solid angles\n",
      "    Total 1249/2088 points inside the surface\n",
      "Interior check completed in 2155.8 ms\n",
      "    839 source space points omitted because they are outside the inner skull surface.\n",
      "    283 source space points omitted because of the    5.0-mm distance limit.\n",
      "966 sources remaining after excluding the sources outside the surface and less than    5.0 mm inside.\n",
      "Adjusting the neighborhood info.\n",
      "Source space : MRI voxel -> MRI (surface RAS)\n",
      "    0.010000 0.000000 0.000000     -80.00 mm\n",
      "    0.000000 0.010000 0.000000     -90.00 mm\n",
      "    0.000000 0.000000 0.010000     -50.00 mm\n",
      "    0.000000 0.000000 0.000000       1.00\n",
      "MRI volume : MRI voxel -> MRI (surface RAS)\n",
      "    -0.001000 0.000000 0.000000     128.00 mm\n",
      "    0.000000 0.000000 0.001000    -128.00 mm\n",
      "    0.000000 -0.001000 0.000000     128.00 mm\n",
      "    0.000000 0.000000 0.000000       1.00\n",
      "MRI volume : MRI (surface RAS) -> RAS (non-zero origin)\n",
      "    1.000000 0.000000 0.000000       1.05 mm\n",
      "    0.000000 1.000000 0.000000     -11.66 mm\n",
      "    0.000000 0.000000 1.000000      -2.81 mm\n",
      "    0.000000 0.000000 0.000000       1.00\n",
      "Setting up volume interpolation ...\n",
      "    9504084/16777216 nonzero values for the whole brain\n",
      "[done]\n",
      "Volume source space(s) present...\n",
      "    Loading /Users/Lea/Desktop/PROJECT_DATA_ANALYSIS/freesurfer/recons/patient_14/mri/brain.mgz as \"from\" volume\n",
      "    Loading /Users/Lea/Desktop/PROJECT_DATA_ANALYSIS/freesurfer/recons/fsaverage/mri/brain.mgz as \"to\" volume\n",
      "Computing registration...\n",
      "Reslicing to zooms=(5.0, 5.0, 5.0) for translation ...\n",
      "Optimizing translation:\n",
      "    Optimizing level 2 [max iter: 100]\n",
      "    Optimizing level 1 [max iter: 100]\n",
      "    Optimizing level 0 [max iter: 10]\n",
      "    Translation:   22.0 mm\n",
      "    R²:            67.8%\n",
      "Optimizing rigid:\n",
      "    Optimizing level 2 [max iter: 100]\n",
      "    Optimizing level 1 [max iter: 100]\n",
      "    Optimizing level 0 [max iter: 10]\n",
      "    Translation:   22.0 mm\n",
      "    Rotation:       0.4°\n",
      "    R²:            67.8%\n",
      "Optimizing affine:\n",
      "    Optimizing level 2 [max iter: 100]\n",
      "    Optimizing level 1 [max iter: 100]\n",
      "    Optimizing level 0 [max iter: 10]\n",
      "    R²:            83.7%\n",
      "Optimizing sdr:\n",
      "    R²:            88.5%\n",
      "Computing nonzero vertices after morph ...\n",
      "[done]\n"
     ]
    },
    {
     "data": {
      "application/vnd.jupyter.widget-view+json": {
       "model_id": "9e17077694f34cc891c666c1edd1db91",
       "version_major": 2,
       "version_minor": 0
      },
      "text/plain": [
       "  0%|          | Time : 0/1 [00:00<?,       ?it/s]"
      ]
     },
     "metadata": {},
     "output_type": "display_data"
    },
    {
     "name": "stdout",
     "output_type": "stream",
     "text": [
      "Writing STC to disk...\n",
      "Overwriting existing file.\n",
      "[done]\n"
     ]
    },
    {
     "data": {
      "application/vnd.jupyter.widget-view+json": {
       "model_id": "d9514d07e475407db2b693aceeb5a698",
       "version_major": 2,
       "version_minor": 0
      },
      "text/plain": [
       "  0%|          | Time : 0/1 [00:00<?,       ?it/s]"
      ]
     },
     "metadata": {},
     "output_type": "display_data"
    },
    {
     "name": "stdout",
     "output_type": "stream",
     "text": [
      "Boundary surface file : /Users/Lea/Desktop/PROJECT_DATA_ANALYSIS/freesurfer/recons/patient_14/bem/inner_skull.surf\n",
      "grid                  : 10.0 mm\n",
      "mindist               : 5.0 mm\n",
      "MRI volume            : /Users/Lea/Desktop/PROJECT_DATA_ANALYSIS/freesurfer/recons/patient_14/mri/T1.mgz\n",
      "\n",
      "Reading /Users/Lea/Desktop/PROJECT_DATA_ANALYSIS/freesurfer/recons/patient_14/mri/T1.mgz...\n",
      "\n",
      "Loaded bounding surface from /Users/Lea/Desktop/PROJECT_DATA_ANALYSIS/freesurfer/recons/patient_14/bem/inner_skull.surf (10242 nodes)\n",
      "Surface CM = (   0.8  -16.7   18.2) mm\n",
      "Surface fits inside a sphere with radius   79.4 mm\n",
      "Surface extent:\n",
      "    x =  -71.5 ...   75.8 mm\n",
      "    y =  -81.8 ...   61.6 mm\n",
      "    z =  -48.8 ...   90.2 mm\n",
      "Grid extent:\n",
      "    x =  -80.0 ...   80.0 mm\n",
      "    y =  -90.0 ...   70.0 mm\n",
      "    z =  -50.0 ...  100.0 mm\n",
      "4624 sources before omitting any.\n",
      "2088 sources after omitting infeasible sources not within 0.0 - 79.4 mm.\n",
      "Source spaces are in MRI coordinates.\n",
      "Checking that the sources are inside the surface and at least    5.0 mm away (will take a few...)\n",
      "Checking surface interior status for 2088 points...\n",
      "    Found   55/2088 points inside  an interior sphere of radius   23.4 mm\n",
      "    Found    0/2088 points outside an exterior sphere of radius   79.4 mm\n",
      "    Found  737/2033 points outside using surface Qhull\n",
      "    Found  102/1296 points outside using solid angles\n",
      "    Total 1249/2088 points inside the surface\n",
      "Interior check completed in 2155.4 ms\n",
      "    839 source space points omitted because they are outside the inner skull surface.\n",
      "    283 source space points omitted because of the    5.0-mm distance limit.\n",
      "966 sources remaining after excluding the sources outside the surface and less than    5.0 mm inside.\n",
      "Adjusting the neighborhood info.\n",
      "Source space : MRI voxel -> MRI (surface RAS)\n",
      "    0.010000 0.000000 0.000000     -80.00 mm\n",
      "    0.000000 0.010000 0.000000     -90.00 mm\n",
      "    0.000000 0.000000 0.010000     -50.00 mm\n",
      "    0.000000 0.000000 0.000000       1.00\n",
      "MRI volume : MRI voxel -> MRI (surface RAS)\n",
      "    -0.001000 0.000000 0.000000     128.00 mm\n",
      "    0.000000 0.000000 0.001000    -128.00 mm\n",
      "    0.000000 -0.001000 0.000000     128.00 mm\n",
      "    0.000000 0.000000 0.000000       1.00\n",
      "MRI volume : MRI (surface RAS) -> RAS (non-zero origin)\n",
      "    1.000000 0.000000 0.000000       1.05 mm\n",
      "    0.000000 1.000000 0.000000     -11.66 mm\n",
      "    0.000000 0.000000 1.000000      -2.81 mm\n",
      "    0.000000 0.000000 0.000000       1.00\n",
      "Setting up volume interpolation ...\n",
      "    9504084/16777216 nonzero values for the whole brain\n",
      "[done]\n",
      "Volume source space(s) present...\n",
      "    Loading /Users/Lea/Desktop/PROJECT_DATA_ANALYSIS/freesurfer/recons/patient_14/mri/brain.mgz as \"from\" volume\n",
      "    Loading /Users/Lea/Desktop/PROJECT_DATA_ANALYSIS/freesurfer/recons/fsaverage/mri/brain.mgz as \"to\" volume\n",
      "Computing registration...\n",
      "Reslicing to zooms=(5.0, 5.0, 5.0) for translation ...\n",
      "Optimizing translation:\n",
      "    Optimizing level 2 [max iter: 100]\n",
      "    Optimizing level 1 [max iter: 100]\n",
      "    Optimizing level 0 [max iter: 10]\n",
      "    Translation:   22.0 mm\n",
      "    R²:            67.8%\n",
      "Optimizing rigid:\n",
      "    Optimizing level 2 [max iter: 100]\n",
      "    Optimizing level 1 [max iter: 100]\n",
      "    Optimizing level 0 [max iter: 10]\n",
      "    Translation:   22.0 mm\n",
      "    Rotation:       0.4°\n",
      "    R²:            67.8%\n",
      "Optimizing affine:\n",
      "    Optimizing level 2 [max iter: 100]\n",
      "    Optimizing level 1 [max iter: 100]\n",
      "    Optimizing level 0 [max iter: 10]\n",
      "    R²:            83.7%\n",
      "Optimizing sdr:\n",
      "    R²:            88.5%\n",
      "Computing nonzero vertices after morph ...\n",
      "[done]\n"
     ]
    },
    {
     "data": {
      "application/vnd.jupyter.widget-view+json": {
       "model_id": "ceb96bd6c26c46d6bfdfc22b6f6ed515",
       "version_major": 2,
       "version_minor": 0
      },
      "text/plain": [
       "  0%|          | Time : 0/1 [00:00<?,       ?it/s]"
      ]
     },
     "metadata": {},
     "output_type": "display_data"
    },
    {
     "name": "stdout",
     "output_type": "stream",
     "text": [
      "Writing STC to disk...\n",
      "Overwriting existing file.\n",
      "[done]\n"
     ]
    },
    {
     "data": {
      "application/vnd.jupyter.widget-view+json": {
       "model_id": "6527e92076704c39a7148b8af1db2ee6",
       "version_major": 2,
       "version_minor": 0
      },
      "text/plain": [
       "  0%|          | Time : 0/1 [00:00<?,       ?it/s]"
      ]
     },
     "metadata": {},
     "output_type": "display_data"
    },
    {
     "name": "stdout",
     "output_type": "stream",
     "text": [
      "Boundary surface file : /Users/Lea/Desktop/PROJECT_DATA_ANALYSIS/freesurfer/recons/patient_14/bem/inner_skull.surf\n",
      "grid                  : 10.0 mm\n",
      "mindist               : 5.0 mm\n",
      "MRI volume            : /Users/Lea/Desktop/PROJECT_DATA_ANALYSIS/freesurfer/recons/patient_14/mri/T1.mgz\n",
      "\n",
      "Reading /Users/Lea/Desktop/PROJECT_DATA_ANALYSIS/freesurfer/recons/patient_14/mri/T1.mgz...\n",
      "\n",
      "Loaded bounding surface from /Users/Lea/Desktop/PROJECT_DATA_ANALYSIS/freesurfer/recons/patient_14/bem/inner_skull.surf (10242 nodes)\n",
      "Surface CM = (   0.8  -16.7   18.2) mm\n",
      "Surface fits inside a sphere with radius   79.4 mm\n",
      "Surface extent:\n",
      "    x =  -71.5 ...   75.8 mm\n",
      "    y =  -81.8 ...   61.6 mm\n",
      "    z =  -48.8 ...   90.2 mm\n",
      "Grid extent:\n",
      "    x =  -80.0 ...   80.0 mm\n",
      "    y =  -90.0 ...   70.0 mm\n",
      "    z =  -50.0 ...  100.0 mm\n",
      "4624 sources before omitting any.\n",
      "2088 sources after omitting infeasible sources not within 0.0 - 79.4 mm.\n",
      "Source spaces are in MRI coordinates.\n",
      "Checking that the sources are inside the surface and at least    5.0 mm away (will take a few...)\n",
      "Checking surface interior status for 2088 points...\n",
      "    Found   55/2088 points inside  an interior sphere of radius   23.4 mm\n",
      "    Found    0/2088 points outside an exterior sphere of radius   79.4 mm\n",
      "    Found  737/2033 points outside using surface Qhull\n",
      "    Found  102/1296 points outside using solid angles\n",
      "    Total 1249/2088 points inside the surface\n",
      "Interior check completed in 2096.6 ms\n",
      "    839 source space points omitted because they are outside the inner skull surface.\n",
      "    283 source space points omitted because of the    5.0-mm distance limit.\n",
      "966 sources remaining after excluding the sources outside the surface and less than    5.0 mm inside.\n",
      "Adjusting the neighborhood info.\n",
      "Source space : MRI voxel -> MRI (surface RAS)\n",
      "    0.010000 0.000000 0.000000     -80.00 mm\n",
      "    0.000000 0.010000 0.000000     -90.00 mm\n",
      "    0.000000 0.000000 0.010000     -50.00 mm\n",
      "    0.000000 0.000000 0.000000       1.00\n",
      "MRI volume : MRI voxel -> MRI (surface RAS)\n",
      "    -0.001000 0.000000 0.000000     128.00 mm\n",
      "    0.000000 0.000000 0.001000    -128.00 mm\n",
      "    0.000000 -0.001000 0.000000     128.00 mm\n",
      "    0.000000 0.000000 0.000000       1.00\n",
      "MRI volume : MRI (surface RAS) -> RAS (non-zero origin)\n",
      "    1.000000 0.000000 0.000000       1.05 mm\n",
      "    0.000000 1.000000 0.000000     -11.66 mm\n",
      "    0.000000 0.000000 1.000000      -2.81 mm\n",
      "    0.000000 0.000000 0.000000       1.00\n",
      "Setting up volume interpolation ...\n",
      "    9504084/16777216 nonzero values for the whole brain\n",
      "[done]\n",
      "Volume source space(s) present...\n",
      "    Loading /Users/Lea/Desktop/PROJECT_DATA_ANALYSIS/freesurfer/recons/patient_14/mri/brain.mgz as \"from\" volume\n",
      "    Loading /Users/Lea/Desktop/PROJECT_DATA_ANALYSIS/freesurfer/recons/fsaverage/mri/brain.mgz as \"to\" volume\n",
      "Computing registration...\n",
      "Reslicing to zooms=(5.0, 5.0, 5.0) for translation ...\n",
      "Optimizing translation:\n",
      "    Optimizing level 2 [max iter: 100]\n",
      "    Optimizing level 1 [max iter: 100]\n",
      "    Optimizing level 0 [max iter: 10]\n",
      "    Translation:   22.0 mm\n",
      "    R²:            67.8%\n",
      "Optimizing rigid:\n",
      "    Optimizing level 2 [max iter: 100]\n",
      "    Optimizing level 1 [max iter: 100]\n",
      "    Optimizing level 0 [max iter: 10]\n",
      "    Translation:   22.0 mm\n",
      "    Rotation:       0.4°\n",
      "    R²:            67.8%\n",
      "Optimizing affine:\n",
      "    Optimizing level 2 [max iter: 100]\n",
      "    Optimizing level 1 [max iter: 100]\n",
      "    Optimizing level 0 [max iter: 10]\n",
      "    R²:            83.7%\n",
      "Optimizing sdr:\n",
      "    R²:            88.5%\n",
      "Computing nonzero vertices after morph ...\n",
      "[done]\n"
     ]
    },
    {
     "data": {
      "application/vnd.jupyter.widget-view+json": {
       "model_id": "d2939fd1b5fd49ecbfd8176fc6556fb3",
       "version_major": 2,
       "version_minor": 0
      },
      "text/plain": [
       "  0%|          | Time : 0/1 [00:00<?,       ?it/s]"
      ]
     },
     "metadata": {},
     "output_type": "display_data"
    },
    {
     "name": "stdout",
     "output_type": "stream",
     "text": [
      "Writing STC to disk...\n",
      "Overwriting existing file.\n",
      "[done]\n"
     ]
    },
    {
     "data": {
      "application/vnd.jupyter.widget-view+json": {
       "model_id": "24a41944e5454ad0928f3e688623fc24",
       "version_major": 2,
       "version_minor": 0
      },
      "text/plain": [
       "  0%|          | Time : 0/1 [00:00<?,       ?it/s]"
      ]
     },
     "metadata": {},
     "output_type": "display_data"
    },
    {
     "name": "stdout",
     "output_type": "stream",
     "text": [
      "Boundary surface file : /Users/Lea/Desktop/PROJECT_DATA_ANALYSIS/freesurfer/recons/patient_14/bem/inner_skull.surf\n",
      "grid                  : 10.0 mm\n",
      "mindist               : 5.0 mm\n",
      "MRI volume            : /Users/Lea/Desktop/PROJECT_DATA_ANALYSIS/freesurfer/recons/patient_14/mri/T1.mgz\n",
      "\n",
      "Reading /Users/Lea/Desktop/PROJECT_DATA_ANALYSIS/freesurfer/recons/patient_14/mri/T1.mgz...\n",
      "\n",
      "Loaded bounding surface from /Users/Lea/Desktop/PROJECT_DATA_ANALYSIS/freesurfer/recons/patient_14/bem/inner_skull.surf (10242 nodes)\n",
      "Surface CM = (   0.8  -16.7   18.2) mm\n",
      "Surface fits inside a sphere with radius   79.4 mm\n",
      "Surface extent:\n",
      "    x =  -71.5 ...   75.8 mm\n",
      "    y =  -81.8 ...   61.6 mm\n",
      "    z =  -48.8 ...   90.2 mm\n",
      "Grid extent:\n",
      "    x =  -80.0 ...   80.0 mm\n",
      "    y =  -90.0 ...   70.0 mm\n",
      "    z =  -50.0 ...  100.0 mm\n",
      "4624 sources before omitting any.\n",
      "2088 sources after omitting infeasible sources not within 0.0 - 79.4 mm.\n",
      "Source spaces are in MRI coordinates.\n",
      "Checking that the sources are inside the surface and at least    5.0 mm away (will take a few...)\n",
      "Checking surface interior status for 2088 points...\n",
      "    Found   55/2088 points inside  an interior sphere of radius   23.4 mm\n",
      "    Found    0/2088 points outside an exterior sphere of radius   79.4 mm\n",
      "    Found  737/2033 points outside using surface Qhull\n",
      "    Found  102/1296 points outside using solid angles\n",
      "    Total 1249/2088 points inside the surface\n",
      "Interior check completed in 2070.7 ms\n",
      "    839 source space points omitted because they are outside the inner skull surface.\n",
      "    283 source space points omitted because of the    5.0-mm distance limit.\n",
      "966 sources remaining after excluding the sources outside the surface and less than    5.0 mm inside.\n",
      "Adjusting the neighborhood info.\n",
      "Source space : MRI voxel -> MRI (surface RAS)\n",
      "    0.010000 0.000000 0.000000     -80.00 mm\n",
      "    0.000000 0.010000 0.000000     -90.00 mm\n",
      "    0.000000 0.000000 0.010000     -50.00 mm\n",
      "    0.000000 0.000000 0.000000       1.00\n",
      "MRI volume : MRI voxel -> MRI (surface RAS)\n",
      "    -0.001000 0.000000 0.000000     128.00 mm\n",
      "    0.000000 0.000000 0.001000    -128.00 mm\n",
      "    0.000000 -0.001000 0.000000     128.00 mm\n",
      "    0.000000 0.000000 0.000000       1.00\n",
      "MRI volume : MRI (surface RAS) -> RAS (non-zero origin)\n",
      "    1.000000 0.000000 0.000000       1.05 mm\n",
      "    0.000000 1.000000 0.000000     -11.66 mm\n",
      "    0.000000 0.000000 1.000000      -2.81 mm\n",
      "    0.000000 0.000000 0.000000       1.00\n",
      "Setting up volume interpolation ...\n",
      "    9504084/16777216 nonzero values for the whole brain\n",
      "[done]\n",
      "Volume source space(s) present...\n",
      "    Loading /Users/Lea/Desktop/PROJECT_DATA_ANALYSIS/freesurfer/recons/patient_14/mri/brain.mgz as \"from\" volume\n",
      "    Loading /Users/Lea/Desktop/PROJECT_DATA_ANALYSIS/freesurfer/recons/fsaverage/mri/brain.mgz as \"to\" volume\n",
      "Computing registration...\n",
      "Reslicing to zooms=(5.0, 5.0, 5.0) for translation ...\n",
      "Optimizing translation:\n",
      "    Optimizing level 2 [max iter: 100]\n",
      "    Optimizing level 1 [max iter: 100]\n",
      "    Optimizing level 0 [max iter: 10]\n",
      "    Translation:   22.0 mm\n",
      "    R²:            67.8%\n",
      "Optimizing rigid:\n",
      "    Optimizing level 2 [max iter: 100]\n",
      "    Optimizing level 1 [max iter: 100]\n",
      "    Optimizing level 0 [max iter: 10]\n",
      "    Translation:   22.0 mm\n",
      "    Rotation:       0.4°\n",
      "    R²:            67.8%\n",
      "Optimizing affine:\n",
      "    Optimizing level 2 [max iter: 100]\n",
      "    Optimizing level 1 [max iter: 100]\n",
      "    Optimizing level 0 [max iter: 10]\n",
      "    R²:            83.7%\n",
      "Optimizing sdr:\n",
      "    R²:            88.5%\n",
      "Computing nonzero vertices after morph ...\n",
      "[done]\n"
     ]
    },
    {
     "data": {
      "application/vnd.jupyter.widget-view+json": {
       "model_id": "50e6219402264ad98078d33dae6b5ed1",
       "version_major": 2,
       "version_minor": 0
      },
      "text/plain": [
       "  0%|          | Time : 0/1 [00:00<?,       ?it/s]"
      ]
     },
     "metadata": {},
     "output_type": "display_data"
    },
    {
     "name": "stdout",
     "output_type": "stream",
     "text": [
      "Writing STC to disk...\n",
      "Overwriting existing file.\n",
      "[done]\n"
     ]
    },
    {
     "data": {
      "application/vnd.jupyter.widget-view+json": {
       "model_id": "f3b12eb64aa04ba4acf188e12017c547",
       "version_major": 2,
       "version_minor": 0
      },
      "text/plain": [
       "  0%|          | Time : 0/1 [00:00<?,       ?it/s]"
      ]
     },
     "metadata": {},
     "output_type": "display_data"
    },
    {
     "name": "stdout",
     "output_type": "stream",
     "text": [
      "Boundary surface file : /Users/Lea/Desktop/PROJECT_DATA_ANALYSIS/freesurfer/recons/patient_16/bem/inner_skull.surf\n",
      "grid                  : 10.0 mm\n",
      "mindist               : 5.0 mm\n",
      "MRI volume            : /Users/Lea/Desktop/PROJECT_DATA_ANALYSIS/freesurfer/recons/patient_16/mri/T1.mgz\n",
      "\n",
      "Reading /Users/Lea/Desktop/PROJECT_DATA_ANALYSIS/freesurfer/recons/patient_16/mri/T1.mgz...\n",
      "\n",
      "Loaded bounding surface from /Users/Lea/Desktop/PROJECT_DATA_ANALYSIS/freesurfer/recons/patient_16/bem/inner_skull.surf (10242 nodes)\n",
      "Surface CM = (  -9.3   -4.4  -19.2) mm\n",
      "Surface fits inside a sphere with radius   96.0 mm\n",
      "Surface extent:\n",
      "    x =  -73.7 ...   78.0 mm\n",
      "    y =  -88.0 ...   86.6 mm\n",
      "    z =  -93.2 ...   66.1 mm\n",
      "Grid extent:\n",
      "    x =  -80.0 ...   80.0 mm\n",
      "    y =  -90.0 ...   90.0 mm\n",
      "    z = -100.0 ...   70.0 mm\n",
      "5814 sources before omitting any.\n",
      "3560 sources after omitting infeasible sources not within 0.0 - 96.0 mm.\n",
      "Source spaces are in MRI coordinates.\n",
      "Checking that the sources are inside the surface and at least    5.0 mm away (will take a few...)\n",
      "Checking surface interior status for 3560 points...\n",
      "    Found  100/3560 points inside  an interior sphere of radius   28.6 mm\n",
      "    Found    0/3560 points outside an exterior sphere of radius   96.0 mm\n",
      "    Found 1602/3460 points outside using surface Qhull\n",
      "    Found  223/1858 points outside using solid angles\n",
      "    Total 1735/3560 points inside the surface\n",
      "Interior check completed in 3112.1 ms\n",
      "    1825 source space points omitted because they are outside the inner skull surface.\n",
      "    382 source space points omitted because of the    5.0-mm distance limit.\n",
      "1353 sources remaining after excluding the sources outside the surface and less than    5.0 mm inside.\n",
      "Adjusting the neighborhood info.\n",
      "Source space : MRI voxel -> MRI (surface RAS)\n",
      "    0.010000 0.000000 0.000000     -80.00 mm\n",
      "    0.000000 0.010000 0.000000     -90.00 mm\n",
      "    0.000000 0.000000 0.010000    -100.00 mm\n",
      "    0.000000 0.000000 0.000000       1.00\n",
      "MRI volume : MRI voxel -> MRI (surface RAS)\n",
      "    -0.001000 0.000000 0.000000     128.00 mm\n",
      "    0.000000 0.000000 0.001000    -128.00 mm\n",
      "    0.000000 -0.001000 0.000000     128.00 mm\n",
      "    0.000000 0.000000 0.000000       1.00\n",
      "MRI volume : MRI (surface RAS) -> RAS (non-zero origin)\n",
      "    1.000000 0.000000 0.000000      -0.07 mm\n",
      "    0.000000 1.000000 0.000000     -17.72 mm\n",
      "    0.000000 0.000000 1.000000      18.83 mm\n",
      "    0.000000 0.000000 0.000000       1.00\n",
      "Setting up volume interpolation ...\n",
      "    12752571/16777216 nonzero values for the whole brain\n",
      "[done]\n",
      "Volume source space(s) present...\n",
      "    Loading /Users/Lea/Desktop/PROJECT_DATA_ANALYSIS/freesurfer/recons/patient_16/mri/brain.mgz as \"from\" volume\n",
      "    Loading /Users/Lea/Desktop/PROJECT_DATA_ANALYSIS/freesurfer/recons/fsaverage/mri/brain.mgz as \"to\" volume\n",
      "Computing registration...\n",
      "Reslicing to zooms=(5.0, 5.0, 5.0) for translation ...\n",
      "Optimizing translation:\n",
      "    Optimizing level 2 [max iter: 100]\n",
      "    Optimizing level 1 [max iter: 100]\n",
      "    Optimizing level 0 [max iter: 10]\n",
      "    Translation:   11.6 mm\n",
      "    R²:            90.3%\n",
      "Optimizing rigid:\n",
      "    Optimizing level 2 [max iter: 100]\n",
      "    Optimizing level 1 [max iter: 100]\n",
      "    Optimizing level 0 [max iter: 10]\n",
      "    Translation:   11.6 mm\n",
      "    Rotation:       0.2°\n",
      "    R²:            90.3%\n",
      "Optimizing affine:\n",
      "    Optimizing level 2 [max iter: 100]\n",
      "    Optimizing level 1 [max iter: 100]\n",
      "    Optimizing level 0 [max iter: 10]\n",
      "    R²:            93.2%\n",
      "Optimizing sdr:\n",
      "    R²:            96.5%\n",
      "Computing nonzero vertices after morph ...\n",
      "[done]\n"
     ]
    },
    {
     "data": {
      "application/vnd.jupyter.widget-view+json": {
       "model_id": "d677fba8574345d988de6ee29d2dc058",
       "version_major": 2,
       "version_minor": 0
      },
      "text/plain": [
       "  0%|          | Time : 0/1 [00:00<?,       ?it/s]"
      ]
     },
     "metadata": {},
     "output_type": "display_data"
    },
    {
     "name": "stdout",
     "output_type": "stream",
     "text": [
      "Writing STC to disk...\n",
      "Overwriting existing file.\n",
      "[done]\n"
     ]
    },
    {
     "data": {
      "application/vnd.jupyter.widget-view+json": {
       "model_id": "72e002b90a35499bac0fdc2dd1420c0b",
       "version_major": 2,
       "version_minor": 0
      },
      "text/plain": [
       "  0%|          | Time : 0/1 [00:00<?,       ?it/s]"
      ]
     },
     "metadata": {},
     "output_type": "display_data"
    },
    {
     "name": "stdout",
     "output_type": "stream",
     "text": [
      "Boundary surface file : /Users/Lea/Desktop/PROJECT_DATA_ANALYSIS/freesurfer/recons/patient_17/bem/inner_skull.surf\n",
      "grid                  : 10.0 mm\n",
      "mindist               : 5.0 mm\n",
      "MRI volume            : /Users/Lea/Desktop/PROJECT_DATA_ANALYSIS/freesurfer/recons/patient_17/mri/T1.mgz\n",
      "\n",
      "Reading /Users/Lea/Desktop/PROJECT_DATA_ANALYSIS/freesurfer/recons/patient_17/mri/T1.mgz...\n",
      "\n",
      "Loaded bounding surface from /Users/Lea/Desktop/PROJECT_DATA_ANALYSIS/freesurfer/recons/patient_17/bem/inner_skull.surf (10242 nodes)\n",
      "Surface CM = ( -10.7   -0.6  -20.5) mm\n",
      "Surface fits inside a sphere with radius   98.1 mm\n",
      "Surface extent:\n",
      "    x =  -71.7 ...   78.0 mm\n",
      "    y =  -85.9 ...   85.1 mm\n",
      "    z =  -94.5 ...   68.1 mm\n",
      "Grid extent:\n",
      "    x =  -80.0 ...   80.0 mm\n",
      "    y =  -90.0 ...   90.0 mm\n",
      "    z = -100.0 ...   70.0 mm\n",
      "5814 sources before omitting any.\n",
      "3716 sources after omitting infeasible sources not within 0.0 - 98.1 mm.\n",
      "Source spaces are in MRI coordinates.\n",
      "Checking that the sources are inside the surface and at least    5.0 mm away (will take a few...)\n",
      "Checking surface interior status for 3716 points...\n",
      "    Found   30/3716 points inside  an interior sphere of radius   20.2 mm\n",
      "    Found    0/3716 points outside an exterior sphere of radius   98.1 mm\n",
      "    Found 1829/3686 points outside using surface Qhull\n",
      "    Found  284/1857 points outside using solid angles\n",
      "    Total 1603/3716 points inside the surface\n",
      "Interior check completed in 4598.0 ms\n",
      "    2113 source space points omitted because they are outside the inner skull surface.\n",
      "    355 source space points omitted because of the    5.0-mm distance limit.\n",
      "1248 sources remaining after excluding the sources outside the surface and less than    5.0 mm inside.\n",
      "Adjusting the neighborhood info.\n",
      "Source space : MRI voxel -> MRI (surface RAS)\n",
      "    0.010000 0.000000 0.000000     -80.00 mm\n",
      "    0.000000 0.010000 0.000000     -90.00 mm\n",
      "    0.000000 0.000000 0.010000    -100.00 mm\n",
      "    0.000000 0.000000 0.000000       1.00\n",
      "MRI volume : MRI voxel -> MRI (surface RAS)\n",
      "    -0.001000 0.000000 0.000000     128.00 mm\n",
      "    0.000000 0.000000 0.001000    -128.00 mm\n",
      "    0.000000 -0.001000 0.000000     128.00 mm\n",
      "    0.000000 0.000000 0.000000       1.00\n",
      "MRI volume : MRI (surface RAS) -> RAS (non-zero origin)\n",
      "    1.000000 0.000000 0.000000      -0.90 mm\n",
      "    0.000000 1.000000 0.000000     -17.47 mm\n",
      "    0.000000 0.000000 1.000000      17.13 mm\n",
      "    0.000000 0.000000 0.000000       1.00\n",
      "Setting up volume interpolation ...\n",
      "    12052536/16777216 nonzero values for the whole brain\n",
      "[done]\n",
      "Volume source space(s) present...\n",
      "    Loading /Users/Lea/Desktop/PROJECT_DATA_ANALYSIS/freesurfer/recons/patient_17/mri/brain.mgz as \"from\" volume\n",
      "    Loading /Users/Lea/Desktop/PROJECT_DATA_ANALYSIS/freesurfer/recons/fsaverage/mri/brain.mgz as \"to\" volume\n",
      "Computing registration...\n",
      "Reslicing to zooms=(5.0, 5.0, 5.0) for translation ...\n",
      "Optimizing translation:\n",
      "    Optimizing level 2 [max iter: 100]\n",
      "    Optimizing level 1 [max iter: 100]\n",
      "    Optimizing level 0 [max iter: 10]\n",
      "    Translation:   14.8 mm\n",
      "    R²:            88.8%\n",
      "Optimizing rigid:\n",
      "    Optimizing level 2 [max iter: 100]\n",
      "    Optimizing level 1 [max iter: 100]\n",
      "    Optimizing level 0 [max iter: 10]\n",
      "    Translation:   14.8 mm\n",
      "    Rotation:       0.1°\n",
      "    R²:            88.8%\n",
      "Optimizing affine:\n",
      "    Optimizing level 2 [max iter: 100]\n",
      "    Optimizing level 1 [max iter: 100]\n",
      "    Optimizing level 0 [max iter: 10]\n",
      "    R²:            95.6%\n",
      "Optimizing sdr:\n",
      "    R²:            98.0%\n",
      "Computing nonzero vertices after morph ...\n",
      "[done]\n"
     ]
    },
    {
     "data": {
      "application/vnd.jupyter.widget-view+json": {
       "model_id": "f4dbfa70d18a4c52b5e5bdae5e597049",
       "version_major": 2,
       "version_minor": 0
      },
      "text/plain": [
       "  0%|          | Time : 0/1 [00:00<?,       ?it/s]"
      ]
     },
     "metadata": {},
     "output_type": "display_data"
    },
    {
     "name": "stdout",
     "output_type": "stream",
     "text": [
      "Writing STC to disk...\n",
      "Overwriting existing file.\n",
      "[done]\n"
     ]
    },
    {
     "data": {
      "application/vnd.jupyter.widget-view+json": {
       "model_id": "c06db0eba23441e4a159af2748490e86",
       "version_major": 2,
       "version_minor": 0
      },
      "text/plain": [
       "  0%|          | Time : 0/1 [00:00<?,       ?it/s]"
      ]
     },
     "metadata": {},
     "output_type": "display_data"
    },
    {
     "name": "stdout",
     "output_type": "stream",
     "text": [
      "Boundary surface file : /Users/Lea/Desktop/PROJECT_DATA_ANALYSIS/freesurfer/recons/patient_21/bem/inner_skull.surf\n",
      "grid                  : 10.0 mm\n",
      "mindist               : 5.0 mm\n",
      "MRI volume            : /Users/Lea/Desktop/PROJECT_DATA_ANALYSIS/freesurfer/recons/patient_21/mri/T1.mgz\n",
      "\n",
      "Reading /Users/Lea/Desktop/PROJECT_DATA_ANALYSIS/freesurfer/recons/patient_21/mri/T1.mgz...\n",
      "\n",
      "Loaded bounding surface from /Users/Lea/Desktop/PROJECT_DATA_ANALYSIS/freesurfer/recons/patient_21/bem/inner_skull.surf (10242 nodes)\n",
      "Surface CM = (  -5.0   -2.9  -13.1) mm\n",
      "Surface fits inside a sphere with radius   99.1 mm\n",
      "Surface extent:\n",
      "    x =  -74.2 ...   78.5 mm\n",
      "    y =  -88.6 ...   92.0 mm\n",
      "    z =  -73.3 ...   62.3 mm\n",
      "Grid extent:\n",
      "    x =  -80.0 ...   80.0 mm\n",
      "    y =  -90.0 ...  100.0 mm\n",
      "    z =  -80.0 ...   70.0 mm\n",
      "5440 sources before omitting any.\n",
      "3701 sources after omitting infeasible sources not within 0.0 - 99.1 mm.\n",
      "Source spaces are in MRI coordinates.\n",
      "Checking that the sources are inside the surface and at least    5.0 mm away (will take a few...)\n",
      "Checking surface interior status for 3701 points...\n",
      "    Found   86/3701 points inside  an interior sphere of radius   27.6 mm\n",
      "    Found    0/3701 points outside an exterior sphere of radius   99.1 mm\n",
      "    Found 1793/3615 points outside using surface Qhull\n",
      "    Found  153/1822 points outside using solid angles\n",
      "    Total 1755/3701 points inside the surface\n",
      "Interior check completed in 6096.4 ms\n",
      "    1946 source space points omitted because they are outside the inner skull surface.\n",
      "    343 source space points omitted because of the    5.0-mm distance limit.\n",
      "1412 sources remaining after excluding the sources outside the surface and less than    5.0 mm inside.\n",
      "Adjusting the neighborhood info.\n",
      "Source space : MRI voxel -> MRI (surface RAS)\n",
      "    0.010000 0.000000 0.000000     -80.00 mm\n",
      "    0.000000 0.010000 0.000000     -90.00 mm\n",
      "    0.000000 0.000000 0.010000     -80.00 mm\n",
      "    0.000000 0.000000 0.000000       1.00\n",
      "MRI volume : MRI voxel -> MRI (surface RAS)\n",
      "    -0.001000 0.000000 0.000000     128.00 mm\n",
      "    0.000000 0.000000 0.001000    -128.00 mm\n",
      "    0.000000 -0.001000 0.000000     128.00 mm\n",
      "    0.000000 0.000000 0.000000       1.00\n",
      "MRI volume : MRI (surface RAS) -> RAS (non-zero origin)\n",
      "    1.000000 0.000000 0.000000      -0.63 mm\n",
      "    0.000000 1.000000 0.000000     -17.84 mm\n",
      "    0.000000 0.000000 1.000000      18.38 mm\n",
      "    0.000000 0.000000 0.000000       1.00\n",
      "Setting up volume interpolation ...\n",
      "    13287896/16777216 nonzero values for the whole brain\n",
      "[done]\n",
      "Volume source space(s) present...\n",
      "    Loading /Users/Lea/Desktop/PROJECT_DATA_ANALYSIS/freesurfer/recons/patient_21/mri/brain.mgz as \"from\" volume\n",
      "    Loading /Users/Lea/Desktop/PROJECT_DATA_ANALYSIS/freesurfer/recons/fsaverage/mri/brain.mgz as \"to\" volume\n",
      "Computing registration...\n",
      "Reslicing to zooms=(5.0, 5.0, 5.0) for translation ...\n",
      "Optimizing translation:\n",
      "    Optimizing level 2 [max iter: 100]\n",
      "    Optimizing level 1 [max iter: 100]\n",
      "    Optimizing level 0 [max iter: 10]\n",
      "    Translation:    7.6 mm\n",
      "    R²:            93.3%\n",
      "Optimizing rigid:\n",
      "    Optimizing level 2 [max iter: 100]\n",
      "    Optimizing level 1 [max iter: 100]\n",
      "    Optimizing level 0 [max iter: 10]\n",
      "    Translation:    7.6 mm\n",
      "    Rotation:       0.1°\n",
      "    R²:            93.3%\n",
      "Optimizing affine:\n",
      "    Optimizing level 2 [max iter: 100]\n",
      "    Optimizing level 1 [max iter: 100]\n",
      "    Optimizing level 0 [max iter: 10]\n",
      "    R²:            94.9%\n",
      "Optimizing sdr:\n",
      "    R²:            97.4%\n",
      "Computing nonzero vertices after morph ...\n",
      "[done]\n"
     ]
    },
    {
     "data": {
      "application/vnd.jupyter.widget-view+json": {
       "model_id": "4e2b9578adb0418f889a820ee4febb38",
       "version_major": 2,
       "version_minor": 0
      },
      "text/plain": [
       "  0%|          | Time : 0/1 [00:00<?,       ?it/s]"
      ]
     },
     "metadata": {},
     "output_type": "display_data"
    },
    {
     "name": "stdout",
     "output_type": "stream",
     "text": [
      "Writing STC to disk...\n",
      "Overwriting existing file.\n",
      "[done]\n"
     ]
    },
    {
     "data": {
      "application/vnd.jupyter.widget-view+json": {
       "model_id": "56b58c56a832429d943724911d887f4a",
       "version_major": 2,
       "version_minor": 0
      },
      "text/plain": [
       "  0%|          | Time : 0/1 [00:00<?,       ?it/s]"
      ]
     },
     "metadata": {},
     "output_type": "display_data"
    },
    {
     "name": "stdout",
     "output_type": "stream",
     "text": [
      "Boundary surface file : /Users/Lea/Desktop/PROJECT_DATA_ANALYSIS/freesurfer/recons/patient_22/bem/inner_skull.surf\n",
      "grid                  : 10.0 mm\n",
      "mindist               : 5.0 mm\n",
      "MRI volume            : /Users/Lea/Desktop/PROJECT_DATA_ANALYSIS/freesurfer/recons/patient_22/mri/T1.mgz\n",
      "\n",
      "Reading /Users/Lea/Desktop/PROJECT_DATA_ANALYSIS/freesurfer/recons/patient_22/mri/T1.mgz...\n",
      "\n",
      "Loaded bounding surface from /Users/Lea/Desktop/PROJECT_DATA_ANALYSIS/freesurfer/recons/patient_22/bem/inner_skull.surf (10242 nodes)\n",
      "Surface CM = (  -6.6   -7.0   -9.8) mm\n",
      "Surface fits inside a sphere with radius   94.5 mm\n",
      "Surface extent:\n",
      "    x =  -63.1 ...   68.6 mm\n",
      "    y =  -81.5 ...   73.5 mm\n",
      "    z =  -73.6 ...   77.1 mm\n",
      "Grid extent:\n",
      "    x =  -70.0 ...   70.0 mm\n",
      "    y =  -90.0 ...   80.0 mm\n",
      "    z =  -80.0 ...   80.0 mm\n",
      "4590 sources before omitting any.\n",
      "3207 sources after omitting infeasible sources not within 0.0 - 94.5 mm.\n",
      "Source spaces are in MRI coordinates.\n",
      "Checking that the sources are inside the surface and at least    5.0 mm away (will take a few...)\n",
      "Checking surface interior status for 3207 points...\n",
      "    Found   63/3207 points inside  an interior sphere of radius   24.6 mm\n",
      "    Found    0/3207 points outside an exterior sphere of radius   94.5 mm\n",
      "    Found 1705/3144 points outside using surface Qhull\n",
      "    Found   97/1439 points outside using solid angles\n",
      "    Total 1405/3207 points inside the surface\n",
      "Interior check completed in 2315.6 ms\n",
      "    1802 source space points omitted because they are outside the inner skull surface.\n",
      "    297 source space points omitted because of the    5.0-mm distance limit.\n",
      "1108 sources remaining after excluding the sources outside the surface and less than    5.0 mm inside.\n",
      "Adjusting the neighborhood info.\n",
      "Source space : MRI voxel -> MRI (surface RAS)\n",
      "    0.010000 0.000000 0.000000     -70.00 mm\n",
      "    0.000000 0.010000 0.000000     -90.00 mm\n",
      "    0.000000 0.000000 0.010000     -80.00 mm\n",
      "    0.000000 0.000000 0.000000       1.00\n",
      "MRI volume : MRI voxel -> MRI (surface RAS)\n",
      "    -0.001000 0.000000 0.000000     128.00 mm\n",
      "    0.000000 0.000000 0.001000    -128.00 mm\n",
      "    0.000000 -0.001000 0.000000     128.00 mm\n",
      "    0.000000 0.000000 0.000000       1.00\n",
      "MRI volume : MRI (surface RAS) -> RAS (non-zero origin)\n",
      "    1.000000 0.000000 0.000000      -1.00 mm\n",
      "    0.000000 1.000000 0.000000     -17.00 mm\n",
      "    0.000000 0.000000 1.000000      19.00 mm\n",
      "    0.000000 0.000000 0.000000       1.00\n",
      "Setting up volume interpolation ...\n",
      "    10548856/16777216 nonzero values for the whole brain\n",
      "[done]\n",
      "Volume source space(s) present...\n",
      "    Loading /Users/Lea/Desktop/PROJECT_DATA_ANALYSIS/freesurfer/recons/patient_22/mri/brain.mgz as \"from\" volume\n",
      "    Loading /Users/Lea/Desktop/PROJECT_DATA_ANALYSIS/freesurfer/recons/fsaverage/mri/brain.mgz as \"to\" volume\n",
      "Computing registration...\n",
      "Reslicing to zooms=(5.0, 5.0, 5.0) for translation ...\n",
      "Optimizing translation:\n",
      "    Optimizing level 2 [max iter: 100]\n",
      "    Optimizing level 1 [max iter: 100]\n",
      "    Optimizing level 0 [max iter: 10]\n",
      "    Translation:   21.7 mm\n",
      "    R²:            83.2%\n",
      "Optimizing rigid:\n",
      "    Optimizing level 2 [max iter: 100]\n",
      "    Optimizing level 1 [max iter: 100]\n",
      "    Optimizing level 0 [max iter: 10]\n",
      "    Translation:   21.7 mm\n",
      "    Rotation:       6.5°\n",
      "    R²:            83.3%\n",
      "Optimizing affine:\n",
      "    Optimizing level 2 [max iter: 100]\n",
      "    Optimizing level 1 [max iter: 100]\n",
      "    Optimizing level 0 [max iter: 10]\n",
      "    R²:            96.2%\n",
      "Optimizing sdr:\n",
      "    R²:            98.2%\n",
      "Computing nonzero vertices after morph ...\n",
      "[done]\n"
     ]
    },
    {
     "data": {
      "application/vnd.jupyter.widget-view+json": {
       "model_id": "4cdadab8069e49c4bdbb2361e566d13c",
       "version_major": 2,
       "version_minor": 0
      },
      "text/plain": [
       "  0%|          | Time : 0/1 [00:00<?,       ?it/s]"
      ]
     },
     "metadata": {},
     "output_type": "display_data"
    },
    {
     "name": "stdout",
     "output_type": "stream",
     "text": [
      "Writing STC to disk...\n",
      "Overwriting existing file.\n",
      "[done]\n"
     ]
    },
    {
     "data": {
      "application/vnd.jupyter.widget-view+json": {
       "model_id": "ecdb71018eb6447385674d5f2e51bd08",
       "version_major": 2,
       "version_minor": 0
      },
      "text/plain": [
       "  0%|          | Time : 0/1 [00:00<?,       ?it/s]"
      ]
     },
     "metadata": {},
     "output_type": "display_data"
    },
    {
     "name": "stdout",
     "output_type": "stream",
     "text": [
      "Boundary surface file : /Users/Lea/Desktop/PROJECT_DATA_ANALYSIS/freesurfer/recons/patient_23/bem/inner_skull.surf\n",
      "grid                  : 10.0 mm\n",
      "mindist               : 5.0 mm\n",
      "MRI volume            : /Users/Lea/Desktop/PROJECT_DATA_ANALYSIS/freesurfer/recons/patient_23/mri/T1.mgz\n",
      "\n",
      "Reading /Users/Lea/Desktop/PROJECT_DATA_ANALYSIS/freesurfer/recons/patient_23/mri/T1.mgz...\n",
      "\n",
      "Loaded bounding surface from /Users/Lea/Desktop/PROJECT_DATA_ANALYSIS/freesurfer/recons/patient_23/bem/inner_skull.surf (10242 nodes)\n",
      "Surface CM = (  -4.8   -0.9   -9.0) mm\n",
      "Surface fits inside a sphere with radius   96.9 mm\n",
      "Surface extent:\n",
      "    x =  -67.0 ...   71.0 mm\n",
      "    y =  -84.7 ...   90.5 mm\n",
      "    z =  -70.1 ...   75.6 mm\n",
      "Grid extent:\n",
      "    x =  -70.0 ...   80.0 mm\n",
      "    y =  -90.0 ...  100.0 mm\n",
      "    z =  -80.0 ...   80.0 mm\n",
      "5440 sources before omitting any.\n",
      "3482 sources after omitting infeasible sources not within 0.0 - 96.9 mm.\n",
      "Source spaces are in MRI coordinates.\n",
      "Checking that the sources are inside the surface and at least    5.0 mm away (will take a few...)\n",
      "Checking surface interior status for 3482 points...\n",
      "    Found  124/3482 points inside  an interior sphere of radius   31.3 mm\n",
      "    Found    0/3482 points outside an exterior sphere of radius   96.9 mm\n",
      "    Found 1732/3358 points outside using surface Qhull\n",
      "    Found   65/1626 points outside using solid angles\n",
      "    Total 1685/3482 points inside the surface\n",
      "Interior check completed in 2540.2 ms\n",
      "    1797 source space points omitted because they are outside the inner skull surface.\n",
      "    326 source space points omitted because of the    5.0-mm distance limit.\n",
      "1359 sources remaining after excluding the sources outside the surface and less than    5.0 mm inside.\n",
      "Adjusting the neighborhood info.\n",
      "Source space : MRI voxel -> MRI (surface RAS)\n",
      "    0.010000 0.000000 0.000000     -70.00 mm\n",
      "    0.000000 0.010000 0.000000     -90.00 mm\n",
      "    0.000000 0.000000 0.010000     -80.00 mm\n",
      "    0.000000 0.000000 0.000000       1.00\n",
      "MRI volume : MRI voxel -> MRI (surface RAS)\n",
      "    -0.001000 0.000000 0.000000     128.00 mm\n",
      "    0.000000 0.000000 0.001000    -128.00 mm\n",
      "    0.000000 -0.001000 0.000000     128.00 mm\n",
      "    0.000000 0.000000 0.000000       1.00\n",
      "MRI volume : MRI (surface RAS) -> RAS (non-zero origin)\n",
      "    1.000000 0.000000 0.000000      -0.60 mm\n",
      "    0.000000 1.000000 0.000000     -17.45 mm\n",
      "    0.000000 0.000000 1.000000      17.72 mm\n",
      "    0.000000 0.000000 0.000000       1.00\n",
      "Setting up volume interpolation ...\n",
      "    12658977/16777216 nonzero values for the whole brain\n",
      "[done]\n",
      "Volume source space(s) present...\n",
      "    Loading /Users/Lea/Desktop/PROJECT_DATA_ANALYSIS/freesurfer/recons/patient_23/mri/brain.mgz as \"from\" volume\n",
      "    Loading /Users/Lea/Desktop/PROJECT_DATA_ANALYSIS/freesurfer/recons/fsaverage/mri/brain.mgz as \"to\" volume\n",
      "Computing registration...\n",
      "Reslicing to zooms=(5.0, 5.0, 5.0) for translation ...\n",
      "Optimizing translation:\n",
      "    Optimizing level 2 [max iter: 100]\n",
      "    Optimizing level 1 [max iter: 100]\n",
      "    Optimizing level 0 [max iter: 10]\n",
      "    Translation:   15.1 mm\n",
      "    R²:            88.8%\n",
      "Optimizing rigid:\n",
      "    Optimizing level 2 [max iter: 100]\n",
      "    Optimizing level 1 [max iter: 100]\n",
      "    Optimizing level 0 [max iter: 10]\n",
      "    Translation:   15.1 mm\n",
      "    Rotation:       0.9°\n",
      "    R²:            88.9%\n",
      "Optimizing affine:\n",
      "    Optimizing level 2 [max iter: 100]\n",
      "    Optimizing level 1 [max iter: 100]\n",
      "    Optimizing level 0 [max iter: 10]\n",
      "    R²:            97.1%\n",
      "Optimizing sdr:\n",
      "    R²:            98.7%\n",
      "Computing nonzero vertices after morph ...\n",
      "[done]\n"
     ]
    },
    {
     "data": {
      "application/vnd.jupyter.widget-view+json": {
       "model_id": "c0276cab8f2545b7ad90bd44ac9996e0",
       "version_major": 2,
       "version_minor": 0
      },
      "text/plain": [
       "  0%|          | Time : 0/1 [00:00<?,       ?it/s]"
      ]
     },
     "metadata": {},
     "output_type": "display_data"
    },
    {
     "name": "stdout",
     "output_type": "stream",
     "text": [
      "Writing STC to disk...\n",
      "Overwriting existing file.\n",
      "[done]\n"
     ]
    },
    {
     "data": {
      "application/vnd.jupyter.widget-view+json": {
       "model_id": "2d40d7f175b64b6bb9d2ccb71973e3a1",
       "version_major": 2,
       "version_minor": 0
      },
      "text/plain": [
       "  0%|          | Time : 0/1 [00:00<?,       ?it/s]"
      ]
     },
     "metadata": {},
     "output_type": "display_data"
    },
    {
     "name": "stdout",
     "output_type": "stream",
     "text": [
      "Boundary surface file : /Users/Lea/Desktop/PROJECT_DATA_ANALYSIS/freesurfer/recons/patient_25/bem/inner_skull.surf\n",
      "grid                  : 10.0 mm\n",
      "mindist               : 5.0 mm\n",
      "MRI volume            : /Users/Lea/Desktop/PROJECT_DATA_ANALYSIS/freesurfer/recons/patient_25/mri/T1.mgz\n",
      "\n",
      "Reading /Users/Lea/Desktop/PROJECT_DATA_ANALYSIS/freesurfer/recons/patient_25/mri/T1.mgz...\n",
      "\n",
      "Loaded bounding surface from /Users/Lea/Desktop/PROJECT_DATA_ANALYSIS/freesurfer/recons/patient_25/bem/inner_skull.surf (10242 nodes)\n",
      "Surface CM = ( -16.7   -1.5  -46.5) mm\n",
      "Surface fits inside a sphere with radius  112.5 mm\n",
      "Surface extent:\n",
      "    x =  -97.5 ...   72.3 mm\n",
      "    y =  -85.8 ...   79.8 mm\n",
      "    z = -126.4 ...   56.7 mm\n",
      "Grid extent:\n",
      "    x = -100.0 ...   80.0 mm\n",
      "    y =  -90.0 ...   80.0 mm\n",
      "    z = -130.0 ...   60.0 mm\n",
      "6840 sources before omitting any.\n",
      "5214 sources after omitting infeasible sources not within 0.0 - 112.5 mm.\n",
      "Source spaces are in MRI coordinates.\n",
      "Checking that the sources are inside the surface and at least    5.0 mm away (will take a few...)\n",
      "Checking surface interior status for 5214 points...\n",
      "    Found  141/5214 points inside  an interior sphere of radius   32.4 mm\n",
      "    Found    0/5214 points outside an exterior sphere of radius  112.5 mm\n",
      "    Found 2689/5073 points outside using surface Qhull\n",
      "    Found  699/2384 points outside using solid angles\n",
      "    Total 1826/5214 points inside the surface\n",
      "Interior check completed in 4679.0 ms\n",
      "    3388 source space points omitted because they are outside the inner skull surface.\n",
      "    332 source space points omitted because of the    5.0-mm distance limit.\n",
      "1494 sources remaining after excluding the sources outside the surface and less than    5.0 mm inside.\n",
      "Adjusting the neighborhood info.\n",
      "Source space : MRI voxel -> MRI (surface RAS)\n",
      "    0.010000 0.000000 0.000000    -100.00 mm\n",
      "    0.000000 0.010000 0.000000     -90.00 mm\n",
      "    0.000000 0.000000 0.010000    -130.00 mm\n",
      "    0.000000 0.000000 0.000000       1.00\n",
      "MRI volume : MRI voxel -> MRI (surface RAS)\n",
      "    -0.001000 0.000000 0.000000     128.00 mm\n",
      "    0.000000 0.000000 0.001000    -128.00 mm\n",
      "    0.000000 -0.001000 0.000000     128.00 mm\n",
      "    0.000000 0.000000 0.000000       1.00\n",
      "MRI volume : MRI (surface RAS) -> RAS (non-zero origin)\n",
      "    1.000000 0.000000 0.000000      -2.55 mm\n",
      "    0.000000 1.000000 0.000000      24.26 mm\n",
      "    0.000000 0.000000 1.000000      49.95 mm\n",
      "    0.000000 0.000000 0.000000       1.00\n",
      "Setting up volume interpolation ...\n",
      "    13675914/16777216 nonzero values for the whole brain\n",
      "[done]\n",
      "Volume source space(s) present...\n",
      "    Loading /Users/Lea/Desktop/PROJECT_DATA_ANALYSIS/freesurfer/recons/patient_25/mri/brain.mgz as \"from\" volume\n",
      "    Loading /Users/Lea/Desktop/PROJECT_DATA_ANALYSIS/freesurfer/recons/fsaverage/mri/brain.mgz as \"to\" volume\n",
      "Computing registration...\n",
      "Reslicing to zooms=(5.0, 5.0, 5.0) for translation ...\n",
      "Optimizing translation:\n",
      "    Optimizing level 2 [max iter: 100]\n",
      "    Optimizing level 1 [max iter: 100]\n",
      "    Optimizing level 0 [max iter: 10]\n",
      "    Translation:   52.3 mm\n",
      "    R²:            89.8%\n",
      "Optimizing rigid:\n",
      "    Optimizing level 2 [max iter: 100]\n",
      "    Optimizing level 1 [max iter: 100]\n",
      "    Optimizing level 0 [max iter: 10]\n",
      "    Translation:   52.3 mm\n",
      "    Rotation:       3.9°\n",
      "    R²:            89.4%\n",
      "Optimizing affine:\n",
      "    Optimizing level 2 [max iter: 100]\n",
      "    Optimizing level 1 [max iter: 100]\n",
      "    Optimizing level 0 [max iter: 10]\n",
      "    R²:            96.2%\n",
      "Optimizing sdr:\n",
      "    R²:            98.3%\n",
      "Computing nonzero vertices after morph ...\n",
      "[done]\n"
     ]
    },
    {
     "data": {
      "application/vnd.jupyter.widget-view+json": {
       "model_id": "3dee4779559b4fa59ad07527cb4f97e3",
       "version_major": 2,
       "version_minor": 0
      },
      "text/plain": [
       "  0%|          | Time : 0/1 [00:00<?,       ?it/s]"
      ]
     },
     "metadata": {},
     "output_type": "display_data"
    },
    {
     "name": "stdout",
     "output_type": "stream",
     "text": [
      "Writing STC to disk...\n",
      "Overwriting existing file.\n",
      "[done]\n"
     ]
    },
    {
     "data": {
      "application/vnd.jupyter.widget-view+json": {
       "model_id": "a9d38b4528444394abaadba6e9b174b3",
       "version_major": 2,
       "version_minor": 0
      },
      "text/plain": [
       "  0%|          | Time : 0/1 [00:00<?,       ?it/s]"
      ]
     },
     "metadata": {},
     "output_type": "display_data"
    }
   ],
   "source": [
    "for subject in subjects:\n",
    "    base_subject = subject.split(\"_part\")[0] \n",
    "\n",
    "    #load the stc -> the neural actvity\n",
    "    stc_fname = op.join(data_path, \"stc_files\", \"theta\", f'theta_{subject}-vl.stc')\n",
    "    stc = mne.read_source_estimate(stc_fname, subject=base_subject)\n",
    "\n",
    "    #recreate the src -> the brain grid\n",
    "    surface = op.join(subjects_dir, base_subject , \"bem\" , \"inner_skull.surf\")\n",
    "    src = mne.setup_volume_source_space(\n",
    "        base_subject, subjects_dir=subjects_dir, pos=10.0, surface=surface, add_interpolator=True\n",
    "    )\n",
    "\n",
    "\n",
    "    #morph it\n",
    "    morph = mne.compute_source_morph(\n",
    "        src = src,\n",
    "        subject_from=base_subject, \n",
    "        subject_to=target_subject,\n",
    "        subjects_dir=subjects_dir, verbose=True\n",
    "    )\n",
    "\n",
    "    stc_fsaverage = morph.apply(stc)\n",
    "\n",
    "    #save it\n",
    "    stc_fsaverage.save(f\"/Users/Lea/Desktop/PROJECT_DATA_ANALYSIS/morphed_stc/theta/theta_{subject}_to_fsaverage\", overwrite=True)\n",
    "\n",
    "    #save as a nifti file\n",
    "    img_fsaverage = morph.apply(stc, mri_resolution=2, output=\"nifti1\")\n",
    "    output_path = f\"/Users/Lea/Desktop/PROJECT_DATA_ANALYSIS/morphed_niftis/theta/theta_{subject}_to_fsaverage.nii.gz\"\n",
    "    nib.save(img_fsaverage, output_path)\n",
    "\n",
    "    "
   ]
  },
  {
   "cell_type": "code",
   "execution_count": 7,
   "metadata": {},
   "outputs": [
    {
     "name": "stdout",
     "output_type": "stream",
     "text": [
      "Boundary surface file : /Users/Lea/Desktop/PROJECT_DATA_ANALYSIS/freesurfer/recons/Patient_06/bem/inner_skull.surf\n",
      "grid                  : 10.0 mm\n",
      "mindist               : 5.0 mm\n",
      "MRI volume            : /Users/Lea/Desktop/PROJECT_DATA_ANALYSIS/freesurfer/recons/Patient_06/mri/T1.mgz\n",
      "\n",
      "Reading /Users/Lea/Desktop/PROJECT_DATA_ANALYSIS/freesurfer/recons/Patient_06/mri/T1.mgz...\n",
      "\n",
      "Loaded bounding surface from /Users/Lea/Desktop/PROJECT_DATA_ANALYSIS/freesurfer/recons/Patient_06/bem/inner_skull.surf (10242 nodes)\n",
      "Surface CM = (   1.4  -12.3   27.7) mm\n",
      "Surface fits inside a sphere with radius   93.4 mm\n",
      "Surface extent:\n",
      "    x =  -72.6 ...   72.8 mm\n",
      "    y =  -89.8 ...   78.7 mm\n",
      "    z =  -43.2 ...   93.1 mm\n",
      "Grid extent:\n",
      "    x =  -80.0 ...   80.0 mm\n",
      "    y =  -90.0 ...   80.0 mm\n",
      "    z =  -50.0 ...  100.0 mm\n",
      "4896 sources before omitting any.\n",
      "3242 sources after omitting infeasible sources not within 0.0 - 93.4 mm.\n",
      "Source spaces are in MRI coordinates.\n",
      "Checking that the sources are inside the surface and at least    5.0 mm away (will take a few...)\n",
      "Checking surface interior status for 3242 points...\n",
      "    Found  282/3242 points inside  an interior sphere of radius   40.5 mm\n",
      "    Found    0/3242 points outside an exterior sphere of radius   93.4 mm\n",
      "    Found 1594/2960 points outside using surface Qhull\n",
      "    Found  115/1366 points outside using solid angles\n",
      "    Total 1533/3242 points inside the surface\n",
      "Interior check completed in 2645.1 ms\n",
      "    1709 source space points omitted because they are outside the inner skull surface.\n",
      "    305 source space points omitted because of the    5.0-mm distance limit.\n",
      "1228 sources remaining after excluding the sources outside the surface and less than    5.0 mm inside.\n",
      "Adjusting the neighborhood info.\n",
      "Source space : MRI voxel -> MRI (surface RAS)\n",
      "    0.010000 0.000000 0.000000     -80.00 mm\n",
      "    0.000000 0.010000 0.000000     -90.00 mm\n",
      "    0.000000 0.000000 0.010000     -50.00 mm\n",
      "    0.000000 0.000000 0.000000       1.00\n",
      "MRI volume : MRI voxel -> MRI (surface RAS)\n",
      "    -0.001000 0.000000 0.000000     128.00 mm\n",
      "    0.000000 0.000000 0.001000    -128.00 mm\n",
      "    0.000000 -0.001000 0.000000     128.00 mm\n",
      "    0.000000 0.000000 0.000000       1.00\n",
      "MRI volume : MRI (surface RAS) -> RAS (non-zero origin)\n",
      "    1.000000 0.000000 0.000000       1.71 mm\n",
      "    0.000000 1.000000 0.000000     -10.59 mm\n",
      "    0.000000 0.000000 1.000000      -7.48 mm\n",
      "    0.000000 0.000000 0.000000       1.00\n",
      "Setting up volume interpolation ...\n",
      "    11650666/16777216 nonzero values for the whole brain\n",
      "[done]\n"
     ]
    }
   ],
   "source": [
    "subject = \"Patient_06\"  \n",
    "target_subject = \"fsaverage\"\n",
    "data_path = \"/Users/Lea/Desktop/PROJECT_DATA_ANALYSIS\"\n",
    "subjects_dir = op.join(data_path, \"freesurfer\", \"recons\")\n",
    "\n",
    "\n",
    "#load the stc -> the neural actvity\n",
    "stc_fname = op.join(data_path, \"stc_files\", f'{subject}-vl.stc')\n",
    "stc = mne.read_source_estimate(stc_fname, subject=subject)\n",
    "\n",
    "#recreate the src -> the brain grid\n",
    "surface = op.join(subjects_dir, subject , \"bem\" , \"inner_skull.surf\")\n",
    "src = mne.setup_volume_source_space(\n",
    "    subject, subjects_dir=subjects_dir, pos=10.0, surface=surface, add_interpolator=True\n",
    ")\n",
    "\n",
    "\n",
    "\n"
   ]
  },
  {
   "cell_type": "code",
   "execution_count": 8,
   "metadata": {},
   "outputs": [
    {
     "name": "stdout",
     "output_type": "stream",
     "text": [
      "Volume source space(s) present...\n",
      "    Loading /Users/Lea/Desktop/PROJECT_DATA_ANALYSIS/freesurfer/recons/Patient_06/mri/brain.mgz as \"from\" volume\n",
      "    Loading /Users/Lea/Desktop/PROJECT_DATA_ANALYSIS/freesurfer/recons/fsaverage/mri/brain.mgz as \"to\" volume\n",
      "Computing registration...\n",
      "Reslicing to zooms=(5.0, 5.0, 5.0) for translation ...\n",
      "Optimizing translation:\n",
      "    Optimizing level 2 [max iter: 100]\n",
      "    Optimizing level 1 [max iter: 100]\n",
      "    Optimizing level 0 [max iter: 10]\n",
      "    Translation:   14.8 mm\n",
      "    R²:            85.9%\n",
      "Optimizing rigid:\n",
      "    Optimizing level 2 [max iter: 100]\n",
      "    Optimizing level 1 [max iter: 100]\n",
      "    Optimizing level 0 [max iter: 10]\n",
      "    Translation:   14.8 mm\n",
      "    Rotation:       0.1°\n",
      "    R²:            85.9%\n",
      "Optimizing affine:\n",
      "    Optimizing level 2 [max iter: 100]\n",
      "    Optimizing level 1 [max iter: 100]\n",
      "    Optimizing level 0 [max iter: 10]\n",
      "    R²:            95.4%\n",
      "Optimizing sdr:\n",
      "    R²:            98.2%\n",
      "Computing nonzero vertices after morph ...\n",
      "[done]\n"
     ]
    },
    {
     "data": {
      "application/vnd.jupyter.widget-view+json": {
       "model_id": "cbaff97c09494a6186f4ee922d05c8f5",
       "version_major": 2,
       "version_minor": 0
      },
      "text/plain": [
       "  0%|          | Time : 0/1 [00:00<?,       ?it/s]"
      ]
     },
     "metadata": {},
     "output_type": "display_data"
    }
   ],
   "source": [
    "\n",
    "#morph it\n",
    "morph = mne.compute_source_morph(\n",
    "    src = src,\n",
    "    subject_from=subject, \n",
    "    subject_to=target_subject,\n",
    "    subjects_dir=subjects_dir, verbose=True\n",
    ")\n",
    "\n",
    "stc_fsaverage = morph.apply(stc)"
   ]
  },
  {
   "cell_type": "code",
   "execution_count": 9,
   "metadata": {},
   "outputs": [
    {
     "name": "stdout",
     "output_type": "stream",
     "text": [
      "Writing STC to disk...\n",
      "Overwriting existing file.\n",
      "[done]\n"
     ]
    },
    {
     "data": {
      "application/vnd.jupyter.widget-view+json": {
       "model_id": "ae75da2213c64afbba7250e7d6502bb8",
       "version_major": 2,
       "version_minor": 0
      },
      "text/plain": [
       "  0%|          | Time : 0/1 [00:00<?,       ?it/s]"
      ]
     },
     "metadata": {},
     "output_type": "display_data"
    }
   ],
   "source": [
    "#save it\n",
    "stc_fsaverage.save(f\"/Users/Lea/Desktop/PROJECT_DATA_ANALYSIS/morphed_stc/{subject}_to_fsaverage\", overwrite=True)\n",
    "\n",
    "#save as a nifti file\n",
    "img_fsaverage = morph.apply(stc, mri_resolution=2, output=\"nifti1\")\n",
    "output_path = f\"/Users/Lea/Desktop/PROJECT_DATA_ANALYSIS/morphed_niftis/{subject}_to_fsaverage.nii.gz\"\n",
    "nib.save(img_fsaverage, output_path)"
   ]
  },
  {
   "cell_type": "code",
   "execution_count": 10,
   "metadata": {},
   "outputs": [
    {
     "data": {
      "image/png": "[encoded data removed]",
      "text/plain": [
       "<Figure size 660x350 with 4 Axes>"
      ]
     },
     "metadata": {},
     "output_type": "display_data"
    }
   ],
   "source": [
    "#plot it \n",
    "fname_t1_fsaverage = \"/Users/Lea/Desktop/PROJECT_DATA_ANALYSIS/freesurfer/recons/fsaverage/mri/T1.mgz\"\n",
    "t1_fsaverage = nib.load(fname_t1_fsaverage)\n",
    "img_fsaverage = nib.load(f\"/Users/Lea/Desktop/PROJECT_DATA_ANALYSIS/morphed_niftis/{subject}_to_fsaverage.nii.gz\")\n",
    "\n",
    "\n",
    "display = plot_glass_brain(\n",
    "    t1_fsaverage,\n",
    "    title=f\"{subject} results to fsaverage\",\n",
    "    draw_cross=False,\n",
    "    annotate=True,\n",
    "    black_bg=True  # Optional: makes overlay pop\n",
    ")\n",
    "\n",
    "# Add your source-localized activity\n",
    "display.add_overlay(img_fsaverage, alpha=0.75)"
   ]
  }
 ],
 "metadata": {
  "kernelspec": {
   "display_name": "venv",
   "language": "python",
   "name": "python3"
  },
  "language_info": {
   "codemirror_mode": {
    "name": "ipython",
    "version": 3
   },
   "file_extension": ".py",
   "mimetype": "text/x-python",
   "name": "python",
   "nbconvert_exporter": "python",
   "pygments_lexer": "ipython3",
   "version": "3.13.0"
  }
 },
 "nbformat": 4,
 "nbformat_minor": 2
}
