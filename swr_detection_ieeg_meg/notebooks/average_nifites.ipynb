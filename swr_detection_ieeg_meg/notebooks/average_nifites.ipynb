{
 "cells": [
  {
   "cell_type": "code",
   "execution_count": 11,
   "metadata": {},
   "outputs": [],
   "source": [
    "#average nifites ofr each patient\n",
    "\n",
    "import os\n",
    "import nibabel as nib\n",
    "import numpy as np\n",
    "from collections import defaultdict"
   ]
  },
  {
   "cell_type": "code",
   "execution_count": 12,
   "metadata": {},
   "outputs": [],
   "source": [
    "data_path = \"/Users/Lea/Desktop/PROJECT_DATA_ANALYSIS/resampled_mni152/mag\"\n",
    "\n",
    "\n",
    "subject_5 = {\"Patient5_part1L\" : \"/Users/Lea/Desktop/PROJECT_DATA_ANALYSIS/resampled_mni152/mag/flipped_img_mag/mag_patient_05_part1L_flipped.nii.gz\" ,\n",
    "            \"Patient5_part1R\" : \"/Users/Lea/Desktop/PROJECT_DATA_ANALYSIS/resampled_mni152/mag/mag_patient_05_part1R_to_mni152.nii.gz\", \n",
    "            \"Patient5_part2L\" : \"/Users/Lea/Desktop/PROJECT_DATA_ANALYSIS/resampled_mni152/mag/flipped_img_mag/mag_patient_05_part2L_flipped.nii.gz\",\n",
    "            \"Patient5_part2R\" : \"/Users/Lea/Desktop/PROJECT_DATA_ANALYSIS/resampled_mni152/mag/mag_patient_05_part2R_to_mni152.nii.gz\"}\n",
    "\n",
    "subject_11 ={\"Patient11_part1\" : \"/Users/Lea/Desktop/PROJECT_DATA_ANALYSIS/resampled_mni152/mag/mag_patient_11_part1_to_mni152.nii.gz\" ,\n",
    "            'Patient11_part2' : \"/Users/Lea/Desktop/PROJECT_DATA_ANALYSIS/resampled_mni152/mag/mag_patient_11_part2_to_mni152.nii.gz\"}\n",
    "\n",
    "subject_14 = {\"Patient14_part1_left\" : \"/Users/Lea/Desktop/PROJECT_DATA_ANALYSIS/resampled_mni152/mag/flipped_img_mag/mag_patient_14_part1_left_flipped.nii.gz\",\n",
    "            \"Patient14_part2_left\" : \"/Users/Lea/Desktop/PROJECT_DATA_ANALYSIS/resampled_mni152/mag/flipped_img_mag/mag_patient_14_part2_left_flipped.nii.gz\",\n",
    "            \"Patient14_part1_right\" : \"/Users/Lea/Desktop/PROJECT_DATA_ANALYSIS/resampled_mni152/mag/mag_patient_14_part1_right_to_mni152.nii.gz\" ,\n",
    "            \"Patient14_part2_right\" : \"/Users/Lea/Desktop/PROJECT_DATA_ANALYSIS/resampled_mni152/mag/mag_patient_14_part2_right_to_mni152.nii.gz\"}\n",
    "\n",
    "all_subjects = {\n",
    "    \"patient_5\" : subject_5,\n",
    "    \"patient_11\": subject_11,\n",
    "    \"patient_14\" : subject_14\n",
    "}                   "
   ]
  },
  {
   "cell_type": "code",
   "execution_count": 13,
   "metadata": {},
   "outputs": [],
   "source": [
    "#output for average images\n",
    "output_dir = \"/Users/Lea/Desktop/PROJECT_DATA_ANALYSIS/resampled_mni152/mag/average_img\""
   ]
  },
  {
   "cell_type": "code",
   "execution_count": 14,
   "metadata": {},
   "outputs": [],
   "source": [
    "def average_subject_nifites(subject_dict, patient):\n",
    "    data_arrays = []\n",
    "    first_img = None \n",
    "\n",
    "    for label, filepath in subject_dict.items():\n",
    "        img = nib.load(filepath)\n",
    "        if first_img is None:\n",
    "            first_img = img\n",
    "        data_arrays.append(img.get_fdata())\n",
    "    \n",
    "    avg_data = np.mean(data_arrays, axis=0)\n",
    "    \n",
    "    avg_img = nib.Nifti1Image(avg_data, affine=first_img.affine, header=first_img.header)\n",
    "    out_path = os.path.join(output_dir, f\"{patient}_average.nii.gz\")\n",
    "    nib.save(avg_img, out_path)\n",
    "    print(f\"Averaged NIfTI saved for {patient}: {out_path}\")\n"
   ]
  },
  {
   "cell_type": "code",
   "execution_count": 15,
   "metadata": {},
   "outputs": [
    {
     "name": "stdout",
     "output_type": "stream",
     "text": [
      "Averaged NIfTI saved for patient_5: /Users/Lea/Desktop/PROJECT_DATA_ANALYSIS/resampled_mni152/mag/average_img/patient_5_average.nii.gz\n",
      "Averaged NIfTI saved for patient_11: /Users/Lea/Desktop/PROJECT_DATA_ANALYSIS/resampled_mni152/mag/average_img/patient_11_average.nii.gz\n",
      "Averaged NIfTI saved for patient_14: /Users/Lea/Desktop/PROJECT_DATA_ANALYSIS/resampled_mni152/mag/average_img/patient_14_average.nii.gz\n"
     ]
    }
   ],
   "source": [
    "for patient, dictionaries in all_subjects.items():\n",
    "    average_subject_nifites(dictionaries, patient)\n"
   ]
  }
 ],
 "metadata": {
  "kernelspec": {
   "display_name": "venv",
   "language": "python",
   "name": "python3"
  },
  "language_info": {
   "codemirror_mode": {
    "name": "ipython",
    "version": 3
   },
   "file_extension": ".py",
   "mimetype": "text/x-python",
   "name": "python",
   "nbconvert_exporter": "python",
   "pygments_lexer": "ipython3",
   "version": "3.13.0"
  }
 },
 "nbformat": 4,
 "nbformat_minor": 2
}
