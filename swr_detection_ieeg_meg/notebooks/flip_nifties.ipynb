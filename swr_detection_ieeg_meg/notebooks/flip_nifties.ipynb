{
 "cells": [
  {
   "cell_type": "code",
   "execution_count": 9,
   "metadata": {},
   "outputs": [],
   "source": [
    "#flip the images form left hippocampus\n",
    "\n",
    "import nibabel as nib\n",
    "import numpy as np\n",
    "import os.path as op"
   ]
  },
  {
   "cell_type": "code",
   "execution_count": 10,
   "metadata": {},
   "outputs": [],
   "source": [
    "#def the flipping function\n",
    "def flip_nifti_left_right(input_path, output_path):\n",
    "    img = nib.load(input_path)\n",
    "    data = img.get_fdata()\n",
    "    \n",
    "    # Flip along the x-axis (left-right)\n",
    "    flipped_data = data[::-1, :, :]  # assumes x-axis is left-right\n",
    "    \n",
    "    # Create new image with flipped data\n",
    "    flipped_img = nib.Nifti1Image(flipped_data, img.affine)\n",
    "    flipped_img.header.set_qform(img.affine, code=1)\n",
    "    flipped_img.header.set_sform(img.affine, code=1)\n",
    "    \n",
    "    nib.save(flipped_img, output_path)\n"
   ]
  },
  {
   "cell_type": "code",
   "execution_count": 11,
   "metadata": {},
   "outputs": [],
   "source": [
    "subjects_left = ['patient_05_part1L', #L\n",
    "            'patient_05_part2L', #L\n",
    "            'patient_08', #L\n",
    "            'patient_14_part1_left', #L\n",
    "            'patient_14_part2_left', #L\n",
    "            'patient_16', #L\n",
    "            'patient_21', #L\n",
    "            'patient_22', #L\n",
    "            'patient_25', #L\n",
    "            ]\n"
   ]
  },
  {
   "cell_type": "code",
   "execution_count": 12,
   "metadata": {},
   "outputs": [],
   "source": [
    "data_path = \"/Users/Lea/Desktop/PROJECT_DATA_ANALYSIS/resampled_mni152/theta\"\n"
   ]
  },
  {
   "cell_type": "code",
   "execution_count": 13,
   "metadata": {},
   "outputs": [],
   "source": [
    "for subject in subjects_left:\n",
    "    input_path = op.join(data_path, f\"theta_{subject}_to_mni152.nii.gz\")\n",
    "    output_path = op.join(data_path, \"flipped_img_theta\", f\"theta_{subject}_flipped.nii.gz\")\n",
    "    flip_nifti_left_right(input_path, output_path)"
   ]
  }
 ],
 "metadata": {
  "kernelspec": {
   "display_name": "venv",
   "language": "python",
   "name": "python3"
  },
  "language_info": {
   "codemirror_mode": {
    "name": "ipython",
    "version": 3
   },
   "file_extension": ".py",
   "mimetype": "text/x-python",
   "name": "python",
   "nbconvert_exporter": "python",
   "pygments_lexer": "ipython3",
   "version": "3.13.0"
  }
 },
 "nbformat": 4,
 "nbformat_minor": 2
}
