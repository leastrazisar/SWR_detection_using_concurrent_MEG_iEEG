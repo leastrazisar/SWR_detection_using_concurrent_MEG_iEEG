{
 "cells": [
  {
   "cell_type": "code",
   "execution_count": 1,
   "metadata": {},
   "outputs": [],
   "source": [
    "#new epoching file\n",
    "\n",
    "import numpy as np\n",
    "import pandas as pd\n",
    "import matplotlib.pyplot as plt\n",
    "from scipy.ndimage import label, binary_dilation, binary_erosion\n",
    "from scipy.ndimage import find_objects\n",
    "import os.path as op\n",
    "import mne\n",
    "import random"
   ]
  },
  {
   "cell_type": "code",
   "execution_count": 3,
   "metadata": {},
   "outputs": [],
   "source": [
    "detected_SWRs = {#\"Patient3_part1\" : \"/Users/Lea/Desktop/PROJECT_DATA_ANALYSIS/SWR_times/Patient3_part1_SWRs.csv\",\n",
    "            \"Patient5_part1L\" : \"/Users/Lea/Desktop/PROJECT_DATA_ANALYSIS/SWR_times/Patient5_part1L_SWRs.csv\" ,\n",
    "            \"Patient5_part1R\" : \"/Users/Lea/Desktop/PROJECT_DATA_ANALYSIS/SWR_times/Patient5_part1R_SWRs.csv\",\n",
    "            \"Patient5_part2L\" : \"/Users/Lea/Desktop/PROJECT_DATA_ANALYSIS/SWR_times/Patient5_part2L_SWRs.csv\",\n",
    "            \"Patient5_part2R\" : \"/Users/Lea/Desktop/PROJECT_DATA_ANALYSIS/SWR_times/Patient5_part2R_SWRs.csv\",\n",
    "            \"Patient6\" : \"/Users/Lea/Desktop/PROJECT_DATA_ANALYSIS/SWR_times/Patient6_SWRs.csv\",\n",
    "            \"Patient8\" : \"/Users/Lea/Desktop/PROJECT_DATA_ANALYSIS/SWR_times/Patient8_SWRs.csv\",\n",
    "            #\"Patient9\" : \"/Users/Lea/Desktop/PROJECT_DATA_ANALYSIS/SWR_times/Patient9_SWRs.csv\",\n",
    "            \"Patient10\" : \"/Users/Lea/Desktop/PROJECT_DATA_ANALYSIS/SWR_times/Patient10_SWRs.csv\",\n",
    "            \"Patient11_part1\" : \"/Users/Lea/Desktop/PROJECT_DATA_ANALYSIS/SWR_times/Patient11_part1_SWRs.csv\",\n",
    "            'Patient11_part2' :\"/Users/Lea/Desktop/PROJECT_DATA_ANALYSIS/SWR_times/Patient11_part2_SWRs.csv\",\n",
    "            #\"Patient12_part1\" : \"/Users/Lea/Desktop/PROJECT_DATA_ANALYSIS/SWR_times/Patient12_part1_SWRs.csv\",\n",
    "            \"Patient13\" : \"/Users/Lea/Desktop/PROJECT_DATA_ANALYSIS/SWR_times/Patient13_SWRs.csv\",\n",
    "            \"Patient14_part1_left\" : \"/Users/Lea/Desktop/PROJECT_DATA_ANALYSIS/SWR_times/Patient14_part1_SWRs.csv\",\n",
    "            \"Patient14_part2_left\" : \"/Users/Lea/Desktop/PROJECT_DATA_ANALYSIS/SWR_times/Patient14_part2_SWRs.csv\",\n",
    "            \"Patient14_part1_right\" : \"/Users/Lea/Desktop/PROJECT_DATA_ANALYSIS/SWR_times/Patient14_part1_SWRs.csv\",\n",
    "            \"Patient14_part2_right\" : \"/Users/Lea/Desktop/PROJECT_DATA_ANALYSIS/SWR_times/Patient14_part2_SWRs.csv\",\n",
    "            #\"Patient15\" : \"/Users/Lea/Desktop/PROJECT_DATA_ANALYSIS/SWR_times/Patient15_SWRs.csv\",\n",
    "            \"Patient16\" : \"/Users/Lea/Desktop/PROJECT_DATA_ANALYSIS/SWR_times/Patient16_SWRs.csv\",\n",
    "            \"Patient17\" : \"/Users/Lea/Desktop/PROJECT_DATA_ANALYSIS/SWR_times/Patient17_SWRs.csv\",\n",
    "            \"Patient21\" : \"/Users/Lea/Desktop/PROJECT_DATA_ANALYSIS/SWR_times/Patient21_SWRs.csv\",\n",
    "            \"Patient22\" : \"/Users/Lea/Desktop/PROJECT_DATA_ANALYSIS/SWR_times/Patient22_SWRs.csv\",\n",
    "            \"Patient23\" : \"/Users/Lea/Desktop/PROJECT_DATA_ANALYSIS/SWR_times/Patient23_SWRs.csv\",\n",
    "            \"Patient25\":  \"/Users/Lea/Desktop/PROJECT_DATA_ANALYSIS/SWR_times/Patient25_SWRs.csv\"\n",
    "            }"
   ]
  },
  {
   "cell_type": "code",
   "execution_count": 4,
   "metadata": {},
   "outputs": [],
   "source": [
    "hippocampus_electrodes = {\n",
    "   #'Patient3_part1': [],\n",
    "    'Patient5_part1L': ['EEG026', 'EEG028', 'EEG032', 'EEG034', 'EEG057', 'EEG059'],\n",
    "    'Patient5_part1R': ['EEG001', 'EEG003','EEG026', 'EEG028', 'EEG032', 'EEG034'],\n",
    "    'Patient5_part2L': ['EEG026', 'EEG028', 'EEG032', 'EEG034', 'EEG057', 'EEG059'],\n",
    "    'Patient5_part2R': ['EEG001', 'EEG003','EEG026', 'EEG028', 'EEG032', 'EEG034'],\n",
    "    'Patient6': ['EEG001', 'EEG002','EEG003', 'EEG004', 'EEG005', 'EEG006', 'EEG007', 'EEG008'],\n",
    "   'Patient8': ['EEG026', 'EEG027', 'EEG028'],\n",
    "    #'Patient9': [],\n",
    "    'Patient10': ['EEG013'], \n",
    "    'Patient11_part1': ['EEG043', 'EEG044', 'EEG045', 'EEG046'],\n",
    "    'Patient11_part2': ['EEG043', 'EEG044', 'EEG045', 'EEG046'],\n",
    "   # 'Patient12_part1': [],\n",
    "    #'Patient12_part2': [],\n",
    "    'Patient13': ['EEG036'] ,\n",
    "    'Patient14_part1_left': ['EEG001'],\n",
    "   'Patient14_part2_left': ['EEG001'],\n",
    "   'Patient14_part1_right': ['EEG041', 'EEG042', 'EEG043'],\n",
    "    'Patient14_part2_right': ['EEG041', 'EEG042', 'EEG043'],\n",
    "  #'Patient15': [],\n",
    "   'Patient16': ['EEG003'],\n",
    "    'Patient17': ['EEG003', 'EEG004', 'EEG005', 'EEG006'],\n",
    "    #'Patient19': [],\n",
    "    'Patient21': ['EEG002','EEG003', 'EEG004', 'EEG005'],\n",
    "   'Patient22':  ['EEG001', 'EEG002', 'EEG003','EEG017', 'EEG018', 'EEG019', 'EEG020', 'EEG021', 'EEG022'], #[]\n",
    "   'Patient23': ['EEG057', 'EEG058', 'EEG059'],\n",
    "    'Patient25': ['EEG049', 'EEG050']\n",
    "}"
   ]
  },
  {
   "cell_type": "code",
   "execution_count": 5,
   "metadata": {},
   "outputs": [],
   "source": [
    "recording_durations = { #number of expected SWrs (based on paper suggesting normal range is 10-40per min)\n",
    "    'Patient3_part1': 340, #55 - 225\n",
    "    'Patient5_part1L': 358, #60- 240\n",
    "    'Patient5_part1R': 313, #52 - 210\n",
    "    'Patient5_part2L': 293, #48-195\n",
    "    'Patient5_part2R': 257, #43 - 141\n",
    "    'Patient6': 414, #70 - 280\n",
    "    'Patient8': 575, #95 - 383\n",
    "    'Patient9': 356, #60 - 237\n",
    "    'Patient10': 627, #100 - 400\n",
    "    'Patient11_part1': 431, #68 - 275\n",
    "    'Patient11_part2': 352, #60 - 240\n",
    "    'Patient12_part1': 409.02,#70 - 280\n",
    "    'Patient12_part2':656.88 ,#110 - 440\n",
    "    'Patient13': 243, #40 - 160\n",
    "    'Patient14_part1_left': 452, #75 - 300\n",
    "    'Patient14_part2_left': 497,#80 - 330\n",
    "    'Patient14_part1_right': 452, #75 - 300\n",
    "    'Patient14_part2_right': 497,\n",
    "    'Patient15': 190,#30 - 125\n",
    "    'Patient16': 181,#30 - 120\n",
    "    'Patient17': 188,#30 - 120\n",
    "    'Patient19': 1159,#190 - 772\n",
    "    'Patient21': 353,# 60 - 240\n",
    "    'Patient22': 614,#100 - 400\n",
    "    'Patient23': 758, #125 -505\n",
    "    'Patient25': 256# 40 - 170\n",
    "}"
   ]
  },
  {
   "cell_type": "code",
   "execution_count": 9,
   "metadata": {},
   "outputs": [],
   "source": [
    "#import raw files\n",
    "raw_files = {#\"Patient03\" : \"/Users/Lea/Desktop/PROJECT_DATA_ANALYSIS/meg/FM_patient3/FM_9to16_part1_raw_tsss.fif\",\n",
    "            'Patient5_part1L' : \"/Users/Lea/Desktop/PROJECT_DATA_ANALYSIS/meg/WZ_patient5/WZ_LHippo_001_tsss.fif\" ,\n",
    "            'Patient5_part1R' : \"/Users/Lea/Desktop/PROJECT_DATA_ANALYSIS/meg/WZ_patient5/WZ_Rhippo_raw_001_tsss.fif\",\n",
    "            'Patient5_part2L' : \"/Users/Lea/Desktop/PROJECT_DATA_ANALYSIS/meg/WZ_patient5/WZ_Lhippo_raw_002_tsss.fif\",\n",
    "            'Patient5_part2R' : \"/Users/Lea/Desktop/PROJECT_DATA_ANALYSIS/meg/WZ_patient5/WZ_RHippo_raw_002_tsss.fif\",\n",
    "            \"Patient6\" : \"/Users/Lea/Desktop/PROJECT_DATA_ANALYSIS/meg/ZM_patient6/ZM_raw_001_tsss.fif\",\n",
    "            \"Patient8\" : \"/Users/Lea/Desktop/PROJECT_DATA_ANALYSIS/meg/XX_patient8/XX_raw_001_tsss.fif\",\n",
    "           # \"Patient9\" : \"/Users/Lea/Desktop/PROJECT_DATA_ANALYSIS/meg/TY_patient9/TY_raw_001_tsss.fif\",\n",
    "            \"Patient10\" : \"/Users/Lea/Desktop/PROJECT_DATA_ANALYSIS/meg/NY_patient10/NY_raw_001_tsss.fif\",\n",
    "            \"Patient11_part1\" : \"/Users/Lea/Desktop/PROJECT_DATA_ANALYSIS/meg/ZJ_patient11/ZJ_raw_001_tsss.fif\",\n",
    "            \"Patient11_part2\" : \"/Users/Lea/Desktop/PROJECT_DATA_ANALYSIS/meg/ZJ_patient11/ZJ_raw_002_tsss.fif\",\n",
    "            #\"Patient12\" : \"/Users/Lea/Desktop/PROJECT_DATA_ANALYSIS/meg/JC_patient12/JC_raw_001_tsss.fif\",\n",
    "            \"Patient13\" : \"/Users/Lea/Desktop/PROJECT_DATA_ANALYSIS/meg/ZB_patient13/ZB_raw_004_tsss.fif\",\n",
    "            \"Patient14_part1_left\" : \"/Users/Lea/Desktop/PROJECT_DATA_ANALYSIS/meg/CL_patient14/CL_raw_001_tsss.fif\",\n",
    "            \"Patient14_part2_left\" : \"/Users/Lea/Desktop/PROJECT_DATA_ANALYSIS/meg/CL_patient14/CL_raw_003_tsss.fif\",\n",
    "            \"Patient14_part1_right\" : \"/Users/Lea/Desktop/PROJECT_DATA_ANALYSIS/meg/CL_patient14/CL_raw_001_tsss.fif\",\n",
    "            \"Patient14_part2_right\" : \"/Users/Lea/Desktop/PROJECT_DATA_ANALYSIS/meg/CL_patient14/CL_raw_003_tsss.fif\",\n",
    "            #\"Patient15\" : \"/Users/Lea/Desktop/PROJECT_DATA_ANALYSIS/meg/ZX_patient15/ZX_EP_rest_001_tsss.fif\",\n",
    "            \"Patient16\" : \"/Users/Lea/Desktop/PROJECT_DATA_ANALYSIS/meg/RB_patient16/RB_EP_SEEG_rest_001_tsss.fif\",\n",
    "            \"Patient17\" : \"/Users/Lea/Desktop/PROJECT_DATA_ANALYSIS/meg/LJM_patient17/LJM_EP_SEEG_rest_001_tsss.fif\",\n",
    "            \"Patient21\" : \"/Users/Lea/Desktop/PROJECT_DATA_ANALYSIS/meg/HH_patient21/HH_SEEG_001_tsss.fif\",\n",
    "            \"Patient22\" : \"/Users/Lea/Desktop/PROJECT_DATA_ANALYSIS/meg/YY_patient22/YY_SEEG_raw_001_tsss.fif\",\n",
    "            \"Patient23\" : \"/Users/Lea/Desktop/PROJECT_DATA_ANALYSIS/meg/ZQ_patient23/ZQ_EP_SEEG_001_tsss.fif\",\n",
    "            \"Patient25\":  \"/Users/Lea/Desktop/PROJECT_DATA_ANALYSIS/meg/WL_patient25/WL_raw_rest_001_tsss.fif\"\n",
    "            }\n",
    "\n",
    "\n"
   ]
  },
  {
   "cell_type": "code",
   "execution_count": 7,
   "metadata": {},
   "outputs": [],
   "source": [
    "#parametetes and save paths\n",
    "eeg_fs = 1000\n",
    "min_gap = 50\n",
    "no_of_epochs = 30\n",
    "\n",
    "region_output_path = \"/Users/Lea/Desktop/PROJECT_DATA_ANALYSIS/hipp_SWR_regions_new/mag\"\n",
    "epochs_save_path = \"/Users/Lea/Desktop/PROJECT_DATA_ANALYSIS/MEG_epochs/mag\""
   ]
  },
  {
   "cell_type": "code",
   "execution_count": 10,
   "metadata": {},
   "outputs": [
    {
     "name": "stdout",
     "output_type": "stream",
     "text": [
      "Patient5_part1L: Found 94 SWR events.\n",
      "Patient5_part1L: Found 95 no SWR events.\n"
     ]
    },
    {
     "name": "stderr",
     "output_type": "stream",
     "text": [
      "/var/folders/hp/k3clndsn2sj608qsb4fl5zvr0000gn/T/ipykernel_65405/564586550.py:89: RuntimeWarning: This filename (/Users/Lea/Desktop/PROJECT_DATA_ANALYSIS/meg/WZ_patient5/WZ_LHippo_001_tsss.fif) does not conform to MNE naming conventions. All raw files should end with raw.fif, raw_sss.fif, raw_tsss.fif, _meg.fif, _eeg.fif, _ieeg.fif, raw.fif.gz, raw_sss.fif.gz, raw_tsss.fif.gz, _meg.fif.gz, _eeg.fif.gz or _ieeg.fif.gz\n",
      "  raw = mne.io.read_raw_fif(raw_files[patient_id], preload = True, verbose = False)\n"
     ]
    },
    {
     "name": "stdout",
     "output_type": "stream",
     "text": [
      "Creating RawArray with float64 data, n_channels=333, n_times=358000\n",
      "    Range : 0 ... 357999 =      0.000 ...   357.999 secs\n",
      "Ready.\n",
      "Overwriting existing file.\n"
     ]
    },
    {
     "name": "stderr",
     "output_type": "stream",
     "text": [
      "/var/folders/hp/k3clndsn2sj608qsb4fl5zvr0000gn/T/ipykernel_65405/564586550.py:137: RuntimeWarning: The events passed to the Epochs constructor are not chronologically ordered.\n",
      "  all_epochs = mne.Epochs(data_elect, events, event_id= [1, 2], tmin=-3, tmax=3, picks = ['grad', 'mag'], preload=True, verbose = False)\n",
      "/var/folders/hp/k3clndsn2sj608qsb4fl5zvr0000gn/T/ipykernel_65405/564586550.py:144: RuntimeWarning: This filename (/Users/Lea/Desktop/PROJECT_DATA_ANALYSIS/MEG_epochs/theta/Patient5_part1L_high_theta_epochs.fif) does not conform to MNE naming conventions. All epochs files should end with -epo.fif, -epo.fif.gz, _epo.fif or _epo.fif.gz\n",
      "  high_epochs.save(high_epoch_filename, overwrite=True)\n"
     ]
    },
    {
     "name": "stdout",
     "output_type": "stream",
     "text": [
      "Overwriting existing file.\n",
      "Overwriting existing file.\n",
      "Overwriting existing file.\n",
      "Overwriting existing file.\n"
     ]
    },
    {
     "name": "stderr",
     "output_type": "stream",
     "text": [
      "/var/folders/hp/k3clndsn2sj608qsb4fl5zvr0000gn/T/ipykernel_65405/564586550.py:145: RuntimeWarning: This filename (/Users/Lea/Desktop/PROJECT_DATA_ANALYSIS/MEG_epochs/theta/Patient5_part1L_low_theta_epochs.fif) does not conform to MNE naming conventions. All epochs files should end with -epo.fif, -epo.fif.gz, _epo.fif or _epo.fif.gz\n",
      "  low_epochs.save(low_epoch_filename, overwrite=True)\n",
      "/var/folders/hp/k3clndsn2sj608qsb4fl5zvr0000gn/T/ipykernel_65405/564586550.py:146: RuntimeWarning: This filename (/Users/Lea/Desktop/PROJECT_DATA_ANALYSIS/MEG_epochs/theta/Patient5_part1L_all_theta_epochs.fif) does not conform to MNE naming conventions. All epochs files should end with -epo.fif, -epo.fif.gz, _epo.fif or _epo.fif.gz\n",
      "  all_epochs.save(all_epoch_filename, overwrite=True)\n"
     ]
    },
    {
     "name": "stdout",
     "output_type": "stream",
     "text": [
      "Overwriting existing file.\n",
      "59\n",
      "30\n",
      "29\n",
      "Patient5_part1L: Drop log for high SWR epochs:\n",
      "((), (), (), (), (), (), (), (), (), (), (), (), (), (), (), (), (), (), (), (), (), (), (), (), (), (), (), (), (), (), ('IGNORED',), ('IGNORED',), ('IGNORED',), ('IGNORED',), ('IGNORED',), ('IGNORED',), ('IGNORED',), ('IGNORED',), ('IGNORED',), ('IGNORED',), ('IGNORED',), ('IGNORED',), ('IGNORED',), ('IGNORED',), ('IGNORED',), ('IGNORED',), ('IGNORED',), ('IGNORED',), ('IGNORED',), ('IGNORED',), ('IGNORED',), ('IGNORED',), ('IGNORED',), ('IGNORED',), ('IGNORED',), ('IGNORED',), ('IGNORED',), ('IGNORED',), ('IGNORED',), ('IGNORED',))\n",
      "Patient5_part1L: Drop log for low SWR epochs:\n",
      "(('IGNORED',), ('IGNORED',), ('IGNORED',), ('IGNORED',), ('IGNORED',), ('IGNORED',), ('IGNORED',), ('IGNORED',), ('IGNORED',), ('IGNORED',), ('IGNORED',), ('IGNORED',), ('IGNORED',), ('IGNORED',), ('IGNORED',), ('IGNORED',), ('IGNORED',), ('IGNORED',), ('IGNORED',), ('IGNORED',), ('IGNORED',), ('IGNORED',), ('IGNORED',), ('IGNORED',), ('IGNORED',), ('IGNORED',), ('IGNORED',), ('IGNORED',), ('IGNORED',), ('IGNORED',), (), (), (), (), (), (), (), (), (), (), (), (), (), (), (), (), (), (), (), (), (), (), (), (), (), (), (), (), (), ('TOO_SHORT',))\n",
      "Patient5_part1L: Drop log for all epochs:\n",
      "((), (), (), (), (), (), (), (), (), (), (), (), (), (), (), (), (), (), (), (), (), (), (), (), (), (), (), (), (), (), (), (), (), (), (), (), (), (), (), (), (), (), (), (), (), (), (), (), (), (), (), (), (), (), (), (), (), (), (), ('TOO_SHORT',))\n",
      "Patient5_part1R: Found 84 SWR events.\n",
      "Patient5_part1R: Found 85 no SWR events.\n"
     ]
    },
    {
     "name": "stderr",
     "output_type": "stream",
     "text": [
      "/var/folders/hp/k3clndsn2sj608qsb4fl5zvr0000gn/T/ipykernel_65405/564586550.py:89: RuntimeWarning: This filename (/Users/Lea/Desktop/PROJECT_DATA_ANALYSIS/meg/WZ_patient5/WZ_Rhippo_raw_001_tsss.fif) does not conform to MNE naming conventions. All raw files should end with raw.fif, raw_sss.fif, raw_tsss.fif, _meg.fif, _eeg.fif, _ieeg.fif, raw.fif.gz, raw_sss.fif.gz, raw_tsss.fif.gz, _meg.fif.gz, _eeg.fif.gz or _ieeg.fif.gz\n",
      "  raw = mne.io.read_raw_fif(raw_files[patient_id], preload = True, verbose = False)\n"
     ]
    },
    {
     "name": "stdout",
     "output_type": "stream",
     "text": [
      "Creating RawArray with float64 data, n_channels=333, n_times=313000\n",
      "    Range : 0 ... 312999 =      0.000 ...   312.999 secs\n",
      "Ready.\n",
      "Overwriting existing file.\n"
     ]
    },
    {
     "name": "stderr",
     "output_type": "stream",
     "text": [
      "/var/folders/hp/k3clndsn2sj608qsb4fl5zvr0000gn/T/ipykernel_65405/564586550.py:137: RuntimeWarning: The events passed to the Epochs constructor are not chronologically ordered.\n",
      "  all_epochs = mne.Epochs(data_elect, events, event_id= [1, 2], tmin=-3, tmax=3, picks = ['grad', 'mag'], preload=True, verbose = False)\n",
      "/var/folders/hp/k3clndsn2sj608qsb4fl5zvr0000gn/T/ipykernel_65405/564586550.py:144: RuntimeWarning: This filename (/Users/Lea/Desktop/PROJECT_DATA_ANALYSIS/MEG_epochs/theta/Patient5_part1R_high_theta_epochs.fif) does not conform to MNE naming conventions. All epochs files should end with -epo.fif, -epo.fif.gz, _epo.fif or _epo.fif.gz\n",
      "  high_epochs.save(high_epoch_filename, overwrite=True)\n"
     ]
    },
    {
     "name": "stdout",
     "output_type": "stream",
     "text": [
      "Overwriting existing file.\n",
      "Overwriting existing file.\n",
      "Overwriting existing file.\n",
      "Overwriting existing file.\n"
     ]
    },
    {
     "name": "stderr",
     "output_type": "stream",
     "text": [
      "/var/folders/hp/k3clndsn2sj608qsb4fl5zvr0000gn/T/ipykernel_65405/564586550.py:145: RuntimeWarning: This filename (/Users/Lea/Desktop/PROJECT_DATA_ANALYSIS/MEG_epochs/theta/Patient5_part1R_low_theta_epochs.fif) does not conform to MNE naming conventions. All epochs files should end with -epo.fif, -epo.fif.gz, _epo.fif or _epo.fif.gz\n",
      "  low_epochs.save(low_epoch_filename, overwrite=True)\n",
      "/var/folders/hp/k3clndsn2sj608qsb4fl5zvr0000gn/T/ipykernel_65405/564586550.py:146: RuntimeWarning: This filename (/Users/Lea/Desktop/PROJECT_DATA_ANALYSIS/MEG_epochs/theta/Patient5_part1R_all_theta_epochs.fif) does not conform to MNE naming conventions. All epochs files should end with -epo.fif, -epo.fif.gz, _epo.fif or _epo.fif.gz\n",
      "  all_epochs.save(all_epoch_filename, overwrite=True)\n"
     ]
    },
    {
     "name": "stdout",
     "output_type": "stream",
     "text": [
      "Overwriting existing file.\n",
      "59\n",
      "30\n",
      "29\n",
      "Patient5_part1R: Drop log for high SWR epochs:\n",
      "((), (), (), (), (), (), (), (), (), (), (), (), (), (), (), (), (), (), (), (), (), (), (), (), (), (), (), (), (), (), ('IGNORED',), ('IGNORED',), ('IGNORED',), ('IGNORED',), ('IGNORED',), ('IGNORED',), ('IGNORED',), ('IGNORED',), ('IGNORED',), ('IGNORED',), ('IGNORED',), ('IGNORED',), ('IGNORED',), ('IGNORED',), ('IGNORED',), ('IGNORED',), ('IGNORED',), ('IGNORED',), ('IGNORED',), ('IGNORED',), ('IGNORED',), ('IGNORED',), ('IGNORED',), ('IGNORED',), ('IGNORED',), ('IGNORED',), ('IGNORED',), ('IGNORED',), ('IGNORED',), ('IGNORED',))\n",
      "Patient5_part1R: Drop log for low SWR epochs:\n",
      "(('IGNORED',), ('IGNORED',), ('IGNORED',), ('IGNORED',), ('IGNORED',), ('IGNORED',), ('IGNORED',), ('IGNORED',), ('IGNORED',), ('IGNORED',), ('IGNORED',), ('IGNORED',), ('IGNORED',), ('IGNORED',), ('IGNORED',), ('IGNORED',), ('IGNORED',), ('IGNORED',), ('IGNORED',), ('IGNORED',), ('IGNORED',), ('IGNORED',), ('IGNORED',), ('IGNORED',), ('IGNORED',), ('IGNORED',), ('IGNORED',), ('IGNORED',), ('IGNORED',), ('IGNORED',), (), (), (), (), (), (), (), (), (), (), (), (), (), (), (), (), (), (), (), (), (), (), (), (), (), (), (), (), (), ('TOO_SHORT',))\n",
      "Patient5_part1R: Drop log for all epochs:\n",
      "((), (), (), (), (), (), (), (), (), (), (), (), (), (), (), (), (), (), (), (), (), (), (), (), (), (), (), (), (), (), (), (), (), (), (), (), (), (), (), (), (), (), (), (), (), (), (), (), (), (), (), (), (), (), (), (), (), (), (), ('TOO_SHORT',))\n",
      "Patient5_part2L: Found 74 SWR events.\n",
      "Patient5_part2L: Found 75 no SWR events.\n"
     ]
    },
    {
     "name": "stderr",
     "output_type": "stream",
     "text": [
      "/var/folders/hp/k3clndsn2sj608qsb4fl5zvr0000gn/T/ipykernel_65405/564586550.py:89: RuntimeWarning: This filename (/Users/Lea/Desktop/PROJECT_DATA_ANALYSIS/meg/WZ_patient5/WZ_Lhippo_raw_002_tsss.fif) does not conform to MNE naming conventions. All raw files should end with raw.fif, raw_sss.fif, raw_tsss.fif, _meg.fif, _eeg.fif, _ieeg.fif, raw.fif.gz, raw_sss.fif.gz, raw_tsss.fif.gz, _meg.fif.gz, _eeg.fif.gz or _ieeg.fif.gz\n",
      "  raw = mne.io.read_raw_fif(raw_files[patient_id], preload = True, verbose = False)\n"
     ]
    },
    {
     "name": "stdout",
     "output_type": "stream",
     "text": [
      "Creating RawArray with float64 data, n_channels=333, n_times=293000\n",
      "    Range : 0 ... 292999 =      0.000 ...   292.999 secs\n",
      "Ready.\n"
     ]
    },
    {
     "name": "stderr",
     "output_type": "stream",
     "text": [
      "/var/folders/hp/k3clndsn2sj608qsb4fl5zvr0000gn/T/ipykernel_65405/564586550.py:137: RuntimeWarning: The events passed to the Epochs constructor are not chronologically ordered.\n",
      "  all_epochs = mne.Epochs(data_elect, events, event_id= [1, 2], tmin=-3, tmax=3, picks = ['grad', 'mag'], preload=True, verbose = False)\n",
      "/var/folders/hp/k3clndsn2sj608qsb4fl5zvr0000gn/T/ipykernel_65405/564586550.py:144: RuntimeWarning: This filename (/Users/Lea/Desktop/PROJECT_DATA_ANALYSIS/MEG_epochs/theta/Patient5_part2L_high_theta_epochs.fif) does not conform to MNE naming conventions. All epochs files should end with -epo.fif, -epo.fif.gz, _epo.fif or _epo.fif.gz\n",
      "  high_epochs.save(high_epoch_filename, overwrite=True)\n"
     ]
    },
    {
     "name": "stdout",
     "output_type": "stream",
     "text": [
      "Overwriting existing file.\n",
      "Overwriting existing file.\n",
      "Overwriting existing file.\n",
      "Overwriting existing file.\n",
      "Overwriting existing file.\n"
     ]
    },
    {
     "name": "stderr",
     "output_type": "stream",
     "text": [
      "/var/folders/hp/k3clndsn2sj608qsb4fl5zvr0000gn/T/ipykernel_65405/564586550.py:145: RuntimeWarning: This filename (/Users/Lea/Desktop/PROJECT_DATA_ANALYSIS/MEG_epochs/theta/Patient5_part2L_low_theta_epochs.fif) does not conform to MNE naming conventions. All epochs files should end with -epo.fif, -epo.fif.gz, _epo.fif or _epo.fif.gz\n",
      "  low_epochs.save(low_epoch_filename, overwrite=True)\n",
      "/var/folders/hp/k3clndsn2sj608qsb4fl5zvr0000gn/T/ipykernel_65405/564586550.py:146: RuntimeWarning: This filename (/Users/Lea/Desktop/PROJECT_DATA_ANALYSIS/MEG_epochs/theta/Patient5_part2L_all_theta_epochs.fif) does not conform to MNE naming conventions. All epochs files should end with -epo.fif, -epo.fif.gz, _epo.fif or _epo.fif.gz\n",
      "  all_epochs.save(all_epoch_filename, overwrite=True)\n"
     ]
    },
    {
     "name": "stdout",
     "output_type": "stream",
     "text": [
      "Overwriting existing file.\n",
      "58\n",
      "29\n",
      "29\n",
      "Patient5_part2L: Drop log for high SWR epochs:\n",
      "((), (), (), (), (), (), (), (), (), (), (), (), (), (), (), (), (), (), (), (), (), (), (), (), (), (), (), (), (), ('TOO_SHORT',), ('IGNORED',), ('IGNORED',), ('IGNORED',), ('IGNORED',), ('IGNORED',), ('IGNORED',), ('IGNORED',), ('IGNORED',), ('IGNORED',), ('IGNORED',), ('IGNORED',), ('IGNORED',), ('IGNORED',), ('IGNORED',), ('IGNORED',), ('IGNORED',), ('IGNORED',), ('IGNORED',), ('IGNORED',), ('IGNORED',), ('IGNORED',), ('IGNORED',), ('IGNORED',), ('IGNORED',), ('IGNORED',), ('IGNORED',), ('IGNORED',), ('IGNORED',), ('IGNORED',), ('IGNORED',))\n",
      "Patient5_part2L: Drop log for low SWR epochs:\n",
      "(('IGNORED',), ('IGNORED',), ('IGNORED',), ('IGNORED',), ('IGNORED',), ('IGNORED',), ('IGNORED',), ('IGNORED',), ('IGNORED',), ('IGNORED',), ('IGNORED',), ('IGNORED',), ('IGNORED',), ('IGNORED',), ('IGNORED',), ('IGNORED',), ('IGNORED',), ('IGNORED',), ('IGNORED',), ('IGNORED',), ('IGNORED',), ('IGNORED',), ('IGNORED',), ('IGNORED',), ('IGNORED',), ('IGNORED',), ('IGNORED',), ('IGNORED',), ('IGNORED',), ('IGNORED',), (), (), (), (), (), (), (), (), (), (), (), (), (), (), (), (), (), (), (), (), (), (), (), (), (), (), (), (), (), ('TOO_SHORT',))\n",
      "Patient5_part2L: Drop log for all epochs:\n",
      "((), (), (), (), (), (), (), (), (), (), (), (), (), (), (), (), (), (), (), (), (), (), (), (), (), (), (), (), (), ('TOO_SHORT',), (), (), (), (), (), (), (), (), (), (), (), (), (), (), (), (), (), (), (), (), (), (), (), (), (), (), (), (), (), ('TOO_SHORT',))\n",
      "Patient5_part2R: Found 61 SWR events.\n",
      "Patient5_part2R: Found 62 no SWR events.\n"
     ]
    },
    {
     "name": "stderr",
     "output_type": "stream",
     "text": [
      "/var/folders/hp/k3clndsn2sj608qsb4fl5zvr0000gn/T/ipykernel_65405/564586550.py:89: RuntimeWarning: This filename (/Users/Lea/Desktop/PROJECT_DATA_ANALYSIS/meg/WZ_patient5/WZ_RHippo_raw_002_tsss.fif) does not conform to MNE naming conventions. All raw files should end with raw.fif, raw_sss.fif, raw_tsss.fif, _meg.fif, _eeg.fif, _ieeg.fif, raw.fif.gz, raw_sss.fif.gz, raw_tsss.fif.gz, _meg.fif.gz, _eeg.fif.gz or _ieeg.fif.gz\n",
      "  raw = mne.io.read_raw_fif(raw_files[patient_id], preload = True, verbose = False)\n"
     ]
    },
    {
     "name": "stdout",
     "output_type": "stream",
     "text": [
      "Creating RawArray with float64 data, n_channels=333, n_times=257000\n",
      "    Range : 0 ... 256999 =      0.000 ...   256.999 secs\n",
      "Ready.\n",
      "Overwriting existing file.\n"
     ]
    },
    {
     "name": "stderr",
     "output_type": "stream",
     "text": [
      "/var/folders/hp/k3clndsn2sj608qsb4fl5zvr0000gn/T/ipykernel_65405/564586550.py:137: RuntimeWarning: The events passed to the Epochs constructor are not chronologically ordered.\n",
      "  all_epochs = mne.Epochs(data_elect, events, event_id= [1, 2], tmin=-3, tmax=3, picks = ['grad', 'mag'], preload=True, verbose = False)\n",
      "/var/folders/hp/k3clndsn2sj608qsb4fl5zvr0000gn/T/ipykernel_65405/564586550.py:144: RuntimeWarning: This filename (/Users/Lea/Desktop/PROJECT_DATA_ANALYSIS/MEG_epochs/theta/Patient5_part2R_high_theta_epochs.fif) does not conform to MNE naming conventions. All epochs files should end with -epo.fif, -epo.fif.gz, _epo.fif or _epo.fif.gz\n",
      "  high_epochs.save(high_epoch_filename, overwrite=True)\n"
     ]
    },
    {
     "name": "stdout",
     "output_type": "stream",
     "text": [
      "Overwriting existing file.\n",
      "Overwriting existing file.\n",
      "Overwriting existing file.\n",
      "Overwriting existing file.\n"
     ]
    },
    {
     "name": "stderr",
     "output_type": "stream",
     "text": [
      "/var/folders/hp/k3clndsn2sj608qsb4fl5zvr0000gn/T/ipykernel_65405/564586550.py:145: RuntimeWarning: This filename (/Users/Lea/Desktop/PROJECT_DATA_ANALYSIS/MEG_epochs/theta/Patient5_part2R_low_theta_epochs.fif) does not conform to MNE naming conventions. All epochs files should end with -epo.fif, -epo.fif.gz, _epo.fif or _epo.fif.gz\n",
      "  low_epochs.save(low_epoch_filename, overwrite=True)\n",
      "/var/folders/hp/k3clndsn2sj608qsb4fl5zvr0000gn/T/ipykernel_65405/564586550.py:146: RuntimeWarning: This filename (/Users/Lea/Desktop/PROJECT_DATA_ANALYSIS/MEG_epochs/theta/Patient5_part2R_all_theta_epochs.fif) does not conform to MNE naming conventions. All epochs files should end with -epo.fif, -epo.fif.gz, _epo.fif or _epo.fif.gz\n",
      "  all_epochs.save(all_epoch_filename, overwrite=True)\n"
     ]
    },
    {
     "name": "stdout",
     "output_type": "stream",
     "text": [
      "Overwriting existing file.\n",
      "57\n",
      "29\n",
      "28\n",
      "Patient5_part2R: Drop log for high SWR epochs:\n",
      "(('NO_DATA',), (), (), (), (), (), (), (), (), (), (), (), (), (), (), (), (), (), (), (), (), (), (), (), (), (), (), (), (), (), ('IGNORED',), ('IGNORED',), ('IGNORED',), ('IGNORED',), ('IGNORED',), ('IGNORED',), ('IGNORED',), ('IGNORED',), ('IGNORED',), ('IGNORED',), ('IGNORED',), ('IGNORED',), ('IGNORED',), ('IGNORED',), ('IGNORED',), ('IGNORED',), ('IGNORED',), ('IGNORED',), ('IGNORED',), ('IGNORED',), ('IGNORED',), ('IGNORED',), ('IGNORED',), ('IGNORED',), ('IGNORED',), ('IGNORED',), ('IGNORED',), ('IGNORED',), ('IGNORED',), ('IGNORED',))\n",
      "Patient5_part2R: Drop log for low SWR epochs:\n",
      "(('IGNORED',), ('IGNORED',), ('IGNORED',), ('IGNORED',), ('IGNORED',), ('IGNORED',), ('IGNORED',), ('IGNORED',), ('IGNORED',), ('IGNORED',), ('IGNORED',), ('IGNORED',), ('IGNORED',), ('IGNORED',), ('IGNORED',), ('IGNORED',), ('IGNORED',), ('IGNORED',), ('IGNORED',), ('IGNORED',), ('IGNORED',), ('IGNORED',), ('IGNORED',), ('IGNORED',), ('IGNORED',), ('IGNORED',), ('IGNORED',), ('IGNORED',), ('IGNORED',), ('IGNORED',), ('NO_DATA',), ('NO_DATA',), (), (), (), (), (), (), (), (), (), (), (), (), (), (), (), (), (), (), (), (), (), (), (), (), (), (), (), ())\n",
      "Patient5_part2R: Drop log for all epochs:\n",
      "(('NO_DATA',), (), (), (), (), (), (), (), (), (), (), (), (), (), (), (), (), (), (), (), (), (), (), (), (), (), (), (), (), (), ('NO_DATA',), ('NO_DATA',), (), (), (), (), (), (), (), (), (), (), (), (), (), (), (), (), (), (), (), (), (), (), (), (), (), (), (), ())\n",
      "Patient6: Found 82 SWR events.\n",
      "Patient6: Found 83 no SWR events.\n"
     ]
    },
    {
     "name": "stderr",
     "output_type": "stream",
     "text": [
      "/var/folders/hp/k3clndsn2sj608qsb4fl5zvr0000gn/T/ipykernel_65405/564586550.py:89: RuntimeWarning: This filename (/Users/Lea/Desktop/PROJECT_DATA_ANALYSIS/meg/ZM_patient6/ZM_raw_001_tsss.fif) does not conform to MNE naming conventions. All raw files should end with raw.fif, raw_sss.fif, raw_tsss.fif, _meg.fif, _eeg.fif, _ieeg.fif, raw.fif.gz, raw_sss.fif.gz, raw_tsss.fif.gz, _meg.fif.gz, _eeg.fif.gz or _ieeg.fif.gz\n",
      "  raw = mne.io.read_raw_fif(raw_files[patient_id], preload = True, verbose = False)\n"
     ]
    },
    {
     "name": "stdout",
     "output_type": "stream",
     "text": [
      "Creating RawArray with float64 data, n_channels=385, n_times=414000\n",
      "    Range : 0 ... 413999 =      0.000 ...   413.999 secs\n",
      "Ready.\n",
      "Overwriting existing file.\n"
     ]
    },
    {
     "name": "stderr",
     "output_type": "stream",
     "text": [
      "/var/folders/hp/k3clndsn2sj608qsb4fl5zvr0000gn/T/ipykernel_65405/564586550.py:137: RuntimeWarning: The events passed to the Epochs constructor are not chronologically ordered.\n",
      "  all_epochs = mne.Epochs(data_elect, events, event_id= [1, 2], tmin=-3, tmax=3, picks = ['grad', 'mag'], preload=True, verbose = False)\n",
      "/var/folders/hp/k3clndsn2sj608qsb4fl5zvr0000gn/T/ipykernel_65405/564586550.py:144: RuntimeWarning: This filename (/Users/Lea/Desktop/PROJECT_DATA_ANALYSIS/MEG_epochs/theta/Patient6_high_theta_epochs.fif) does not conform to MNE naming conventions. All epochs files should end with -epo.fif, -epo.fif.gz, _epo.fif or _epo.fif.gz\n",
      "  high_epochs.save(high_epoch_filename, overwrite=True)\n"
     ]
    },
    {
     "name": "stdout",
     "output_type": "stream",
     "text": [
      "Overwriting existing file.\n",
      "Overwriting existing file.\n",
      "Overwriting existing file.\n",
      "Overwriting existing file.\n"
     ]
    },
    {
     "name": "stderr",
     "output_type": "stream",
     "text": [
      "/var/folders/hp/k3clndsn2sj608qsb4fl5zvr0000gn/T/ipykernel_65405/564586550.py:145: RuntimeWarning: This filename (/Users/Lea/Desktop/PROJECT_DATA_ANALYSIS/MEG_epochs/theta/Patient6_low_theta_epochs.fif) does not conform to MNE naming conventions. All epochs files should end with -epo.fif, -epo.fif.gz, _epo.fif or _epo.fif.gz\n",
      "  low_epochs.save(low_epoch_filename, overwrite=True)\n",
      "/var/folders/hp/k3clndsn2sj608qsb4fl5zvr0000gn/T/ipykernel_65405/564586550.py:146: RuntimeWarning: This filename (/Users/Lea/Desktop/PROJECT_DATA_ANALYSIS/MEG_epochs/theta/Patient6_all_theta_epochs.fif) does not conform to MNE naming conventions. All epochs files should end with -epo.fif, -epo.fif.gz, _epo.fif or _epo.fif.gz\n",
      "  all_epochs.save(all_epoch_filename, overwrite=True)\n"
     ]
    },
    {
     "name": "stdout",
     "output_type": "stream",
     "text": [
      "Overwriting existing file.\n",
      "59\n",
      "30\n",
      "29\n",
      "Patient6: Drop log for high SWR epochs:\n",
      "((), (), (), (), (), (), (), (), (), (), (), (), (), (), (), (), (), (), (), (), (), (), (), (), (), (), (), (), (), (), ('IGNORED',), ('IGNORED',), ('IGNORED',), ('IGNORED',), ('IGNORED',), ('IGNORED',), ('IGNORED',), ('IGNORED',), ('IGNORED',), ('IGNORED',), ('IGNORED',), ('IGNORED',), ('IGNORED',), ('IGNORED',), ('IGNORED',), ('IGNORED',), ('IGNORED',), ('IGNORED',), ('IGNORED',), ('IGNORED',), ('IGNORED',), ('IGNORED',), ('IGNORED',), ('IGNORED',), ('IGNORED',), ('IGNORED',), ('IGNORED',), ('IGNORED',), ('IGNORED',), ('IGNORED',))\n",
      "Patient6: Drop log for low SWR epochs:\n",
      "(('IGNORED',), ('IGNORED',), ('IGNORED',), ('IGNORED',), ('IGNORED',), ('IGNORED',), ('IGNORED',), ('IGNORED',), ('IGNORED',), ('IGNORED',), ('IGNORED',), ('IGNORED',), ('IGNORED',), ('IGNORED',), ('IGNORED',), ('IGNORED',), ('IGNORED',), ('IGNORED',), ('IGNORED',), ('IGNORED',), ('IGNORED',), ('IGNORED',), ('IGNORED',), ('IGNORED',), ('IGNORED',), ('IGNORED',), ('IGNORED',), ('IGNORED',), ('IGNORED',), ('IGNORED',), (), (), (), (), (), (), (), (), (), (), (), (), (), (), (), (), (), (), (), (), (), (), (), (), (), (), (), (), (), ('TOO_SHORT',))\n",
      "Patient6: Drop log for all epochs:\n",
      "((), (), (), (), (), (), (), (), (), (), (), (), (), (), (), (), (), (), (), (), (), (), (), (), (), (), (), (), (), (), (), (), (), (), (), (), (), (), (), (), (), (), (), (), (), (), (), (), (), (), (), (), (), (), (), (), (), (), (), ('TOO_SHORT',))\n",
      "Patient8: Found 14 SWR events.\n",
      "Patient8: Found 15 no SWR events.\n"
     ]
    },
    {
     "name": "stderr",
     "output_type": "stream",
     "text": [
      "/var/folders/hp/k3clndsn2sj608qsb4fl5zvr0000gn/T/ipykernel_65405/564586550.py:89: RuntimeWarning: This filename (/Users/Lea/Desktop/PROJECT_DATA_ANALYSIS/meg/XX_patient8/XX_raw_001_tsss.fif) does not conform to MNE naming conventions. All raw files should end with raw.fif, raw_sss.fif, raw_tsss.fif, _meg.fif, _eeg.fif, _ieeg.fif, raw.fif.gz, raw_sss.fif.gz, raw_tsss.fif.gz, _meg.fif.gz, _eeg.fif.gz or _ieeg.fif.gz\n",
      "  raw = mne.io.read_raw_fif(raw_files[patient_id], preload = True, verbose = False)\n"
     ]
    },
    {
     "name": "stdout",
     "output_type": "stream",
     "text": [
      "Creating RawArray with float64 data, n_channels=385, n_times=575000\n",
      "    Range : 0 ... 574999 =      0.000 ...   574.999 secs\n",
      "Ready.\n",
      "Patient8: Less than 30 SWRs regions detected. Using all 14 available regions.\n",
      "Patient8: Only 14 SWR epochs could be used after applying min_gap constraint.\n",
      "Patient8: Less than 30 low-SWR regions detected. Using all 15 available regions.\n",
      "Overwriting existing file.\n",
      "Overwriting existing file.\n"
     ]
    },
    {
     "name": "stderr",
     "output_type": "stream",
     "text": [
      "/var/folders/hp/k3clndsn2sj608qsb4fl5zvr0000gn/T/ipykernel_65405/564586550.py:137: RuntimeWarning: The events passed to the Epochs constructor are not chronologically ordered.\n",
      "  all_epochs = mne.Epochs(data_elect, events, event_id= [1, 2], tmin=-3, tmax=3, picks = ['grad', 'mag'], preload=True, verbose = False)\n",
      "/var/folders/hp/k3clndsn2sj608qsb4fl5zvr0000gn/T/ipykernel_65405/564586550.py:144: RuntimeWarning: This filename (/Users/Lea/Desktop/PROJECT_DATA_ANALYSIS/MEG_epochs/theta/Patient8_high_theta_epochs.fif) does not conform to MNE naming conventions. All epochs files should end with -epo.fif, -epo.fif.gz, _epo.fif or _epo.fif.gz\n",
      "  high_epochs.save(high_epoch_filename, overwrite=True)\n"
     ]
    },
    {
     "name": "stdout",
     "output_type": "stream",
     "text": [
      "Overwriting existing file.\n",
      "Overwriting existing file.\n",
      "Overwriting existing file.\n",
      "Overwriting existing file.\n"
     ]
    },
    {
     "name": "stderr",
     "output_type": "stream",
     "text": [
      "/var/folders/hp/k3clndsn2sj608qsb4fl5zvr0000gn/T/ipykernel_65405/564586550.py:145: RuntimeWarning: This filename (/Users/Lea/Desktop/PROJECT_DATA_ANALYSIS/MEG_epochs/theta/Patient8_low_theta_epochs.fif) does not conform to MNE naming conventions. All epochs files should end with -epo.fif, -epo.fif.gz, _epo.fif or _epo.fif.gz\n",
      "  low_epochs.save(low_epoch_filename, overwrite=True)\n",
      "/var/folders/hp/k3clndsn2sj608qsb4fl5zvr0000gn/T/ipykernel_65405/564586550.py:146: RuntimeWarning: This filename (/Users/Lea/Desktop/PROJECT_DATA_ANALYSIS/MEG_epochs/theta/Patient8_all_theta_epochs.fif) does not conform to MNE naming conventions. All epochs files should end with -epo.fif, -epo.fif.gz, _epo.fif or _epo.fif.gz\n",
      "  all_epochs.save(all_epoch_filename, overwrite=True)\n"
     ]
    },
    {
     "name": "stdout",
     "output_type": "stream",
     "text": [
      "29\n",
      "14\n",
      "15\n",
      "Patient8: Drop log for high SWR epochs:\n",
      "((), (), (), (), (), (), (), (), (), (), (), (), (), (), ('IGNORED',), ('IGNORED',), ('IGNORED',), ('IGNORED',), ('IGNORED',), ('IGNORED',), ('IGNORED',), ('IGNORED',), ('IGNORED',), ('IGNORED',), ('IGNORED',), ('IGNORED',), ('IGNORED',), ('IGNORED',), ('IGNORED',))\n",
      "Patient8: Drop log for low SWR epochs:\n",
      "(('IGNORED',), ('IGNORED',), ('IGNORED',), ('IGNORED',), ('IGNORED',), ('IGNORED',), ('IGNORED',), ('IGNORED',), ('IGNORED',), ('IGNORED',), ('IGNORED',), ('IGNORED',), ('IGNORED',), ('IGNORED',), (), (), (), (), (), (), (), (), (), (), (), (), (), (), ())\n",
      "Patient8: Drop log for all epochs:\n",
      "((), (), (), (), (), (), (), (), (), (), (), (), (), (), (), (), (), (), (), (), (), (), (), (), (), (), (), (), ())\n",
      "Patient10: Found 19 SWR events.\n",
      "Patient10: Found 20 no SWR events.\n"
     ]
    },
    {
     "name": "stderr",
     "output_type": "stream",
     "text": [
      "/var/folders/hp/k3clndsn2sj608qsb4fl5zvr0000gn/T/ipykernel_65405/564586550.py:89: RuntimeWarning: This filename (/Users/Lea/Desktop/PROJECT_DATA_ANALYSIS/meg/NY_patient10/NY_raw_001_tsss.fif) does not conform to MNE naming conventions. All raw files should end with raw.fif, raw_sss.fif, raw_tsss.fif, _meg.fif, _eeg.fif, _ieeg.fif, raw.fif.gz, raw_sss.fif.gz, raw_tsss.fif.gz, _meg.fif.gz, _eeg.fif.gz or _ieeg.fif.gz\n",
      "  raw = mne.io.read_raw_fif(raw_files[patient_id], preload = True, verbose = False)\n"
     ]
    },
    {
     "name": "stdout",
     "output_type": "stream",
     "text": [
      "Creating RawArray with float64 data, n_channels=385, n_times=627000\n",
      "    Range : 0 ... 626999 =      0.000 ...   626.999 secs\n",
      "Ready.\n",
      "Patient10: Less than 30 SWRs regions detected. Using all 19 available regions.\n",
      "Patient10: Only 19 SWR epochs could be used after applying min_gap constraint.\n",
      "Patient10: Less than 30 low-SWR regions detected. Using all 20 available regions.\n",
      "Overwriting existing file.\n",
      "Overwriting existing file.\n"
     ]
    },
    {
     "name": "stderr",
     "output_type": "stream",
     "text": [
      "/var/folders/hp/k3clndsn2sj608qsb4fl5zvr0000gn/T/ipykernel_65405/564586550.py:137: RuntimeWarning: The events passed to the Epochs constructor are not chronologically ordered.\n",
      "  all_epochs = mne.Epochs(data_elect, events, event_id= [1, 2], tmin=-3, tmax=3, picks = ['grad', 'mag'], preload=True, verbose = False)\n",
      "/var/folders/hp/k3clndsn2sj608qsb4fl5zvr0000gn/T/ipykernel_65405/564586550.py:144: RuntimeWarning: This filename (/Users/Lea/Desktop/PROJECT_DATA_ANALYSIS/MEG_epochs/theta/Patient10_high_theta_epochs.fif) does not conform to MNE naming conventions. All epochs files should end with -epo.fif, -epo.fif.gz, _epo.fif or _epo.fif.gz\n",
      "  high_epochs.save(high_epoch_filename, overwrite=True)\n"
     ]
    },
    {
     "name": "stdout",
     "output_type": "stream",
     "text": [
      "Overwriting existing file.\n",
      "Overwriting existing file.\n",
      "Overwriting existing file.\n",
      "Overwriting existing file.\n"
     ]
    },
    {
     "name": "stderr",
     "output_type": "stream",
     "text": [
      "/var/folders/hp/k3clndsn2sj608qsb4fl5zvr0000gn/T/ipykernel_65405/564586550.py:145: RuntimeWarning: This filename (/Users/Lea/Desktop/PROJECT_DATA_ANALYSIS/MEG_epochs/theta/Patient10_low_theta_epochs.fif) does not conform to MNE naming conventions. All epochs files should end with -epo.fif, -epo.fif.gz, _epo.fif or _epo.fif.gz\n",
      "  low_epochs.save(low_epoch_filename, overwrite=True)\n",
      "/var/folders/hp/k3clndsn2sj608qsb4fl5zvr0000gn/T/ipykernel_65405/564586550.py:146: RuntimeWarning: This filename (/Users/Lea/Desktop/PROJECT_DATA_ANALYSIS/MEG_epochs/theta/Patient10_all_theta_epochs.fif) does not conform to MNE naming conventions. All epochs files should end with -epo.fif, -epo.fif.gz, _epo.fif or _epo.fif.gz\n",
      "  all_epochs.save(all_epoch_filename, overwrite=True)\n"
     ]
    },
    {
     "name": "stdout",
     "output_type": "stream",
     "text": [
      "39\n",
      "19\n",
      "20\n",
      "Patient10: Drop log for high SWR epochs:\n",
      "((), (), (), (), (), (), (), (), (), (), (), (), (), (), (), (), (), (), (), ('IGNORED',), ('IGNORED',), ('IGNORED',), ('IGNORED',), ('IGNORED',), ('IGNORED',), ('IGNORED',), ('IGNORED',), ('IGNORED',), ('IGNORED',), ('IGNORED',), ('IGNORED',), ('IGNORED',), ('IGNORED',), ('IGNORED',), ('IGNORED',), ('IGNORED',), ('IGNORED',), ('IGNORED',), ('IGNORED',))\n",
      "Patient10: Drop log for low SWR epochs:\n",
      "(('IGNORED',), ('IGNORED',), ('IGNORED',), ('IGNORED',), ('IGNORED',), ('IGNORED',), ('IGNORED',), ('IGNORED',), ('IGNORED',), ('IGNORED',), ('IGNORED',), ('IGNORED',), ('IGNORED',), ('IGNORED',), ('IGNORED',), ('IGNORED',), ('IGNORED',), ('IGNORED',), ('IGNORED',), (), (), (), (), (), (), (), (), (), (), (), (), (), (), (), (), (), (), (), ())\n",
      "Patient10: Drop log for all epochs:\n",
      "((), (), (), (), (), (), (), (), (), (), (), (), (), (), (), (), (), (), (), (), (), (), (), (), (), (), (), (), (), (), (), (), (), (), (), (), (), (), ())\n",
      "Patient11_part1: Found 102 SWR events.\n",
      "Patient11_part1: Found 103 no SWR events.\n"
     ]
    },
    {
     "name": "stderr",
     "output_type": "stream",
     "text": [
      "/var/folders/hp/k3clndsn2sj608qsb4fl5zvr0000gn/T/ipykernel_65405/564586550.py:89: RuntimeWarning: This filename (/Users/Lea/Desktop/PROJECT_DATA_ANALYSIS/meg/ZJ_patient11/ZJ_raw_001_tsss.fif) does not conform to MNE naming conventions. All raw files should end with raw.fif, raw_sss.fif, raw_tsss.fif, _meg.fif, _eeg.fif, _ieeg.fif, raw.fif.gz, raw_sss.fif.gz, raw_tsss.fif.gz, _meg.fif.gz, _eeg.fif.gz or _ieeg.fif.gz\n",
      "  raw = mne.io.read_raw_fif(raw_files[patient_id], preload = True, verbose = False)\n"
     ]
    },
    {
     "name": "stdout",
     "output_type": "stream",
     "text": [
      "Creating RawArray with float64 data, n_channels=385, n_times=431000\n",
      "    Range : 0 ... 430999 =      0.000 ...   430.999 secs\n",
      "Ready.\n",
      "Overwriting existing file.\n"
     ]
    },
    {
     "name": "stderr",
     "output_type": "stream",
     "text": [
      "/var/folders/hp/k3clndsn2sj608qsb4fl5zvr0000gn/T/ipykernel_65405/564586550.py:137: RuntimeWarning: The events passed to the Epochs constructor are not chronologically ordered.\n",
      "  all_epochs = mne.Epochs(data_elect, events, event_id= [1, 2], tmin=-3, tmax=3, picks = ['grad', 'mag'], preload=True, verbose = False)\n",
      "/var/folders/hp/k3clndsn2sj608qsb4fl5zvr0000gn/T/ipykernel_65405/564586550.py:144: RuntimeWarning: This filename (/Users/Lea/Desktop/PROJECT_DATA_ANALYSIS/MEG_epochs/theta/Patient11_part1_high_theta_epochs.fif) does not conform to MNE naming conventions. All epochs files should end with -epo.fif, -epo.fif.gz, _epo.fif or _epo.fif.gz\n",
      "  high_epochs.save(high_epoch_filename, overwrite=True)\n"
     ]
    },
    {
     "name": "stdout",
     "output_type": "stream",
     "text": [
      "Overwriting existing file.\n",
      "Overwriting existing file.\n",
      "Overwriting existing file.\n",
      "Overwriting existing file.\n"
     ]
    },
    {
     "name": "stderr",
     "output_type": "stream",
     "text": [
      "/var/folders/hp/k3clndsn2sj608qsb4fl5zvr0000gn/T/ipykernel_65405/564586550.py:145: RuntimeWarning: This filename (/Users/Lea/Desktop/PROJECT_DATA_ANALYSIS/MEG_epochs/theta/Patient11_part1_low_theta_epochs.fif) does not conform to MNE naming conventions. All epochs files should end with -epo.fif, -epo.fif.gz, _epo.fif or _epo.fif.gz\n",
      "  low_epochs.save(low_epoch_filename, overwrite=True)\n",
      "/var/folders/hp/k3clndsn2sj608qsb4fl5zvr0000gn/T/ipykernel_65405/564586550.py:146: RuntimeWarning: This filename (/Users/Lea/Desktop/PROJECT_DATA_ANALYSIS/MEG_epochs/theta/Patient11_part1_all_theta_epochs.fif) does not conform to MNE naming conventions. All epochs files should end with -epo.fif, -epo.fif.gz, _epo.fif or _epo.fif.gz\n",
      "  all_epochs.save(all_epoch_filename, overwrite=True)\n"
     ]
    },
    {
     "name": "stdout",
     "output_type": "stream",
     "text": [
      "Overwriting existing file.\n",
      "60\n",
      "30\n",
      "30\n",
      "Patient11_part1: Drop log for high SWR epochs:\n",
      "((), (), (), (), (), (), (), (), (), (), (), (), (), (), (), (), (), (), (), (), (), (), (), (), (), (), (), (), (), (), ('IGNORED',), ('IGNORED',), ('IGNORED',), ('IGNORED',), ('IGNORED',), ('IGNORED',), ('IGNORED',), ('IGNORED',), ('IGNORED',), ('IGNORED',), ('IGNORED',), ('IGNORED',), ('IGNORED',), ('IGNORED',), ('IGNORED',), ('IGNORED',), ('IGNORED',), ('IGNORED',), ('IGNORED',), ('IGNORED',), ('IGNORED',), ('IGNORED',), ('IGNORED',), ('IGNORED',), ('IGNORED',), ('IGNORED',), ('IGNORED',), ('IGNORED',), ('IGNORED',), ('IGNORED',))\n",
      "Patient11_part1: Drop log for low SWR epochs:\n",
      "(('IGNORED',), ('IGNORED',), ('IGNORED',), ('IGNORED',), ('IGNORED',), ('IGNORED',), ('IGNORED',), ('IGNORED',), ('IGNORED',), ('IGNORED',), ('IGNORED',), ('IGNORED',), ('IGNORED',), ('IGNORED',), ('IGNORED',), ('IGNORED',), ('IGNORED',), ('IGNORED',), ('IGNORED',), ('IGNORED',), ('IGNORED',), ('IGNORED',), ('IGNORED',), ('IGNORED',), ('IGNORED',), ('IGNORED',), ('IGNORED',), ('IGNORED',), ('IGNORED',), ('IGNORED',), (), (), (), (), (), (), (), (), (), (), (), (), (), (), (), (), (), (), (), (), (), (), (), (), (), (), (), (), (), ())\n",
      "Patient11_part1: Drop log for all epochs:\n",
      "((), (), (), (), (), (), (), (), (), (), (), (), (), (), (), (), (), (), (), (), (), (), (), (), (), (), (), (), (), (), (), (), (), (), (), (), (), (), (), (), (), (), (), (), (), (), (), (), (), (), (), (), (), (), (), (), (), (), (), ())\n",
      "Patient11_part2: Found 87 SWR events.\n",
      "Patient11_part2: Found 88 no SWR events.\n"
     ]
    },
    {
     "name": "stderr",
     "output_type": "stream",
     "text": [
      "/var/folders/hp/k3clndsn2sj608qsb4fl5zvr0000gn/T/ipykernel_65405/564586550.py:89: RuntimeWarning: This filename (/Users/Lea/Desktop/PROJECT_DATA_ANALYSIS/meg/ZJ_patient11/ZJ_raw_002_tsss.fif) does not conform to MNE naming conventions. All raw files should end with raw.fif, raw_sss.fif, raw_tsss.fif, _meg.fif, _eeg.fif, _ieeg.fif, raw.fif.gz, raw_sss.fif.gz, raw_tsss.fif.gz, _meg.fif.gz, _eeg.fif.gz or _ieeg.fif.gz\n",
      "  raw = mne.io.read_raw_fif(raw_files[patient_id], preload = True, verbose = False)\n"
     ]
    },
    {
     "name": "stdout",
     "output_type": "stream",
     "text": [
      "Creating RawArray with float64 data, n_channels=385, n_times=352000\n",
      "    Range : 0 ... 351999 =      0.000 ...   351.999 secs\n",
      "Ready.\n",
      "Overwriting existing file.\n"
     ]
    },
    {
     "name": "stderr",
     "output_type": "stream",
     "text": [
      "/var/folders/hp/k3clndsn2sj608qsb4fl5zvr0000gn/T/ipykernel_65405/564586550.py:137: RuntimeWarning: The events passed to the Epochs constructor are not chronologically ordered.\n",
      "  all_epochs = mne.Epochs(data_elect, events, event_id= [1, 2], tmin=-3, tmax=3, picks = ['grad', 'mag'], preload=True, verbose = False)\n",
      "/var/folders/hp/k3clndsn2sj608qsb4fl5zvr0000gn/T/ipykernel_65405/564586550.py:144: RuntimeWarning: This filename (/Users/Lea/Desktop/PROJECT_DATA_ANALYSIS/MEG_epochs/theta/Patient11_part2_high_theta_epochs.fif) does not conform to MNE naming conventions. All epochs files should end with -epo.fif, -epo.fif.gz, _epo.fif or _epo.fif.gz\n",
      "  high_epochs.save(high_epoch_filename, overwrite=True)\n"
     ]
    },
    {
     "name": "stdout",
     "output_type": "stream",
     "text": [
      "Overwriting existing file.\n",
      "Overwriting existing file.\n",
      "Overwriting existing file.\n",
      "Overwriting existing file.\n"
     ]
    },
    {
     "name": "stderr",
     "output_type": "stream",
     "text": [
      "/var/folders/hp/k3clndsn2sj608qsb4fl5zvr0000gn/T/ipykernel_65405/564586550.py:145: RuntimeWarning: This filename (/Users/Lea/Desktop/PROJECT_DATA_ANALYSIS/MEG_epochs/theta/Patient11_part2_low_theta_epochs.fif) does not conform to MNE naming conventions. All epochs files should end with -epo.fif, -epo.fif.gz, _epo.fif or _epo.fif.gz\n",
      "  low_epochs.save(low_epoch_filename, overwrite=True)\n",
      "/var/folders/hp/k3clndsn2sj608qsb4fl5zvr0000gn/T/ipykernel_65405/564586550.py:146: RuntimeWarning: This filename (/Users/Lea/Desktop/PROJECT_DATA_ANALYSIS/MEG_epochs/theta/Patient11_part2_all_theta_epochs.fif) does not conform to MNE naming conventions. All epochs files should end with -epo.fif, -epo.fif.gz, _epo.fif or _epo.fif.gz\n",
      "  all_epochs.save(all_epoch_filename, overwrite=True)\n"
     ]
    },
    {
     "name": "stdout",
     "output_type": "stream",
     "text": [
      "Overwriting existing file.\n",
      "57\n",
      "29\n",
      "28\n",
      "Patient11_part2: Drop log for high SWR epochs:\n",
      "((), (), (), (), (), (), (), (), (), (), (), (), (), (), (), (), (), (), (), (), (), (), (), (), (), (), (), (), (), ('TOO_SHORT',), ('IGNORED',), ('IGNORED',), ('IGNORED',), ('IGNORED',), ('IGNORED',), ('IGNORED',), ('IGNORED',), ('IGNORED',), ('IGNORED',), ('IGNORED',), ('IGNORED',), ('IGNORED',), ('IGNORED',), ('IGNORED',), ('IGNORED',), ('IGNORED',), ('IGNORED',), ('IGNORED',), ('IGNORED',), ('IGNORED',), ('IGNORED',), ('IGNORED',), ('IGNORED',), ('IGNORED',), ('IGNORED',), ('IGNORED',), ('IGNORED',), ('IGNORED',), ('IGNORED',), ('IGNORED',))\n",
      "Patient11_part2: Drop log for low SWR epochs:\n",
      "(('IGNORED',), ('IGNORED',), ('IGNORED',), ('IGNORED',), ('IGNORED',), ('IGNORED',), ('IGNORED',), ('IGNORED',), ('IGNORED',), ('IGNORED',), ('IGNORED',), ('IGNORED',), ('IGNORED',), ('IGNORED',), ('IGNORED',), ('IGNORED',), ('IGNORED',), ('IGNORED',), ('IGNORED',), ('IGNORED',), ('IGNORED',), ('IGNORED',), ('IGNORED',), ('IGNORED',), ('IGNORED',), ('IGNORED',), ('IGNORED',), ('IGNORED',), ('IGNORED',), ('IGNORED',), ('NO_DATA',), (), (), (), (), (), (), (), (), (), (), (), (), (), (), (), (), (), (), (), (), (), (), (), (), (), (), (), (), ('TOO_SHORT',))\n",
      "Patient11_part2: Drop log for all epochs:\n",
      "((), (), (), (), (), (), (), (), (), (), (), (), (), (), (), (), (), (), (), (), (), (), (), (), (), (), (), (), (), ('TOO_SHORT',), ('NO_DATA',), (), (), (), (), (), (), (), (), (), (), (), (), (), (), (), (), (), (), (), (), (), (), (), (), (), (), (), (), ('TOO_SHORT',))\n",
      "Patient13: Found 54 SWR events.\n",
      "Patient13: Found 55 no SWR events.\n"
     ]
    },
    {
     "name": "stderr",
     "output_type": "stream",
     "text": [
      "/var/folders/hp/k3clndsn2sj608qsb4fl5zvr0000gn/T/ipykernel_65405/564586550.py:89: RuntimeWarning: This filename (/Users/Lea/Desktop/PROJECT_DATA_ANALYSIS/meg/ZB_patient13/ZB_raw_004_tsss.fif) does not conform to MNE naming conventions. All raw files should end with raw.fif, raw_sss.fif, raw_tsss.fif, _meg.fif, _eeg.fif, _ieeg.fif, raw.fif.gz, raw_sss.fif.gz, raw_tsss.fif.gz, _meg.fif.gz, _eeg.fif.gz or _ieeg.fif.gz\n",
      "  raw = mne.io.read_raw_fif(raw_files[patient_id], preload = True, verbose = False)\n"
     ]
    },
    {
     "name": "stdout",
     "output_type": "stream",
     "text": [
      "Creating RawArray with float64 data, n_channels=385, n_times=243000\n",
      "    Range : 0 ... 242999 =      0.000 ...   242.999 secs\n",
      "Ready.\n"
     ]
    },
    {
     "name": "stderr",
     "output_type": "stream",
     "text": [
      "/var/folders/hp/k3clndsn2sj608qsb4fl5zvr0000gn/T/ipykernel_65405/564586550.py:137: RuntimeWarning: The events passed to the Epochs constructor are not chronologically ordered.\n",
      "  all_epochs = mne.Epochs(data_elect, events, event_id= [1, 2], tmin=-3, tmax=3, picks = ['grad', 'mag'], preload=True, verbose = False)\n",
      "/var/folders/hp/k3clndsn2sj608qsb4fl5zvr0000gn/T/ipykernel_65405/564586550.py:144: RuntimeWarning: This filename (/Users/Lea/Desktop/PROJECT_DATA_ANALYSIS/MEG_epochs/theta/Patient13_high_theta_epochs.fif) does not conform to MNE naming conventions. All epochs files should end with -epo.fif, -epo.fif.gz, _epo.fif or _epo.fif.gz\n",
      "  high_epochs.save(high_epoch_filename, overwrite=True)\n",
      "/var/folders/hp/k3clndsn2sj608qsb4fl5zvr0000gn/T/ipykernel_65405/564586550.py:145: RuntimeWarning: This filename (/Users/Lea/Desktop/PROJECT_DATA_ANALYSIS/MEG_epochs/theta/Patient13_low_theta_epochs.fif) does not conform to MNE naming conventions. All epochs files should end with -epo.fif, -epo.fif.gz, _epo.fif or _epo.fif.gz\n",
      "  low_epochs.save(low_epoch_filename, overwrite=True)\n",
      "/var/folders/hp/k3clndsn2sj608qsb4fl5zvr0000gn/T/ipykernel_65405/564586550.py:146: RuntimeWarning: This filename (/Users/Lea/Desktop/PROJECT_DATA_ANALYSIS/MEG_epochs/theta/Patient13_all_theta_epochs.fif) does not conform to MNE naming conventions. All epochs files should end with -epo.fif, -epo.fif.gz, _epo.fif or _epo.fif.gz\n",
      "  all_epochs.save(all_epoch_filename, overwrite=True)\n"
     ]
    },
    {
     "name": "stdout",
     "output_type": "stream",
     "text": [
      "57\n",
      "29\n",
      "28\n",
      "Patient13: Drop log for high SWR epochs:\n",
      "(('NO_DATA',), (), (), (), (), (), (), (), (), (), (), (), (), (), (), (), (), (), (), (), (), (), (), (), (), (), (), (), (), (), ('IGNORED',), ('IGNORED',), ('IGNORED',), ('IGNORED',), ('IGNORED',), ('IGNORED',), ('IGNORED',), ('IGNORED',), ('IGNORED',), ('IGNORED',), ('IGNORED',), ('IGNORED',), ('IGNORED',), ('IGNORED',), ('IGNORED',), ('IGNORED',), ('IGNORED',), ('IGNORED',), ('IGNORED',), ('IGNORED',), ('IGNORED',), ('IGNORED',), ('IGNORED',), ('IGNORED',), ('IGNORED',), ('IGNORED',), ('IGNORED',), ('IGNORED',), ('IGNORED',), ('IGNORED',))\n",
      "Patient13: Drop log for low SWR epochs:\n",
      "(('IGNORED',), ('IGNORED',), ('IGNORED',), ('IGNORED',), ('IGNORED',), ('IGNORED',), ('IGNORED',), ('IGNORED',), ('IGNORED',), ('IGNORED',), ('IGNORED',), ('IGNORED',), ('IGNORED',), ('IGNORED',), ('IGNORED',), ('IGNORED',), ('IGNORED',), ('IGNORED',), ('IGNORED',), ('IGNORED',), ('IGNORED',), ('IGNORED',), ('IGNORED',), ('IGNORED',), ('IGNORED',), ('IGNORED',), ('IGNORED',), ('IGNORED',), ('IGNORED',), ('IGNORED',), ('NO_DATA',), (), (), (), (), (), (), (), (), (), (), (), (), (), (), (), (), (), (), (), (), (), (), (), (), (), (), (), (), ('TOO_SHORT',))\n",
      "Patient13: Drop log for all epochs:\n",
      "(('NO_DATA',), (), (), (), (), (), (), (), (), (), (), (), (), (), (), (), (), (), (), (), (), (), (), (), (), (), (), (), (), (), ('NO_DATA',), (), (), (), (), (), (), (), (), (), (), (), (), (), (), (), (), (), (), (), (), (), (), (), (), (), (), (), (), ('TOO_SHORT',))\n",
      "Patient14_part1_left: Found 99 SWR events.\n",
      "Patient14_part1_left: Found 100 no SWR events.\n"
     ]
    },
    {
     "name": "stderr",
     "output_type": "stream",
     "text": [
      "/var/folders/hp/k3clndsn2sj608qsb4fl5zvr0000gn/T/ipykernel_65405/564586550.py:89: RuntimeWarning: This filename (/Users/Lea/Desktop/PROJECT_DATA_ANALYSIS/meg/CL_patient14/CL_raw_001_tsss.fif) does not conform to MNE naming conventions. All raw files should end with raw.fif, raw_sss.fif, raw_tsss.fif, _meg.fif, _eeg.fif, _ieeg.fif, raw.fif.gz, raw_sss.fif.gz, raw_tsss.fif.gz, _meg.fif.gz, _eeg.fif.gz or _ieeg.fif.gz\n",
      "  raw = mne.io.read_raw_fif(raw_files[patient_id], preload = True, verbose = False)\n"
     ]
    },
    {
     "name": "stdout",
     "output_type": "stream",
     "text": [
      "Creating RawArray with float64 data, n_channels=385, n_times=452000\n",
      "    Range : 0 ... 451999 =      0.000 ...   451.999 secs\n",
      "Ready.\n"
     ]
    },
    {
     "name": "stderr",
     "output_type": "stream",
     "text": [
      "/var/folders/hp/k3clndsn2sj608qsb4fl5zvr0000gn/T/ipykernel_65405/564586550.py:137: RuntimeWarning: The events passed to the Epochs constructor are not chronologically ordered.\n",
      "  all_epochs = mne.Epochs(data_elect, events, event_id= [1, 2], tmin=-3, tmax=3, picks = ['grad', 'mag'], preload=True, verbose = False)\n",
      "/var/folders/hp/k3clndsn2sj608qsb4fl5zvr0000gn/T/ipykernel_65405/564586550.py:144: RuntimeWarning: This filename (/Users/Lea/Desktop/PROJECT_DATA_ANALYSIS/MEG_epochs/theta/Patient14_part1_left_high_theta_epochs.fif) does not conform to MNE naming conventions. All epochs files should end with -epo.fif, -epo.fif.gz, _epo.fif or _epo.fif.gz\n",
      "  high_epochs.save(high_epoch_filename, overwrite=True)\n",
      "/var/folders/hp/k3clndsn2sj608qsb4fl5zvr0000gn/T/ipykernel_65405/564586550.py:145: RuntimeWarning: This filename (/Users/Lea/Desktop/PROJECT_DATA_ANALYSIS/MEG_epochs/theta/Patient14_part1_left_low_theta_epochs.fif) does not conform to MNE naming conventions. All epochs files should end with -epo.fif, -epo.fif.gz, _epo.fif or _epo.fif.gz\n",
      "  low_epochs.save(low_epoch_filename, overwrite=True)\n",
      "/var/folders/hp/k3clndsn2sj608qsb4fl5zvr0000gn/T/ipykernel_65405/564586550.py:146: RuntimeWarning: This filename (/Users/Lea/Desktop/PROJECT_DATA_ANALYSIS/MEG_epochs/theta/Patient14_part1_left_all_theta_epochs.fif) does not conform to MNE naming conventions. All epochs files should end with -epo.fif, -epo.fif.gz, _epo.fif or _epo.fif.gz\n",
      "  all_epochs.save(all_epoch_filename, overwrite=True)\n"
     ]
    },
    {
     "name": "stdout",
     "output_type": "stream",
     "text": [
      "58\n",
      "29\n",
      "29\n",
      "Patient14_part1_left: Drop log for high SWR epochs:\n",
      "(('NO_DATA',), (), (), (), (), (), (), (), (), (), (), (), (), (), (), (), (), (), (), (), (), (), (), (), (), (), (), (), (), (), ('IGNORED',), ('IGNORED',), ('IGNORED',), ('IGNORED',), ('IGNORED',), ('IGNORED',), ('IGNORED',), ('IGNORED',), ('IGNORED',), ('IGNORED',), ('IGNORED',), ('IGNORED',), ('IGNORED',), ('IGNORED',), ('IGNORED',), ('IGNORED',), ('IGNORED',), ('IGNORED',), ('IGNORED',), ('IGNORED',), ('IGNORED',), ('IGNORED',), ('IGNORED',), ('IGNORED',), ('IGNORED',), ('IGNORED',), ('IGNORED',), ('IGNORED',), ('IGNORED',), ('IGNORED',))\n",
      "Patient14_part1_left: Drop log for low SWR epochs:\n",
      "(('IGNORED',), ('IGNORED',), ('IGNORED',), ('IGNORED',), ('IGNORED',), ('IGNORED',), ('IGNORED',), ('IGNORED',), ('IGNORED',), ('IGNORED',), ('IGNORED',), ('IGNORED',), ('IGNORED',), ('IGNORED',), ('IGNORED',), ('IGNORED',), ('IGNORED',), ('IGNORED',), ('IGNORED',), ('IGNORED',), ('IGNORED',), ('IGNORED',), ('IGNORED',), ('IGNORED',), ('IGNORED',), ('IGNORED',), ('IGNORED',), ('IGNORED',), ('IGNORED',), ('IGNORED',), (), (), (), (), (), (), (), (), (), (), (), (), (), (), (), (), (), (), (), (), (), (), (), (), (), (), (), (), (), ('TOO_SHORT',))\n",
      "Patient14_part1_left: Drop log for all epochs:\n",
      "(('NO_DATA',), (), (), (), (), (), (), (), (), (), (), (), (), (), (), (), (), (), (), (), (), (), (), (), (), (), (), (), (), (), (), (), (), (), (), (), (), (), (), (), (), (), (), (), (), (), (), (), (), (), (), (), (), (), (), (), (), (), (), ('TOO_SHORT',))\n",
      "Patient14_part2_left: Found 111 SWR events.\n",
      "Patient14_part2_left: Found 112 no SWR events.\n"
     ]
    },
    {
     "name": "stderr",
     "output_type": "stream",
     "text": [
      "/var/folders/hp/k3clndsn2sj608qsb4fl5zvr0000gn/T/ipykernel_65405/564586550.py:89: RuntimeWarning: This filename (/Users/Lea/Desktop/PROJECT_DATA_ANALYSIS/meg/CL_patient14/CL_raw_003_tsss.fif) does not conform to MNE naming conventions. All raw files should end with raw.fif, raw_sss.fif, raw_tsss.fif, _meg.fif, _eeg.fif, _ieeg.fif, raw.fif.gz, raw_sss.fif.gz, raw_tsss.fif.gz, _meg.fif.gz, _eeg.fif.gz or _ieeg.fif.gz\n",
      "  raw = mne.io.read_raw_fif(raw_files[patient_id], preload = True, verbose = False)\n"
     ]
    },
    {
     "name": "stdout",
     "output_type": "stream",
     "text": [
      "Creating RawArray with float64 data, n_channels=385, n_times=497000\n",
      "    Range : 0 ... 496999 =      0.000 ...   496.999 secs\n",
      "Ready.\n"
     ]
    },
    {
     "name": "stderr",
     "output_type": "stream",
     "text": [
      "/var/folders/hp/k3clndsn2sj608qsb4fl5zvr0000gn/T/ipykernel_65405/564586550.py:137: RuntimeWarning: The events passed to the Epochs constructor are not chronologically ordered.\n",
      "  all_epochs = mne.Epochs(data_elect, events, event_id= [1, 2], tmin=-3, tmax=3, picks = ['grad', 'mag'], preload=True, verbose = False)\n",
      "/var/folders/hp/k3clndsn2sj608qsb4fl5zvr0000gn/T/ipykernel_65405/564586550.py:144: RuntimeWarning: This filename (/Users/Lea/Desktop/PROJECT_DATA_ANALYSIS/MEG_epochs/theta/Patient14_part2_left_high_theta_epochs.fif) does not conform to MNE naming conventions. All epochs files should end with -epo.fif, -epo.fif.gz, _epo.fif or _epo.fif.gz\n",
      "  high_epochs.save(high_epoch_filename, overwrite=True)\n",
      "/var/folders/hp/k3clndsn2sj608qsb4fl5zvr0000gn/T/ipykernel_65405/564586550.py:145: RuntimeWarning: This filename (/Users/Lea/Desktop/PROJECT_DATA_ANALYSIS/MEG_epochs/theta/Patient14_part2_left_low_theta_epochs.fif) does not conform to MNE naming conventions. All epochs files should end with -epo.fif, -epo.fif.gz, _epo.fif or _epo.fif.gz\n",
      "  low_epochs.save(low_epoch_filename, overwrite=True)\n",
      "/var/folders/hp/k3clndsn2sj608qsb4fl5zvr0000gn/T/ipykernel_65405/564586550.py:146: RuntimeWarning: This filename (/Users/Lea/Desktop/PROJECT_DATA_ANALYSIS/MEG_epochs/theta/Patient14_part2_left_all_theta_epochs.fif) does not conform to MNE naming conventions. All epochs files should end with -epo.fif, -epo.fif.gz, _epo.fif or _epo.fif.gz\n",
      "  all_epochs.save(all_epoch_filename, overwrite=True)\n"
     ]
    },
    {
     "name": "stdout",
     "output_type": "stream",
     "text": [
      "60\n",
      "30\n",
      "30\n",
      "Patient14_part2_left: Drop log for high SWR epochs:\n",
      "((), (), (), (), (), (), (), (), (), (), (), (), (), (), (), (), (), (), (), (), (), (), (), (), (), (), (), (), (), (), ('IGNORED',), ('IGNORED',), ('IGNORED',), ('IGNORED',), ('IGNORED',), ('IGNORED',), ('IGNORED',), ('IGNORED',), ('IGNORED',), ('IGNORED',), ('IGNORED',), ('IGNORED',), ('IGNORED',), ('IGNORED',), ('IGNORED',), ('IGNORED',), ('IGNORED',), ('IGNORED',), ('IGNORED',), ('IGNORED',), ('IGNORED',), ('IGNORED',), ('IGNORED',), ('IGNORED',), ('IGNORED',), ('IGNORED',), ('IGNORED',), ('IGNORED',), ('IGNORED',), ('IGNORED',))\n",
      "Patient14_part2_left: Drop log for low SWR epochs:\n",
      "(('IGNORED',), ('IGNORED',), ('IGNORED',), ('IGNORED',), ('IGNORED',), ('IGNORED',), ('IGNORED',), ('IGNORED',), ('IGNORED',), ('IGNORED',), ('IGNORED',), ('IGNORED',), ('IGNORED',), ('IGNORED',), ('IGNORED',), ('IGNORED',), ('IGNORED',), ('IGNORED',), ('IGNORED',), ('IGNORED',), ('IGNORED',), ('IGNORED',), ('IGNORED',), ('IGNORED',), ('IGNORED',), ('IGNORED',), ('IGNORED',), ('IGNORED',), ('IGNORED',), ('IGNORED',), (), (), (), (), (), (), (), (), (), (), (), (), (), (), (), (), (), (), (), (), (), (), (), (), (), (), (), (), (), ())\n",
      "Patient14_part2_left: Drop log for all epochs:\n",
      "((), (), (), (), (), (), (), (), (), (), (), (), (), (), (), (), (), (), (), (), (), (), (), (), (), (), (), (), (), (), (), (), (), (), (), (), (), (), (), (), (), (), (), (), (), (), (), (), (), (), (), (), (), (), (), (), (), (), (), ())\n",
      "Patient14_part1_right: Found 18 SWR events.\n",
      "Patient14_part1_right: Found 19 no SWR events.\n"
     ]
    },
    {
     "name": "stderr",
     "output_type": "stream",
     "text": [
      "/var/folders/hp/k3clndsn2sj608qsb4fl5zvr0000gn/T/ipykernel_65405/564586550.py:89: RuntimeWarning: This filename (/Users/Lea/Desktop/PROJECT_DATA_ANALYSIS/meg/CL_patient14/CL_raw_001_tsss.fif) does not conform to MNE naming conventions. All raw files should end with raw.fif, raw_sss.fif, raw_tsss.fif, _meg.fif, _eeg.fif, _ieeg.fif, raw.fif.gz, raw_sss.fif.gz, raw_tsss.fif.gz, _meg.fif.gz, _eeg.fif.gz or _ieeg.fif.gz\n",
      "  raw = mne.io.read_raw_fif(raw_files[patient_id], preload = True, verbose = False)\n"
     ]
    },
    {
     "name": "stdout",
     "output_type": "stream",
     "text": [
      "Creating RawArray with float64 data, n_channels=385, n_times=452000\n",
      "    Range : 0 ... 451999 =      0.000 ...   451.999 secs\n",
      "Ready.\n",
      "Patient14_part1_right: Less than 30 SWRs regions detected. Using all 18 available regions.\n",
      "Patient14_part1_right: Only 18 SWR epochs could be used after applying min_gap constraint.\n",
      "Patient14_part1_right: Less than 30 low-SWR regions detected. Using all 19 available regions.\n"
     ]
    },
    {
     "name": "stderr",
     "output_type": "stream",
     "text": [
      "/var/folders/hp/k3clndsn2sj608qsb4fl5zvr0000gn/T/ipykernel_65405/564586550.py:137: RuntimeWarning: The events passed to the Epochs constructor are not chronologically ordered.\n",
      "  all_epochs = mne.Epochs(data_elect, events, event_id= [1, 2], tmin=-3, tmax=3, picks = ['grad', 'mag'], preload=True, verbose = False)\n",
      "/var/folders/hp/k3clndsn2sj608qsb4fl5zvr0000gn/T/ipykernel_65405/564586550.py:144: RuntimeWarning: This filename (/Users/Lea/Desktop/PROJECT_DATA_ANALYSIS/MEG_epochs/theta/Patient14_part1_right_high_theta_epochs.fif) does not conform to MNE naming conventions. All epochs files should end with -epo.fif, -epo.fif.gz, _epo.fif or _epo.fif.gz\n",
      "  high_epochs.save(high_epoch_filename, overwrite=True)\n",
      "/var/folders/hp/k3clndsn2sj608qsb4fl5zvr0000gn/T/ipykernel_65405/564586550.py:145: RuntimeWarning: This filename (/Users/Lea/Desktop/PROJECT_DATA_ANALYSIS/MEG_epochs/theta/Patient14_part1_right_low_theta_epochs.fif) does not conform to MNE naming conventions. All epochs files should end with -epo.fif, -epo.fif.gz, _epo.fif or _epo.fif.gz\n",
      "  low_epochs.save(low_epoch_filename, overwrite=True)\n",
      "/var/folders/hp/k3clndsn2sj608qsb4fl5zvr0000gn/T/ipykernel_65405/564586550.py:146: RuntimeWarning: This filename (/Users/Lea/Desktop/PROJECT_DATA_ANALYSIS/MEG_epochs/theta/Patient14_part1_right_all_theta_epochs.fif) does not conform to MNE naming conventions. All epochs files should end with -epo.fif, -epo.fif.gz, _epo.fif or _epo.fif.gz\n",
      "  all_epochs.save(all_epoch_filename, overwrite=True)\n"
     ]
    },
    {
     "name": "stdout",
     "output_type": "stream",
     "text": [
      "37\n",
      "18\n",
      "19\n",
      "Patient14_part1_right: Drop log for high SWR epochs:\n",
      "((), (), (), (), (), (), (), (), (), (), (), (), (), (), (), (), (), (), ('IGNORED',), ('IGNORED',), ('IGNORED',), ('IGNORED',), ('IGNORED',), ('IGNORED',), ('IGNORED',), ('IGNORED',), ('IGNORED',), ('IGNORED',), ('IGNORED',), ('IGNORED',), ('IGNORED',), ('IGNORED',), ('IGNORED',), ('IGNORED',), ('IGNORED',), ('IGNORED',), ('IGNORED',))\n",
      "Patient14_part1_right: Drop log for low SWR epochs:\n",
      "(('IGNORED',), ('IGNORED',), ('IGNORED',), ('IGNORED',), ('IGNORED',), ('IGNORED',), ('IGNORED',), ('IGNORED',), ('IGNORED',), ('IGNORED',), ('IGNORED',), ('IGNORED',), ('IGNORED',), ('IGNORED',), ('IGNORED',), ('IGNORED',), ('IGNORED',), ('IGNORED',), (), (), (), (), (), (), (), (), (), (), (), (), (), (), (), (), (), (), ())\n",
      "Patient14_part1_right: Drop log for all epochs:\n",
      "((), (), (), (), (), (), (), (), (), (), (), (), (), (), (), (), (), (), (), (), (), (), (), (), (), (), (), (), (), (), (), (), (), (), (), (), ())\n",
      "Patient14_part2_right: Found 38 SWR events.\n",
      "Patient14_part2_right: Found 39 no SWR events.\n"
     ]
    },
    {
     "name": "stderr",
     "output_type": "stream",
     "text": [
      "/var/folders/hp/k3clndsn2sj608qsb4fl5zvr0000gn/T/ipykernel_65405/564586550.py:89: RuntimeWarning: This filename (/Users/Lea/Desktop/PROJECT_DATA_ANALYSIS/meg/CL_patient14/CL_raw_003_tsss.fif) does not conform to MNE naming conventions. All raw files should end with raw.fif, raw_sss.fif, raw_tsss.fif, _meg.fif, _eeg.fif, _ieeg.fif, raw.fif.gz, raw_sss.fif.gz, raw_tsss.fif.gz, _meg.fif.gz, _eeg.fif.gz or _ieeg.fif.gz\n",
      "  raw = mne.io.read_raw_fif(raw_files[patient_id], preload = True, verbose = False)\n"
     ]
    },
    {
     "name": "stdout",
     "output_type": "stream",
     "text": [
      "Creating RawArray with float64 data, n_channels=385, n_times=497000\n",
      "    Range : 0 ... 496999 =      0.000 ...   496.999 secs\n",
      "Ready.\n"
     ]
    },
    {
     "name": "stderr",
     "output_type": "stream",
     "text": [
      "/var/folders/hp/k3clndsn2sj608qsb4fl5zvr0000gn/T/ipykernel_65405/564586550.py:137: RuntimeWarning: The events passed to the Epochs constructor are not chronologically ordered.\n",
      "  all_epochs = mne.Epochs(data_elect, events, event_id= [1, 2], tmin=-3, tmax=3, picks = ['grad', 'mag'], preload=True, verbose = False)\n",
      "/var/folders/hp/k3clndsn2sj608qsb4fl5zvr0000gn/T/ipykernel_65405/564586550.py:144: RuntimeWarning: This filename (/Users/Lea/Desktop/PROJECT_DATA_ANALYSIS/MEG_epochs/theta/Patient14_part2_right_high_theta_epochs.fif) does not conform to MNE naming conventions. All epochs files should end with -epo.fif, -epo.fif.gz, _epo.fif or _epo.fif.gz\n",
      "  high_epochs.save(high_epoch_filename, overwrite=True)\n",
      "/var/folders/hp/k3clndsn2sj608qsb4fl5zvr0000gn/T/ipykernel_65405/564586550.py:145: RuntimeWarning: This filename (/Users/Lea/Desktop/PROJECT_DATA_ANALYSIS/MEG_epochs/theta/Patient14_part2_right_low_theta_epochs.fif) does not conform to MNE naming conventions. All epochs files should end with -epo.fif, -epo.fif.gz, _epo.fif or _epo.fif.gz\n",
      "  low_epochs.save(low_epoch_filename, overwrite=True)\n",
      "/var/folders/hp/k3clndsn2sj608qsb4fl5zvr0000gn/T/ipykernel_65405/564586550.py:146: RuntimeWarning: This filename (/Users/Lea/Desktop/PROJECT_DATA_ANALYSIS/MEG_epochs/theta/Patient14_part2_right_all_theta_epochs.fif) does not conform to MNE naming conventions. All epochs files should end with -epo.fif, -epo.fif.gz, _epo.fif or _epo.fif.gz\n",
      "  all_epochs.save(all_epoch_filename, overwrite=True)\n"
     ]
    },
    {
     "name": "stdout",
     "output_type": "stream",
     "text": [
      "60\n",
      "30\n",
      "30\n",
      "Patient14_part2_right: Drop log for high SWR epochs:\n",
      "((), (), (), (), (), (), (), (), (), (), (), (), (), (), (), (), (), (), (), (), (), (), (), (), (), (), (), (), (), (), ('IGNORED',), ('IGNORED',), ('IGNORED',), ('IGNORED',), ('IGNORED',), ('IGNORED',), ('IGNORED',), ('IGNORED',), ('IGNORED',), ('IGNORED',), ('IGNORED',), ('IGNORED',), ('IGNORED',), ('IGNORED',), ('IGNORED',), ('IGNORED',), ('IGNORED',), ('IGNORED',), ('IGNORED',), ('IGNORED',), ('IGNORED',), ('IGNORED',), ('IGNORED',), ('IGNORED',), ('IGNORED',), ('IGNORED',), ('IGNORED',), ('IGNORED',), ('IGNORED',), ('IGNORED',))\n",
      "Patient14_part2_right: Drop log for low SWR epochs:\n",
      "(('IGNORED',), ('IGNORED',), ('IGNORED',), ('IGNORED',), ('IGNORED',), ('IGNORED',), ('IGNORED',), ('IGNORED',), ('IGNORED',), ('IGNORED',), ('IGNORED',), ('IGNORED',), ('IGNORED',), ('IGNORED',), ('IGNORED',), ('IGNORED',), ('IGNORED',), ('IGNORED',), ('IGNORED',), ('IGNORED',), ('IGNORED',), ('IGNORED',), ('IGNORED',), ('IGNORED',), ('IGNORED',), ('IGNORED',), ('IGNORED',), ('IGNORED',), ('IGNORED',), ('IGNORED',), (), (), (), (), (), (), (), (), (), (), (), (), (), (), (), (), (), (), (), (), (), (), (), (), (), (), (), (), (), ())\n",
      "Patient14_part2_right: Drop log for all epochs:\n",
      "((), (), (), (), (), (), (), (), (), (), (), (), (), (), (), (), (), (), (), (), (), (), (), (), (), (), (), (), (), (), (), (), (), (), (), (), (), (), (), (), (), (), (), (), (), (), (), (), (), (), (), (), (), (), (), (), (), (), (), ())\n",
      "Patient16: Found 30 SWR events.\n",
      "Patient16: Found 31 no SWR events.\n"
     ]
    },
    {
     "name": "stderr",
     "output_type": "stream",
     "text": [
      "/var/folders/hp/k3clndsn2sj608qsb4fl5zvr0000gn/T/ipykernel_65405/564586550.py:89: RuntimeWarning: This filename (/Users/Lea/Desktop/PROJECT_DATA_ANALYSIS/meg/RB_patient16/RB_EP_SEEG_rest_001_tsss.fif) does not conform to MNE naming conventions. All raw files should end with raw.fif, raw_sss.fif, raw_tsss.fif, _meg.fif, _eeg.fif, _ieeg.fif, raw.fif.gz, raw_sss.fif.gz, raw_tsss.fif.gz, _meg.fif.gz, _eeg.fif.gz or _ieeg.fif.gz\n",
      "  raw = mne.io.read_raw_fif(raw_files[patient_id], preload = True, verbose = False)\n"
     ]
    },
    {
     "name": "stdout",
     "output_type": "stream",
     "text": [
      "Creating RawArray with float64 data, n_channels=385, n_times=181000\n",
      "    Range : 0 ... 180999 =      0.000 ...   180.999 secs\n",
      "Ready.\n"
     ]
    },
    {
     "name": "stderr",
     "output_type": "stream",
     "text": [
      "/var/folders/hp/k3clndsn2sj608qsb4fl5zvr0000gn/T/ipykernel_65405/564586550.py:137: RuntimeWarning: The events passed to the Epochs constructor are not chronologically ordered.\n",
      "  all_epochs = mne.Epochs(data_elect, events, event_id= [1, 2], tmin=-3, tmax=3, picks = ['grad', 'mag'], preload=True, verbose = False)\n",
      "/var/folders/hp/k3clndsn2sj608qsb4fl5zvr0000gn/T/ipykernel_65405/564586550.py:144: RuntimeWarning: This filename (/Users/Lea/Desktop/PROJECT_DATA_ANALYSIS/MEG_epochs/theta/Patient16_high_theta_epochs.fif) does not conform to MNE naming conventions. All epochs files should end with -epo.fif, -epo.fif.gz, _epo.fif or _epo.fif.gz\n",
      "  high_epochs.save(high_epoch_filename, overwrite=True)\n",
      "/var/folders/hp/k3clndsn2sj608qsb4fl5zvr0000gn/T/ipykernel_65405/564586550.py:145: RuntimeWarning: This filename (/Users/Lea/Desktop/PROJECT_DATA_ANALYSIS/MEG_epochs/theta/Patient16_low_theta_epochs.fif) does not conform to MNE naming conventions. All epochs files should end with -epo.fif, -epo.fif.gz, _epo.fif or _epo.fif.gz\n",
      "  low_epochs.save(low_epoch_filename, overwrite=True)\n",
      "/var/folders/hp/k3clndsn2sj608qsb4fl5zvr0000gn/T/ipykernel_65405/564586550.py:146: RuntimeWarning: This filename (/Users/Lea/Desktop/PROJECT_DATA_ANALYSIS/MEG_epochs/theta/Patient16_all_theta_epochs.fif) does not conform to MNE naming conventions. All epochs files should end with -epo.fif, -epo.fif.gz, _epo.fif or _epo.fif.gz\n",
      "  all_epochs.save(all_epoch_filename, overwrite=True)\n"
     ]
    },
    {
     "name": "stdout",
     "output_type": "stream",
     "text": [
      "55\n",
      "28\n",
      "27\n",
      "Patient16: Drop log for high SWR epochs:\n",
      "(('NO_DATA',), ('NO_DATA',), (), (), (), (), (), (), (), (), (), (), (), (), (), (), (), (), (), (), (), (), (), (), (), (), (), (), (), (), ('IGNORED',), ('IGNORED',), ('IGNORED',), ('IGNORED',), ('IGNORED',), ('IGNORED',), ('IGNORED',), ('IGNORED',), ('IGNORED',), ('IGNORED',), ('IGNORED',), ('IGNORED',), ('IGNORED',), ('IGNORED',), ('IGNORED',), ('IGNORED',), ('IGNORED',), ('IGNORED',), ('IGNORED',), ('IGNORED',), ('IGNORED',), ('IGNORED',), ('IGNORED',), ('IGNORED',), ('IGNORED',), ('IGNORED',), ('IGNORED',), ('IGNORED',), ('IGNORED',), ('IGNORED',))\n",
      "Patient16: Drop log for low SWR epochs:\n",
      "(('IGNORED',), ('IGNORED',), ('IGNORED',), ('IGNORED',), ('IGNORED',), ('IGNORED',), ('IGNORED',), ('IGNORED',), ('IGNORED',), ('IGNORED',), ('IGNORED',), ('IGNORED',), ('IGNORED',), ('IGNORED',), ('IGNORED',), ('IGNORED',), ('IGNORED',), ('IGNORED',), ('IGNORED',), ('IGNORED',), ('IGNORED',), ('IGNORED',), ('IGNORED',), ('IGNORED',), ('IGNORED',), ('IGNORED',), ('IGNORED',), ('IGNORED',), ('IGNORED',), ('IGNORED',), ('NO_DATA',), ('NO_DATA',), (), (), (), (), (), (), (), (), (), (), (), (), (), (), (), (), (), (), (), (), (), (), (), (), (), (), (), ('TOO_SHORT',))\n",
      "Patient16: Drop log for all epochs:\n",
      "(('NO_DATA',), ('NO_DATA',), (), (), (), (), (), (), (), (), (), (), (), (), (), (), (), (), (), (), (), (), (), (), (), (), (), (), (), (), ('NO_DATA',), ('NO_DATA',), (), (), (), (), (), (), (), (), (), (), (), (), (), (), (), (), (), (), (), (), (), (), (), (), (), (), (), ('TOO_SHORT',))\n",
      "Patient17: Found 12 SWR events.\n",
      "Patient17: Found 13 no SWR events.\n"
     ]
    },
    {
     "name": "stderr",
     "output_type": "stream",
     "text": [
      "/var/folders/hp/k3clndsn2sj608qsb4fl5zvr0000gn/T/ipykernel_65405/564586550.py:89: RuntimeWarning: This filename (/Users/Lea/Desktop/PROJECT_DATA_ANALYSIS/meg/LJM_patient17/LJM_EP_SEEG_rest_001_tsss.fif) does not conform to MNE naming conventions. All raw files should end with raw.fif, raw_sss.fif, raw_tsss.fif, _meg.fif, _eeg.fif, _ieeg.fif, raw.fif.gz, raw_sss.fif.gz, raw_tsss.fif.gz, _meg.fif.gz, _eeg.fif.gz or _ieeg.fif.gz\n",
      "  raw = mne.io.read_raw_fif(raw_files[patient_id], preload = True, verbose = False)\n"
     ]
    },
    {
     "name": "stdout",
     "output_type": "stream",
     "text": [
      "Creating RawArray with float64 data, n_channels=385, n_times=188000\n",
      "    Range : 0 ... 187999 =      0.000 ...   187.999 secs\n",
      "Ready.\n",
      "Patient17: Less than 30 SWRs regions detected. Using all 12 available regions.\n",
      "Patient17: Only 12 SWR epochs could be used after applying min_gap constraint.\n",
      "Patient17: Less than 30 low-SWR regions detected. Using all 13 available regions.\n"
     ]
    },
    {
     "name": "stderr",
     "output_type": "stream",
     "text": [
      "/var/folders/hp/k3clndsn2sj608qsb4fl5zvr0000gn/T/ipykernel_65405/564586550.py:137: RuntimeWarning: The events passed to the Epochs constructor are not chronologically ordered.\n",
      "  all_epochs = mne.Epochs(data_elect, events, event_id= [1, 2], tmin=-3, tmax=3, picks = ['grad', 'mag'], preload=True, verbose = False)\n",
      "/var/folders/hp/k3clndsn2sj608qsb4fl5zvr0000gn/T/ipykernel_65405/564586550.py:144: RuntimeWarning: This filename (/Users/Lea/Desktop/PROJECT_DATA_ANALYSIS/MEG_epochs/theta/Patient17_high_theta_epochs.fif) does not conform to MNE naming conventions. All epochs files should end with -epo.fif, -epo.fif.gz, _epo.fif or _epo.fif.gz\n",
      "  high_epochs.save(high_epoch_filename, overwrite=True)\n",
      "/var/folders/hp/k3clndsn2sj608qsb4fl5zvr0000gn/T/ipykernel_65405/564586550.py:145: RuntimeWarning: This filename (/Users/Lea/Desktop/PROJECT_DATA_ANALYSIS/MEG_epochs/theta/Patient17_low_theta_epochs.fif) does not conform to MNE naming conventions. All epochs files should end with -epo.fif, -epo.fif.gz, _epo.fif or _epo.fif.gz\n",
      "  low_epochs.save(low_epoch_filename, overwrite=True)\n",
      "/var/folders/hp/k3clndsn2sj608qsb4fl5zvr0000gn/T/ipykernel_65405/564586550.py:146: RuntimeWarning: This filename (/Users/Lea/Desktop/PROJECT_DATA_ANALYSIS/MEG_epochs/theta/Patient17_all_theta_epochs.fif) does not conform to MNE naming conventions. All epochs files should end with -epo.fif, -epo.fif.gz, _epo.fif or _epo.fif.gz\n",
      "  all_epochs.save(all_epoch_filename, overwrite=True)\n"
     ]
    },
    {
     "name": "stdout",
     "output_type": "stream",
     "text": [
      "23\n",
      "12\n",
      "11\n",
      "Patient17: Drop log for high SWR epochs:\n",
      "((), (), (), (), (), (), (), (), (), (), (), (), ('IGNORED',), ('IGNORED',), ('IGNORED',), ('IGNORED',), ('IGNORED',), ('IGNORED',), ('IGNORED',), ('IGNORED',), ('IGNORED',), ('IGNORED',), ('IGNORED',), ('IGNORED',), ('IGNORED',))\n",
      "Patient17: Drop log for low SWR epochs:\n",
      "(('IGNORED',), ('IGNORED',), ('IGNORED',), ('IGNORED',), ('IGNORED',), ('IGNORED',), ('IGNORED',), ('IGNORED',), ('IGNORED',), ('IGNORED',), ('IGNORED',), ('IGNORED',), ('NO_DATA',), (), (), (), (), (), (), (), (), (), (), (), ('TOO_SHORT',))\n",
      "Patient17: Drop log for all epochs:\n",
      "((), (), (), (), (), (), (), (), (), (), (), (), ('NO_DATA',), (), (), (), (), (), (), (), (), (), (), (), ('TOO_SHORT',))\n",
      "Patient21: Found 87 SWR events.\n",
      "Patient21: Found 88 no SWR events.\n"
     ]
    },
    {
     "name": "stderr",
     "output_type": "stream",
     "text": [
      "/var/folders/hp/k3clndsn2sj608qsb4fl5zvr0000gn/T/ipykernel_65405/564586550.py:89: RuntimeWarning: This filename (/Users/Lea/Desktop/PROJECT_DATA_ANALYSIS/meg/HH_patient21/HH_SEEG_001_tsss.fif) does not conform to MNE naming conventions. All raw files should end with raw.fif, raw_sss.fif, raw_tsss.fif, _meg.fif, _eeg.fif, _ieeg.fif, raw.fif.gz, raw_sss.fif.gz, raw_tsss.fif.gz, _meg.fif.gz, _eeg.fif.gz or _ieeg.fif.gz\n",
      "  raw = mne.io.read_raw_fif(raw_files[patient_id], preload = True, verbose = False)\n"
     ]
    },
    {
     "name": "stdout",
     "output_type": "stream",
     "text": [
      "Creating RawArray with float64 data, n_channels=386, n_times=353000\n",
      "    Range : 0 ... 352999 =      0.000 ...   352.999 secs\n",
      "Ready.\n"
     ]
    },
    {
     "name": "stderr",
     "output_type": "stream",
     "text": [
      "/var/folders/hp/k3clndsn2sj608qsb4fl5zvr0000gn/T/ipykernel_65405/564586550.py:137: RuntimeWarning: The events passed to the Epochs constructor are not chronologically ordered.\n",
      "  all_epochs = mne.Epochs(data_elect, events, event_id= [1, 2], tmin=-3, tmax=3, picks = ['grad', 'mag'], preload=True, verbose = False)\n",
      "/var/folders/hp/k3clndsn2sj608qsb4fl5zvr0000gn/T/ipykernel_65405/564586550.py:144: RuntimeWarning: This filename (/Users/Lea/Desktop/PROJECT_DATA_ANALYSIS/MEG_epochs/theta/Patient21_high_theta_epochs.fif) does not conform to MNE naming conventions. All epochs files should end with -epo.fif, -epo.fif.gz, _epo.fif or _epo.fif.gz\n",
      "  high_epochs.save(high_epoch_filename, overwrite=True)\n",
      "/var/folders/hp/k3clndsn2sj608qsb4fl5zvr0000gn/T/ipykernel_65405/564586550.py:145: RuntimeWarning: This filename (/Users/Lea/Desktop/PROJECT_DATA_ANALYSIS/MEG_epochs/theta/Patient21_low_theta_epochs.fif) does not conform to MNE naming conventions. All epochs files should end with -epo.fif, -epo.fif.gz, _epo.fif or _epo.fif.gz\n",
      "  low_epochs.save(low_epoch_filename, overwrite=True)\n",
      "/var/folders/hp/k3clndsn2sj608qsb4fl5zvr0000gn/T/ipykernel_65405/564586550.py:146: RuntimeWarning: This filename (/Users/Lea/Desktop/PROJECT_DATA_ANALYSIS/MEG_epochs/theta/Patient21_all_theta_epochs.fif) does not conform to MNE naming conventions. All epochs files should end with -epo.fif, -epo.fif.gz, _epo.fif or _epo.fif.gz\n",
      "  all_epochs.save(all_epoch_filename, overwrite=True)\n"
     ]
    },
    {
     "name": "stdout",
     "output_type": "stream",
     "text": [
      "60\n",
      "30\n",
      "30\n",
      "Patient21: Drop log for high SWR epochs:\n",
      "((), (), (), (), (), (), (), (), (), (), (), (), (), (), (), (), (), (), (), (), (), (), (), (), (), (), (), (), (), (), ('IGNORED',), ('IGNORED',), ('IGNORED',), ('IGNORED',), ('IGNORED',), ('IGNORED',), ('IGNORED',), ('IGNORED',), ('IGNORED',), ('IGNORED',), ('IGNORED',), ('IGNORED',), ('IGNORED',), ('IGNORED',), ('IGNORED',), ('IGNORED',), ('IGNORED',), ('IGNORED',), ('IGNORED',), ('IGNORED',), ('IGNORED',), ('IGNORED',), ('IGNORED',), ('IGNORED',), ('IGNORED',), ('IGNORED',), ('IGNORED',), ('IGNORED',), ('IGNORED',), ('IGNORED',))\n",
      "Patient21: Drop log for low SWR epochs:\n",
      "(('IGNORED',), ('IGNORED',), ('IGNORED',), ('IGNORED',), ('IGNORED',), ('IGNORED',), ('IGNORED',), ('IGNORED',), ('IGNORED',), ('IGNORED',), ('IGNORED',), ('IGNORED',), ('IGNORED',), ('IGNORED',), ('IGNORED',), ('IGNORED',), ('IGNORED',), ('IGNORED',), ('IGNORED',), ('IGNORED',), ('IGNORED',), ('IGNORED',), ('IGNORED',), ('IGNORED',), ('IGNORED',), ('IGNORED',), ('IGNORED',), ('IGNORED',), ('IGNORED',), ('IGNORED',), (), (), (), (), (), (), (), (), (), (), (), (), (), (), (), (), (), (), (), (), (), (), (), (), (), (), (), (), (), ())\n",
      "Patient21: Drop log for all epochs:\n",
      "((), (), (), (), (), (), (), (), (), (), (), (), (), (), (), (), (), (), (), (), (), (), (), (), (), (), (), (), (), (), (), (), (), (), (), (), (), (), (), (), (), (), (), (), (), (), (), (), (), (), (), (), (), (), (), (), (), (), (), ())\n",
      "Patient22: Found 157 SWR events.\n",
      "Patient22: Found 158 no SWR events.\n"
     ]
    },
    {
     "name": "stderr",
     "output_type": "stream",
     "text": [
      "/var/folders/hp/k3clndsn2sj608qsb4fl5zvr0000gn/T/ipykernel_65405/564586550.py:89: RuntimeWarning: This filename (/Users/Lea/Desktop/PROJECT_DATA_ANALYSIS/meg/YY_patient22/YY_SEEG_raw_001_tsss.fif) does not conform to MNE naming conventions. All raw files should end with raw.fif, raw_sss.fif, raw_tsss.fif, _meg.fif, _eeg.fif, _ieeg.fif, raw.fif.gz, raw_sss.fif.gz, raw_tsss.fif.gz, _meg.fif.gz, _eeg.fif.gz or _ieeg.fif.gz\n",
      "  raw = mne.io.read_raw_fif(raw_files[patient_id], preload = True, verbose = False)\n"
     ]
    },
    {
     "name": "stdout",
     "output_type": "stream",
     "text": [
      "Creating RawArray with float64 data, n_channels=386, n_times=614000\n",
      "    Range : 0 ... 613999 =      0.000 ...   613.999 secs\n",
      "Ready.\n"
     ]
    },
    {
     "name": "stderr",
     "output_type": "stream",
     "text": [
      "/var/folders/hp/k3clndsn2sj608qsb4fl5zvr0000gn/T/ipykernel_65405/564586550.py:137: RuntimeWarning: The events passed to the Epochs constructor are not chronologically ordered.\n",
      "  all_epochs = mne.Epochs(data_elect, events, event_id= [1, 2], tmin=-3, tmax=3, picks = ['grad', 'mag'], preload=True, verbose = False)\n",
      "/var/folders/hp/k3clndsn2sj608qsb4fl5zvr0000gn/T/ipykernel_65405/564586550.py:144: RuntimeWarning: This filename (/Users/Lea/Desktop/PROJECT_DATA_ANALYSIS/MEG_epochs/theta/Patient22_high_theta_epochs.fif) does not conform to MNE naming conventions. All epochs files should end with -epo.fif, -epo.fif.gz, _epo.fif or _epo.fif.gz\n",
      "  high_epochs.save(high_epoch_filename, overwrite=True)\n",
      "/var/folders/hp/k3clndsn2sj608qsb4fl5zvr0000gn/T/ipykernel_65405/564586550.py:145: RuntimeWarning: This filename (/Users/Lea/Desktop/PROJECT_DATA_ANALYSIS/MEG_epochs/theta/Patient22_low_theta_epochs.fif) does not conform to MNE naming conventions. All epochs files should end with -epo.fif, -epo.fif.gz, _epo.fif or _epo.fif.gz\n",
      "  low_epochs.save(low_epoch_filename, overwrite=True)\n",
      "/var/folders/hp/k3clndsn2sj608qsb4fl5zvr0000gn/T/ipykernel_65405/564586550.py:146: RuntimeWarning: This filename (/Users/Lea/Desktop/PROJECT_DATA_ANALYSIS/MEG_epochs/theta/Patient22_all_theta_epochs.fif) does not conform to MNE naming conventions. All epochs files should end with -epo.fif, -epo.fif.gz, _epo.fif or _epo.fif.gz\n",
      "  all_epochs.save(all_epoch_filename, overwrite=True)\n"
     ]
    },
    {
     "name": "stdout",
     "output_type": "stream",
     "text": [
      "59\n",
      "30\n",
      "29\n",
      "Patient22: Drop log for high SWR epochs:\n",
      "((), (), (), (), (), (), (), (), (), (), (), (), (), (), (), (), (), (), (), (), (), (), (), (), (), (), (), (), (), (), ('IGNORED',), ('IGNORED',), ('IGNORED',), ('IGNORED',), ('IGNORED',), ('IGNORED',), ('IGNORED',), ('IGNORED',), ('IGNORED',), ('IGNORED',), ('IGNORED',), ('IGNORED',), ('IGNORED',), ('IGNORED',), ('IGNORED',), ('IGNORED',), ('IGNORED',), ('IGNORED',), ('IGNORED',), ('IGNORED',), ('IGNORED',), ('IGNORED',), ('IGNORED',), ('IGNORED',), ('IGNORED',), ('IGNORED',), ('IGNORED',), ('IGNORED',), ('IGNORED',), ('IGNORED',))\n",
      "Patient22: Drop log for low SWR epochs:\n",
      "(('IGNORED',), ('IGNORED',), ('IGNORED',), ('IGNORED',), ('IGNORED',), ('IGNORED',), ('IGNORED',), ('IGNORED',), ('IGNORED',), ('IGNORED',), ('IGNORED',), ('IGNORED',), ('IGNORED',), ('IGNORED',), ('IGNORED',), ('IGNORED',), ('IGNORED',), ('IGNORED',), ('IGNORED',), ('IGNORED',), ('IGNORED',), ('IGNORED',), ('IGNORED',), ('IGNORED',), ('IGNORED',), ('IGNORED',), ('IGNORED',), ('IGNORED',), ('IGNORED',), ('IGNORED',), (), (), (), (), (), (), (), (), (), (), (), (), (), (), (), (), (), (), (), (), (), (), (), (), (), (), (), (), (), ('TOO_SHORT',))\n",
      "Patient22: Drop log for all epochs:\n",
      "((), (), (), (), (), (), (), (), (), (), (), (), (), (), (), (), (), (), (), (), (), (), (), (), (), (), (), (), (), (), (), (), (), (), (), (), (), (), (), (), (), (), (), (), (), (), (), (), (), (), (), (), (), (), (), (), (), (), (), ('TOO_SHORT',))\n",
      "Patient23: Found 134 SWR events.\n",
      "Patient23: Found 135 no SWR events.\n"
     ]
    },
    {
     "name": "stderr",
     "output_type": "stream",
     "text": [
      "/var/folders/hp/k3clndsn2sj608qsb4fl5zvr0000gn/T/ipykernel_65405/564586550.py:89: RuntimeWarning: This filename (/Users/Lea/Desktop/PROJECT_DATA_ANALYSIS/meg/ZQ_patient23/ZQ_EP_SEEG_001_tsss.fif) does not conform to MNE naming conventions. All raw files should end with raw.fif, raw_sss.fif, raw_tsss.fif, _meg.fif, _eeg.fif, _ieeg.fif, raw.fif.gz, raw_sss.fif.gz, raw_tsss.fif.gz, _meg.fif.gz, _eeg.fif.gz or _ieeg.fif.gz\n",
      "  raw = mne.io.read_raw_fif(raw_files[patient_id], preload = True, verbose = False)\n"
     ]
    },
    {
     "name": "stdout",
     "output_type": "stream",
     "text": [
      "Creating RawArray with float64 data, n_channels=386, n_times=758000\n",
      "    Range : 0 ... 757999 =      0.000 ...   757.999 secs\n",
      "Ready.\n"
     ]
    },
    {
     "name": "stderr",
     "output_type": "stream",
     "text": [
      "/var/folders/hp/k3clndsn2sj608qsb4fl5zvr0000gn/T/ipykernel_65405/564586550.py:137: RuntimeWarning: The events passed to the Epochs constructor are not chronologically ordered.\n",
      "  all_epochs = mne.Epochs(data_elect, events, event_id= [1, 2], tmin=-3, tmax=3, picks = ['grad', 'mag'], preload=True, verbose = False)\n",
      "/var/folders/hp/k3clndsn2sj608qsb4fl5zvr0000gn/T/ipykernel_65405/564586550.py:144: RuntimeWarning: This filename (/Users/Lea/Desktop/PROJECT_DATA_ANALYSIS/MEG_epochs/theta/Patient23_high_theta_epochs.fif) does not conform to MNE naming conventions. All epochs files should end with -epo.fif, -epo.fif.gz, _epo.fif or _epo.fif.gz\n",
      "  high_epochs.save(high_epoch_filename, overwrite=True)\n",
      "/var/folders/hp/k3clndsn2sj608qsb4fl5zvr0000gn/T/ipykernel_65405/564586550.py:145: RuntimeWarning: This filename (/Users/Lea/Desktop/PROJECT_DATA_ANALYSIS/MEG_epochs/theta/Patient23_low_theta_epochs.fif) does not conform to MNE naming conventions. All epochs files should end with -epo.fif, -epo.fif.gz, _epo.fif or _epo.fif.gz\n",
      "  low_epochs.save(low_epoch_filename, overwrite=True)\n",
      "/var/folders/hp/k3clndsn2sj608qsb4fl5zvr0000gn/T/ipykernel_65405/564586550.py:146: RuntimeWarning: This filename (/Users/Lea/Desktop/PROJECT_DATA_ANALYSIS/MEG_epochs/theta/Patient23_all_theta_epochs.fif) does not conform to MNE naming conventions. All epochs files should end with -epo.fif, -epo.fif.gz, _epo.fif or _epo.fif.gz\n",
      "  all_epochs.save(all_epoch_filename, overwrite=True)\n"
     ]
    },
    {
     "name": "stdout",
     "output_type": "stream",
     "text": [
      "60\n",
      "30\n",
      "30\n",
      "Patient23: Drop log for high SWR epochs:\n",
      "((), (), (), (), (), (), (), (), (), (), (), (), (), (), (), (), (), (), (), (), (), (), (), (), (), (), (), (), (), (), ('IGNORED',), ('IGNORED',), ('IGNORED',), ('IGNORED',), ('IGNORED',), ('IGNORED',), ('IGNORED',), ('IGNORED',), ('IGNORED',), ('IGNORED',), ('IGNORED',), ('IGNORED',), ('IGNORED',), ('IGNORED',), ('IGNORED',), ('IGNORED',), ('IGNORED',), ('IGNORED',), ('IGNORED',), ('IGNORED',), ('IGNORED',), ('IGNORED',), ('IGNORED',), ('IGNORED',), ('IGNORED',), ('IGNORED',), ('IGNORED',), ('IGNORED',), ('IGNORED',), ('IGNORED',))\n",
      "Patient23: Drop log for low SWR epochs:\n",
      "(('IGNORED',), ('IGNORED',), ('IGNORED',), ('IGNORED',), ('IGNORED',), ('IGNORED',), ('IGNORED',), ('IGNORED',), ('IGNORED',), ('IGNORED',), ('IGNORED',), ('IGNORED',), ('IGNORED',), ('IGNORED',), ('IGNORED',), ('IGNORED',), ('IGNORED',), ('IGNORED',), ('IGNORED',), ('IGNORED',), ('IGNORED',), ('IGNORED',), ('IGNORED',), ('IGNORED',), ('IGNORED',), ('IGNORED',), ('IGNORED',), ('IGNORED',), ('IGNORED',), ('IGNORED',), (), (), (), (), (), (), (), (), (), (), (), (), (), (), (), (), (), (), (), (), (), (), (), (), (), (), (), (), (), ())\n",
      "Patient23: Drop log for all epochs:\n",
      "((), (), (), (), (), (), (), (), (), (), (), (), (), (), (), (), (), (), (), (), (), (), (), (), (), (), (), (), (), (), (), (), (), (), (), (), (), (), (), (), (), (), (), (), (), (), (), (), (), (), (), (), (), (), (), (), (), (), (), ())\n",
      "Patient25: Found 47 SWR events.\n",
      "Patient25: Found 48 no SWR events.\n"
     ]
    },
    {
     "name": "stderr",
     "output_type": "stream",
     "text": [
      "/var/folders/hp/k3clndsn2sj608qsb4fl5zvr0000gn/T/ipykernel_65405/564586550.py:89: RuntimeWarning: This filename (/Users/Lea/Desktop/PROJECT_DATA_ANALYSIS/meg/WL_patient25/WL_raw_rest_001_tsss.fif) does not conform to MNE naming conventions. All raw files should end with raw.fif, raw_sss.fif, raw_tsss.fif, _meg.fif, _eeg.fif, _ieeg.fif, raw.fif.gz, raw_sss.fif.gz, raw_tsss.fif.gz, _meg.fif.gz, _eeg.fif.gz or _ieeg.fif.gz\n",
      "  raw = mne.io.read_raw_fif(raw_files[patient_id], preload = True, verbose = False)\n"
     ]
    },
    {
     "name": "stdout",
     "output_type": "stream",
     "text": [
      "Creating RawArray with float64 data, n_channels=386, n_times=256000\n",
      "    Range : 0 ... 255999 =      0.000 ...   255.999 secs\n",
      "Ready.\n"
     ]
    },
    {
     "name": "stderr",
     "output_type": "stream",
     "text": [
      "/var/folders/hp/k3clndsn2sj608qsb4fl5zvr0000gn/T/ipykernel_65405/564586550.py:137: RuntimeWarning: The events passed to the Epochs constructor are not chronologically ordered.\n",
      "  all_epochs = mne.Epochs(data_elect, events, event_id= [1, 2], tmin=-3, tmax=3, picks = ['grad', 'mag'], preload=True, verbose = False)\n",
      "/var/folders/hp/k3clndsn2sj608qsb4fl5zvr0000gn/T/ipykernel_65405/564586550.py:144: RuntimeWarning: This filename (/Users/Lea/Desktop/PROJECT_DATA_ANALYSIS/MEG_epochs/theta/Patient25_high_theta_epochs.fif) does not conform to MNE naming conventions. All epochs files should end with -epo.fif, -epo.fif.gz, _epo.fif or _epo.fif.gz\n",
      "  high_epochs.save(high_epoch_filename, overwrite=True)\n",
      "/var/folders/hp/k3clndsn2sj608qsb4fl5zvr0000gn/T/ipykernel_65405/564586550.py:145: RuntimeWarning: This filename (/Users/Lea/Desktop/PROJECT_DATA_ANALYSIS/MEG_epochs/theta/Patient25_low_theta_epochs.fif) does not conform to MNE naming conventions. All epochs files should end with -epo.fif, -epo.fif.gz, _epo.fif or _epo.fif.gz\n",
      "  low_epochs.save(low_epoch_filename, overwrite=True)\n",
      "/var/folders/hp/k3clndsn2sj608qsb4fl5zvr0000gn/T/ipykernel_65405/564586550.py:146: RuntimeWarning: This filename (/Users/Lea/Desktop/PROJECT_DATA_ANALYSIS/MEG_epochs/theta/Patient25_all_theta_epochs.fif) does not conform to MNE naming conventions. All epochs files should end with -epo.fif, -epo.fif.gz, _epo.fif or _epo.fif.gz\n",
      "  all_epochs.save(all_epoch_filename, overwrite=True)\n"
     ]
    },
    {
     "name": "stdout",
     "output_type": "stream",
     "text": [
      "59\n",
      "30\n",
      "29\n",
      "Patient25: Drop log for high SWR epochs:\n",
      "((), (), (), (), (), (), (), (), (), (), (), (), (), (), (), (), (), (), (), (), (), (), (), (), (), (), (), (), (), (), ('IGNORED',), ('IGNORED',), ('IGNORED',), ('IGNORED',), ('IGNORED',), ('IGNORED',), ('IGNORED',), ('IGNORED',), ('IGNORED',), ('IGNORED',), ('IGNORED',), ('IGNORED',), ('IGNORED',), ('IGNORED',), ('IGNORED',), ('IGNORED',), ('IGNORED',), ('IGNORED',), ('IGNORED',), ('IGNORED',), ('IGNORED',), ('IGNORED',), ('IGNORED',), ('IGNORED',), ('IGNORED',), ('IGNORED',), ('IGNORED',), ('IGNORED',), ('IGNORED',), ('IGNORED',))\n",
      "Patient25: Drop log for low SWR epochs:\n",
      "(('IGNORED',), ('IGNORED',), ('IGNORED',), ('IGNORED',), ('IGNORED',), ('IGNORED',), ('IGNORED',), ('IGNORED',), ('IGNORED',), ('IGNORED',), ('IGNORED',), ('IGNORED',), ('IGNORED',), ('IGNORED',), ('IGNORED',), ('IGNORED',), ('IGNORED',), ('IGNORED',), ('IGNORED',), ('IGNORED',), ('IGNORED',), ('IGNORED',), ('IGNORED',), ('IGNORED',), ('IGNORED',), ('IGNORED',), ('IGNORED',), ('IGNORED',), ('IGNORED',), ('IGNORED',), (), (), (), (), (), (), (), (), (), (), (), (), (), (), (), (), (), (), (), (), (), (), (), (), (), (), (), (), (), ('TOO_SHORT',))\n",
      "Patient25: Drop log for all epochs:\n",
      "((), (), (), (), (), (), (), (), (), (), (), (), (), (), (), (), (), (), (), (), (), (), (), (), (), (), (), (), (), (), (), (), (), (), (), (), (), (), (), (), (), (), (), (), (), (), (), (), (), (), (), (), (), (), (), (), (), (), (), ('TOO_SHORT',))\n"
     ]
    }
   ],
   "source": [
    "for patient_id, electrodes in hippocampus_electrodes.items():\n",
    "    df = pd.read_csv(detected_SWRs[patient_id])\n",
    "    df = df[df['Channel'].isin(electrodes)]\n",
    "    if df.empty:\n",
    "        print(f\"No hippocampal channels found for {patient_id}\")\n",
    "        continue\n",
    "    SWR_times = (df['rippleTime'].apply(lambda x: eval(x, {'array': np.array}))).tolist()\n",
    "    #SWR_times = df['rippleTime'].apply(eval).apply(lambda lst: [np.array(seg) for seg in lst]).tolist()\n",
    "    duration = recording_durations[patient_id]\n",
    "    eeg_no_samples = int(duration * eeg_fs)\n",
    "    no_channels = len(df)\n",
    "    SWR_array = np.zeros((no_channels, eeg_no_samples), dtype=int)\n",
    "    for channel, times in enumerate(SWR_times):\n",
    "        if not times or all(len(t) == 0 for t in times):\n",
    "            ripple_time_value = df.iloc[channel]['rippleTime'] \n",
    "            print(f\"Skipping empty SWR_times for channel index {channel} in patient {patient_id}\")\n",
    "            continue\n",
    "        channel_SWR_times = np.hstack(times)\n",
    "        channel_SWR_idx = np.round((channel_SWR_times * eeg_fs), 0).astype(int)\n",
    "        SWR_array[channel, channel_SWR_idx] = 1\n",
    "\n",
    "    SWR_sum = np.sum(SWR_array, axis = 0)\n",
    "\n",
    "    #1. get regions where SWRs were detected\n",
    "    valid_regions = (SWR_sum >= 1)\n",
    "    #dialate and erode to merge neighbouring regions\n",
    "    min_duration_samples = int(10)\n",
    "    structure_element = np.ones(min_duration_samples)\n",
    "    valid_regions = binary_dilation(valid_regions, structure=structure_element)\n",
    "    valid_regions = binary_erosion(valid_regions, structure=structure_element)\n",
    "    #need to label connected valid regions\n",
    "    labeled_regions, num_regions = label(valid_regions)\n",
    "    slices = find_objects(labeled_regions)\n",
    "    #manually compoute region properties\n",
    "    region_peaks = []\n",
    "    for region in slices:\n",
    "        start = region[0].start\n",
    "        end = region[0].stop\n",
    "        region_signal = SWR_sum[start:end]\n",
    "        peak_relative = np.argmax(region_signal)\n",
    "        peak_sample = start + peak_relative\n",
    "        peak_time_sec = peak_sample / eeg_fs\n",
    "        peak_value = SWR_sum[peak_sample]\n",
    "\n",
    "        region_peaks.append({\n",
    "            \"start_sample\": start,\n",
    "            \"end_sample\": end,\n",
    "            \"peak_sample\": peak_sample,\n",
    "            \"peak_time_sec\": peak_time_sec,\n",
    "            \"peak_value\": SWR_sum[peak_sample],\n",
    "            \"duration_ms\": (end - start) / eeg_fs * 1000\n",
    "        })\n",
    "\n",
    "    print(f\"{patient_id}: Found {len(region_peaks)} SWR events.\")\n",
    "    df_regions = pd.DataFrame(region_peaks)\n",
    "    df_regions.to_csv(op.join(region_output_path, f\"{patient_id}_SWR_regions.csv\"), index=False)\\\n",
    "    \n",
    "    #regions of no SWRs    \n",
    "    valid_no_regions = (SWR_sum == 0)\n",
    "    #dialate and erode to merge neighbouring regions\n",
    "    min_duration_samples = int(10)\n",
    "    structure_element = np.ones(min_duration_samples)\n",
    "    valid_no_regions = binary_dilation(valid_no_regions, structure=structure_element)\n",
    "    valid_no_regions = binary_erosion(valid_no_regions, structure=structure_element)\n",
    "    \n",
    "    labeled_low_regions, num_low_regions = label(valid_no_regions)\n",
    "    low_slices = find_objects(labeled_low_regions)\n",
    "\n",
    "    low_regions = []\n",
    "    for low_region in low_slices:\n",
    "        start = low_region[0].start\n",
    "        end = low_region[0].stop\n",
    "        duration_ms = (end - start) / eeg_fs * 1000\n",
    "        midpoint_sample = (start + end) // 2 \n",
    "\n",
    "        low_regions.append({\n",
    "        \"start_sample\": start,\n",
    "        \"end_sample\": end,\n",
    "        \"midpoint_sample\": midpoint_sample,\n",
    "        \"duration_ms\": duration_ms})\n",
    "\n",
    "\n",
    "        \n",
    "    print(f\"{patient_id}: Found {len(low_regions)} no SWR events.\")\n",
    "\n",
    "\n",
    "    #2. make the MNE epochs\n",
    "\n",
    "    #improt raw\n",
    "    raw = mne.io.read_raw_fif(raw_files[patient_id], preload = True, verbose = False)\n",
    "    #notch filter\n",
    "    notch_freqs = [50, 100, 150]\n",
    "    raw = raw.notch_filter(freqs=notch_freqs, notch_widths=4, verbose = False)\n",
    "    raw_selected = raw.copy()\n",
    "    data = raw_selected.get_data()\n",
    "    info = raw_selected.info\n",
    "    data_elect = mne.io.RawArray(data, info)\n",
    "\n",
    "    #events array for SWRs\n",
    "    if len(df_regions) < no_of_epochs:\n",
    "        print(f\"{patient_id}: Less than {no_of_epochs} SWRs regions detected. Using all {len(df_regions)} available regions.\")\n",
    "    else:\n",
    "        df_regions = df_regions.sort_values(\"peak_value\", ascending = False).head(no_of_epochs)\n",
    "\n",
    "    df_regions = df_regions.sort_values(\"peak_sample\") #to enusre chronological order\n",
    "    events = []\n",
    "    last_event = -min_gap\n",
    "    used_swr_regions = 0\n",
    "    for row in df_regions.itertuples():\n",
    "        peak_sample = row.peak_sample\n",
    "        if peak_sample >= last_event + min_gap:\n",
    "            events.append([peak_sample, 0, 1])\n",
    "            last_event = peak_sample\n",
    "            used_swr_regions += 1\n",
    "\n",
    "    if used_swr_regions < no_of_epochs:\n",
    "     print(f\"{patient_id}: Only {used_swr_regions} SWR epochs could be used after applying min_gap constraint.\")\n",
    "    \n",
    "    #events for no SWRs\n",
    "    if len(low_regions) < no_of_epochs:\n",
    "        print(f\"{patient_id}: Less than {no_of_epochs} low-SWR regions detected. Using all {len(low_regions)} available regions.\")\n",
    "        random_low_regions = low_regions\n",
    "    else:   \n",
    "        random_low_regions = random.sample(low_regions, no_of_epochs)\n",
    "        random_low_regions = sorted(random_low_regions, key=lambda x: x[\"midpoint_sample\"]) \n",
    "\n",
    "    for region in random_low_regions:\n",
    "        midpoint_sample = region[\"midpoint_sample\"]\n",
    "        events.append([midpoint_sample, 0, 2])\n",
    "    \n",
    "    events = np.array(events, dtype=int)\n",
    "    if len(events) == 0:\n",
    "       print(f\"{patient_id}: No valid events found for epoching.\")\n",
    "       continue\n",
    "\n",
    "    high_epochs = mne.Epochs(data_elect, events, event_id=1, tmin=-1, tmax=1, picks = ['grad', 'mag'], preload=True, verbose = False)\n",
    "    low_epochs = mne.Epochs(data_elect, events, event_id=2, tmin=-1, tmax=1, picks = ['grad', 'mag'], preload=True, verbose = False)\n",
    "    all_epochs = mne.Epochs(data_elect, events, event_id= [1, 2], tmin=-1, tmax=1, picks = ['grad', 'mag'], preload=True, verbose = False)\n",
    "   \n",
    "   \n",
    "    #save\n",
    "    high_epoch_filename = op.join(epochs_save_path, f\"{patient_id}_high_SWR_epochs.fif\")\n",
    "    low_epoch_filename = op.join(epochs_save_path, f\"{patient_id}_low_SWR_epochs.fif\")\n",
    "    all_epoch_filename = op.join(epochs_save_path, f\"{patient_id}_all_SWR_epochs.fif\")\n",
    "    high_epochs.save(high_epoch_filename, overwrite=True)\n",
    "    low_epochs.save(low_epoch_filename, overwrite=True)\n",
    "    all_epochs.save(all_epoch_filename, overwrite=True)\n",
    "\n",
    "    print(len(all_epochs))\n",
    "    print(len(high_epochs))\n",
    "    print(len(low_epochs))\n",
    "\n",
    "    print(f\"{patient_id}: Drop log for high SWR epochs:\")\n",
    "    print(high_epochs.drop_log)\n",
    "\n",
    "    print(f\"{patient_id}: Drop log for low SWR epochs:\")\n",
    "    print(low_epochs.drop_log)\n",
    "\n",
    "    print(f\"{patient_id}: Drop log for all epochs:\")\n",
    "    print(all_epochs.drop_log)\n",
    "    #print(f\"{patient_id}: Saved {len(epochs)} epochs to {epoch_filename}\")\n",
    "\n"
   ]
  },
  {
   "cell_type": "code",
   "execution_count": 68,
   "metadata": {},
   "outputs": [
    {
     "name": "stdout",
     "output_type": "stream",
     "text": [
      "No hippocampal channels found for Patient3_part1\n",
      "Patient5_part1L: Found 77 SWR events.\n",
      "Patient6: Found 157 SWR events.\n",
      "Patient8: Found 333 SWR events.\n",
      "No hippocampal channels found for Patient9\n",
      "Patient10: Found 94 SWR events.\n",
      "Patient11_part1: Found 227 SWR events.\n",
      "No hippocampal channels found for Patient12_part1\n",
      "Patient13: Found 79 SWR events.\n",
      "Patient14_part1: Found 169 SWR events.\n",
      "No hippocampal channels found for Patient15\n",
      "Patient16: Found 37 SWR events.\n",
      "Patient17: Found 141 SWR events.\n",
      "Patient21: Found 119 SWR events.\n",
      "Patient22: Found 33 SWR events.\n",
      "Patient23: Found 449 SWR events.\n",
      "Patient25: Found 22 SWR events.\n"
     ]
    }
   ],
   "source": [
    "for patient_id, electrodes in hippocampus_electrodes.items():\n",
    "    df = pd.read_csv(detected_SWRs[patient_id])\n",
    "    df = df[df['Channel'].isin(electrodes)]\n",
    "    if df.empty:\n",
    "        print(f\"No hippocampal channels found for {patient_id}\")\n",
    "        continue\n",
    "    SWR_times = (df['rippleTime'].apply(lambda x: eval(x, {'array': np.array}))).tolist()\n",
    "    duration = recording_durations[patient_id]\n",
    "    eeg_no_samples = int(duration * eeg_fs)\n",
    "    no_channels = len(df)\n",
    "    SWR_array = np.zeros((no_channels, eeg_no_samples), dtype=int)\n",
    "    for channel, times in enumerate(SWR_times):\n",
    "        if not times or all(len(t) == 0 for t in times):\n",
    "            ripple_time_value = df.iloc[channel]['rippleTime'] \n",
    "            print(f\"Skipping empty SWR_times for channel index {channel} in patient {patient_id}\")\n",
    "            continue\n",
    "        channel_SWR_times = np.hstack(times)\n",
    "        channel_SWR_idx = np.round((channel_SWR_times * eeg_fs), 0).astype(int)\n",
    "        SWR_array[channel, channel_SWR_idx] = 1\n",
    "\n",
    "    SWR_sum = np.sum(SWR_array, axis = 0)\n",
    "\n",
    "    #find regions where mutliple SWRs across channels detected == sum > 3\n",
    "    SWRs_region = (SWR_sum >= (0.25*len(electrodes)))\n",
    "    SWR_regions = np.diff(SWRs_region, prepend = 0, append = 0)\n",
    "    start_SWR = np.where(SWR_regions == 1)[0]\n",
    "    end_SWR = np.where(SWR_regions == -1)[0]\n",
    "\n",
    "    SWRs = [(int(start), int(end)) for start, end in zip(start_SWR,end_SWR ) if 10 <= (end - start)  ] # <= 100 ]\n",
    "    #same for no SWRs\n",
    "    print(f\"{patient_id}: Found {len(SWRs)} SWR events.\")\n"
   ]
  }
 ],
 "metadata": {
  "kernelspec": {
   "display_name": "venv",
   "language": "python",
   "name": "python3"
  },
  "language_info": {
   "codemirror_mode": {
    "name": "ipython",
    "version": 3
   },
   "file_extension": ".py",
   "mimetype": "text/x-python",
   "name": "python",
   "nbconvert_exporter": "python",
   "pygments_lexer": "ipython3",
   "version": "3.13.0"
  }
 },
 "nbformat": 4,
 "nbformat_minor": 4
}
