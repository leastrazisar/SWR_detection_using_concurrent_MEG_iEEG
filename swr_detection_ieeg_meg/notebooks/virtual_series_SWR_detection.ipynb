{
 "cells": [
  {
   "cell_type": "code",
   "execution_count": 14,
   "metadata": {},
   "outputs": [],
   "source": [
    "#SWR detecetion on virtual time series\n",
    "import os\n",
    "import mne\n",
    "import numpy as np\n",
    "import pandas as pd\n",
    "import ast\n",
    "\n",
    "from final_SWR_detection_function import detect_SWR\n",
    "\n"
   ]
  },
  {
   "cell_type": "code",
   "execution_count": 15,
   "metadata": {},
   "outputs": [],
   "source": [
    "#input paths\n",
    "base_path = \"/Users/Lea/Desktop/PROJECT_DATA_ANALYSIS\"\n",
    "virtual_path = os.path.join(base_path, \"virtual_time_series\", \"mag\")\n",
    "ied_dir = os.path.join(base_path, \"IED_boolean_array\")\n",
    "swr_dir = os.path.join(base_path, \"theta_times\")\n",
    "output_csv = os.path.join(base_path, \"theta_virtual_vs_ieeg_sum.csv\")\n",
    "\n"
   ]
  },
  {
   "cell_type": "code",
   "execution_count": 16,
   "metadata": {},
   "outputs": [],
   "source": [
    "#closes channels dictionary\n",
    "closest_channels_dict = {\n",
    "    \"patient_05_part1L_vertex3405\": [\"EEG026\", \"EEG028\"],\n",
    "    \"patient_05_part1L_vertex3711\": [\"EEG057\", \"EEG059\"],\n",
    "    \"patient_05_part1L_vertex3728\": [\"EEG032\", \"EEG034\"],\n",
    "    \"patient_05_part1R_vertex3411\": [\"EEG028\"],\n",
    "    \"patient_05_part1R_vertex3428\": [\"EEG003\", \"EEG026\"],\n",
    "    \"patient_05_part1R_vertex3734\": [\"EEG032\", \"EEG034\"],\n",
    "    \"patient_05_part2L_vertex3405\": [\"EEG026\", \"EEG028\"],\n",
    "    \"patient_05_part2L_vertex3711\": [\"EEG057\", \"EEG059\"],\n",
    "    \"patient_05_part2L_vertex3728\": [\"EEG032\", \"EEG034\"],\n",
    "    \"patient_05_part2R_vertex3411\": [\"EEG028\"],\n",
    "    \"patient_05_part2R_vertex3428\": [\"EEG003\", \"EEG026\"],\n",
    "    \"patient_05_part2R_vertex3734\": [\"EEG032\", \"EEG034\"],\n",
    "    \"patient_06_vertex2629\": [\"EEG003\", \"EEG004\"],\n",
    "    \"patient_06_vertex2646\": [\"EEG001\", \"EEG002\"],\n",
    "    \"patient_06_vertex2918\": [\"EEG007\", \"EEG008\"],\n",
    "    \"patient_06_vertex2935\": [\"EEG005\", \"EEG006\"],\n",
    "    \"patient_08_vertex2946\": [\"EEG026\", \"EEG027\", \"EEG028\"],\n",
    "    \"patient_10_vertex3581\": [\"EEG013\"],\n",
    "    \"patient_11_part1_vertex4097\": [\"EEG043\", \"EEG044\", \"EEG045\"],\n",
    "    \"patient_11_part1_vertex4098\": [\"EEG046\"],\n",
    "    \"patient_11_part2_vertex4097\": [\"EEG043\", \"EEG044\", \"EEG045\"],\n",
    "    \"patient_11_part2_vertex4098\": [\"EEG046\"],\n",
    "    \"patient_13_vertex3035\": [\"EEG036\"],\n",
    "    \"patient_14_part1_left_vertex2486\": [\"EEG001\"],\n",
    "    \"patient_14_part1_right_vertex3070\": [\"EEG041\", \"EEG042\", \"EEG043\"],\n",
    "    \"patient_14_part2_left_vertex2486\": [\"EEG001\"],\n",
    "    \"patient_14_part2_right_vertex3070\": [\"EEG041\", \"EEG042\", \"EEG043\"],\n",
    "    \"patient_16_vertex4732\": [\"EEG003\"],\n",
    "    \"patient_17_vertex4040\": [\"EEG003\", \"EEG004\", \"EEG005\"],\n",
    "    \"patient_17_vertex4041\": [\"EEG006\"],\n",
    "    \"patient_21_vertex3897\": [\"EEG003\", \"EEG004\", \"EEG005\"],\n",
    "    \"patient_21_vertex3898\": [\"EEG002\"],\n",
    "    \"patient_22_vertex2868\": [\"EEG003\"],\n",
    "    \"patient_22_vertex2869\": [\"EEG001\", \"EEG002\"],\n",
    "    \"patient_22_vertex3108\": [\"EEG022\"],\n",
    "    \"patient_22_vertex3124\": [\"EEG018\", \"EEG019\", \"EEG020\", \"EEG021\"],\n",
    "    \"patient_22_vertex3125\": [\"EEG017\"],\n",
    "    \"patient_23_vertex3674\": [\"EEG057\"],\n",
    "    \"patient_23_vertex3690\": [\"EEG058\", \"EEG059\"],\n",
    "    \"patient_25_vertex5650\": [\"EEG050\"],\n",
    "    \"patient_25_vertex5669\": [\"EEG049\"]\n",
    "}\n"
   ]
  },
  {
   "cell_type": "code",
   "execution_count": 17,
   "metadata": {},
   "outputs": [],
   "source": [
    "ied_file_dict = {\n",
    "        \"patient_05_part1L\": \"/Users/Lea/Desktop/PROJECT_DATA_ANALYSIS/IED_boolean_array/IED_boolean_patient5_part1L.npz\",\n",
    "        \"patient_05_part1R\": \"/Users/Lea/Desktop/PROJECT_DATA_ANALYSIS/IED_boolean_array/IED_boolean_patient5_part1R.npz\",\n",
    "        \"patient_05_part2L\": \"/Users/Lea/Desktop/PROJECT_DATA_ANALYSIS/IED_boolean_array/IED_boolean_patient5_part2L.npz\",\n",
    "        \"patient_05_part2R\": \"/Users/Lea/Desktop/PROJECT_DATA_ANALYSIS/IED_boolean_array/IED_boolean_patient5_part2R.npz\",\n",
    "        \"patient_06\": \"/Users/Lea/Desktop/PROJECT_DATA_ANALYSIS/IED_boolean_array/IED_boolean_patient6.npz\",\n",
    "        \"patient_08\": \"/Users/Lea/Desktop/PROJECT_DATA_ANALYSIS/IED_boolean_array/IED_boolean_patient8.npz\",\n",
    "        \"patient_10\": \"/Users/Lea/Desktop/PROJECT_DATA_ANALYSIS/IED_boolean_array/IED_boolean_patient10.npz\",\n",
    "        \"patient_11_part1\": \"/Users/Lea/Desktop/PROJECT_DATA_ANALYSIS/IED_boolean_array/IED_boolean_patient11_part1.npz\",\n",
    "        \"patient_11_part2\": \"/Users/Lea/Desktop/PROJECT_DATA_ANALYSIS/IED_boolean_array/IED_boolean_patient11_part2.npz\",\n",
    "        \"patient_13\": \"/Users/Lea/Desktop/PROJECT_DATA_ANALYSIS/IED_boolean_array/IED_boolean_patient13.npz\",\n",
    "        \"patient_14_part1_left\": \"/Users/Lea/Desktop/PROJECT_DATA_ANALYSIS/IED_boolean_array/IED_boolean_patient14_part1.npz\",\n",
    "        \"patient_14_part2_left\": \"/Users/Lea/Desktop/PROJECT_DATA_ANALYSIS/IED_boolean_array/IED_boolean_patient14_part2.npz\",\n",
    "        \"patient_14_part1_right\": \"/Users/Lea/Desktop/PROJECT_DATA_ANALYSIS/IED_boolean_array/IED_boolean_patient14_part1.npz\",\n",
    "        \"patient_14_part2_right\": \"/Users/Lea/Desktop/PROJECT_DATA_ANALYSIS/IED_boolean_array/IED_boolean_patient14_part2.npz\",\n",
    "        \"patient_16\": \"/Users/Lea/Desktop/PROJECT_DATA_ANALYSIS/IED_boolean_array/IED_boolean_patient16.npz\",\n",
    "        \"patient_17\": \"/Users/Lea/Desktop/PROJECT_DATA_ANALYSIS/IED_boolean_array/IED_boolean_patient17.npz\",\n",
    "        \"patient_21\": \"/Users/Lea/Desktop/PROJECT_DATA_ANALYSIS/IED_boolean_array/IED_boolean_patient21.npz\",\n",
    "        \"patient_22\": \"/Users/Lea/Desktop/PROJECT_DATA_ANALYSIS/IED_boolean_array/IED_boolean_patient22.npz\",\n",
    "        \"patient_23\": \"/Users/Lea/Desktop/PROJECT_DATA_ANALYSIS/IED_boolean_array/IED_boolean_patient23.npz\",\n",
    "        \"patient_25\": \"/Users/Lea/Desktop/PROJECT_DATA_ANALYSIS/IED_boolean_array/IED_boolean_patient25.npz\",\n",
    "\n",
    "}"
   ]
  },
  {
   "cell_type": "code",
   "execution_count": 18,
   "metadata": {},
   "outputs": [],
   "source": [
    "swr_file_dict ={\"patient_05_part1L\": \"/Users/Lea/Desktop/PROJECT_DATA_ANALYSIS/SWR_times/Patient5_part1L_SWRs.csv\",\n",
    "    \"patient_05_part1R\": \"/Users/Lea/Desktop/PROJECT_DATA_ANALYSIS/SWR_times/Patient5_part1R_SWRs.csv\",\n",
    "    \"patient_05_part2L\": \"/Users/Lea/Desktop/PROJECT_DATA_ANALYSIS/SWR_times/Patient5_part2L_SWRs.csv\",\n",
    "    \"patient_05_part2R\": \"/Users/Lea/Desktop/PROJECT_DATA_ANALYSIS/SWR_times/Patient5_part2R_SWRs.csv\",\n",
    "    \"patient_06\": \"/Users/Lea/Desktop/PROJECT_DATA_ANALYSIS/SWR_times/Patient6_SWRs.csv\",\n",
    "    \"patient_08\": \"/Users/Lea/Desktop/PROJECT_DATA_ANALYSIS/SWR_times/Patient8_SWRs.csv\",\n",
    "    \"patient_10\": \"/Users/Lea/Desktop/PROJECT_DATA_ANALYSIS/SWR_times/Patient10_SWRs.csv\",\n",
    "    \"patient_11_part1\": \"/Users/Lea/Desktop/PROJECT_DATA_ANALYSIS/SWR_times/Patient11_part1_SWRs.csv\",\n",
    "    \"patient_11_part2\": \"/Users/Lea/Desktop/PROJECT_DATA_ANALYSIS/SWR_times/Patient11_part2_SWRs.csv\",\n",
    "    \"patient_13\": \"/Users/Lea/Desktop/PROJECT_DATA_ANALYSIS/SWR_times/Patient13_SWRs.csv\",\n",
    "    \"patient_14_part1_left\": \"/Users/Lea/Desktop/PROJECT_DATA_ANALYSIS/SWR_times/Patient14_part1_SWRs.csv\",\n",
    "    \"patient_14_part2_left\": \"/Users/Lea/Desktop/PROJECT_DATA_ANALYSIS/SWR_times/Patient14_part2_SWRs.csv\",\n",
    "    \"patient_14_part1_right\": \"/Users/Lea/Desktop/PROJECT_DATA_ANALYSIS/SWR_times/Patient14_part1_SWRs.csv\",\n",
    "    \"patient_14_part2_right\": \"/Users/Lea/Desktop/PROJECT_DATA_ANALYSIS/SWR_times/Patient14_part2_SWRs.csv\",\n",
    "    \"patient_16\": \"/Users/Lea/Desktop/PROJECT_DATA_ANALYSIS/SWR_times/Patient16_SWRs.csv\",\n",
    "    \"patient_17\": \"/Users/Lea/Desktop/PROJECT_DATA_ANALYSIS/SWR_times/Patient17_SWRs.csv\",\n",
    "    \"patient_21\": \"/Users/Lea/Desktop/PROJECT_DATA_ANALYSIS/SWR_times/Patient21_SWRs.csv\",\n",
    "    \"patient_22\": \"/Users/Lea/Desktop/PROJECT_DATA_ANALYSIS/SWR_times/Patient22_SWRs.csv\",\n",
    "    \"patient_23\": \"/Users/Lea/Desktop/PROJECT_DATA_ANALYSIS/SWR_times/Patient23_SWRs.csv\",\n",
    "    \"patient_25\": \"/Users/Lea/Desktop/PROJECT_DATA_ANALYSIS/SWR_times/Patient25_SWRs.csv\"\n",
    "}"
   ]
  },
  {
   "cell_type": "code",
   "execution_count": 19,
   "metadata": {},
   "outputs": [],
   "source": [
    "data_dropout_dict ={\"patient_05_part1L\": [],\n",
    "    \"patient_05_part1R\": [],\n",
    "    \"patient_05_part2L\":[],\n",
    "    \"patient_05_part2R\": [],\n",
    "    \"patient_06\": [],\n",
    "    \"patient_08\": [(101000, 102000)],\n",
    "    \"patient_10\": [(394000, 395000), (432000, 434000), (467000, 469000), (515000, 517000)],\n",
    "    \"patient_11_part1\": [(74000, 76000), (111000, 112000), (207000, 208000), (28000, 282000)],\n",
    "    \"patient_11_part2\": [(52000, 54000)],\n",
    "    \"patient_13\":[] ,\n",
    "    \"patient_14_part1_left\": [(169000, 171000), (296000, 298000)] ,\n",
    "    \"patient_14_part2_left\": [(328000, 330000), (372000, 374000), (398000, 400000)],\n",
    "    \"patient_14_part1_right\":[(169000, 171000), (296000, 298000)] ,\n",
    "    \"patient_14_part2_right\":[(328000, 330000), (372000, 374000), (398000, 400000)],\n",
    "    \"patient_16\": [],\n",
    "    \"patient_17\": [],\n",
    "    \"patient_21\": [(41000, 43000), (268000, 270000)],\n",
    "    \"patient_22\": [],\n",
    "    \"patient_23\":[],\n",
    "    \"patient_25\": []\n",
    "}"
   ]
  },
  {
   "cell_type": "code",
   "execution_count": 20,
   "metadata": {},
   "outputs": [],
   "source": [
    "#ripple detection paramteres\n",
    "gaussFilt = 15 #standard diviation of Gaussian smoothing filter (ms)??\n",
    "zThresh = 2 #peak Z-score for candiate events (SDs)\n",
    "durTresh = [0.01, 0.1 ]#minimum/maximum duration threshold for candidate evnts (seconds)\n",
    "rippleBand = [80, 150] #ripple band (Hz)\n",
    "tolerance = 0.05 #50ms for tolerance of overlap"
   ]
  },
  {
   "cell_type": "code",
   "execution_count": 21,
   "metadata": {},
   "outputs": [],
   "source": [
    "results = []\n",
    "current_subject = None\n",
    "ied_bool_arrays = None\n",
    "swr_df = None"
   ]
  },
  {
   "cell_type": "code",
   "execution_count": 22,
   "metadata": {},
   "outputs": [
    {
     "name": "stdout",
     "output_type": "stream",
     "text": [
      "Opening raw data file /Users/Lea/Desktop/PROJECT_DATA_ANALYSIS/virtual_time_series/mag/patient_14_part1_right_vertex3070_virtual_ts.fif...\n",
      "Isotrak not found\n",
      "    Range : 0 ... 451999 =      0.000 ...   451.999 secs\n",
      "Ready.\n",
      "Reading 0 ... 451999  =      0.000 ...   451.999 secs...\n",
      "patient_14_part1_right_vertex3070 → EEG041: Virtual = 26, iEEG = 87\n"
     ]
    },
    {
     "name": "stderr",
     "output_type": "stream",
     "text": [
      "/var/folders/hp/k3clndsn2sj608qsb4fl5zvr0000gn/T/ipykernel_65947/762799685.py:34: RuntimeWarning: This filename (/Users/Lea/Desktop/PROJECT_DATA_ANALYSIS/virtual_time_series/mag/patient_14_part1_right_vertex3070_virtual_ts.fif) does not conform to MNE naming conventions. All raw files should end with raw.fif, raw_sss.fif, raw_tsss.fif, _meg.fif, _eeg.fif, _ieeg.fif, raw.fif.gz, raw_sss.fif.gz, raw_tsss.fif.gz, _meg.fif.gz, _eeg.fif.gz or _ieeg.fif.gz\n",
      "  raw = mne.io.read_raw_fif(filepath, preload=True)\n"
     ]
    },
    {
     "name": "stdout",
     "output_type": "stream",
     "text": [
      "patient_14_part1_right_vertex3070 → EEG042: Virtual = 26, iEEG = 74\n",
      "patient_14_part1_right_vertex3070 → EEG043: Virtual = 26, iEEG = 78\n",
      "Opening raw data file /Users/Lea/Desktop/PROJECT_DATA_ANALYSIS/virtual_time_series/mag/patient_11_part1_vertex4098_virtual_ts.fif...\n",
      "Isotrak not found\n",
      "    Range : 0 ... 430999 =      0.000 ...   430.999 secs\n",
      "Ready.\n",
      "Reading 0 ... 430999  =      0.000 ...   430.999 secs...\n",
      "patient_11_part1_vertex4098 → EEG046: Virtual = 38, iEEG = 83\n",
      "Opening raw data file /Users/Lea/Desktop/PROJECT_DATA_ANALYSIS/virtual_time_series/mag/patient_05_part2R_vertex3411_virtual_ts.fif...\n",
      "Isotrak not found\n",
      "    Range : 0 ... 256999 =      0.000 ...   256.999 secs\n",
      "Ready.\n",
      "Reading 0 ... 256999  =      0.000 ...   256.999 secs...\n"
     ]
    },
    {
     "name": "stderr",
     "output_type": "stream",
     "text": [
      "/var/folders/hp/k3clndsn2sj608qsb4fl5zvr0000gn/T/ipykernel_65947/762799685.py:34: RuntimeWarning: This filename (/Users/Lea/Desktop/PROJECT_DATA_ANALYSIS/virtual_time_series/mag/patient_11_part1_vertex4098_virtual_ts.fif) does not conform to MNE naming conventions. All raw files should end with raw.fif, raw_sss.fif, raw_tsss.fif, _meg.fif, _eeg.fif, _ieeg.fif, raw.fif.gz, raw_sss.fif.gz, raw_tsss.fif.gz, _meg.fif.gz, _eeg.fif.gz or _ieeg.fif.gz\n",
      "  raw = mne.io.read_raw_fif(filepath, preload=True)\n",
      "/var/folders/hp/k3clndsn2sj608qsb4fl5zvr0000gn/T/ipykernel_65947/762799685.py:34: RuntimeWarning: This filename (/Users/Lea/Desktop/PROJECT_DATA_ANALYSIS/virtual_time_series/mag/patient_05_part2R_vertex3411_virtual_ts.fif) does not conform to MNE naming conventions. All raw files should end with raw.fif, raw_sss.fif, raw_tsss.fif, _meg.fif, _eeg.fif, _ieeg.fif, raw.fif.gz, raw_sss.fif.gz, raw_tsss.fif.gz, _meg.fif.gz, _eeg.fif.gz or _ieeg.fif.gz\n",
      "  raw = mne.io.read_raw_fif(filepath, preload=True)\n"
     ]
    },
    {
     "name": "stdout",
     "output_type": "stream",
     "text": [
      "patient_05_part2R_vertex3411 → EEG028: Virtual = 153, iEEG = 75\n",
      "Opening raw data file /Users/Lea/Desktop/PROJECT_DATA_ANALYSIS/virtual_time_series/mag/patient_22_vertex2868_virtual_ts.fif...\n",
      "Isotrak not found\n",
      "    Range : 0 ... 613999 =      0.000 ...   613.999 secs\n",
      "Ready.\n",
      "Reading 0 ... 613999  =      0.000 ...   613.999 secs...\n"
     ]
    },
    {
     "name": "stderr",
     "output_type": "stream",
     "text": [
      "/var/folders/hp/k3clndsn2sj608qsb4fl5zvr0000gn/T/ipykernel_65947/762799685.py:34: RuntimeWarning: This filename (/Users/Lea/Desktop/PROJECT_DATA_ANALYSIS/virtual_time_series/mag/patient_22_vertex2868_virtual_ts.fif) does not conform to MNE naming conventions. All raw files should end with raw.fif, raw_sss.fif, raw_tsss.fif, _meg.fif, _eeg.fif, _ieeg.fif, raw.fif.gz, raw_sss.fif.gz, raw_tsss.fif.gz, _meg.fif.gz, _eeg.fif.gz or _ieeg.fif.gz\n",
      "  raw = mne.io.read_raw_fif(filepath, preload=True)\n"
     ]
    },
    {
     "name": "stdout",
     "output_type": "stream",
     "text": [
      "patient_22_vertex2868 → EEG003: Virtual = 217, iEEG = 104\n",
      "Opening raw data file /Users/Lea/Desktop/PROJECT_DATA_ANALYSIS/virtual_time_series/mag/patient_11_part1_vertex4097_virtual_ts.fif...\n",
      "Isotrak not found\n",
      "    Range : 0 ... 430999 =      0.000 ...   430.999 secs\n",
      "Ready.\n",
      "Reading 0 ... 430999  =      0.000 ...   430.999 secs...\n",
      "patient_11_part1_vertex4097 → EEG043: Virtual = 34, iEEG = 75\n"
     ]
    },
    {
     "name": "stderr",
     "output_type": "stream",
     "text": [
      "/var/folders/hp/k3clndsn2sj608qsb4fl5zvr0000gn/T/ipykernel_65947/762799685.py:34: RuntimeWarning: This filename (/Users/Lea/Desktop/PROJECT_DATA_ANALYSIS/virtual_time_series/mag/patient_11_part1_vertex4097_virtual_ts.fif) does not conform to MNE naming conventions. All raw files should end with raw.fif, raw_sss.fif, raw_tsss.fif, _meg.fif, _eeg.fif, _ieeg.fif, raw.fif.gz, raw_sss.fif.gz, raw_tsss.fif.gz, _meg.fif.gz, _eeg.fif.gz or _ieeg.fif.gz\n",
      "  raw = mne.io.read_raw_fif(filepath, preload=True)\n"
     ]
    },
    {
     "name": "stdout",
     "output_type": "stream",
     "text": [
      "patient_11_part1_vertex4097 → EEG044: Virtual = 34, iEEG = 92\n",
      "patient_11_part1_vertex4097 → EEG045: Virtual = 34, iEEG = 80\n",
      "Opening raw data file /Users/Lea/Desktop/PROJECT_DATA_ANALYSIS/virtual_time_series/mag/patient_05_part1L_vertex3711_virtual_ts.fif...\n",
      "Isotrak not found\n",
      "    Range : 0 ... 357999 =      0.000 ...   357.999 secs\n",
      "Ready.\n",
      "Reading 0 ... 357999  =      0.000 ...   357.999 secs...\n",
      "patient_05_part1L_vertex3711 → EEG057: Virtual = 201, iEEG = 124\n"
     ]
    },
    {
     "name": "stderr",
     "output_type": "stream",
     "text": [
      "/var/folders/hp/k3clndsn2sj608qsb4fl5zvr0000gn/T/ipykernel_65947/762799685.py:34: RuntimeWarning: This filename (/Users/Lea/Desktop/PROJECT_DATA_ANALYSIS/virtual_time_series/mag/patient_05_part1L_vertex3711_virtual_ts.fif) does not conform to MNE naming conventions. All raw files should end with raw.fif, raw_sss.fif, raw_tsss.fif, _meg.fif, _eeg.fif, _ieeg.fif, raw.fif.gz, raw_sss.fif.gz, raw_tsss.fif.gz, _meg.fif.gz, _eeg.fif.gz or _ieeg.fif.gz\n",
      "  raw = mne.io.read_raw_fif(filepath, preload=True)\n"
     ]
    },
    {
     "name": "stdout",
     "output_type": "stream",
     "text": [
      "patient_05_part1L_vertex3711 → EEG059: Virtual = 201, iEEG = 98\n",
      "Opening raw data file /Users/Lea/Desktop/PROJECT_DATA_ANALYSIS/virtual_time_series/mag/patient_13_vertex3035_virtual_ts.fif...\n",
      "Isotrak not found\n",
      "    Range : 0 ... 242999 =      0.000 ...   242.999 secs\n",
      "Ready.\n",
      "Reading 0 ... 242999  =      0.000 ...   242.999 secs...\n",
      "patient_13_vertex3035 → EEG036: Virtual = 132, iEEG = 79\n",
      "Opening raw data file /Users/Lea/Desktop/PROJECT_DATA_ANALYSIS/virtual_time_series/mag/patient_14_part2_left_vertex2486_virtual_ts.fif...\n",
      "Isotrak not found\n",
      "    Range : 0 ... 496999 =      0.000 ...   496.999 secs\n",
      "Ready.\n",
      "Reading 0 ... 496999  =      0.000 ...   496.999 secs...\n"
     ]
    },
    {
     "name": "stderr",
     "output_type": "stream",
     "text": [
      "/var/folders/hp/k3clndsn2sj608qsb4fl5zvr0000gn/T/ipykernel_65947/762799685.py:34: RuntimeWarning: This filename (/Users/Lea/Desktop/PROJECT_DATA_ANALYSIS/virtual_time_series/mag/patient_13_vertex3035_virtual_ts.fif) does not conform to MNE naming conventions. All raw files should end with raw.fif, raw_sss.fif, raw_tsss.fif, _meg.fif, _eeg.fif, _ieeg.fif, raw.fif.gz, raw_sss.fif.gz, raw_tsss.fif.gz, _meg.fif.gz, _eeg.fif.gz or _ieeg.fif.gz\n",
      "  raw = mne.io.read_raw_fif(filepath, preload=True)\n",
      "/var/folders/hp/k3clndsn2sj608qsb4fl5zvr0000gn/T/ipykernel_65947/762799685.py:34: RuntimeWarning: This filename (/Users/Lea/Desktop/PROJECT_DATA_ANALYSIS/virtual_time_series/mag/patient_14_part2_left_vertex2486_virtual_ts.fif) does not conform to MNE naming conventions. All raw files should end with raw.fif, raw_sss.fif, raw_tsss.fif, _meg.fif, _eeg.fif, _ieeg.fif, raw.fif.gz, raw_sss.fif.gz, raw_tsss.fif.gz, _meg.fif.gz, _eeg.fif.gz or _ieeg.fif.gz\n",
      "  raw = mne.io.read_raw_fif(filepath, preload=True)\n"
     ]
    },
    {
     "name": "stdout",
     "output_type": "stream",
     "text": [
      "patient_14_part2_left_vertex2486 → EEG001: Virtual = 17, iEEG = 36\n",
      "Opening raw data file /Users/Lea/Desktop/PROJECT_DATA_ANALYSIS/virtual_time_series/mag/patient_05_part2L_vertex3728_virtual_ts.fif...\n",
      "Isotrak not found\n",
      "    Range : 0 ... 292999 =      0.000 ...   292.999 secs\n",
      "Ready.\n",
      "Reading 0 ... 292999  =      0.000 ...   292.999 secs...\n",
      "patient_05_part2L_vertex3728 → EEG032: Virtual = 156, iEEG = 102\n"
     ]
    },
    {
     "name": "stderr",
     "output_type": "stream",
     "text": [
      "/var/folders/hp/k3clndsn2sj608qsb4fl5zvr0000gn/T/ipykernel_65947/762799685.py:34: RuntimeWarning: This filename (/Users/Lea/Desktop/PROJECT_DATA_ANALYSIS/virtual_time_series/mag/patient_05_part2L_vertex3728_virtual_ts.fif) does not conform to MNE naming conventions. All raw files should end with raw.fif, raw_sss.fif, raw_tsss.fif, _meg.fif, _eeg.fif, _ieeg.fif, raw.fif.gz, raw_sss.fif.gz, raw_tsss.fif.gz, _meg.fif.gz, _eeg.fif.gz or _ieeg.fif.gz\n",
      "  raw = mne.io.read_raw_fif(filepath, preload=True)\n"
     ]
    },
    {
     "name": "stdout",
     "output_type": "stream",
     "text": [
      "patient_05_part2L_vertex3728 → EEG034: Virtual = 155, iEEG = 105\n",
      "Opening raw data file /Users/Lea/Desktop/PROJECT_DATA_ANALYSIS/virtual_time_series/mag/patient_08_vertex2946_virtual_ts.fif...\n",
      "Isotrak not found\n",
      "    Range : 0 ... 574999 =      0.000 ...   574.999 secs\n",
      "Ready.\n",
      "Reading 0 ... 574999  =      0.000 ...   574.999 secs...\n",
      "patient_08_vertex2946 → EEG026: Virtual = 110, iEEG = 157\n"
     ]
    },
    {
     "name": "stderr",
     "output_type": "stream",
     "text": [
      "/var/folders/hp/k3clndsn2sj608qsb4fl5zvr0000gn/T/ipykernel_65947/762799685.py:34: RuntimeWarning: This filename (/Users/Lea/Desktop/PROJECT_DATA_ANALYSIS/virtual_time_series/mag/patient_08_vertex2946_virtual_ts.fif) does not conform to MNE naming conventions. All raw files should end with raw.fif, raw_sss.fif, raw_tsss.fif, _meg.fif, _eeg.fif, _ieeg.fif, raw.fif.gz, raw_sss.fif.gz, raw_tsss.fif.gz, _meg.fif.gz, _eeg.fif.gz or _ieeg.fif.gz\n",
      "  raw = mne.io.read_raw_fif(filepath, preload=True)\n"
     ]
    },
    {
     "name": "stdout",
     "output_type": "stream",
     "text": [
      "patient_08_vertex2946 → EEG027: Virtual = 110, iEEG = 134\n",
      "patient_08_vertex2946 → EEG028: Virtual = 110, iEEG = 128\n",
      "Opening raw data file /Users/Lea/Desktop/PROJECT_DATA_ANALYSIS/virtual_time_series/mag/patient_06_vertex2918_virtual_ts.fif...\n",
      "Isotrak not found\n",
      "    Range : 0 ... 413999 =      0.000 ...   413.999 secs\n",
      "Ready.\n",
      "Reading 0 ... 413999  =      0.000 ...   413.999 secs...\n",
      "patient_06_vertex2918 → EEG007: Virtual = 192, iEEG = 90\n"
     ]
    },
    {
     "name": "stderr",
     "output_type": "stream",
     "text": [
      "/var/folders/hp/k3clndsn2sj608qsb4fl5zvr0000gn/T/ipykernel_65947/762799685.py:34: RuntimeWarning: This filename (/Users/Lea/Desktop/PROJECT_DATA_ANALYSIS/virtual_time_series/mag/patient_06_vertex2918_virtual_ts.fif) does not conform to MNE naming conventions. All raw files should end with raw.fif, raw_sss.fif, raw_tsss.fif, _meg.fif, _eeg.fif, _ieeg.fif, raw.fif.gz, raw_sss.fif.gz, raw_tsss.fif.gz, _meg.fif.gz, _eeg.fif.gz or _ieeg.fif.gz\n",
      "  raw = mne.io.read_raw_fif(filepath, preload=True)\n"
     ]
    },
    {
     "name": "stdout",
     "output_type": "stream",
     "text": [
      "patient_06_vertex2918 → EEG008: Virtual = 193, iEEG = 107\n",
      "Opening raw data file /Users/Lea/Desktop/PROJECT_DATA_ANALYSIS/virtual_time_series/mag/patient_22_vertex2869_virtual_ts.fif...\n",
      "Isotrak not found\n",
      "    Range : 0 ... 613999 =      0.000 ...   613.999 secs\n",
      "Ready.\n",
      "Reading 0 ... 613999  =      0.000 ...   613.999 secs...\n",
      "patient_22_vertex2869 → EEG001: Virtual = 185, iEEG = 134"
     ]
    },
    {
     "name": "stderr",
     "output_type": "stream",
     "text": [
      "/var/folders/hp/k3clndsn2sj608qsb4fl5zvr0000gn/T/ipykernel_65947/762799685.py:34: RuntimeWarning: This filename (/Users/Lea/Desktop/PROJECT_DATA_ANALYSIS/virtual_time_series/mag/patient_22_vertex2869_virtual_ts.fif) does not conform to MNE naming conventions. All raw files should end with raw.fif, raw_sss.fif, raw_tsss.fif, _meg.fif, _eeg.fif, _ieeg.fif, raw.fif.gz, raw_sss.fif.gz, raw_tsss.fif.gz, _meg.fif.gz, _eeg.fif.gz or _ieeg.fif.gz\n",
      "  raw = mne.io.read_raw_fif(filepath, preload=True)\n"
     ]
    },
    {
     "name": "stdout",
     "output_type": "stream",
     "text": [
      "\n",
      "patient_22_vertex2869 → EEG002: Virtual = 185, iEEG = 112\n",
      "Opening raw data file /Users/Lea/Desktop/PROJECT_DATA_ANALYSIS/virtual_time_series/mag/patient_25_vertex5669_virtual_ts.fif...\n",
      "Isotrak not found\n",
      "    Range : 0 ... 255999 =      0.000 ...   255.999 secs\n",
      "Ready.\n",
      "Reading 0 ... 255999  =      0.000 ...   255.999 secs...\n",
      "patient_25_vertex5669 → EEG049: Virtual = 60, iEEG = 10\n"
     ]
    },
    {
     "name": "stderr",
     "output_type": "stream",
     "text": [
      "/var/folders/hp/k3clndsn2sj608qsb4fl5zvr0000gn/T/ipykernel_65947/762799685.py:34: RuntimeWarning: This filename (/Users/Lea/Desktop/PROJECT_DATA_ANALYSIS/virtual_time_series/mag/patient_25_vertex5669_virtual_ts.fif) does not conform to MNE naming conventions. All raw files should end with raw.fif, raw_sss.fif, raw_tsss.fif, _meg.fif, _eeg.fif, _ieeg.fif, raw.fif.gz, raw_sss.fif.gz, raw_tsss.fif.gz, _meg.fif.gz, _eeg.fif.gz or _ieeg.fif.gz\n",
      "  raw = mne.io.read_raw_fif(filepath, preload=True)\n"
     ]
    },
    {
     "name": "stdout",
     "output_type": "stream",
     "text": [
      "Opening raw data file /Users/Lea/Desktop/PROJECT_DATA_ANALYSIS/virtual_time_series/mag/patient_10_vertex3581_virtual_ts.fif...\n",
      "Isotrak not found\n",
      "    Range : 0 ... 626999 =      0.000 ...   626.999 secs\n",
      "Ready.\n",
      "Reading 0 ... 626999  =      0.000 ...   626.999 secs...\n",
      "patient_10_vertex3581 → EEG013: Virtual = 13, iEEG = 94\n"
     ]
    },
    {
     "name": "stderr",
     "output_type": "stream",
     "text": [
      "/var/folders/hp/k3clndsn2sj608qsb4fl5zvr0000gn/T/ipykernel_65947/762799685.py:34: RuntimeWarning: This filename (/Users/Lea/Desktop/PROJECT_DATA_ANALYSIS/virtual_time_series/mag/patient_10_vertex3581_virtual_ts.fif) does not conform to MNE naming conventions. All raw files should end with raw.fif, raw_sss.fif, raw_tsss.fif, _meg.fif, _eeg.fif, _ieeg.fif, raw.fif.gz, raw_sss.fif.gz, raw_tsss.fif.gz, _meg.fif.gz, _eeg.fif.gz or _ieeg.fif.gz\n",
      "  raw = mne.io.read_raw_fif(filepath, preload=True)\n"
     ]
    },
    {
     "name": "stdout",
     "output_type": "stream",
     "text": [
      "Opening raw data file /Users/Lea/Desktop/PROJECT_DATA_ANALYSIS/virtual_time_series/mag/patient_05_part1R_vertex3428_virtual_ts.fif...\n",
      "Isotrak not found\n",
      "    Range : 0 ... 312999 =      0.000 ...   312.999 secs\n",
      "Ready.\n",
      "Reading 0 ... 312999  =      0.000 ...   312.999 secs...\n",
      "patient_05_part1R_vertex3428 → EEG003: Virtual = 189, iEEG = 99\n"
     ]
    },
    {
     "name": "stderr",
     "output_type": "stream",
     "text": [
      "/var/folders/hp/k3clndsn2sj608qsb4fl5zvr0000gn/T/ipykernel_65947/762799685.py:34: RuntimeWarning: This filename (/Users/Lea/Desktop/PROJECT_DATA_ANALYSIS/virtual_time_series/mag/patient_05_part1R_vertex3428_virtual_ts.fif) does not conform to MNE naming conventions. All raw files should end with raw.fif, raw_sss.fif, raw_tsss.fif, _meg.fif, _eeg.fif, _ieeg.fif, raw.fif.gz, raw_sss.fif.gz, raw_tsss.fif.gz, _meg.fif.gz, _eeg.fif.gz or _ieeg.fif.gz\n",
      "  raw = mne.io.read_raw_fif(filepath, preload=True)\n"
     ]
    },
    {
     "name": "stdout",
     "output_type": "stream",
     "text": [
      "patient_05_part1R_vertex3428 → EEG026: Virtual = 190, iEEG = 95\n",
      "Opening raw data file /Users/Lea/Desktop/PROJECT_DATA_ANALYSIS/virtual_time_series/mag/patient_05_part2L_vertex3405_virtual_ts.fif...\n",
      "Isotrak not found\n",
      "    Range : 0 ... 292999 =      0.000 ...   292.999 secs\n",
      "Ready.\n",
      "Reading 0 ... 292999  =      0.000 ...   292.999 secs...\n",
      "patient_05_part2L_vertex3405 → EEG026: Virtual = 160, iEEG = 41\n"
     ]
    },
    {
     "name": "stderr",
     "output_type": "stream",
     "text": [
      "/var/folders/hp/k3clndsn2sj608qsb4fl5zvr0000gn/T/ipykernel_65947/762799685.py:34: RuntimeWarning: This filename (/Users/Lea/Desktop/PROJECT_DATA_ANALYSIS/virtual_time_series/mag/patient_05_part2L_vertex3405_virtual_ts.fif) does not conform to MNE naming conventions. All raw files should end with raw.fif, raw_sss.fif, raw_tsss.fif, _meg.fif, _eeg.fif, _ieeg.fif, raw.fif.gz, raw_sss.fif.gz, raw_tsss.fif.gz, _meg.fif.gz, _eeg.fif.gz or _ieeg.fif.gz\n",
      "  raw = mne.io.read_raw_fif(filepath, preload=True)\n"
     ]
    },
    {
     "name": "stdout",
     "output_type": "stream",
     "text": [
      "patient_05_part2L_vertex3405 → EEG028: Virtual = 160, iEEG = 67\n",
      "Opening raw data file /Users/Lea/Desktop/PROJECT_DATA_ANALYSIS/virtual_time_series/mag/patient_22_vertex3125_virtual_ts.fif...\n",
      "Isotrak not found\n",
      "    Range : 0 ... 613999 =      0.000 ...   613.999 secs\n",
      "Ready.\n",
      "Reading 0 ... 613999  =      0.000 ...   613.999 secs...\n",
      "patient_22_vertex3125 → EEG017: Virtual = 222, iEEG = 110"
     ]
    },
    {
     "name": "stderr",
     "output_type": "stream",
     "text": [
      "/var/folders/hp/k3clndsn2sj608qsb4fl5zvr0000gn/T/ipykernel_65947/762799685.py:34: RuntimeWarning: This filename (/Users/Lea/Desktop/PROJECT_DATA_ANALYSIS/virtual_time_series/mag/patient_22_vertex3125_virtual_ts.fif) does not conform to MNE naming conventions. All raw files should end with raw.fif, raw_sss.fif, raw_tsss.fif, _meg.fif, _eeg.fif, _ieeg.fif, raw.fif.gz, raw_sss.fif.gz, raw_tsss.fif.gz, _meg.fif.gz, _eeg.fif.gz or _ieeg.fif.gz\n",
      "  raw = mne.io.read_raw_fif(filepath, preload=True)\n"
     ]
    },
    {
     "name": "stdout",
     "output_type": "stream",
     "text": [
      "\n",
      "Opening raw data file /Users/Lea/Desktop/PROJECT_DATA_ANALYSIS/virtual_time_series/mag/patient_14_part2_right_vertex3070_virtual_ts.fif...\n",
      "Isotrak not found\n",
      "    Range : 0 ... 496999 =      0.000 ...   496.999 secs\n",
      "Ready.\n",
      "Reading 0 ... 496999  =      0.000 ...   496.999 secs...\n",
      "patient_14_part2_right_vertex3070 → EEG041: Virtual = 14, iEEG = 34\n"
     ]
    },
    {
     "name": "stderr",
     "output_type": "stream",
     "text": [
      "/var/folders/hp/k3clndsn2sj608qsb4fl5zvr0000gn/T/ipykernel_65947/762799685.py:34: RuntimeWarning: This filename (/Users/Lea/Desktop/PROJECT_DATA_ANALYSIS/virtual_time_series/mag/patient_14_part2_right_vertex3070_virtual_ts.fif) does not conform to MNE naming conventions. All raw files should end with raw.fif, raw_sss.fif, raw_tsss.fif, _meg.fif, _eeg.fif, _ieeg.fif, raw.fif.gz, raw_sss.fif.gz, raw_tsss.fif.gz, _meg.fif.gz, _eeg.fif.gz or _ieeg.fif.gz\n",
      "  raw = mne.io.read_raw_fif(filepath, preload=True)\n"
     ]
    },
    {
     "name": "stdout",
     "output_type": "stream",
     "text": [
      "patient_14_part2_right_vertex3070 → EEG042: Virtual = 14, iEEG = 15\n",
      "patient_14_part2_right_vertex3070 → EEG043: Virtual = 14, iEEG = 10\n",
      "Opening raw data file /Users/Lea/Desktop/PROJECT_DATA_ANALYSIS/virtual_time_series/mag/patient_22_vertex3124_virtual_ts.fif...\n",
      "Isotrak not found\n",
      "    Range : 0 ... 613999 =      0.000 ...   613.999 secs\n",
      "Ready.\n",
      "Reading 0 ... 613999  =      0.000 ...   613.999 secs...\n",
      "patient_22_vertex3124 → EEG018: Virtual = 255, iEEG = 137"
     ]
    },
    {
     "name": "stderr",
     "output_type": "stream",
     "text": [
      "/var/folders/hp/k3clndsn2sj608qsb4fl5zvr0000gn/T/ipykernel_65947/762799685.py:34: RuntimeWarning: This filename (/Users/Lea/Desktop/PROJECT_DATA_ANALYSIS/virtual_time_series/mag/patient_22_vertex3124_virtual_ts.fif) does not conform to MNE naming conventions. All raw files should end with raw.fif, raw_sss.fif, raw_tsss.fif, _meg.fif, _eeg.fif, _ieeg.fif, raw.fif.gz, raw_sss.fif.gz, raw_tsss.fif.gz, _meg.fif.gz, _eeg.fif.gz or _ieeg.fif.gz\n",
      "  raw = mne.io.read_raw_fif(filepath, preload=True)\n"
     ]
    },
    {
     "name": "stdout",
     "output_type": "stream",
     "text": [
      "\n",
      "patient_22_vertex3124 → EEG019: Virtual = 257, iEEG = 141\n",
      "patient_22_vertex3124 → EEG020: Virtual = 257, iEEG = 98\n",
      "patient_22_vertex3124 → EEG021: Virtual = 258, iEEG = 97\n",
      "Opening raw data file /Users/Lea/Desktop/PROJECT_DATA_ANALYSIS/virtual_time_series/mag/patient_05_part2R_vertex3734_virtual_ts.fif...\n",
      "Isotrak not found\n",
      "    Range : 0 ... 256999 =      0.000 ...   256.999 secs\n",
      "Ready.\n",
      "Reading 0 ... 256999  =      0.000 ...   256.999 secs...\n",
      "patient_05_part2R_vertex3734 → EEG032: Virtual = 152, iEEG = 80\n",
      "patient_05_part2R_vertex3734 → EEG034: Virtual = 152, iEEG = 82\n"
     ]
    },
    {
     "name": "stderr",
     "output_type": "stream",
     "text": [
      "/var/folders/hp/k3clndsn2sj608qsb4fl5zvr0000gn/T/ipykernel_65947/762799685.py:34: RuntimeWarning: This filename (/Users/Lea/Desktop/PROJECT_DATA_ANALYSIS/virtual_time_series/mag/patient_05_part2R_vertex3734_virtual_ts.fif) does not conform to MNE naming conventions. All raw files should end with raw.fif, raw_sss.fif, raw_tsss.fif, _meg.fif, _eeg.fif, _ieeg.fif, raw.fif.gz, raw_sss.fif.gz, raw_tsss.fif.gz, _meg.fif.gz, _eeg.fif.gz or _ieeg.fif.gz\n",
      "  raw = mne.io.read_raw_fif(filepath, preload=True)\n"
     ]
    },
    {
     "name": "stdout",
     "output_type": "stream",
     "text": [
      "Opening raw data file /Users/Lea/Desktop/PROJECT_DATA_ANALYSIS/virtual_time_series/mag/patient_23_vertex3674_virtual_ts.fif...\n",
      "Isotrak not found\n",
      "    Range : 0 ... 757999 =      0.000 ...   757.999 secs\n",
      "Ready.\n",
      "Reading 0 ... 757999  =      0.000 ...   757.999 secs...\n"
     ]
    },
    {
     "name": "stderr",
     "output_type": "stream",
     "text": [
      "/var/folders/hp/k3clndsn2sj608qsb4fl5zvr0000gn/T/ipykernel_65947/762799685.py:34: RuntimeWarning: This filename (/Users/Lea/Desktop/PROJECT_DATA_ANALYSIS/virtual_time_series/mag/patient_23_vertex3674_virtual_ts.fif) does not conform to MNE naming conventions. All raw files should end with raw.fif, raw_sss.fif, raw_tsss.fif, _meg.fif, _eeg.fif, _ieeg.fif, raw.fif.gz, raw_sss.fif.gz, raw_tsss.fif.gz, _meg.fif.gz, _eeg.fif.gz or _ieeg.fif.gz\n",
      "  raw = mne.io.read_raw_fif(filepath, preload=True)\n"
     ]
    },
    {
     "name": "stdout",
     "output_type": "stream",
     "text": [
      "patient_23_vertex3674 → EEG057: Virtual = 273, iEEG = 104\n",
      "Opening raw data file /Users/Lea/Desktop/PROJECT_DATA_ANALYSIS/virtual_time_series/mag/patient_05_part1L_vertex3728_virtual_ts.fif...\n",
      "Isotrak not found\n",
      "    Range : 0 ... 357999 =      0.000 ...   357.999 secs\n",
      "Ready.\n",
      "Reading 0 ... 357999  =      0.000 ...   357.999 secs...\n"
     ]
    },
    {
     "name": "stderr",
     "output_type": "stream",
     "text": [
      "/var/folders/hp/k3clndsn2sj608qsb4fl5zvr0000gn/T/ipykernel_65947/762799685.py:34: RuntimeWarning: This filename (/Users/Lea/Desktop/PROJECT_DATA_ANALYSIS/virtual_time_series/mag/patient_05_part1L_vertex3728_virtual_ts.fif) does not conform to MNE naming conventions. All raw files should end with raw.fif, raw_sss.fif, raw_tsss.fif, _meg.fif, _eeg.fif, _ieeg.fif, raw.fif.gz, raw_sss.fif.gz, raw_tsss.fif.gz, _meg.fif.gz, _eeg.fif.gz or _ieeg.fif.gz\n",
      "  raw = mne.io.read_raw_fif(filepath, preload=True)\n"
     ]
    },
    {
     "name": "stdout",
     "output_type": "stream",
     "text": [
      "patient_05_part1L_vertex3728 → EEG032: Virtual = 203, iEEG = 126\n",
      "patient_05_part1L_vertex3728 → EEG034: Virtual = 201, iEEG = 120\n",
      "Opening raw data file /Users/Lea/Desktop/PROJECT_DATA_ANALYSIS/virtual_time_series/mag/patient_06_vertex2629_virtual_ts.fif...\n",
      "Isotrak not found\n",
      "    Range : 0 ... 413999 =      0.000 ...   413.999 secs\n",
      "Ready.\n",
      "Reading 0 ... 413999  =      0.000 ...   413.999 secs...\n",
      "patient_06_vertex2629 → EEG003: Virtual = 148, iEEG = 87\n"
     ]
    },
    {
     "name": "stderr",
     "output_type": "stream",
     "text": [
      "/var/folders/hp/k3clndsn2sj608qsb4fl5zvr0000gn/T/ipykernel_65947/762799685.py:34: RuntimeWarning: This filename (/Users/Lea/Desktop/PROJECT_DATA_ANALYSIS/virtual_time_series/mag/patient_06_vertex2629_virtual_ts.fif) does not conform to MNE naming conventions. All raw files should end with raw.fif, raw_sss.fif, raw_tsss.fif, _meg.fif, _eeg.fif, _ieeg.fif, raw.fif.gz, raw_sss.fif.gz, raw_tsss.fif.gz, _meg.fif.gz, _eeg.fif.gz or _ieeg.fif.gz\n",
      "  raw = mne.io.read_raw_fif(filepath, preload=True)\n"
     ]
    },
    {
     "name": "stdout",
     "output_type": "stream",
     "text": [
      "patient_06_vertex2629 → EEG004: Virtual = 149, iEEG = 89\n",
      "Opening raw data file /Users/Lea/Desktop/PROJECT_DATA_ANALYSIS/virtual_time_series/mag/patient_21_vertex3898_virtual_ts.fif...\n",
      "Isotrak not found\n",
      "    Range : 0 ... 352999 =      0.000 ...   352.999 secs\n",
      "Ready.\n",
      "Reading 0 ... 352999  =      0.000 ...   352.999 secs...\n",
      "patient_21_vertex3898 → EEG002: Virtual = 0, iEEG = 33\n"
     ]
    },
    {
     "name": "stderr",
     "output_type": "stream",
     "text": [
      "/var/folders/hp/k3clndsn2sj608qsb4fl5zvr0000gn/T/ipykernel_65947/762799685.py:34: RuntimeWarning: This filename (/Users/Lea/Desktop/PROJECT_DATA_ANALYSIS/virtual_time_series/mag/patient_21_vertex3898_virtual_ts.fif) does not conform to MNE naming conventions. All raw files should end with raw.fif, raw_sss.fif, raw_tsss.fif, _meg.fif, _eeg.fif, _ieeg.fif, raw.fif.gz, raw_sss.fif.gz, raw_tsss.fif.gz, _meg.fif.gz, _eeg.fif.gz or _ieeg.fif.gz\n",
      "  raw = mne.io.read_raw_fif(filepath, preload=True)\n"
     ]
    },
    {
     "name": "stdout",
     "output_type": "stream",
     "text": [
      "Opening raw data file /Users/Lea/Desktop/PROJECT_DATA_ANALYSIS/virtual_time_series/mag/patient_21_vertex3897_virtual_ts.fif...\n",
      "Isotrak not found\n",
      "    Range : 0 ... 352999 =      0.000 ...   352.999 secs\n",
      "Ready.\n",
      "Reading 0 ... 352999  =      0.000 ...   352.999 secs...\n",
      "patient_21_vertex3897 → EEG003: Virtual = 0, iEEG = 19\n"
     ]
    },
    {
     "name": "stderr",
     "output_type": "stream",
     "text": [
      "/var/folders/hp/k3clndsn2sj608qsb4fl5zvr0000gn/T/ipykernel_65947/762799685.py:34: RuntimeWarning: This filename (/Users/Lea/Desktop/PROJECT_DATA_ANALYSIS/virtual_time_series/mag/patient_21_vertex3897_virtual_ts.fif) does not conform to MNE naming conventions. All raw files should end with raw.fif, raw_sss.fif, raw_tsss.fif, _meg.fif, _eeg.fif, _ieeg.fif, raw.fif.gz, raw_sss.fif.gz, raw_tsss.fif.gz, _meg.fif.gz, _eeg.fif.gz or _ieeg.fif.gz\n",
      "  raw = mne.io.read_raw_fif(filepath, preload=True)\n"
     ]
    },
    {
     "name": "stdout",
     "output_type": "stream",
     "text": [
      "patient_21_vertex3897 → EEG004: Virtual = 0, iEEG = 41\n",
      "patient_21_vertex3897 → EEG005: Virtual = 0, iEEG = 42\n",
      "Opening raw data file /Users/Lea/Desktop/PROJECT_DATA_ANALYSIS/virtual_time_series/mag/patient_05_part2R_vertex3428_virtual_ts.fif...\n",
      "Isotrak not found\n",
      "    Range : 0 ... 256999 =      0.000 ...   256.999 secs\n",
      "Ready.\n",
      "Reading 0 ... 256999  =      0.000 ...   256.999 secs...\n",
      "patient_05_part2R_vertex3428 → EEG003: Virtual = 132, iEEG = 96\n",
      "patient_05_part2R_vertex3428 → EEG026: Virtual = 132, iEEG = 73\n"
     ]
    },
    {
     "name": "stderr",
     "output_type": "stream",
     "text": [
      "/var/folders/hp/k3clndsn2sj608qsb4fl5zvr0000gn/T/ipykernel_65947/762799685.py:34: RuntimeWarning: This filename (/Users/Lea/Desktop/PROJECT_DATA_ANALYSIS/virtual_time_series/mag/patient_05_part2R_vertex3428_virtual_ts.fif) does not conform to MNE naming conventions. All raw files should end with raw.fif, raw_sss.fif, raw_tsss.fif, _meg.fif, _eeg.fif, _ieeg.fif, raw.fif.gz, raw_sss.fif.gz, raw_tsss.fif.gz, _meg.fif.gz, _eeg.fif.gz or _ieeg.fif.gz\n",
      "  raw = mne.io.read_raw_fif(filepath, preload=True)\n"
     ]
    },
    {
     "name": "stdout",
     "output_type": "stream",
     "text": [
      "Opening raw data file /Users/Lea/Desktop/PROJECT_DATA_ANALYSIS/virtual_time_series/mag/patient_06_vertex2935_virtual_ts.fif...\n",
      "Isotrak not found\n",
      "    Range : 0 ... 413999 =      0.000 ...   413.999 secs\n",
      "Ready.\n",
      "Reading 0 ... 413999  =      0.000 ...   413.999 secs...\n",
      "patient_06_vertex2935 → EEG005: Virtual = 175, iEEG = 81\n"
     ]
    },
    {
     "name": "stderr",
     "output_type": "stream",
     "text": [
      "/var/folders/hp/k3clndsn2sj608qsb4fl5zvr0000gn/T/ipykernel_65947/762799685.py:34: RuntimeWarning: This filename (/Users/Lea/Desktop/PROJECT_DATA_ANALYSIS/virtual_time_series/mag/patient_06_vertex2935_virtual_ts.fif) does not conform to MNE naming conventions. All raw files should end with raw.fif, raw_sss.fif, raw_tsss.fif, _meg.fif, _eeg.fif, _ieeg.fif, raw.fif.gz, raw_sss.fif.gz, raw_tsss.fif.gz, _meg.fif.gz, _eeg.fif.gz or _ieeg.fif.gz\n",
      "  raw = mne.io.read_raw_fif(filepath, preload=True)\n"
     ]
    },
    {
     "name": "stdout",
     "output_type": "stream",
     "text": [
      "patient_06_vertex2935 → EEG006: Virtual = 175, iEEG = 93\n",
      "Opening raw data file /Users/Lea/Desktop/PROJECT_DATA_ANALYSIS/virtual_time_series/mag/patient_17_vertex4041_virtual_ts.fif...\n",
      "Isotrak not found\n",
      "    Range : 0 ... 187999 =      0.000 ...   187.999 secs\n",
      "Ready.\n",
      "Reading 0 ... 187999  =      0.000 ...   187.999 secs...\n",
      "patient_17_vertex4041 → EEG006: Virtual = 82, iEEG = 52\n"
     ]
    },
    {
     "name": "stderr",
     "output_type": "stream",
     "text": [
      "/var/folders/hp/k3clndsn2sj608qsb4fl5zvr0000gn/T/ipykernel_65947/762799685.py:34: RuntimeWarning: This filename (/Users/Lea/Desktop/PROJECT_DATA_ANALYSIS/virtual_time_series/mag/patient_17_vertex4041_virtual_ts.fif) does not conform to MNE naming conventions. All raw files should end with raw.fif, raw_sss.fif, raw_tsss.fif, _meg.fif, _eeg.fif, _ieeg.fif, raw.fif.gz, raw_sss.fif.gz, raw_tsss.fif.gz, _meg.fif.gz, _eeg.fif.gz or _ieeg.fif.gz\n",
      "  raw = mne.io.read_raw_fif(filepath, preload=True)\n"
     ]
    },
    {
     "name": "stdout",
     "output_type": "stream",
     "text": [
      "Opening raw data file /Users/Lea/Desktop/PROJECT_DATA_ANALYSIS/virtual_time_series/mag/patient_23_vertex3690_virtual_ts.fif...\n",
      "Isotrak not found\n",
      "    Range : 0 ... 757999 =      0.000 ...   757.999 secs\n",
      "Ready.\n",
      "Reading 0 ... 757999  =      0.000 ...   757.999 secs...\n"
     ]
    },
    {
     "name": "stderr",
     "output_type": "stream",
     "text": [
      "/var/folders/hp/k3clndsn2sj608qsb4fl5zvr0000gn/T/ipykernel_65947/762799685.py:34: RuntimeWarning: This filename (/Users/Lea/Desktop/PROJECT_DATA_ANALYSIS/virtual_time_series/mag/patient_23_vertex3690_virtual_ts.fif) does not conform to MNE naming conventions. All raw files should end with raw.fif, raw_sss.fif, raw_tsss.fif, _meg.fif, _eeg.fif, _ieeg.fif, raw.fif.gz, raw_sss.fif.gz, raw_tsss.fif.gz, _meg.fif.gz, _eeg.fif.gz or _ieeg.fif.gz\n",
      "  raw = mne.io.read_raw_fif(filepath, preload=True)\n"
     ]
    },
    {
     "name": "stdout",
     "output_type": "stream",
     "text": [
      "patient_23_vertex3690 → EEG058: Virtual = 303, iEEG = 195\n",
      "patient_23_vertex3690 → EEG059: Virtual = 302, iEEG = 190\n",
      "Opening raw data file /Users/Lea/Desktop/PROJECT_DATA_ANALYSIS/virtual_time_series/mag/patient_25_vertex5650_virtual_ts.fif...\n",
      "Isotrak not found\n",
      "    Range : 0 ... 255999 =      0.000 ...   255.999 secs\n",
      "Ready.\n",
      "Reading 0 ... 255999  =      0.000 ...   255.999 secs...\n",
      "patient_25_vertex5650 → EEG050: Virtual = 67, iEEG = 13\n",
      "Opening raw data file /Users/Lea/Desktop/PROJECT_DATA_ANALYSIS/virtual_time_series/mag/patient_05_part1R_vertex3411_virtual_ts.fif...\n",
      "Isotrak not found\n",
      "    Range : 0 ... 312999 =      0.000 ...   312.999 secs\n",
      "Ready.\n",
      "Reading 0 ... 312999  =      0.000 ...   312.999 secs...\n"
     ]
    },
    {
     "name": "stderr",
     "output_type": "stream",
     "text": [
      "/var/folders/hp/k3clndsn2sj608qsb4fl5zvr0000gn/T/ipykernel_65947/762799685.py:34: RuntimeWarning: This filename (/Users/Lea/Desktop/PROJECT_DATA_ANALYSIS/virtual_time_series/mag/patient_25_vertex5650_virtual_ts.fif) does not conform to MNE naming conventions. All raw files should end with raw.fif, raw_sss.fif, raw_tsss.fif, _meg.fif, _eeg.fif, _ieeg.fif, raw.fif.gz, raw_sss.fif.gz, raw_tsss.fif.gz, _meg.fif.gz, _eeg.fif.gz or _ieeg.fif.gz\n",
      "  raw = mne.io.read_raw_fif(filepath, preload=True)\n",
      "/var/folders/hp/k3clndsn2sj608qsb4fl5zvr0000gn/T/ipykernel_65947/762799685.py:34: RuntimeWarning: This filename (/Users/Lea/Desktop/PROJECT_DATA_ANALYSIS/virtual_time_series/mag/patient_05_part1R_vertex3411_virtual_ts.fif) does not conform to MNE naming conventions. All raw files should end with raw.fif, raw_sss.fif, raw_tsss.fif, _meg.fif, _eeg.fif, _ieeg.fif, raw.fif.gz, raw_sss.fif.gz, raw_tsss.fif.gz, _meg.fif.gz, _eeg.fif.gz or _ieeg.fif.gz\n",
      "  raw = mne.io.read_raw_fif(filepath, preload=True)\n"
     ]
    },
    {
     "name": "stdout",
     "output_type": "stream",
     "text": [
      "patient_05_part1R_vertex3411 → EEG028: Virtual = 162, iEEG = 106\n",
      "Opening raw data file /Users/Lea/Desktop/PROJECT_DATA_ANALYSIS/virtual_time_series/mag/patient_11_part2_vertex4097_virtual_ts.fif...\n",
      "Isotrak not found\n",
      "    Range : 0 ... 351999 =      0.000 ...   351.999 secs\n",
      "Ready.\n",
      "Reading 0 ... 351999  =      0.000 ...   351.999 secs...\n",
      "patient_11_part2_vertex4097 → EEG043: Virtual = 28, iEEG = 39\n",
      "patient_11_part2_vertex4097 → EEG044: Virtual = 28, iEEG = 47\n"
     ]
    },
    {
     "name": "stderr",
     "output_type": "stream",
     "text": [
      "/var/folders/hp/k3clndsn2sj608qsb4fl5zvr0000gn/T/ipykernel_65947/762799685.py:34: RuntimeWarning: This filename (/Users/Lea/Desktop/PROJECT_DATA_ANALYSIS/virtual_time_series/mag/patient_11_part2_vertex4097_virtual_ts.fif) does not conform to MNE naming conventions. All raw files should end with raw.fif, raw_sss.fif, raw_tsss.fif, _meg.fif, _eeg.fif, _ieeg.fif, raw.fif.gz, raw_sss.fif.gz, raw_tsss.fif.gz, _meg.fif.gz, _eeg.fif.gz or _ieeg.fif.gz\n",
      "  raw = mne.io.read_raw_fif(filepath, preload=True)\n"
     ]
    },
    {
     "name": "stdout",
     "output_type": "stream",
     "text": [
      "patient_11_part2_vertex4097 → EEG045: Virtual = 28, iEEG = 44\n",
      "Opening raw data file /Users/Lea/Desktop/PROJECT_DATA_ANALYSIS/virtual_time_series/mag/patient_17_vertex4040_virtual_ts.fif...\n",
      "Isotrak not found\n",
      "    Range : 0 ... 187999 =      0.000 ...   187.999 secs\n",
      "Ready.\n",
      "Reading 0 ... 187999  =      0.000 ...   187.999 secs...\n",
      "patient_17_vertex4040 → EEG003: Virtual = 89, iEEG = 30\n",
      "patient_17_vertex4040 → EEG004: Virtual = 89, iEEG = 44\n",
      "patient_17_vertex4040 → EEG005: Virtual = 89, iEEG = 54\n"
     ]
    },
    {
     "name": "stderr",
     "output_type": "stream",
     "text": [
      "/var/folders/hp/k3clndsn2sj608qsb4fl5zvr0000gn/T/ipykernel_65947/762799685.py:34: RuntimeWarning: This filename (/Users/Lea/Desktop/PROJECT_DATA_ANALYSIS/virtual_time_series/mag/patient_17_vertex4040_virtual_ts.fif) does not conform to MNE naming conventions. All raw files should end with raw.fif, raw_sss.fif, raw_tsss.fif, _meg.fif, _eeg.fif, _ieeg.fif, raw.fif.gz, raw_sss.fif.gz, raw_tsss.fif.gz, _meg.fif.gz, _eeg.fif.gz or _ieeg.fif.gz\n",
      "  raw = mne.io.read_raw_fif(filepath, preload=True)\n"
     ]
    },
    {
     "name": "stdout",
     "output_type": "stream",
     "text": [
      "Opening raw data file /Users/Lea/Desktop/PROJECT_DATA_ANALYSIS/virtual_time_series/mag/patient_11_part2_vertex4098_virtual_ts.fif...\n",
      "Isotrak not found\n",
      "    Range : 0 ... 351999 =      0.000 ...   351.999 secs\n",
      "Ready.\n",
      "Reading 0 ... 351999  =      0.000 ...   351.999 secs...\n",
      "patient_11_part2_vertex4098 → EEG046: Virtual = 36, iEEG = 19\n",
      "Opening raw data file /Users/Lea/Desktop/PROJECT_DATA_ANALYSIS/virtual_time_series/mag/patient_05_part2L_vertex3711_virtual_ts.fif...\n",
      "Isotrak not found\n",
      "    Range : 0 ... 292999 =      0.000 ...   292.999 secs\n",
      "Ready.\n",
      "Reading 0 ... 292999  =      0.000 ...   292.999 secs...\n"
     ]
    },
    {
     "name": "stderr",
     "output_type": "stream",
     "text": [
      "/var/folders/hp/k3clndsn2sj608qsb4fl5zvr0000gn/T/ipykernel_65947/762799685.py:34: RuntimeWarning: This filename (/Users/Lea/Desktop/PROJECT_DATA_ANALYSIS/virtual_time_series/mag/patient_11_part2_vertex4098_virtual_ts.fif) does not conform to MNE naming conventions. All raw files should end with raw.fif, raw_sss.fif, raw_tsss.fif, _meg.fif, _eeg.fif, _ieeg.fif, raw.fif.gz, raw_sss.fif.gz, raw_tsss.fif.gz, _meg.fif.gz, _eeg.fif.gz or _ieeg.fif.gz\n",
      "  raw = mne.io.read_raw_fif(filepath, preload=True)\n",
      "/var/folders/hp/k3clndsn2sj608qsb4fl5zvr0000gn/T/ipykernel_65947/762799685.py:34: RuntimeWarning: This filename (/Users/Lea/Desktop/PROJECT_DATA_ANALYSIS/virtual_time_series/mag/patient_05_part2L_vertex3711_virtual_ts.fif) does not conform to MNE naming conventions. All raw files should end with raw.fif, raw_sss.fif, raw_tsss.fif, _meg.fif, _eeg.fif, _ieeg.fif, raw.fif.gz, raw_sss.fif.gz, raw_tsss.fif.gz, _meg.fif.gz, _eeg.fif.gz or _ieeg.fif.gz\n",
      "  raw = mne.io.read_raw_fif(filepath, preload=True)\n"
     ]
    },
    {
     "name": "stdout",
     "output_type": "stream",
     "text": [
      "patient_05_part2L_vertex3711 → EEG057: Virtual = 155, iEEG = 102\n",
      "patient_05_part2L_vertex3711 → EEG059: Virtual = 158, iEEG = 104\n",
      "Opening raw data file /Users/Lea/Desktop/PROJECT_DATA_ANALYSIS/virtual_time_series/mag/patient_06_vertex2646_virtual_ts.fif...\n",
      "Isotrak not found\n",
      "    Range : 0 ... 413999 =      0.000 ...   413.999 secs\n",
      "Ready.\n",
      "Reading 0 ... 413999  =      0.000 ...   413.999 secs...\n",
      "patient_06_vertex2646 → EEG001: Virtual = 146, iEEG = 86\n",
      "patient_06_vertex2646 → EEG002: Virtual = 146, iEEG = 93\n"
     ]
    },
    {
     "name": "stderr",
     "output_type": "stream",
     "text": [
      "/var/folders/hp/k3clndsn2sj608qsb4fl5zvr0000gn/T/ipykernel_65947/762799685.py:34: RuntimeWarning: This filename (/Users/Lea/Desktop/PROJECT_DATA_ANALYSIS/virtual_time_series/mag/patient_06_vertex2646_virtual_ts.fif) does not conform to MNE naming conventions. All raw files should end with raw.fif, raw_sss.fif, raw_tsss.fif, _meg.fif, _eeg.fif, _ieeg.fif, raw.fif.gz, raw_sss.fif.gz, raw_tsss.fif.gz, _meg.fif.gz, _eeg.fif.gz or _ieeg.fif.gz\n",
      "  raw = mne.io.read_raw_fif(filepath, preload=True)\n"
     ]
    },
    {
     "name": "stdout",
     "output_type": "stream",
     "text": [
      "Opening raw data file /Users/Lea/Desktop/PROJECT_DATA_ANALYSIS/virtual_time_series/mag/patient_05_part1R_vertex3734_virtual_ts.fif...\n",
      "Isotrak not found\n",
      "    Range : 0 ... 312999 =      0.000 ...   312.999 secs\n",
      "Ready.\n",
      "Reading 0 ... 312999  =      0.000 ...   312.999 secs...\n",
      "patient_05_part1R_vertex3734 → EEG032: Virtual = 176, iEEG = 87\n"
     ]
    },
    {
     "name": "stderr",
     "output_type": "stream",
     "text": [
      "/var/folders/hp/k3clndsn2sj608qsb4fl5zvr0000gn/T/ipykernel_65947/762799685.py:34: RuntimeWarning: This filename (/Users/Lea/Desktop/PROJECT_DATA_ANALYSIS/virtual_time_series/mag/patient_05_part1R_vertex3734_virtual_ts.fif) does not conform to MNE naming conventions. All raw files should end with raw.fif, raw_sss.fif, raw_tsss.fif, _meg.fif, _eeg.fif, _ieeg.fif, raw.fif.gz, raw_sss.fif.gz, raw_tsss.fif.gz, _meg.fif.gz, _eeg.fif.gz or _ieeg.fif.gz\n",
      "  raw = mne.io.read_raw_fif(filepath, preload=True)\n"
     ]
    },
    {
     "name": "stdout",
     "output_type": "stream",
     "text": [
      "patient_05_part1R_vertex3734 → EEG034: Virtual = 176, iEEG = 99\n",
      "Opening raw data file /Users/Lea/Desktop/PROJECT_DATA_ANALYSIS/virtual_time_series/mag/patient_16_vertex4732_virtual_ts.fif...\n",
      "Isotrak not found\n",
      "    Range : 0 ... 180999 =      0.000 ...   180.999 secs\n",
      "Ready.\n",
      "Reading 0 ... 180999  =      0.000 ...   180.999 secs...\n",
      "patient_16_vertex4732 → EEG003: Virtual = 18, iEEG = 37\n",
      "Opening raw data file /Users/Lea/Desktop/PROJECT_DATA_ANALYSIS/virtual_time_series/mag/patient_05_part1L_vertex3405_virtual_ts.fif...\n",
      "Isotrak not found\n",
      "    Range : 0 ... 357999 =      0.000 ...   357.999 secs\n",
      "Ready.\n",
      "Reading 0 ... 357999  =      0.000 ...   357.999 secs...\n"
     ]
    },
    {
     "name": "stderr",
     "output_type": "stream",
     "text": [
      "/var/folders/hp/k3clndsn2sj608qsb4fl5zvr0000gn/T/ipykernel_65947/762799685.py:34: RuntimeWarning: This filename (/Users/Lea/Desktop/PROJECT_DATA_ANALYSIS/virtual_time_series/mag/patient_16_vertex4732_virtual_ts.fif) does not conform to MNE naming conventions. All raw files should end with raw.fif, raw_sss.fif, raw_tsss.fif, _meg.fif, _eeg.fif, _ieeg.fif, raw.fif.gz, raw_sss.fif.gz, raw_tsss.fif.gz, _meg.fif.gz, _eeg.fif.gz or _ieeg.fif.gz\n",
      "  raw = mne.io.read_raw_fif(filepath, preload=True)\n",
      "/var/folders/hp/k3clndsn2sj608qsb4fl5zvr0000gn/T/ipykernel_65947/762799685.py:34: RuntimeWarning: This filename (/Users/Lea/Desktop/PROJECT_DATA_ANALYSIS/virtual_time_series/mag/patient_05_part1L_vertex3405_virtual_ts.fif) does not conform to MNE naming conventions. All raw files should end with raw.fif, raw_sss.fif, raw_tsss.fif, _meg.fif, _eeg.fif, _ieeg.fif, raw.fif.gz, raw_sss.fif.gz, raw_tsss.fif.gz, _meg.fif.gz, _eeg.fif.gz or _ieeg.fif.gz\n",
      "  raw = mne.io.read_raw_fif(filepath, preload=True)\n"
     ]
    },
    {
     "name": "stdout",
     "output_type": "stream",
     "text": [
      "patient_05_part1L_vertex3405 → EEG026: Virtual = 206, iEEG = 61\n",
      "patient_05_part1L_vertex3405 → EEG028: Virtual = 206, iEEG = 83\n",
      "Opening raw data file /Users/Lea/Desktop/PROJECT_DATA_ANALYSIS/virtual_time_series/mag/patient_14_part1_left_vertex2486_virtual_ts.fif...\n",
      "Isotrak not found\n",
      "    Range : 0 ... 451999 =      0.000 ...   451.999 secs\n",
      "Ready.\n",
      "Reading 0 ... 451999  =      0.000 ...   451.999 secs...\n",
      "patient_14_part1_left_vertex2486 → EEG001: Virtual = 29, iEEG = 72\n"
     ]
    },
    {
     "name": "stderr",
     "output_type": "stream",
     "text": [
      "/var/folders/hp/k3clndsn2sj608qsb4fl5zvr0000gn/T/ipykernel_65947/762799685.py:34: RuntimeWarning: This filename (/Users/Lea/Desktop/PROJECT_DATA_ANALYSIS/virtual_time_series/mag/patient_14_part1_left_vertex2486_virtual_ts.fif) does not conform to MNE naming conventions. All raw files should end with raw.fif, raw_sss.fif, raw_tsss.fif, _meg.fif, _eeg.fif, _ieeg.fif, raw.fif.gz, raw_sss.fif.gz, raw_tsss.fif.gz, _meg.fif.gz, _eeg.fif.gz or _ieeg.fif.gz\n",
      "  raw = mne.io.read_raw_fif(filepath, preload=True)\n"
     ]
    },
    {
     "name": "stdout",
     "output_type": "stream",
     "text": [
      "Opening raw data file /Users/Lea/Desktop/PROJECT_DATA_ANALYSIS/virtual_time_series/mag/patient_22_vertex3108_virtual_ts.fif...\n",
      "Isotrak not found\n",
      "    Range : 0 ... 613999 =      0.000 ...   613.999 secs\n",
      "Ready.\n",
      "Reading 0 ... 613999  =      0.000 ...   613.999 secs...\n"
     ]
    },
    {
     "name": "stderr",
     "output_type": "stream",
     "text": [
      "/var/folders/hp/k3clndsn2sj608qsb4fl5zvr0000gn/T/ipykernel_65947/762799685.py:34: RuntimeWarning: This filename (/Users/Lea/Desktop/PROJECT_DATA_ANALYSIS/virtual_time_series/mag/patient_22_vertex3108_virtual_ts.fif) does not conform to MNE naming conventions. All raw files should end with raw.fif, raw_sss.fif, raw_tsss.fif, _meg.fif, _eeg.fif, _ieeg.fif, raw.fif.gz, raw_sss.fif.gz, raw_tsss.fif.gz, _meg.fif.gz, _eeg.fif.gz or _ieeg.fif.gz\n",
      "  raw = mne.io.read_raw_fif(filepath, preload=True)\n"
     ]
    },
    {
     "name": "stdout",
     "output_type": "stream",
     "text": [
      "patient_22_vertex3108 → EEG022: Virtual = 257, iEEG = 102\n"
     ]
    }
   ],
   "source": [
    "for filename in os.listdir(virtual_path):\n",
    "    if not filename.endswith(\"_virtual_ts.fif\"):\n",
    "        continue\n",
    "\n",
    "    filepath = os.path.join(virtual_path, filename)\n",
    "\n",
    "    #get base key for the nearest channels\n",
    "    base_key = filename.replace(\"_virtual_ts.fif\", \"\") \n",
    "\n",
    "    #get subject key for correct ied and swr files\n",
    "    subject_key_parts = base_key.split(\"_vertex\")[0].split(\"_\")\n",
    "    subject_key = \"_\".join(subject_key_parts[:4]) if \"part\" in base_key else \"_\".join(subject_key_parts[:2])\n",
    " \n",
    "    #load IED file\n",
    "    if subject_key != current_subject:\n",
    "        if subject_key in ied_file_dict:\n",
    "            ied_path = ied_file_dict[subject_key]\n",
    "            ied_bool_arrays = np.load(ied_path)\n",
    "            current_subject = subject_key\n",
    "        else:\n",
    "            print(f\"no IED file for {subject_key}\")\n",
    "            continue\n",
    "    \n",
    "    #load SWR file\n",
    "    if subject_key in swr_file_dict:  \n",
    "        swr_df = pd.read_csv(swr_file_dict[subject_key])\n",
    "        swr_df['rippleTime'] = swr_df['rippleTime'].apply(lambda x: eval(x, {'array': np.array}))\n",
    "        #swr_df['rippleTime'] = swr_df['rippleTime'].apply(eval).apply(lambda lst: [np.array(seg) for seg in lst]).tolist()\n",
    "    else:\n",
    "        print(f\"no SWR file for {subject_key}\")\n",
    "        continue\n",
    "\n",
    "    #load virtual electrode series\n",
    "    raw = mne.io.read_raw_fif(filepath, preload=True)\n",
    "    raw.set_channel_types({raw.ch_names[0]: 'misc'})\n",
    "    data = raw.get_data()\n",
    "    sfreq = raw.info['sfreq']\n",
    "    data_dropout = data_dropout_dict[subject_key]\n",
    "    \n",
    "\n",
    "    #loop thorugh the nearest channels\n",
    "    for ch in closest_channels_dict[base_key]:\n",
    "        ied_bool = ied_bool_arrays[ch]\n",
    "        output = detect_SWR(data, sfreq, ied_bool, data_dropout, rippleBand=rippleBand, gaussFilt=gaussFilt,\n",
    "                    zThresh=zThresh, durTresh=durTresh)\n",
    "        n_ve = output[\"nEvents\"]\n",
    "        ripple_times = output[\"rippleTime\"]\n",
    "\n",
    "        row = swr_df[swr_df[\"Channel\"] == ch]\n",
    "        n_ieeg = int(row[\"nEvents\"].values[0]) if not row.empty else 0\n",
    "        swr_times_ieeg = row[\"rippleTime\"].values[0] if not row.empty else []\n",
    "        ieeg_durations = row['durations'].values[0] if 'durations' in row else []\n",
    "\n",
    "        #results\n",
    "        results.append({\n",
    "                \"subject\": subject_key,\n",
    "                \"vertex\": base_key.split(\"_vertex\")[1],\n",
    "                \"channel\": ch,\n",
    "                \"virtual_SWRs\": n_ve,\n",
    "                \"iEEG_SWRs\": n_ieeg,\n",
    "                \"vitual_ripple_times\": ripple_times,\n",
    "                \"iEEG_ripple_times\": swr_times_ieeg,\n",
    "                \"iEEG_ripple_durations\": ieeg_durations\n",
    "            })\n",
    "        \n",
    "\n",
    "        print(f\"{base_key} → {ch}: Virtual = {n_ve}, iEEG = {n_ieeg}\")\n",
    "\n",
    "\n",
    "\n",
    "    "
   ]
  },
  {
   "cell_type": "code",
   "execution_count": 23,
   "metadata": {},
   "outputs": [
    {
     "name": "stdout",
     "output_type": "stream",
     "text": [
      "Saved results to: /Users/Lea/Desktop/PROJECT_DATA_ANALYSIS/theta_virtual_vs_ieeg_sum.csv\n"
     ]
    }
   ],
   "source": [
    "df = pd.DataFrame(results)\n",
    "df.to_csv(output_csv, index=False)\n",
    "print(f\"Saved results to: {output_csv}\")"
   ]
  },
  {
   "cell_type": "code",
   "execution_count": 31,
   "metadata": {},
   "outputs": [
    {
     "name": "stdout",
     "output_type": "stream",
     "text": [
      "Overall Pearson Correlation (all data): r = 0.72, p = 5.249e-13\n"
     ]
    },
    {
     "data": {
      "text/plain": [
       "<bound method Axes.set of <Axes: title={'center': 'Correlation between detected SWRs\\nPearson r = 0.72, p < 0.001'}, xlabel='iEEG SWR Count', ylabel='Virtual Electrode SWR Count'>>"
      ]
     },
     "execution_count": 31,
     "metadata": {},
     "output_type": "execute_result"
    },
    {
     "data": {
      "image/png": "[encoded data removed]",
      "text/plain": [
       "<Figure size 600x600 with 1 Axes>"
      ]
     },
     "metadata": {},
     "output_type": "display_data"
    }
   ],
   "source": [
    "#coorelation between number of detected events\n",
    "from scipy.stats import pearsonr, linregress\n",
    "import matplotlib.pyplot as plt\n",
    "import matplotlib as mpl\n",
    "\n",
    "# --- Style settings to match your paper figures ---\n",
    "mpl.rcParams['font.family'] = 'DejaVu Sans'\n",
    "mpl.rcParams['font.size'] = 10\n",
    "mpl.rcParams['axes.labelsize'] = 12\n",
    "mpl.rcParams['axes.titlesize'] = 12\n",
    "mpl.rcParams['xtick.labelsize'] = 10\n",
    "mpl.rcParams['ytick.labelsize'] = 10\n",
    "mpl.rcParams['legend.fontsize'] = 10\n",
    "\n",
    "# --- Calculate Pearson correlation ---\n",
    "r, p = pearsonr(df[\"iEEG_SWRs\"], df[\"virtual_SWRs\"])\n",
    "print(f\"Overall Pearson Correlation (all data): r = {r:.2f}, p = {p:.3e}\")\n",
    "\n",
    "# --- Plot ---\n",
    "fig, ax = plt.subplots(figsize=(6,6))\n",
    "\n",
    "# Scatter plot with steelblue hollow markers\n",
    "ax.scatter(df[\"iEEG_SWRs\"], df[\"virtual_SWRs\"], \n",
    "           facecolors='none', edgecolors='steelblue', s=50, linewidth=1.5)\n",
    "\n",
    "# Identity line (y = x)\n",
    "max_val = max(df[\"iEEG_SWRs\"].max(), df[\"virtual_SWRs\"].max()) * 1.05\n",
    "ax.plot([0, max_val], [0, max_val], color='black', linestyle='--', linewidth=1.5)\n",
    "\n",
    "# Axis labels\n",
    "ax.set_xlabel(\"iEEG SWR Count\")\n",
    "ax.set_ylabel(\"Virtual Electrode SWR Count\")\n",
    "\n",
    "# Bold Title (centered automatically by matplotlib)\n",
    "ax.set_title(f\"Correlation between detected SWRs\\nPearson r = {r:.2f}, p < 0.001\", fontweight='bold', fontsize=12, pad=10)\n",
    "\n",
    "# Adjust plot limits and aspect\n",
    "ax.set_xlim(0, max_val)\n",
    "ax.set_ylim(0, max_val)\n",
    "ax.set\n"
   ]
  },
  {
   "cell_type": "code",
   "execution_count": 32,
   "metadata": {},
   "outputs": [
    {
     "name": "stdout",
     "output_type": "stream",
     "text": [
      "Subject patient_14_part1_right, channel EEG041: Jaccard Index = 0.004\n",
      "Subject patient_14_part1_right, channel EEG042: Jaccard Index = 0.005\n",
      "Subject patient_14_part1_right, channel EEG043: Jaccard Index = 0.005\n",
      "Subject patient_11_part1, channel EEG046: Jaccard Index = 0.000\n",
      "Subject patient_05_part2R, channel EEG028: Jaccard Index = 0.015\n",
      "Subject patient_22, channel EEG003: Jaccard Index = 0.010\n",
      "Subject patient_11_part1, channel EEG043: Jaccard Index = 0.009\n",
      "Subject patient_11_part1, channel EEG044: Jaccard Index = 0.008\n",
      "Subject patient_11_part1, channel EEG045: Jaccard Index = 0.016\n",
      "Subject patient_05_part1L, channel EEG057: Jaccard Index = 0.026\n",
      "Subject patient_05_part1L, channel EEG059: Jaccard Index = 0.011\n",
      "Subject patient_13, channel EEG036: Jaccard Index = 0.014\n",
      "Subject patient_14_part2_left, channel EEG001: Jaccard Index = 0.000\n",
      "Subject patient_05_part2L, channel EEG032: Jaccard Index = 0.010\n",
      "Subject patient_05_part2L, channel EEG034: Jaccard Index = 0.016\n",
      "Subject patient_08, channel EEG026: Jaccard Index = 0.002\n",
      "Subject patient_08, channel EEG027: Jaccard Index = 0.010\n",
      "Subject patient_08, channel EEG028: Jaccard Index = 0.006\n",
      "Subject patient_06, channel EEG007: Jaccard Index = 0.019\n",
      "Subject patient_06, channel EEG008: Jaccard Index = 0.016\n",
      "Subject patient_22, channel EEG001: Jaccard Index = 0.009\n",
      "Subject patient_22, channel EEG002: Jaccard Index = 0.012\n",
      "Subject patient_25, channel EEG049: Jaccard Index = 0.000\n",
      "Subject patient_10, channel EEG013: Jaccard Index = 0.000\n",
      "Subject patient_05_part1R, channel EEG003: Jaccard Index = 0.016\n",
      "Subject patient_05_part1R, channel EEG026: Jaccard Index = 0.020\n",
      "Subject patient_05_part2L, channel EEG026: Jaccard Index = 0.010\n",
      "Subject patient_05_part2L, channel EEG028: Jaccard Index = 0.024\n",
      "Subject patient_22, channel EEG017: Jaccard Index = 0.019\n",
      "Subject patient_14_part2_right, channel EEG041: Jaccard Index = 0.000\n",
      "Subject patient_14_part2_right, channel EEG042: Jaccard Index = 0.000\n",
      "Subject patient_14_part2_right, channel EEG043: Jaccard Index = 0.000\n",
      "Subject patient_22, channel EEG018: Jaccard Index = 0.012\n",
      "Subject patient_22, channel EEG019: Jaccard Index = 0.009\n",
      "Subject patient_22, channel EEG020: Jaccard Index = 0.008\n",
      "Subject patient_22, channel EEG021: Jaccard Index = 0.004\n",
      "Subject patient_05_part2R, channel EEG032: Jaccard Index = 0.012\n",
      "Subject patient_05_part2R, channel EEG034: Jaccard Index = 0.022\n",
      "Subject patient_23, channel EEG057: Jaccard Index = 0.010\n",
      "Subject patient_05_part1L, channel EEG032: Jaccard Index = 0.026\n",
      "Subject patient_05_part1L, channel EEG034: Jaccard Index = 0.010\n",
      "Subject patient_06, channel EEG003: Jaccard Index = 0.010\n",
      "Subject patient_06, channel EEG004: Jaccard Index = 0.015\n",
      "Subject patient_21, channel EEG002: Jaccard Index = 0.000\n",
      "Subject patient_21, channel EEG003: Jaccard Index = 0.000\n",
      "Subject patient_21, channel EEG004: Jaccard Index = 0.000\n",
      "Subject patient_21, channel EEG005: Jaccard Index = 0.000\n",
      "Subject patient_05_part2R, channel EEG003: Jaccard Index = 0.024\n",
      "Subject patient_05_part2R, channel EEG026: Jaccard Index = 0.007\n",
      "Subject patient_06, channel EEG005: Jaccard Index = 0.011\n",
      "Subject patient_06, channel EEG006: Jaccard Index = 0.015\n",
      "Subject patient_17, channel EEG006: Jaccard Index = 0.013\n",
      "Subject patient_23, channel EEG058: Jaccard Index = 0.020\n",
      "Subject patient_23, channel EEG059: Jaccard Index = 0.022\n",
      "Subject patient_25, channel EEG050: Jaccard Index = 0.000\n",
      "Subject patient_05_part1R, channel EEG028: Jaccard Index = 0.020\n",
      "Subject patient_11_part2, channel EEG043: Jaccard Index = 0.000\n",
      "Subject patient_11_part2, channel EEG044: Jaccard Index = 0.009\n",
      "Subject patient_11_part2, channel EEG045: Jaccard Index = 0.011\n",
      "Subject patient_17, channel EEG003: Jaccard Index = 0.011\n",
      "Subject patient_17, channel EEG004: Jaccard Index = 0.004\n",
      "Subject patient_17, channel EEG005: Jaccard Index = 0.026\n",
      "Subject patient_11_part2, channel EEG046: Jaccard Index = 0.000\n",
      "Subject patient_05_part2L, channel EEG057: Jaccard Index = 0.008\n",
      "Subject patient_05_part2L, channel EEG059: Jaccard Index = 0.021\n",
      "Subject patient_06, channel EEG001: Jaccard Index = 0.005\n",
      "Subject patient_06, channel EEG002: Jaccard Index = 0.026\n",
      "Subject patient_05_part1R, channel EEG032: Jaccard Index = 0.019\n",
      "Subject patient_05_part1R, channel EEG034: Jaccard Index = 0.013\n",
      "Subject patient_16, channel EEG003: Jaccard Index = 0.011\n",
      "Subject patient_05_part1L, channel EEG026: Jaccard Index = 0.008\n",
      "Subject patient_05_part1L, channel EEG028: Jaccard Index = 0.010\n",
      "Subject patient_14_part1_left, channel EEG001: Jaccard Index = 0.003\n",
      "Subject patient_22, channel EEG022: Jaccard Index = 0.008\n"
     ]
    }
   ],
   "source": [
    "#compute jaccar index\n",
    "\n",
    "#need sampling frew\n",
    "eeg_fs = 1000\n",
    "\n",
    "#need durations\n",
    "recording_durations = {\n",
    "    \"patient_05_part1L\": 358,\n",
    "    \"patient_05_part1R\": 313,\n",
    "    \"patient_05_part2L\": 293,\n",
    "    \"patient_05_part2R\": 257,\n",
    "    \"patient_06\": 414,\n",
    "    \"patient_08\": 575,\n",
    "    \"patient_10\": 627,\n",
    "    \"patient_11_part1\": 431,\n",
    "    \"patient_11_part2\": 352,\n",
    "    \"patient_13\": 243,\n",
    "    \"patient_14_part1_left\": 452,\n",
    "    \"patient_14_part1_right\": 452,\n",
    "    \"patient_14_part2_left\": 497,\n",
    "    \"patient_14_part2_right\": 497,\n",
    "    \"patient_16\": 181,\n",
    "    \"patient_17\": 188,\n",
    "    \"patient_21\": 353,\n",
    "    \"patient_22\": 614,\n",
    "    \"patient_23\": 758,\n",
    "    \"patient_25\": 256\n",
    "}\n",
    "\n",
    "def ripple_times_to_array(ripple_times, eeg_fs, eeg_num_samples):\n",
    "    swr_array = np.zeros(eeg_num_samples, dtype=int)\n",
    "    if ripple_times is not None and np.size(ripple_times) > 0:\n",
    "        ripple_indices = np.round(np.array(ripple_times) * eeg_fs).astype(int)\n",
    "        ripple_indices = ripple_indices[(ripple_indices >= 0) & (ripple_indices < eeg_num_samples)]\n",
    "        swr_array[ripple_indices] = 1\n",
    "    return swr_array\n",
    "\n",
    "jaccard_results = []\n",
    "\n",
    "for idx, row in df.iterrows():\n",
    "    subject = row['subject']\n",
    "    eeg_duration_seconds = recording_durations[subject]\n",
    "    eeg_num_samples = int(eeg_fs * eeg_duration_seconds)\n",
    "\n",
    "    if isinstance(row['vitual_ripple_times'], str):\n",
    "        virtual_times = np.concatenate(eval(row['vitual_ripple_times'], {'array': np.array})) if row['vitual_ripple_times'] else []\n",
    "    else:\n",
    "        virtual_times = np.concatenate(row['vitual_ripple_times']) if row['vitual_ripple_times'] else []\n",
    "\n",
    "    if isinstance(row['iEEG_ripple_times'], str):\n",
    "        ieeg_times = np.concatenate(eval(row['iEEG_ripple_times'], {'array': np.array})) if row['iEEG_ripple_times'] else []\n",
    "    else:\n",
    "        ieeg_times = np.concatenate(row['iEEG_ripple_times']) if row['iEEG_ripple_times'] else []\n",
    "\n",
    "    swr_array_virtual = ripple_times_to_array(virtual_times, eeg_fs, eeg_num_samples)\n",
    "    swr_array_ieeg = ripple_times_to_array(ieeg_times, eeg_fs, eeg_num_samples)\n",
    "\n",
    "    intersection = np.sum(swr_array_virtual & swr_array_ieeg)\n",
    "    union = np.sum(swr_array_virtual | swr_array_ieeg)\n",
    "\n",
    "    jaccard_index = intersection / union if union > 0 else 0\n",
    "    jaccard_results.append(jaccard_index)\n",
    "\n",
    "    print(f\"Subject {subject}, channel {row['channel']}: Jaccard Index = {jaccard_index:.3f}\")\n",
    "\n",
    "\n",
    "df['jaccard_index'] = jaccard_results\n",
    "df.to_csv('/Users/Lea/Desktop/PROJECT_DATA_ANALYSIS/mag_virtual_vs_ieeg_sum_with_jaccard.csv', index=False)\n",
    "\n"
   ]
  },
  {
   "cell_type": "code",
   "execution_count": 33,
   "metadata": {},
   "outputs": [
    {
     "name": "stdout",
     "output_type": "stream",
     "text": [
      "Subject patient_14_part1_right, channel EEG041: True Jaccard = 0.004, Percentile = 63.9%, p-value = 0.3616\n",
      "Subject patient_14_part1_right, channel EEG042: True Jaccard = 0.005, Percentile = 71.1%, p-value = 0.2897\n",
      "Subject patient_14_part1_right, channel EEG043: True Jaccard = 0.005, Percentile = 69.8%, p-value = 0.3027\n",
      "Subject patient_11_part1, channel EEG046: True Jaccard = 0.000, Percentile = 0.0%, p-value = 1.0000\n",
      "Subject patient_05_part2R, channel EEG028: True Jaccard = 0.015, Percentile = 49.8%, p-value = 0.5025\n",
      "Subject patient_22, channel EEG003: True Jaccard = 0.010, Percentile = 58.8%, p-value = 0.4126\n",
      "Subject patient_11_part1, channel EEG043: True Jaccard = 0.009, Percentile = 85.8%, p-value = 0.1429\n",
      "Subject patient_11_part1, channel EEG044: True Jaccard = 0.008, Percentile = 80.8%, p-value = 0.1928\n",
      "Subject patient_11_part1, channel EEG045: True Jaccard = 0.016, Percentile = 97.5%, p-value = 0.0260\n",
      "Subject patient_05_part1L, channel EEG057: True Jaccard = 0.026, Percentile = 94.9%, p-value = 0.0519\n",
      "Subject patient_05_part1L, channel EEG059: True Jaccard = 0.011, Percentile = 27.4%, p-value = 0.7263\n",
      "Subject patient_13, channel EEG036: True Jaccard = 0.014, Percentile = 42.7%, p-value = 0.5734\n",
      "Subject patient_14_part2_left, channel EEG001: True Jaccard = 0.000, Percentile = 0.0%, p-value = 1.0000\n",
      "Subject patient_05_part2L, channel EEG032: True Jaccard = 0.010, Percentile = 13.8%, p-value = 0.8621\n",
      "Subject patient_05_part2L, channel EEG034: True Jaccard = 0.016, Percentile = 46.1%, p-value = 0.5395\n",
      "Subject patient_08, channel EEG026: True Jaccard = 0.002, Percentile = 7.9%, p-value = 0.9211\n",
      "Subject patient_08, channel EEG027: True Jaccard = 0.010, Percentile = 65.9%, p-value = 0.3417\n",
      "Subject patient_08, channel EEG028: True Jaccard = 0.006, Percentile = 34.1%, p-value = 0.6593\n",
      "Subject patient_06, channel EEG007: True Jaccard = 0.019, Percentile = 90.7%, p-value = 0.0939\n",
      "Subject patient_06, channel EEG008: True Jaccard = 0.016, Percentile = 74.8%, p-value = 0.2527\n",
      "Subject patient_22, channel EEG001: True Jaccard = 0.009, Percentile = 46.8%, p-value = 0.5325\n",
      "Subject patient_22, channel EEG002: True Jaccard = 0.012, Percentile = 73.5%, p-value = 0.2657\n",
      "Subject patient_25, channel EEG049: True Jaccard = 0.000, Percentile = 0.0%, p-value = 1.0000\n",
      "Subject patient_10, channel EEG013: True Jaccard = 0.000, Percentile = 0.0%, p-value = 1.0000\n",
      "Subject patient_05_part1R, channel EEG003: True Jaccard = 0.016, Percentile = 53.0%, p-value = 0.4705\n",
      "Subject patient_05_part1R, channel EEG026: True Jaccard = 0.020, Percentile = 75.0%, p-value = 0.2507\n",
      "Subject patient_05_part2L, channel EEG026: True Jaccard = 0.010, Percentile = 60.8%, p-value = 0.3926\n",
      "Subject patient_05_part2L, channel EEG028: True Jaccard = 0.024, Percentile = 94.6%, p-value = 0.0549\n",
      "Subject patient_22, channel EEG017: True Jaccard = 0.019, Percentile = 97.3%, p-value = 0.0280\n",
      "Subject patient_14_part2_right, channel EEG041: True Jaccard = 0.000, Percentile = 0.0%, p-value = 1.0000\n",
      "Subject patient_14_part2_right, channel EEG042: True Jaccard = 0.000, Percentile = 0.0%, p-value = 1.0000\n",
      "Subject patient_14_part2_right, channel EEG043: True Jaccard = 0.000, Percentile = 0.0%, p-value = 1.0000\n",
      "Subject patient_22, channel EEG018: True Jaccard = 0.012, Percentile = 53.3%, p-value = 0.4675\n",
      "Subject patient_22, channel EEG019: True Jaccard = 0.009, Percentile = 27.1%, p-value = 0.7293\n",
      "Subject patient_22, channel EEG020: True Jaccard = 0.008, Percentile = 38.1%, p-value = 0.6194\n",
      "Subject patient_22, channel EEG021: True Jaccard = 0.004, Percentile = 9.0%, p-value = 0.9101\n",
      "Subject patient_05_part2R, channel EEG032: True Jaccard = 0.012, Percentile = 25.2%, p-value = 0.7483\n",
      "Subject patient_05_part2R, channel EEG034: True Jaccard = 0.022, Percentile = 79.0%, p-value = 0.2108\n",
      "Subject patient_23, channel EEG057: True Jaccard = 0.010, Percentile = 78.7%, p-value = 0.2138\n",
      "Subject patient_05_part1L, channel EEG032: True Jaccard = 0.026, Percentile = 91.9%, p-value = 0.0819\n",
      "Subject patient_05_part1L, channel EEG034: True Jaccard = 0.010, Percentile = 12.9%, p-value = 0.8711\n",
      "Subject patient_06, channel EEG003: True Jaccard = 0.010, Percentile = 50.1%, p-value = 0.4995\n",
      "Subject patient_06, channel EEG004: True Jaccard = 0.015, Percentile = 81.6%, p-value = 0.1848\n",
      "Subject patient_21, channel EEG002: True Jaccard = 0.000, Percentile = 0.0%, p-value = 1.0000\n",
      "Subject patient_21, channel EEG003: True Jaccard = 0.000, Percentile = 0.0%, p-value = 1.0000\n",
      "Subject patient_21, channel EEG004: True Jaccard = 0.000, Percentile = 0.0%, p-value = 1.0000\n",
      "Subject patient_21, channel EEG005: True Jaccard = 0.000, Percentile = 0.0%, p-value = 1.0000\n",
      "Subject patient_05_part2R, channel EEG003: True Jaccard = 0.024, Percentile = 85.9%, p-value = 0.1419\n",
      "Subject patient_05_part2R, channel EEG026: True Jaccard = 0.007, Percentile = 12.2%, p-value = 0.8781\n",
      "Subject patient_06, channel EEG005: True Jaccard = 0.011, Percentile = 56.8%, p-value = 0.4326\n",
      "Subject patient_06, channel EEG006: True Jaccard = 0.015, Percentile = 79.3%, p-value = 0.2078\n",
      "Subject patient_17, channel EEG006: True Jaccard = 0.013, Percentile = 53.7%, p-value = 0.4635\n",
      "Subject patient_23, channel EEG058: True Jaccard = 0.020, Percentile = 97.3%, p-value = 0.0280\n",
      "Subject patient_23, channel EEG059: True Jaccard = 0.022, Percentile = 99.2%, p-value = 0.0090\n",
      "Subject patient_25, channel EEG050: True Jaccard = 0.000, Percentile = 0.0%, p-value = 1.0000\n",
      "Subject patient_05_part1R, channel EEG028: True Jaccard = 0.020, Percentile = 75.5%, p-value = 0.2458\n",
      "Subject patient_11_part2, channel EEG043: True Jaccard = 0.000, Percentile = 0.0%, p-value = 1.0000\n",
      "Subject patient_11_part2, channel EEG044: True Jaccard = 0.009, Percentile = 78.2%, p-value = 0.2188\n",
      "Subject patient_11_part2, channel EEG045: True Jaccard = 0.011, Percentile = 85.6%, p-value = 0.1449\n",
      "Subject patient_17, channel EEG003: True Jaccard = 0.011, Percentile = 70.2%, p-value = 0.2987\n",
      "Subject patient_17, channel EEG004: True Jaccard = 0.004, Percentile = 15.4%, p-value = 0.8462\n",
      "Subject patient_17, channel EEG005: True Jaccard = 0.026, Percentile = 93.4%, p-value = 0.0669\n",
      "Subject patient_11_part2, channel EEG046: True Jaccard = 0.000, Percentile = 0.0%, p-value = 1.0000\n",
      "Subject patient_05_part2L, channel EEG057: True Jaccard = 0.008, Percentile = 9.6%, p-value = 0.9041\n",
      "Subject patient_05_part2L, channel EEG059: True Jaccard = 0.021, Percentile = 76.8%, p-value = 0.2328\n",
      "Subject patient_06, channel EEG001: True Jaccard = 0.005, Percentile = 17.4%, p-value = 0.8262\n",
      "Subject patient_06, channel EEG002: True Jaccard = 0.026, Percentile = 98.5%, p-value = 0.0160\n",
      "Subject patient_05_part1R, channel EEG032: True Jaccard = 0.019, Percentile = 79.5%, p-value = 0.2058\n",
      "Subject patient_05_part1R, channel EEG034: True Jaccard = 0.013, Percentile = 38.1%, p-value = 0.6194\n",
      "Subject patient_16, channel EEG003: True Jaccard = 0.011, Percentile = 75.5%, p-value = 0.2458\n",
      "Subject patient_05_part1L, channel EEG026: True Jaccard = 0.008, Percentile = 29.7%, p-value = 0.7033\n",
      "Subject patient_05_part1L, channel EEG028: True Jaccard = 0.010, Percentile = 31.2%, p-value = 0.6883\n",
      "Subject patient_14_part1_left, channel EEG001: True Jaccard = 0.003, Percentile = 58.9%, p-value = 0.4116\n",
      "Subject patient_22, channel EEG022: True Jaccard = 0.008, Percentile = 34.5%, p-value = 0.6553\n"
     ]
    }
   ],
   "source": [
    "#do a permutation test\n",
    "n_shuffles = 1000\n",
    "\n",
    "#function to generate random arrays\n",
    "def generate_shuffled_array(real_durations, eeg_fs, eeg_duration_seconds, eeg_num_samples):\n",
    "    swr_array = np.zeros(eeg_num_samples, dtype=int)\n",
    "    for duration in real_durations:\n",
    "        random_start = np.random.uniform(0, eeg_duration_seconds)\n",
    "        start_idx = int(random_start * eeg_fs)\n",
    "        end_idx = int((random_start + duration) * eeg_fs)\n",
    "        end_idx = min(end_idx, eeg_num_samples)\n",
    "        swr_array[start_idx:end_idx] = 1\n",
    "    return swr_array\n",
    "\n",
    "\n",
    "shuffle_results = []\n",
    "all_percentiles = []\n",
    "all_pvalues =[]\n",
    "\n",
    "for idx, row in df.iterrows():\n",
    "    subject = row['subject']\n",
    "    eeg_duration_seconds = recording_durations[subject]\n",
    "    eeg_num_samples = int(eeg_fs * eeg_duration_seconds)\n",
    "\n",
    "    # Load ripple times \n",
    "    if isinstance(row['vitual_ripple_times'], str):\n",
    "        virtual_times = np.concatenate(eval(row['vitual_ripple_times'], {'array': np.array})) if row['vitual_ripple_times'] else []\n",
    "    else:\n",
    "        virtual_times = np.concatenate(row['vitual_ripple_times']) if row['vitual_ripple_times'] else []\n",
    "\n",
    "    if isinstance(row['iEEG_ripple_times'], str):\n",
    "        ieeg_times = np.concatenate(eval(row['iEEG_ripple_times'], {'array': np.array})) if row['iEEG_ripple_times'] else []\n",
    "    else:\n",
    "        ieeg_times = np.concatenate(row['iEEG_ripple_times']) if row['iEEG_ripple_times'] else []\n",
    "    \n",
    "    if isinstance(row['iEEG_ripple_durations'], str):\n",
    "        ripple_durations = np.array([float(x) for x in row['iEEG_ripple_durations'].replace('[', '').replace(']', '').split()])\n",
    "    else:\n",
    "        ripple_durations = np.array(row['iEEG_ripple_durations']) if row['iEEG_ripple_durations'] else []\n",
    "\n",
    "    swr_array_virtual = ripple_times_to_array(virtual_times, eeg_fs, eeg_num_samples)\n",
    "    swr_array_ieeg = ripple_times_to_array(ieeg_times, eeg_fs, eeg_num_samples)\n",
    "\n",
    "    #get the actuall jaccard index\n",
    "    true_jaccard = row['jaccard_index']\n",
    "\n",
    "    \n",
    "    #shuffle\n",
    "    shuffled_jaccards = []\n",
    "    for _ in range(n_shuffles):\n",
    "        swr_array_shuffled_ieeg = generate_shuffled_array(\n",
    "            ripple_durations,\n",
    "            eeg_fs,\n",
    "            eeg_duration_seconds,\n",
    "            eeg_num_samples\n",
    "        )\n",
    "\n",
    "        intersection = np.sum(swr_array_virtual & swr_array_shuffled_ieeg)\n",
    "        union = np.sum(swr_array_virtual | swr_array_shuffled_ieeg)\n",
    "\n",
    "        jaccard_shuffle = intersection / union if union > 0 else 0\n",
    "        shuffled_jaccards.append(jaccard_shuffle)\n",
    "    \n",
    "    #percentiles and p-values\n",
    "    percentile = (np.sum(np.array(shuffled_jaccards) < true_jaccard) / n_shuffles) * 100\n",
    "    p_value = (np.sum(np.array(shuffled_jaccards) >= true_jaccard) + 1) / (n_shuffles + 1) \n",
    "\n",
    "    shuffle_results.append(shuffled_jaccards)\n",
    "    all_percentiles.append(percentile)\n",
    "    all_pvalues.append(p_value)\n",
    "\n",
    "    #print the results\n",
    "    print(f\"Subject {subject}, channel {row['channel']}: True Jaccard = {true_jaccard:.3f}, Percentile = {percentile:.1f}%, p-value = {p_value:.4f}\")\n",
    "\n",
    "\n",
    "# Save percentile and p-values\n",
    "df['percentile'] = all_percentiles\n",
    "df['p_value'] = all_pvalues\n",
    "df.to_csv('/Users/Lea/Desktop/PROJECT_DATA_ANALYSIS/mag_virtual_vs_ieeg_sum_with_jaccard_and_shuffle.csv', index=False)\n",
    "\n",
    "\n",
    "\n"
   ]
  },
  {
   "cell_type": "code",
   "execution_count": 38,
   "metadata": {},
   "outputs": [
    {
     "data": {
      "image/png": "[encoded data removed]",
      "text/plain": [
       "<Figure size 1200x400 with 2 Axes>"
      ]
     },
     "metadata": {},
     "output_type": "display_data"
    }
   ],
   "source": [
    "#do some plots\n",
    "import matplotlib.pyplot as plt\n",
    "\n",
    "\n",
    "\n",
    "# Define which 4 indices you want to plot (example: pick manually)\n",
    "selected_indices = [11, 53 ]  #66, 28]  # <--- Change these to the specific indices you want\n",
    "\n",
    "custom_titles = [\n",
    "    \"Patient 6 - EEG036\",\n",
    "    \"Patient 12 -  EEG059\",\n",
    "    #\"Patient 2 - EEG002\",\n",
    "    #\"Patient 11 - EEG017\"\n",
    "]\n",
    "fig, axes = plt.subplots(1, 2, figsize=(12, 4))\n",
    "\n",
    "for ax, idx, panel_label, custom_title in zip(axes.flat, selected_indices, ['A', 'B', 'C', 'D'], custom_titles):\n",
    "    shuffled_jaccards = shuffle_results[idx]   \n",
    "    true_jaccard = df.loc[idx, 'jaccard_index']\n",
    "    p_value = df.loc[idx, 'p_value']\n",
    "\n",
    "    # Plot histogram\n",
    "    ax.hist(shuffled_jaccards, bins=20, color='steelblue', edgecolor='black')\n",
    "\n",
    "    # Plot true Jaccard line\n",
    "    ax.axvline(true_jaccard, color='red', linestyle='--', linewidth=2)\n",
    "\n",
    "    # Manual title + p-value\n",
    "    ax.set_title(f'{custom_title}\\n$p$ = {p_value:.4f}', fontsize=14, fontweight='bold')\n",
    "\n",
    "    # Axis labels\n",
    "    ax.set_xlabel('Jaccard Index', fontsize=12)\n",
    "    ax.set_ylabel('Frequency', fontsize=12)\n",
    "\n",
    "    # Panel label (A, B, C, D)\n",
    "    ax.text(-0.2, 1.05, panel_label, transform=ax.transAxes, fontsize=22, fontweight='bold')\n",
    "\n",
    "    # Clean up axes\n",
    "    ax.spines['top'].set_visible(False)\n",
    "    ax.spines['right'].set_visible(False)\n",
    "    ax.grid(False)\n",
    "\n",
    "# Final layout\n",
    "plt.tight_layout()\n",
    "plt.show()"
   ]
  }
 ],
 "metadata": {
  "kernelspec": {
   "display_name": "venv",
   "language": "python",
   "name": "python3"
  },
  "language_info": {
   "codemirror_mode": {
    "name": "ipython",
    "version": 3
   },
   "file_extension": ".py",
   "mimetype": "text/x-python",
   "name": "python",
   "nbconvert_exporter": "python",
   "pygments_lexer": "ipython3",
   "version": "3.13.0"
  }
 },
 "nbformat": 4,
 "nbformat_minor": 2
}
